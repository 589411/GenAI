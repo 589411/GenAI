{
 "cells": [
  {
   "cell_type": "code",
   "execution_count": 1,
   "metadata": {},
   "outputs": [],
   "source": [
    "!pip install sqlmodel==0.0.22 -q\n",
    "!pip install beautifulsoup4==4.12.0 -q"
   ]
  },
  {
   "cell_type": "code",
   "execution_count": 1,
   "metadata": {},
   "outputs": [],
   "source": [
    "import requests\n",
    "import sqlmodel\n",
    "from bs4 import BeautifulSoup as bs\n",
    "from typing import List"
   ]
  },
  {
   "cell_type": "code",
   "execution_count": 2,
   "metadata": {},
   "outputs": [],
   "source": [
    "class ArtistArtMovement(sqlmodel.SQLModel, table=True):\n",
    "    id: int = sqlmodel.Field(primary_key=True)\n",
    "    artist_id: int = sqlmodel.Field(foreign_key=\"artist.id\")\n",
    "    art_movement: str\n",
    "    artist: \"Artist\" = sqlmodel.Relationship(back_populates=\"art_movements\")\n",
    "\n",
    "\n",
    "class ArtistGenre(sqlmodel.SQLModel, table=True):\n",
    "    id: int = sqlmodel.Field(primary_key=True)\n",
    "    artist_id: int = sqlmodel.Field(foreign_key=\"artist.id\")\n",
    "    genre: str\n",
    "    artist: \"Artist\" = sqlmodel.Relationship(back_populates=\"genres\")\n",
    "\n",
    "\n",
    "class ArtistField(sqlmodel.SQLModel, table=True):\n",
    "    id: int = sqlmodel.Field(primary_key=True)\n",
    "    artist_id: int = sqlmodel.Field(foreign_key=\"artist.id\")\n",
    "    field: str\n",
    "    artist: \"Artist\" = sqlmodel.Relationship(back_populates=\"fields\")\n",
    "\n",
    "\n",
    "class ArtistNationality(sqlmodel.SQLModel, table=True):\n",
    "    id: int = sqlmodel.Field(primary_key=True)\n",
    "    artist_id: int = sqlmodel.Field(foreign_key=\"artist.id\")\n",
    "    nationality: str\n",
    "    artist: \"Artist\" = sqlmodel.Relationship(back_populates=\"nationalities\")\n",
    "\n",
    "\n",
    "class ArtistInstitution(sqlmodel.SQLModel, table=True):\n",
    "    id: int = sqlmodel.Field(primary_key=True)\n",
    "    artist_id: int = sqlmodel.Field(foreign_key=\"artist.id\")\n",
    "    institution: str\n",
    "    artist: \"Artist\" = sqlmodel.Relationship(back_populates=\"institutions\")\n",
    "\n",
    "\n",
    "class ArtistBase(sqlmodel.SQLModel):\n",
    "    id: int | None = sqlmodel.Field(primary_key=True)\n",
    "    name: str\n",
    "    url: str\n",
    "    wikipedia_article: str | None\n",
    "    wikipedia_url: str | None\n",
    "    article: str | None\n",
    "\n",
    "\n",
    "class Artist(ArtistBase, table=True):\n",
    "    artworks: list[\"Artwork\"] = sqlmodel.Relationship(back_populates='artist')\n",
    "    art_movements: list[\"ArtistArtMovement\"] = sqlmodel.Relationship(back_populates='artist')\n",
    "    genres: list[\"ArtistGenre\"] = sqlmodel.Relationship(back_populates='artist')\n",
    "    fields: list[\"ArtistField\"] = sqlmodel.Relationship(back_populates='artist')\n",
    "    nationalities: list[\"ArtistNationality\"] = sqlmodel.Relationship(back_populates='artist')\n",
    "    institutions: list[\"ArtistInstitution\"] = sqlmodel.Relationship(back_populates='artist')"
   ]
  },
  {
   "cell_type": "code",
   "execution_count": 3,
   "metadata": {},
   "outputs": [],
   "source": [
    "class ArtworkStyle(sqlmodel.SQLModel, table=True):\n",
    "    id: int = sqlmodel.Field(primary_key=True)\n",
    "    artwork_id: int = sqlmodel.Field(foreign_key=\"artwork.id\")\n",
    "    style: str\n",
    "    artwork: \"Artwork\" = sqlmodel.Relationship(back_populates=\"styles\")\n",
    "\n",
    "\n",
    "class ArtworkGenre(sqlmodel.SQLModel, table=True):\n",
    "    id: int = sqlmodel.Field(primary_key=True)\n",
    "    artwork_id: int = sqlmodel.Field(foreign_key=\"artwork.id\")\n",
    "    genre: str\n",
    "    artwork: \"Artwork\" = sqlmodel.Relationship(back_populates=\"genres\")\n",
    "\n",
    "\n",
    "class ArtworkMedia(sqlmodel.SQLModel, table=True):\n",
    "    id: int = sqlmodel.Field(primary_key=True)\n",
    "    artwork_id: int = sqlmodel.Field(foreign_key=\"artwork.id\")\n",
    "    media: str\n",
    "    artwork: \"Artwork\" = sqlmodel.Relationship(back_populates=\"media\")\n",
    "\n",
    "\n",
    "class ArtworkBase(sqlmodel.SQLModel, table=True):\n",
    "    id: int | None = sqlmodel.Field(primary_key=True)\n",
    "    url: str\n",
    "    name: str\n",
    "    artist_id: int | None = sqlmodel.Field(foreign_key=\"artist.id\")\n",
    "\n",
    "\n",
    "class Artwork(ArtworkBase, table=True):\n",
    "    artist: Artist = sqlmodel.Relationship(back_populates=\"artworks\")\n",
    "    styles: list[ArtworkStyle] = sqlmodel.Relationship(back_populates=\"artwork\")\n",
    "    genres: list[ArtworkGenre] = sqlmodel.Relationship(back_populates=\"artwork\")\n",
    "    media: list[ArtworkMedia] = sqlmodel.Relationship(back_populates=\"artwork\")"
   ]
  },
  {
   "cell_type": "code",
   "execution_count": 4,
   "metadata": {},
   "outputs": [
    {
     "ename": "AttributeError",
     "evalue": "'NoneType' object has no attribute 'set'",
     "output_type": "error",
     "traceback": [
      "\u001b[0;31m---------------------------------------------------------------------------\u001b[0m",
      "\u001b[0;31mAttributeError\u001b[0m                            Traceback (most recent call last)",
      "Cell \u001b[0;32mIn[4], line 1\u001b[0m\n\u001b[0;32m----> 1\u001b[0m artwork \u001b[38;5;241m=\u001b[39m \u001b[43mArtwork\u001b[49m\u001b[43m(\u001b[49m\u001b[43murl\u001b[49m\u001b[38;5;241;43m=\u001b[39;49m\u001b[38;5;124;43m\"\u001b[39;49m\u001b[38;5;124;43mhttps://www.wikiart.org/en/claude-monet/water-lilies-1916\u001b[39;49m\u001b[38;5;124;43m\"\u001b[39;49m\u001b[43m,\u001b[49m\u001b[43m \u001b[49m\u001b[43mname\u001b[49m\u001b[38;5;241;43m=\u001b[39;49m\u001b[38;5;124;43m\"\u001b[39;49m\u001b[38;5;124;43mWater Lilies\u001b[39;49m\u001b[38;5;124;43m\"\u001b[39;49m\u001b[43m)\u001b[49m\n",
      "File \u001b[0;32m<string>:4\u001b[0m, in \u001b[0;36m__init__\u001b[0;34m(__pydantic_self__, **data)\u001b[0m\n",
      "File \u001b[0;32m~/AbstractOperator/GenAI_Agents/.venv/lib/python3.12/site-packages/sqlalchemy/orm/state.py:571\u001b[0m, in \u001b[0;36mInstanceState._initialize_instance\u001b[0;34m(*mixed, **kwargs)\u001b[0m\n\u001b[1;32m    569\u001b[0m     manager\u001b[38;5;241m.\u001b[39moriginal_init(\u001b[38;5;241m*\u001b[39mmixed[\u001b[38;5;241m1\u001b[39m:], \u001b[38;5;241m*\u001b[39m\u001b[38;5;241m*\u001b[39mkwargs)\n\u001b[1;32m    570\u001b[0m \u001b[38;5;28;01mexcept\u001b[39;00m:\n\u001b[0;32m--> 571\u001b[0m     \u001b[38;5;28;01mwith\u001b[39;00m \u001b[43mutil\u001b[49m\u001b[38;5;241;43m.\u001b[39;49m\u001b[43msafe_reraise\u001b[49m\u001b[43m(\u001b[49m\u001b[43m)\u001b[49m:\n\u001b[1;32m    572\u001b[0m         manager\u001b[38;5;241m.\u001b[39mdispatch\u001b[38;5;241m.\u001b[39minit_failure(\u001b[38;5;28mself\u001b[39m, args, kwargs)\n",
      "File \u001b[0;32m~/AbstractOperator/GenAI_Agents/.venv/lib/python3.12/site-packages/sqlalchemy/util/langhelpers.py:146\u001b[0m, in \u001b[0;36msafe_reraise.__exit__\u001b[0;34m(self, type_, value, traceback)\u001b[0m\n\u001b[1;32m    144\u001b[0m     \u001b[38;5;28;01massert\u001b[39;00m exc_value \u001b[38;5;129;01mis\u001b[39;00m \u001b[38;5;129;01mnot\u001b[39;00m \u001b[38;5;28;01mNone\u001b[39;00m\n\u001b[1;32m    145\u001b[0m     \u001b[38;5;28mself\u001b[39m\u001b[38;5;241m.\u001b[39m_exc_info \u001b[38;5;241m=\u001b[39m \u001b[38;5;28;01mNone\u001b[39;00m  \u001b[38;5;66;03m# remove potential circular references\u001b[39;00m\n\u001b[0;32m--> 146\u001b[0m     \u001b[38;5;28;01mraise\u001b[39;00m exc_value\u001b[38;5;241m.\u001b[39mwith_traceback(exc_tb)\n\u001b[1;32m    147\u001b[0m \u001b[38;5;28;01melse\u001b[39;00m:\n\u001b[1;32m    148\u001b[0m     \u001b[38;5;28mself\u001b[39m\u001b[38;5;241m.\u001b[39m_exc_info \u001b[38;5;241m=\u001b[39m \u001b[38;5;28;01mNone\u001b[39;00m  \u001b[38;5;66;03m# remove potential circular references\u001b[39;00m\n",
      "File \u001b[0;32m~/AbstractOperator/GenAI_Agents/.venv/lib/python3.12/site-packages/sqlalchemy/orm/state.py:569\u001b[0m, in \u001b[0;36mInstanceState._initialize_instance\u001b[0;34m(*mixed, **kwargs)\u001b[0m\n\u001b[1;32m    566\u001b[0m manager\u001b[38;5;241m.\u001b[39mdispatch\u001b[38;5;241m.\u001b[39minit(\u001b[38;5;28mself\u001b[39m, args, kwargs)\n\u001b[1;32m    568\u001b[0m \u001b[38;5;28;01mtry\u001b[39;00m:\n\u001b[0;32m--> 569\u001b[0m     \u001b[43mmanager\u001b[49m\u001b[38;5;241;43m.\u001b[39;49m\u001b[43moriginal_init\u001b[49m\u001b[43m(\u001b[49m\u001b[38;5;241;43m*\u001b[39;49m\u001b[43mmixed\u001b[49m\u001b[43m[\u001b[49m\u001b[38;5;241;43m1\u001b[39;49m\u001b[43m:\u001b[49m\u001b[43m]\u001b[49m\u001b[43m,\u001b[49m\u001b[43m \u001b[49m\u001b[38;5;241;43m*\u001b[39;49m\u001b[38;5;241;43m*\u001b[39;49m\u001b[43mkwargs\u001b[49m\u001b[43m)\u001b[49m\n\u001b[1;32m    570\u001b[0m \u001b[38;5;28;01mexcept\u001b[39;00m:\n\u001b[1;32m    571\u001b[0m     \u001b[38;5;28;01mwith\u001b[39;00m util\u001b[38;5;241m.\u001b[39msafe_reraise():\n",
      "File \u001b[0;32m<string>:6\u001b[0m, in \u001b[0;36m__init__\u001b[0;34m(__pydantic_self__, **data)\u001b[0m\n",
      "File \u001b[0;32m~/AbstractOperator/GenAI_Agents/.venv/lib/python3.12/site-packages/sqlmodel/main.py:811\u001b[0m, in \u001b[0;36mSQLModel.__init__\u001b[0;34m(__pydantic_self__, **data)\u001b[0m\n\u001b[1;32m    793\u001b[0m \u001b[38;5;28;01mdef\u001b[39;00m \u001b[38;5;21m__init__\u001b[39m(__pydantic_self__, \u001b[38;5;241m*\u001b[39m\u001b[38;5;241m*\u001b[39mdata: Any) \u001b[38;5;241m-\u001b[39m\u001b[38;5;241m>\u001b[39m \u001b[38;5;28;01mNone\u001b[39;00m:\n\u001b[1;32m    794\u001b[0m     \u001b[38;5;66;03m# Uses something other than `self` the first arg to allow \"self\" as a\u001b[39;00m\n\u001b[1;32m    795\u001b[0m     \u001b[38;5;66;03m# settable attribute\u001b[39;00m\n\u001b[0;32m   (...)\u001b[0m\n\u001b[1;32m    808\u001b[0m     \u001b[38;5;66;03m# executing the rest, and support things like Model.model_validate(), we\u001b[39;00m\n\u001b[1;32m    809\u001b[0m     \u001b[38;5;66;03m# use a contextvar to know if we should execute everything.\u001b[39;00m\n\u001b[1;32m    810\u001b[0m     \u001b[38;5;28;01mif\u001b[39;00m finish_init\u001b[38;5;241m.\u001b[39mget():\n\u001b[0;32m--> 811\u001b[0m         \u001b[43msqlmodel_init\u001b[49m\u001b[43m(\u001b[49m\u001b[38;5;28;43mself\u001b[39;49m\u001b[38;5;241;43m=\u001b[39;49m\u001b[43m__pydantic_self__\u001b[49m\u001b[43m,\u001b[49m\u001b[43m \u001b[49m\u001b[43mdata\u001b[49m\u001b[38;5;241;43m=\u001b[39;49m\u001b[43mdata\u001b[49m\u001b[43m)\u001b[49m\n",
      "File \u001b[0;32m~/AbstractOperator/GenAI_Agents/.venv/lib/python3.12/site-packages/sqlmodel/_compat.py:355\u001b[0m, in \u001b[0;36msqlmodel_init\u001b[0;34m(self, data)\u001b[0m\n\u001b[1;32m    350\u001b[0m     \u001b[38;5;28mself\u001b[39m\u001b[38;5;241m.\u001b[39m__pydantic_validator__\u001b[38;5;241m.\u001b[39mvalidate_python(\n\u001b[1;32m    351\u001b[0m         data,\n\u001b[1;32m    352\u001b[0m         self_instance\u001b[38;5;241m=\u001b[39m\u001b[38;5;28mself\u001b[39m,\n\u001b[1;32m    353\u001b[0m     )\n\u001b[1;32m    354\u001b[0m \u001b[38;5;28;01melse\u001b[39;00m:\n\u001b[0;32m--> 355\u001b[0m     \u001b[43msqlmodel_table_construct\u001b[49m\u001b[43m(\u001b[49m\n\u001b[1;32m    356\u001b[0m \u001b[43m        \u001b[49m\u001b[43mself_instance\u001b[49m\u001b[38;5;241;43m=\u001b[39;49m\u001b[38;5;28;43mself\u001b[39;49m\u001b[43m,\u001b[49m\n\u001b[1;32m    357\u001b[0m \u001b[43m        \u001b[49m\u001b[43mvalues\u001b[49m\u001b[38;5;241;43m=\u001b[39;49m\u001b[43mdata\u001b[49m\u001b[43m,\u001b[49m\n\u001b[1;32m    358\u001b[0m \u001b[43m    \u001b[49m\u001b[43m)\u001b[49m\n\u001b[1;32m    359\u001b[0m \u001b[38;5;28mobject\u001b[39m\u001b[38;5;241m.\u001b[39m\u001b[38;5;21m__setattr__\u001b[39m(\n\u001b[1;32m    360\u001b[0m     \u001b[38;5;28mself\u001b[39m,\n\u001b[1;32m    361\u001b[0m     \u001b[38;5;124m\"\u001b[39m\u001b[38;5;124m__dict__\u001b[39m\u001b[38;5;124m\"\u001b[39m,\n\u001b[1;32m    362\u001b[0m     {\u001b[38;5;241m*\u001b[39m\u001b[38;5;241m*\u001b[39mold_dict, \u001b[38;5;241m*\u001b[39m\u001b[38;5;241m*\u001b[39m\u001b[38;5;28mself\u001b[39m\u001b[38;5;241m.\u001b[39m\u001b[38;5;18m__dict__\u001b[39m},\n\u001b[1;32m    363\u001b[0m )\n",
      "File \u001b[0;32m~/AbstractOperator/GenAI_Agents/.venv/lib/python3.12/site-packages/sqlmodel/_compat.py:274\u001b[0m, in \u001b[0;36msqlmodel_table_construct\u001b[0;34m(self_instance, values, _fields_set)\u001b[0m\n\u001b[1;32m    265\u001b[0m \u001b[38;5;66;03m# SQLModel override, do not include everything, only the model fields\u001b[39;00m\n\u001b[1;32m    266\u001b[0m \u001b[38;5;66;03m# else:\u001b[39;00m\n\u001b[1;32m    267\u001b[0m \u001b[38;5;66;03m#     fields_values.update(values)\u001b[39;00m\n\u001b[0;32m   (...)\u001b[0m\n\u001b[1;32m    271\u001b[0m \u001b[38;5;66;03m# object.__setattr__(new_obj, \"__dict__\", fields_values)\u001b[39;00m\n\u001b[1;32m    272\u001b[0m \u001b[38;5;66;03m# instrumentation\u001b[39;00m\n\u001b[1;32m    273\u001b[0m \u001b[38;5;28;01mfor\u001b[39;00m key, value \u001b[38;5;129;01min\u001b[39;00m {\u001b[38;5;241m*\u001b[39m\u001b[38;5;241m*\u001b[39mold_dict, \u001b[38;5;241m*\u001b[39m\u001b[38;5;241m*\u001b[39mfields_values}\u001b[38;5;241m.\u001b[39mitems():\n\u001b[0;32m--> 274\u001b[0m     \u001b[38;5;28;43msetattr\u001b[39;49m\u001b[43m(\u001b[49m\u001b[43mself_instance\u001b[49m\u001b[43m,\u001b[49m\u001b[43m \u001b[49m\u001b[43mkey\u001b[49m\u001b[43m,\u001b[49m\u001b[43m \u001b[49m\u001b[43mvalue\u001b[49m\u001b[43m)\u001b[49m\n\u001b[1;32m    275\u001b[0m \u001b[38;5;66;03m# End SQLModel override\u001b[39;00m\n\u001b[1;32m    276\u001b[0m \u001b[38;5;28mobject\u001b[39m\u001b[38;5;241m.\u001b[39m\u001b[38;5;21m__setattr__\u001b[39m(self_instance, \u001b[38;5;124m\"\u001b[39m\u001b[38;5;124m__pydantic_fields_set__\u001b[39m\u001b[38;5;124m\"\u001b[39m, _fields_set)\n",
      "File \u001b[0;32m~/AbstractOperator/GenAI_Agents/.venv/lib/python3.12/site-packages/sqlmodel/main.py:820\u001b[0m, in \u001b[0;36mSQLModel.__setattr__\u001b[0;34m(self, name, value)\u001b[0m\n\u001b[1;32m    817\u001b[0m \u001b[38;5;28;01melse\u001b[39;00m:\n\u001b[1;32m    818\u001b[0m     \u001b[38;5;66;03m# Set in SQLAlchemy, before Pydantic to trigger events and updates\u001b[39;00m\n\u001b[1;32m    819\u001b[0m     \u001b[38;5;28;01mif\u001b[39;00m is_table_model_class(\u001b[38;5;28mself\u001b[39m\u001b[38;5;241m.\u001b[39m\u001b[38;5;18m__class__\u001b[39m) \u001b[38;5;129;01mand\u001b[39;00m is_instrumented(\u001b[38;5;28mself\u001b[39m, name):  \u001b[38;5;66;03m# type: ignore[no-untyped-call]\u001b[39;00m\n\u001b[0;32m--> 820\u001b[0m         \u001b[43mset_attribute\u001b[49m\u001b[43m(\u001b[49m\u001b[38;5;28;43mself\u001b[39;49m\u001b[43m,\u001b[49m\u001b[43m \u001b[49m\u001b[43mname\u001b[49m\u001b[43m,\u001b[49m\u001b[43m \u001b[49m\u001b[43mvalue\u001b[49m\u001b[43m)\u001b[49m\n\u001b[1;32m    821\u001b[0m     \u001b[38;5;66;03m# Set in Pydantic model to trigger possible validation changes, only for\u001b[39;00m\n\u001b[1;32m    822\u001b[0m     \u001b[38;5;66;03m# non relationship values\u001b[39;00m\n\u001b[1;32m    823\u001b[0m     \u001b[38;5;28;01mif\u001b[39;00m name \u001b[38;5;129;01mnot\u001b[39;00m \u001b[38;5;129;01min\u001b[39;00m \u001b[38;5;28mself\u001b[39m\u001b[38;5;241m.\u001b[39m__sqlmodel_relationships__:\n",
      "File \u001b[0;32m~/AbstractOperator/GenAI_Agents/.venv/lib/python3.12/site-packages/sqlalchemy/orm/attributes.py:2760\u001b[0m, in \u001b[0;36mset_attribute\u001b[0;34m(instance, key, value, initiator)\u001b[0m\n\u001b[1;32m   2735\u001b[0m \u001b[38;5;250m\u001b[39m\u001b[38;5;124;03m\"\"\"Set the value of an attribute, firing history events.\u001b[39;00m\n\u001b[1;32m   2736\u001b[0m \n\u001b[1;32m   2737\u001b[0m \u001b[38;5;124;03mThis function may be used regardless of instrumentation\u001b[39;00m\n\u001b[0;32m   (...)\u001b[0m\n\u001b[1;32m   2757\u001b[0m \n\u001b[1;32m   2758\u001b[0m \u001b[38;5;124;03m\"\"\"\u001b[39;00m\n\u001b[1;32m   2759\u001b[0m state, dict_ \u001b[38;5;241m=\u001b[39m instance_state(instance), instance_dict(instance)\n\u001b[0;32m-> 2760\u001b[0m \u001b[43mstate\u001b[49m\u001b[38;5;241;43m.\u001b[39;49m\u001b[43mmanager\u001b[49m\u001b[43m[\u001b[49m\u001b[43mkey\u001b[49m\u001b[43m]\u001b[49m\u001b[38;5;241;43m.\u001b[39;49m\u001b[43mimpl\u001b[49m\u001b[38;5;241;43m.\u001b[39;49m\u001b[43mset\u001b[49m(state, dict_, value, initiator)\n",
      "\u001b[0;31mAttributeError\u001b[0m: 'NoneType' object has no attribute 'set'"
     ]
    }
   ],
   "source": [
    "artwork = Artwork(url=\"https://www.wikiart.org/en/claude-monet/water-lilies-1916\", name=\"Water Lilies\")"
   ]
  },
  {
   "cell_type": "code",
   "execution_count": null,
   "metadata": {},
   "outputs": [],
   "source": [
    "def get_artists_by_movement(movement: str):\n",
    "    pass\n",
    "\n",
    "\n",
    "def get_artists_by_school_or_group(school_or_group: str):\n",
    "    pass\n",
    "\n",
    "\n",
    "def get_artists_by_genre(genre: str):\n",
    "    pass\n",
    "\n",
    "\n",
    "def get_artists_by_field(field: str):\n",
    "    pass\n",
    "\n",
    "\n",
    "def get_artist_by_nationality(nationality: str):\n",
    "    pass\n",
    "\n",
    "\n",
    "def get_institutions() -> list[str]:\n",
    "    \"\"\"\n",
    "    Returns a list of (institution name, url)\n",
    "    https://www.wikiart.org/en/artists-by-art-institution\n",
    "    \"\"\"\n",
    "    base_url = \"https://www.wikiart.org/en/artists-by-art-institution/\"\n",
    "    resp = requests.get(base_url)\n",
    "    soup = bs(resp.text, 'html.parser')\n",
    "    bullets = soup.find_all('ul', {\"class\": \"dictionaries-list\", \"ng-if\": \"!tabChanged\"})\n",
    "    if len(bullets) != 1:\n",
    "        raise ValueError(\"More than one list of institutions found\")\n",
    "\n",
    "    institutions = [\n",
    "        (li.text.strip(), li.a[\"href\"]) for li in bullets[0].find_all(\"li\") if li.a and \"href\" in li.a.attrs\n",
    "    ]\n",
    "    return institutions\n",
    "\n",
    "\n",
    "def get_artists_by_institution(institution: str, url: str) -> list[Artist]:\n",
    "    \"\"\"\n",
    "    Returns a list of artists that have been associated with the institution\n",
    "    Institution: Name of the institution\n",
    "    url: suffix url /en/artists-by-art-institution/{institute}\n",
    "\n",
    "\n",
    "    \"\"\"\n",
    "    url = f'https://www.wikiart.org{url}/text-list'\n",
    "    resp = requests.get(url)\n",
    "\n",
    "    soup = bs(resp.text, 'html.parser')\n",
    "    main = soup.find('main')\n",
    "    if not main:\n",
    "        raise ValueError(\"Main content not found\")\n",
    "\n",
    "    ul = main.find('ul')\n",
    "    if not ul:\n",
    "        raise ValueError(\"List of artists not found\")\n",
    "\n",
    "    artists = [(li.a.content) for li in ul.find_all('li')]"
   ]
  },
  {
   "cell_type": "code",
   "execution_count": 20,
   "metadata": {},
   "outputs": [
    {
     "name": "stdout",
     "output_type": "stream",
     "text": [
      "institute='South Australian School of Design, Adelaide, Australia 3', url='/en/artists-by-art-institution/south-australian-school-of-design-adelaide'\n",
      "<Response [200]>\n"
     ]
    }
   ],
   "source": [
    "institutions = get_institutions()\n",
    "\n",
    "for institute, url in institutions[0:1]:\n",
    "    print(f'{institute=}, {url=}')\n",
    "    get_artist_by_institution(institute, url)"
   ]
  }
 ],
 "metadata": {
  "kernelspec": {
   "display_name": ".venv",
   "language": "python",
   "name": "python3"
  },
  "language_info": {
   "codemirror_mode": {
    "name": "ipython",
    "version": 3
   },
   "file_extension": ".py",
   "mimetype": "text/x-python",
   "name": "python",
   "nbconvert_exporter": "python",
   "pygments_lexer": "ipython3",
   "version": "3.12.7"
  }
 },
 "nbformat": 4,
 "nbformat_minor": 2
}
