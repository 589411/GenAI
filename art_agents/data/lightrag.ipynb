{
 "cells": [
  {
   "cell_type": "code",
   "execution_count": 11,
   "metadata": {},
   "outputs": [
    {
     "name": "stdout",
     "output_type": "stream",
     "text": [
      "\u001b[2mUsing Python 3.11.10 environment at /Users/kentgang/git2/GenAI_Agents/.venv\u001b[0m\n",
      "\u001b[2K\u001b[2mResolved \u001b[1m103 packages\u001b[0m \u001b[2min 303ms\u001b[0m\u001b[0m                                       \u001b[0m\n",
      "\u001b[2K\u001b[37m⠙\u001b[0m \u001b[2mPreparing packages...\u001b[0m (0/2)                                                   \n",
      "\u001b[2K\u001b[1A\u001b[37m⠙\u001b[0m \u001b[2mPreparing packages...\u001b[0m (0/2)----\u001b[0m\u001b[0m     0 B/45.08 KiB                     \u001b[1A\n",
      "\u001b[2mjsonpickle\u001b[0m \u001b[32m\u001b[2m------------------------------\u001b[0m\u001b[0m     0 B/45.08 KiB\n",
      "\u001b[2K\u001b[2A\u001b[37m⠙\u001b[0m \u001b[2mPreparing packages...\u001b[0m (0/2)----\u001b[0m\u001b[0m     0 B/738.32 KiB                    \u001b[2A\n",
      "\u001b[2mjsonpickle\u001b[0m \u001b[32m-----------\u001b[2m-------------------\u001b[0m\u001b[0m 16.00 KiB/45.08 KiB\n",
      "\u001b[2K\u001b[2A\u001b[37m⠙\u001b[0m \u001b[2mPreparing packages...\u001b[0m (0/2)----\u001b[0m\u001b[0m     0 B/738.32 KiB                    \u001b[2A\n",
      "\u001b[2mjsonpickle\u001b[0m \u001b[32m----------------------\u001b[2m--------\u001b[0m\u001b[0m 32.00 KiB/45.08 KiB\n",
      "\u001b[2K\u001b[2A\u001b[37m⠙\u001b[0m \u001b[2mPreparing packages...\u001b[0m (0/2)----\u001b[0m\u001b[0m     0 B/738.32 KiB                    \u001b[2A\n",
      "\u001b[2mjsonpickle\u001b[0m \u001b[32m------------------------------\u001b[2m\u001b[0m\u001b[0m 45.08 KiB/45.08 KiB\n",
      "\u001b[2K\u001b[2A\u001b[37m⠙\u001b[0m \u001b[2mPreparing packages...\u001b[0m (0/2)----\u001b[0m\u001b[0m     0 B/738.32 KiB                    \u001b[2A\n",
      "\u001b[2mjsonpickle\u001b[0m \u001b[32m------------------------------\u001b[2m\u001b[0m\u001b[0m 45.08 KiB/45.08 KiB\n",
      "\u001b[2K\u001b[2A\u001b[37m⠙\u001b[0m \u001b[2mPreparing packages...\u001b[0m (0/2)----\u001b[0m\u001b[0m 16.00 KiB/738.32 KiB                  \u001b[2A\n",
      "\u001b[2K\u001b[1A\u001b[37m⠙\u001b[0m \u001b[2mPreparing packages...\u001b[0m (0/2)----\u001b[0m\u001b[0m 16.00 KiB/738.32 KiB                  \u001b[1A\n",
      "\u001b[2K\u001b[1A\u001b[37m⠙\u001b[0m \u001b[2mPreparing packages...\u001b[0m (0/2)----\u001b[0m\u001b[0m 32.00 KiB/738.32 KiB                  \u001b[1A\n",
      "\u001b[2K\u001b[1A\u001b[37m⠙\u001b[0m \u001b[2mPreparing packages...\u001b[0m (0/2)----\u001b[0m\u001b[0m 48.00 KiB/738.32 KiB                  \u001b[1A\n",
      "\u001b[2K\u001b[1A\u001b[37m⠙\u001b[0m \u001b[2mPreparing packages...\u001b[0m (0/2)----\u001b[0m\u001b[0m 63.42 KiB/738.32 KiB                  \u001b[1A\n",
      "\u001b[2K\u001b[1A\u001b[37m⠙\u001b[0m \u001b[2mPreparing packages...\u001b[0m (0/2)----\u001b[0m\u001b[0m 79.42 KiB/738.32 KiB                  \u001b[1A\n",
      "\u001b[2K\u001b[1A\u001b[37m⠙\u001b[0m \u001b[2mPreparing packages...\u001b[0m (0/2)----\u001b[0m\u001b[0m 95.42 KiB/738.32 KiB                  \u001b[1A\n",
      "\u001b[2K\u001b[1A\u001b[37m⠙\u001b[0m \u001b[2mPreparing packages...\u001b[0m (0/2)----\u001b[0m\u001b[0m 111.42 KiB/738.32 KiB                 \u001b[1A\n",
      "\u001b[2K\u001b[1A\u001b[37m⠙\u001b[0m \u001b[2mPreparing packages...\u001b[0m (0/2)----\u001b[0m\u001b[0m 127.42 KiB/738.32 KiB                 \u001b[1A\n",
      "\u001b[2K\u001b[1A\u001b[37m⠙\u001b[0m \u001b[2mPreparing packages...\u001b[0m (0/2)----\u001b[0m\u001b[0m 143.42 KiB/738.32 KiB                 \u001b[1A\n",
      "\u001b[2K\u001b[1A\u001b[37m⠙\u001b[0m \u001b[2mPreparing packages...\u001b[0m (0/2)----\u001b[0m\u001b[0m 159.42 KiB/738.32 KiB                 \u001b[1A\n",
      "\u001b[2K\u001b[1A\u001b[37m⠙\u001b[0m \u001b[2mPreparing packages...\u001b[0m (0/2)----\u001b[0m\u001b[0m 175.42 KiB/738.32 KiB                 \u001b[1A\n",
      "\u001b[2K\u001b[1A\u001b[37m⠙\u001b[0m \u001b[2mPreparing packages...\u001b[0m (0/2)----\u001b[0m\u001b[0m 191.42 KiB/738.32 KiB                 \u001b[1A\n",
      "\u001b[2K\u001b[2mPrepared \u001b[1m2 packages\u001b[0m \u001b[2min 82ms\u001b[0m\u001b[0m                                                  \u001b[1A\n",
      "\u001b[2K\u001b[2mInstalled \u001b[1m2 packages\u001b[0m \u001b[2min 2ms\u001b[0m\u001b[0m                                 \u001b[0m\n",
      " \u001b[32m+\u001b[39m \u001b[1mjsonpickle\u001b[0m\u001b[2m==4.0.0\u001b[0m\n",
      " \u001b[32m+\u001b[39m \u001b[1mpyvis\u001b[0m\u001b[2m==0.3.2\u001b[0m\n"
     ]
    }
   ],
   "source": [
    "!uv pip install lightrag-hku aioboto3 numpy ollama openai tenacity aioboto3 transformers torch tiktoken nano_vectordb neo4j oracledb textract setuptools pyvis"
   ]
  },
  {
   "cell_type": "code",
   "execution_count": 2,
   "metadata": {},
   "outputs": [
    {
     "name": "stderr",
     "output_type": "stream",
     "text": [
      "/Users/kentgang/git2/GenAI_Agents/.venv/lib/python3.11/site-packages/tqdm/auto.py:21: TqdmWarning: IProgress not found. Please update jupyter and ipywidgets. See https://ipywidgets.readthedocs.io/en/stable/user_install.html\n",
      "  from .autonotebook import tqdm as notebook_tqdm\n"
     ]
    }
   ],
   "source": [
    "import os\n",
    "from lightrag import LightRAG, QueryParam\n",
    "from lightrag.llm import gpt_4o_mini_complete, gpt_4o_complete"
   ]
  },
  {
   "cell_type": "code",
   "execution_count": 3,
   "metadata": {},
   "outputs": [],
   "source": [
    "import nest_asyncio\n",
    "nest_asyncio.apply()"
   ]
  },
  {
   "cell_type": "code",
   "execution_count": 8,
   "metadata": {},
   "outputs": [
    {
     "name": "stderr",
     "output_type": "stream",
     "text": [
      "INFO:lightrag:Logger initialized for working directory: ./rag_data\n",
      "INFO:lightrag:Load KV llm_response_cache with 0 data\n",
      "INFO:lightrag:Load KV full_docs with 0 data\n",
      "INFO:lightrag:Load KV text_chunks with 0 data\n",
      "INFO:nano-vectordb:Init {'embedding_dim': 1536, 'metric': 'cosine', 'storage_file': './rag_data/vdb_entities.json'} 0 data\n",
      "INFO:nano-vectordb:Init {'embedding_dim': 1536, 'metric': 'cosine', 'storage_file': './rag_data/vdb_relationships.json'} 0 data\n",
      "INFO:nano-vectordb:Init {'embedding_dim': 1536, 'metric': 'cosine', 'storage_file': './rag_data/vdb_chunks.json'} 0 data\n"
     ]
    }
   ],
   "source": [
    "WORKING_DIR = \"./rag_data\"\n",
    "\n",
    "rag = LightRAG(\n",
    "    working_dir=WORKING_DIR,\n",
    "    llm_model_func=gpt_4o_mini_complete,\n",
    ")"
   ]
  },
  {
   "cell_type": "code",
   "execution_count": 9,
   "metadata": {},
   "outputs": [
    {
     "name": "stderr",
     "output_type": "stream",
     "text": [
      "INFO:lightrag:[New Docs] inserting 1 docs\n",
      "INFO:lightrag:[New Chunks] inserting 17 chunks\n",
      "INFO:lightrag:Inserting 17 vectors to chunks\n",
      "INFO:httpx:HTTP Request: POST https://api.openai.com/v1/embeddings \"HTTP/1.1 200 OK\"\n",
      "INFO:lightrag:[Entity Extraction]...\n",
      "INFO:httpx:HTTP Request: POST https://api.openai.com/v1/chat/completions \"HTTP/1.1 200 OK\"\n",
      "INFO:httpx:HTTP Request: POST https://api.openai.com/v1/chat/completions \"HTTP/1.1 200 OK\"\n",
      "INFO:httpx:HTTP Request: POST https://api.openai.com/v1/chat/completions \"HTTP/1.1 200 OK\"\n",
      "INFO:httpx:HTTP Request: POST https://api.openai.com/v1/chat/completions \"HTTP/1.1 200 OK\"\n",
      "INFO:httpx:HTTP Request: POST https://api.openai.com/v1/chat/completions \"HTTP/1.1 200 OK\"\n",
      "INFO:httpx:HTTP Request: POST https://api.openai.com/v1/chat/completions \"HTTP/1.1 200 OK\"\n",
      "INFO:httpx:HTTP Request: POST https://api.openai.com/v1/chat/completions \"HTTP/1.1 200 OK\"\n",
      "INFO:httpx:HTTP Request: POST https://api.openai.com/v1/chat/completions \"HTTP/1.1 200 OK\"\n",
      "INFO:httpx:HTTP Request: POST https://api.openai.com/v1/chat/completions \"HTTP/1.1 200 OK\"\n",
      "INFO:httpx:HTTP Request: POST https://api.openai.com/v1/chat/completions \"HTTP/1.1 200 OK\"\n",
      "INFO:httpx:HTTP Request: POST https://api.openai.com/v1/chat/completions \"HTTP/1.1 200 OK\"\n",
      "INFO:httpx:HTTP Request: POST https://api.openai.com/v1/chat/completions \"HTTP/1.1 200 OK\"\n",
      "INFO:httpx:HTTP Request: POST https://api.openai.com/v1/chat/completions \"HTTP/1.1 200 OK\"\n",
      "INFO:httpx:HTTP Request: POST https://api.openai.com/v1/chat/completions \"HTTP/1.1 200 OK\"\n"
     ]
    },
    {
     "name": "stdout",
     "output_type": "stream",
     "text": [
      "⠙ Processed 1 chunks, 17 entities(duplicated), 5 relations(duplicated)\r"
     ]
    },
    {
     "name": "stderr",
     "output_type": "stream",
     "text": [
      "INFO:httpx:HTTP Request: POST https://api.openai.com/v1/chat/completions \"HTTP/1.1 200 OK\"\n"
     ]
    },
    {
     "name": "stdout",
     "output_type": "stream",
     "text": [
      "⠹ Processed 2 chunks, 36 entities(duplicated), 9 relations(duplicated)\r"
     ]
    },
    {
     "name": "stderr",
     "output_type": "stream",
     "text": [
      "INFO:httpx:HTTP Request: POST https://api.openai.com/v1/chat/completions \"HTTP/1.1 200 OK\"\n"
     ]
    },
    {
     "name": "stdout",
     "output_type": "stream",
     "text": [
      "⠸ Processed 3 chunks, 52 entities(duplicated), 16 relations(duplicated)\r"
     ]
    },
    {
     "name": "stderr",
     "output_type": "stream",
     "text": [
      "INFO:httpx:HTTP Request: POST https://api.openai.com/v1/chat/completions \"HTTP/1.1 200 OK\"\n",
      "INFO:httpx:HTTP Request: POST https://api.openai.com/v1/chat/completions \"HTTP/1.1 200 OK\"\n"
     ]
    },
    {
     "name": "stdout",
     "output_type": "stream",
     "text": [
      "⠼ Processed 4 chunks, 70 entities(duplicated), 22 relations(duplicated)\r"
     ]
    },
    {
     "name": "stderr",
     "output_type": "stream",
     "text": [
      "INFO:httpx:HTTP Request: POST https://api.openai.com/v1/chat/completions \"HTTP/1.1 200 OK\"\n"
     ]
    },
    {
     "name": "stdout",
     "output_type": "stream",
     "text": [
      "⠴ Processed 5 chunks, 86 entities(duplicated), 32 relations(duplicated)\r"
     ]
    },
    {
     "name": "stderr",
     "output_type": "stream",
     "text": [
      "INFO:httpx:HTTP Request: POST https://api.openai.com/v1/chat/completions \"HTTP/1.1 200 OK\"\n"
     ]
    },
    {
     "name": "stdout",
     "output_type": "stream",
     "text": [
      "⠦ Processed 6 chunks, 104 entities(duplicated), 39 relations(duplicated)\r"
     ]
    },
    {
     "name": "stderr",
     "output_type": "stream",
     "text": [
      "INFO:httpx:HTTP Request: POST https://api.openai.com/v1/chat/completions \"HTTP/1.1 200 OK\"\n"
     ]
    },
    {
     "name": "stdout",
     "output_type": "stream",
     "text": [
      "⠧ Processed 7 chunks, 127 entities(duplicated), 47 relations(duplicated)\r"
     ]
    },
    {
     "name": "stderr",
     "output_type": "stream",
     "text": [
      "INFO:httpx:HTTP Request: POST https://api.openai.com/v1/chat/completions \"HTTP/1.1 200 OK\"\n"
     ]
    },
    {
     "name": "stdout",
     "output_type": "stream",
     "text": [
      "⠇ Processed 8 chunks, 141 entities(duplicated), 58 relations(duplicated)\r"
     ]
    },
    {
     "name": "stderr",
     "output_type": "stream",
     "text": [
      "INFO:httpx:HTTP Request: POST https://api.openai.com/v1/chat/completions \"HTTP/1.1 200 OK\"\n",
      "INFO:httpx:HTTP Request: POST https://api.openai.com/v1/chat/completions \"HTTP/1.1 200 OK\"\n"
     ]
    },
    {
     "name": "stdout",
     "output_type": "stream",
     "text": [
      "⠏ Processed 9 chunks, 161 entities(duplicated), 72 relations(duplicated)\r"
     ]
    },
    {
     "name": "stderr",
     "output_type": "stream",
     "text": [
      "INFO:httpx:HTTP Request: POST https://api.openai.com/v1/chat/completions \"HTTP/1.1 200 OK\"\n"
     ]
    },
    {
     "name": "stdout",
     "output_type": "stream",
     "text": [
      "⠋ Processed 10 chunks, 179 entities(duplicated), 83 relations(duplicated)\r"
     ]
    },
    {
     "name": "stderr",
     "output_type": "stream",
     "text": [
      "INFO:httpx:HTTP Request: POST https://api.openai.com/v1/chat/completions \"HTTP/1.1 200 OK\"\n"
     ]
    },
    {
     "name": "stdout",
     "output_type": "stream",
     "text": [
      "⠙ Processed 11 chunks, 198 entities(duplicated), 97 relations(duplicated)\r"
     ]
    },
    {
     "name": "stderr",
     "output_type": "stream",
     "text": [
      "INFO:httpx:HTTP Request: POST https://api.openai.com/v1/chat/completions \"HTTP/1.1 200 OK\"\n"
     ]
    },
    {
     "name": "stdout",
     "output_type": "stream",
     "text": [
      "⠹ Processed 12 chunks, 219 entities(duplicated), 110 relations(duplicated)\r"
     ]
    },
    {
     "name": "stderr",
     "output_type": "stream",
     "text": [
      "INFO:httpx:HTTP Request: POST https://api.openai.com/v1/chat/completions \"HTTP/1.1 200 OK\"\n"
     ]
    },
    {
     "name": "stdout",
     "output_type": "stream",
     "text": [
      "⠸ Processed 13 chunks, 246 entities(duplicated), 119 relations(duplicated)\r"
     ]
    },
    {
     "name": "stderr",
     "output_type": "stream",
     "text": [
      "INFO:httpx:HTTP Request: POST https://api.openai.com/v1/chat/completions \"HTTP/1.1 200 OK\"\n"
     ]
    },
    {
     "name": "stdout",
     "output_type": "stream",
     "text": [
      "⠼ Processed 14 chunks, 271 entities(duplicated), 132 relations(duplicated)\r"
     ]
    },
    {
     "name": "stderr",
     "output_type": "stream",
     "text": [
      "INFO:httpx:HTTP Request: POST https://api.openai.com/v1/chat/completions \"HTTP/1.1 200 OK\"\n"
     ]
    },
    {
     "name": "stdout",
     "output_type": "stream",
     "text": [
      "⠴ Processed 15 chunks, 304 entities(duplicated), 140 relations(duplicated)\r"
     ]
    },
    {
     "name": "stderr",
     "output_type": "stream",
     "text": [
      "INFO:httpx:HTTP Request: POST https://api.openai.com/v1/chat/completions \"HTTP/1.1 200 OK\"\n",
      "INFO:httpx:HTTP Request: POST https://api.openai.com/v1/chat/completions \"HTTP/1.1 200 OK\"\n"
     ]
    },
    {
     "name": "stdout",
     "output_type": "stream",
     "text": [
      "⠦ Processed 16 chunks, 329 entities(duplicated), 148 relations(duplicated)\r"
     ]
    },
    {
     "name": "stderr",
     "output_type": "stream",
     "text": [
      "INFO:httpx:HTTP Request: POST https://api.openai.com/v1/chat/completions \"HTTP/1.1 200 OK\"\n",
      "INFO:httpx:HTTP Request: POST https://api.openai.com/v1/chat/completions \"HTTP/1.1 200 OK\"\n"
     ]
    },
    {
     "name": "stdout",
     "output_type": "stream",
     "text": [
      "⠧ Processed 17 chunks, 416 entities(duplicated), 221 relations(duplicated)\r"
     ]
    },
    {
     "name": "stderr",
     "output_type": "stream",
     "text": [
      "INFO:lightrag:Inserting 327 vectors to entities\n"
     ]
    },
    {
     "name": "stdout",
     "output_type": "stream",
     "text": [
      "\n"
     ]
    },
    {
     "name": "stderr",
     "output_type": "stream",
     "text": [
      "INFO:httpx:HTTP Request: POST https://api.openai.com/v1/embeddings \"HTTP/1.1 200 OK\"\n",
      "INFO:httpx:HTTP Request: POST https://api.openai.com/v1/embeddings \"HTTP/1.1 200 OK\"\n",
      "INFO:httpx:HTTP Request: POST https://api.openai.com/v1/embeddings \"HTTP/1.1 200 OK\"\n",
      "INFO:httpx:HTTP Request: POST https://api.openai.com/v1/embeddings \"HTTP/1.1 200 OK\"\n",
      "INFO:httpx:HTTP Request: POST https://api.openai.com/v1/embeddings \"HTTP/1.1 200 OK\"\n",
      "INFO:httpx:HTTP Request: POST https://api.openai.com/v1/embeddings \"HTTP/1.1 200 OK\"\n",
      "INFO:httpx:HTTP Request: POST https://api.openai.com/v1/embeddings \"HTTP/1.1 200 OK\"\n",
      "INFO:httpx:HTTP Request: POST https://api.openai.com/v1/embeddings \"HTTP/1.1 200 OK\"\n",
      "INFO:httpx:HTTP Request: POST https://api.openai.com/v1/embeddings \"HTTP/1.1 200 OK\"\n",
      "INFO:httpx:HTTP Request: POST https://api.openai.com/v1/embeddings \"HTTP/1.1 200 OK\"\n",
      "INFO:httpx:HTTP Request: POST https://api.openai.com/v1/embeddings \"HTTP/1.1 200 OK\"\n",
      "INFO:lightrag:Inserting 220 vectors to relationships\n",
      "INFO:httpx:HTTP Request: POST https://api.openai.com/v1/embeddings \"HTTP/1.1 200 OK\"\n",
      "INFO:httpx:HTTP Request: POST https://api.openai.com/v1/embeddings \"HTTP/1.1 200 OK\"\n",
      "INFO:httpx:HTTP Request: POST https://api.openai.com/v1/embeddings \"HTTP/1.1 200 OK\"\n",
      "INFO:httpx:HTTP Request: POST https://api.openai.com/v1/embeddings \"HTTP/1.1 200 OK\"\n",
      "INFO:httpx:HTTP Request: POST https://api.openai.com/v1/embeddings \"HTTP/1.1 200 OK\"\n",
      "INFO:httpx:HTTP Request: POST https://api.openai.com/v1/embeddings \"HTTP/1.1 200 OK\"\n",
      "INFO:httpx:HTTP Request: POST https://api.openai.com/v1/embeddings \"HTTP/1.1 200 OK\"\n",
      "INFO:lightrag:Writing graph with 367 nodes, 220 edges\n"
     ]
    }
   ],
   "source": [
    "import textract\n",
    "\n",
    "file_path = \"/Users/kentgang/git2/GenAI_Agents/art_agents/data/rag_data/Impressionism_wikpedia.pdf\"\n",
    "text_content = textract.process(file_path)\n",
    "\n",
    "rag.insert(text_content.decode('utf-8'))"
   ]
  },
  {
   "cell_type": "code",
   "execution_count": 18,
   "metadata": {},
   "outputs": [
    {
     "name": "stdout",
     "output_type": "stream",
     "text": [
      "Warning: When  cdn_resources is 'local' jupyter notebook has issues displaying graphics on chrome/safari. Use cdn_resources='in_line' or cdn_resources='remote' if you have issues viewing graphics in a notebook.\n"
     ]
    }
   ],
   "source": [
    "import networkx as nx\n",
    "from pyvis.network import Network\n",
    "\n",
    "# Load the GraphML file\n",
    "G = nx.read_graphml('./rag_data/graph_chunk_entity_relation.graphml')\n",
    "\n",
    "# Create a Pyvis network\n",
    "net = Network(notebook=True)\n",
    "\n",
    "# Convert NetworkX graph to Pyvis network\n",
    "net.from_nx(G)\n",
    "\n",
    "# Save and display the network\n",
    "# net.show('knowledge_graph.html')"
   ]
  },
  {
   "cell_type": "code",
   "execution_count": null,
   "metadata": {},
   "outputs": [
    {
     "name": "stderr",
     "output_type": "stream",
     "text": [
      "INFO:httpx:HTTP Request: POST https://api.openai.com/v1/embeddings \"HTTP/1.1 200 OK\"\n",
      "INFO:lightrag:Truncate 17 to 3 chunks\n",
      "INFO:httpx:HTTP Request: POST https://api.openai.com/v1/chat/completions \"HTTP/1.1 200 OK\"\n"
     ]
    },
    {
     "name": "stdout",
     "output_type": "stream",
     "text": [
      "Impressionism is a significant art movement that emerged in the late 19th century, primarily in France, characterized by several defining concepts and techniques. \n",
      "\n",
      "### Key Characteristics\n",
      "\n",
      "1. **Visible Brush Strokes**: One of the most recognizable features of Impressionist paintings is the use of relatively small, thin, yet visible brush strokes. This technique creates a sense of movement and spontaneity, capturing the momentary effects of light and color.\n",
      "\n",
      "2. **Open Composition**: Impressionist artists often employed an open composition that included unusual visual angles. This approach gives a sense of immediacy, as if the viewer is witnessing a moment in real time.\n",
      "\n",
      "3. **Focus on Light**: A hallmark of Impressionism is the emphasis on accurately depicting light in its varying qualities. Impressionist paintings frequently portray changing light conditions, often highlighting the effects of time on the scene.\n",
      "\n",
      "4. **Ordinary Subject Matter**: Rather than grand historical or religious themes, Impressionists favored everyday subjects, reflecting the modern life of the time. This included scenes of leisure, urban life, and landscapes, often featuring middle-class activities.\n",
      "\n",
      "5. **Color and Light**: Impressionists developed techniques that utilized color in a new way, applying colors side by side without prolonged mixing. This practice allowed for a vibrant and intense palette that captures the essence of light.\n",
      "\n",
      "### Reaction Against Tradition\n",
      "\n",
      "Impressionism arose as a rebellion against the strict conventions of the Académie des Beaux-Arts, which favored detailed realism and traditional subjects. Impressionist artists such as Claude Monet, Pierre-Auguste Renoir, and Camille Pissarro sought to break free from these constraints, embracing a more liberal and candid style of painting. Their work often conveys a sense of movement and life, reflecting a modern understanding of perception and experience. \n",
      "\n",
      "### Influence of Technology and Culture\n",
      "\n",
      "The movement was also significantly influenced by the advent of new technologies, such as the introduction of premixed paints in tubes, which allowed artists to work both outdoors and spontaneously. Additionally, the rise of photography prompted Impressionist painters to explore capturing fleeting moments and the subjective experience of seeing, diverging from the objective representational goals of previous artistic movements.\n",
      "\n",
      "### Conclusion\n",
      "\n",
      "Overall, Impressionism represents a fundamental shift in the world of art, emphasizing personal expression through perception and sensation rather than strict realism. It paved the way for modern art movements that followed, influencing not just painting but also literature and music. The movement ultimately redefined the relationship between the artist, the subject, and the viewer.\n"
     ]
    },
    {
     "name": "stderr",
     "output_type": "stream",
     "text": [
      "INFO:httpx:HTTP Request: POST https://api.openai.com/v1/chat/completions \"HTTP/1.1 200 OK\"\n",
      "INFO:httpx:HTTP Request: POST https://api.openai.com/v1/embeddings \"HTTP/1.1 200 OK\"\n",
      "INFO:lightrag:Local query uses 60 entites, 88 relations, 3 text units\n",
      "INFO:httpx:HTTP Request: POST https://api.openai.com/v1/chat/completions \"HTTP/1.1 200 OK\"\n"
     ]
    },
    {
     "name": "stdout",
     "output_type": "stream",
     "text": [
      "### Overview of Impressionism\n",
      "\n",
      "Impressionism is a revolutionary art movement that emerged in the late 19th century, characterized by a distinct break from traditional artistic standards. Impressionist artists sought to capture ordinary subject matter and the effects of light in a new, dynamic way. The movement is defined by several key principles and ideas that significantly influenced the trajectory of modern art.\n",
      "\n",
      "### Emphasis on Light and Color\n",
      "\n",
      "One of the primary tenets of Impressionism is the focus on the effects of light and its changing qualities. Impressionist painters often worked en plein air (outdoors) to quickly capture the momentary light effects and atmosphere of their surroundings. They employed techniques such as short, visible brush strokes and vibrant color contrasts to convey movement and depth. **Claude Monet's** works, especially \"Impression, Sunrise,\" exemplify this focus, as they often illustrate how light transforms the landscape throughout different times of the day.\n",
      "\n",
      "### Ordinary Subject Matter\n",
      "\n",
      "Impressionism also celebrated the beauty of everyday life. Artists moved away from traditional subjects like historical figures and religious themes, instead depicting urban scenes, leisure activities, and the intimacy of family life. This shift is evident in **Pierre-Auguste Renoir's** portrayal of social gatherings in \"Dance at Le Moulin de la Galette,\" which captures the vibrancy of contemporary Parisian life. \n",
      "\n",
      "### Unconventional Compositions\n",
      "\n",
      "Impressionists often used unusual angles and compositions to create a sense of spontaneity and immediacy. This method contrasted sharply with the carefully arranged and polished compositions seen in academic painting at the time. For instance, **Edgar Degas** was known for his asymmetrical compositions in works like \"The Dance Class,\" capturing figures in motion in unexpected ways.\n",
      "\n",
      "### Influence of Japanese Art\n",
      "\n",
      "The influence of Japanese ukiyo-e prints is another significant aspect of Impressionism. These prints introduced new compositional techniques and aesthetic choices that inspired artists to experiment with perspective and color. Monet, in works such as \"Jardin à Sainte-Adresse,\" incorporated these elements, showcasing bold colors and innovative layout designs.\n",
      "\n",
      "### Artistic Individualism and Subjectivity\n",
      "\n",
      "Impressionism also emphasizes artistic individualism and personal perception. By prioritizing subjective experience over realistic representation, artists conveyed their unique interpretations of the world. This artistic subjectivity led to varied representations of similar themes among different artists, such as the female experience portrayed by **Mary Cassatt** or the landscapes captured by **Alfred Sisley**.\n",
      "\n",
      "### Conclusion\n",
      "\n",
      "In essence, Impressionism was characterized by a move towards capturing fleeting moments of light, exploring modern life and urban culture, and emphasizing individual artistic expression. It paved the way for subsequent movements like Post-Impressionism, which further explored the effects of personal emotion and embodiment in art. Through its innovative approaches, Impressionism not only redefined painting but also reshaped the art world's trajectory, influencing generations of artists who followed.\n"
     ]
    },
    {
     "name": "stderr",
     "output_type": "stream",
     "text": [
      "INFO:httpx:HTTP Request: POST https://api.openai.com/v1/embeddings \"HTTP/1.1 200 OK\"\n",
      "INFO:lightrag:Global query uses 77 entites, 60 relations, 3 text units\n",
      "INFO:httpx:HTTP Request: POST https://api.openai.com/v1/chat/completions \"HTTP/1.1 200 OK\"\n"
     ]
    },
    {
     "name": "stdout",
     "output_type": "stream",
     "text": [
      "Impressionism emerged as a revolutionary art movement in the late 19th century, primarily in France. Characterized by several defining concepts, it marked a departure from traditional artistic norms and offered a new perspective on visual representation. Below are the main ideas that outline the essence of Impressionism:\n",
      "\n",
      "### 1. Focus on Light and Color\n",
      "One of the most significant aspects of Impressionism is the emphasis on natural light and the interplay of color. Artists like Claude Monet epitomized this approach by exploring how light affects color in each moment. The use of short, visible brush strokes and vivid color application allowed Impressionists to capture the dynamism of light and create a sense of movement within their works.\n",
      "\n",
      "### 2. Ordinary Subject Matter\n",
      "Impressionism sought to break away from historical and religious themes, favoring everyday scenes and ordinary subjects. Artists portrayed common life, landscapes, and casual moments, highlighting the beauty in the mundane. This focus allowed for a more relatable and immediate connection between the artwork and the viewer, making it accessible beyond the elite artistic circles.\n",
      "\n",
      "### 3. Plein Air Painting\n",
      "Impressionist artists commonly practiced plein air painting, or painting outdoors, which enabled them to paint directly from their surroundings. This technique allowed artists to capture fleeting moments and the changing qualities of light and weather, enhancing the spontaneity and vibrancy of their works. The immediacy of this method is reflected in the brushwork and compositional choices of the art produced.\n",
      "\n",
      "### 4. Innovative Composition\n",
      "Impressionism also introduced unique compositions that deviated from traditional perspectives. Artists played with unusual angles and framing, creating dynamic and engaging scenes that conveyed a sense of movement and life. This compositional freedom often gave the viewer the impression of looking into a fleeting moment, mimicking the way one perceives reality.\n",
      "\n",
      "### 5. Challenge to Academic Standards\n",
      "The movement arose partly as a reaction against the rigid standards upheld by institutions like the Académie des Beaux-Arts. Impressionists challenged these conventions, prioritizing individual expression over adherence to traditional techniques and subject matter. This spirit of innovation paved the way for subsequent movements, such as Post-Impressionism and Modernism, as artists sought to further explore their unique styles and perspectives.\n",
      "\n",
      "### Conclusion\n",
      "Impressionism is fundamentally about capturing the essence of a moment through the interplay of light, color, and everyday life. Its focus on immediate experiences, spontaneity, and a new visual language revolutionized the art world, influencing countless artists and movements that followed. Through this lens, Impressionism remains a vital chapter in art history, celebrating the beauty found in the ordinary and the transience of existence.\n"
     ]
    },
    {
     "name": "stderr",
     "output_type": "stream",
     "text": [
      "INFO:httpx:HTTP Request: POST https://api.openai.com/v1/embeddings \"HTTP/1.1 200 OK\"\n",
      "INFO:lightrag:Local query uses 60 entites, 88 relations, 3 text units\n",
      "INFO:httpx:HTTP Request: POST https://api.openai.com/v1/embeddings \"HTTP/1.1 200 OK\"\n",
      "INFO:lightrag:Global query uses 77 entites, 60 relations, 3 text units\n",
      "INFO:httpx:HTTP Request: POST https://api.openai.com/v1/chat/completions \"HTTP/1.1 200 OK\"\n"
     ]
    },
    {
     "name": "stdout",
     "output_type": "stream",
     "text": [
      "### Main Ideas in Impressionism\n",
      "\n",
      "Impressionism emerged in the late 19th century as a revolutionary art movement that focused on innovative techniques and new perspectives in painting. Characterized by its unique approach to light and color, Impressionism sought to capture fleeting moments and the changing qualities of light in everyday scenes. Below are some of the main ideas and principles that define this influential movement.\n",
      "\n",
      "#### 1. **Focus on Light and Color**\n",
      "Impressionists emphasized the effects of light on natural scenes and objects. They utilized short, quick brush strokes and vibrant, unmixed colors to depict how light shifted throughout the day, capturing momentary changes and visual sensations. This focus allowed artists to create a dynamic representation of their subjects, often highlighting the brilliance of sunlight or the gentleness of twilight.\n",
      "\n",
      "#### 2. **Emphasis on Everyday Subject Matter**\n",
      "Unlike their predecessors, who often depicted historical or mythical themes, Impressionists chose to paint ordinary scenes of contemporary life. This included landscapes, urban settings, and intimate glimpses of social life, thus reflecting the experience of the modern world. Such subjects brought art closer to the viewer’s reality, offering relatable themes and experiences.\n",
      "\n",
      "#### 3. **Innovative Composition Techniques**\n",
      "Impressionist artists often employed unconventional composition techniques. They favored unusual angles and perspectives that suggested movement and spontaneity, often leaving parts of the canvas unpainted or using asymmetrical arrangements. This approach provided a sense of immediacy and intimacy, drawing the viewer into the scene as if they were experiencing it firsthand.\n",
      "\n",
      "#### 4. **Plein Air Painting**\n",
      "A hallmark of the Impressionist movement was the practice of plein air painting, which involved artists painting outdoors to capture the natural light and atmosphere of the moment. This differed from traditional methods, which typically involved working in a studio. By painting directly from nature, Impressionists sought to convey the true essence of a scene, reflecting their interest in the environment and changing conditions.\n",
      "\n",
      "#### 5. **Break from Academic Tradition**\n",
      "Impressionism represented a clear departure from the rigid styles dictated by the Académie des Beaux-Arts, which focused on realism and historical subjects. Impressionists rejected these conventions, and their work often faced criticism for its perceived lack of finish and precision. This rebellion was not just against stylistic norms but also against the institutionalized art world that upheld them.\n",
      "\n",
      "#### 6. **Exploration of Individual Perception**\n",
      "Impressionist artists aimed to depict personal perceptions rather than objective reality. Their works sought to recreate the feelings and impressions formed by observing the world, posing a challenge to traditional artistic representation of truth. This emphasis on subjective experience would influence many subsequent art movements, including Post-Impressionism and Expressionism.\n",
      "\n",
      "#### 7. **Influence of External Factors**\n",
      "The Impressionist movement was also influenced by external social and technological changes, such as the rise of photography, which challenged painters to find new methods of expression. Additionally, Japanese ukiyo-e prints injected new perspectives and compositions that impacted how Impressionists approached their art.\n",
      "\n",
      "### Conclusion\n",
      "The Impressionist movement laid the groundwork for modern art by embracing light, color, and innovative techniques that broke from traditional norms. Its focus on contemporary life and subjective experience allowed artists to capture the world in a fresh, dynamic way, fostering a new appreciation for everyday scenes. The legacy of Impressionism can still be seen in various forms of art today, highlighting its enduring influence on the artistic landscape.\n"
     ]
    }
   ],
   "source": [
    "query = \"What are the main ideas in impressionism?\"\n",
    "# Perform naive search\n",
    "print(rag.query(query, param=QueryParam(mode=\"naive\")))\n",
    "\n",
    "# Perform local search\n",
    "print(rag.query(query, param=QueryParam(mode=\"local\")))\n",
    "\n",
    "# Perform global search\n",
    "print(rag.query(query, param=QueryParam(mode=\"global\")))\n",
    "\n",
    "# Perform hybrid search\n",
    "print(rag.query(query, param=QueryParam(mode=\"hybrid\")))"
   ]
  },
  {
   "cell_type": "code",
   "execution_count": 20,
   "metadata": {},
   "outputs": [
    {
     "name": "stderr",
     "output_type": "stream",
     "text": [
      "INFO:httpx:HTTP Request: POST https://api.openai.com/v1/chat/completions \"HTTP/1.1 200 OK\"\n",
      "INFO:httpx:HTTP Request: POST https://api.openai.com/v1/embeddings \"HTTP/1.1 200 OK\"\n",
      "INFO:lightrag:Local query uses 60 entites, 98 relations, 3 text units\n",
      "INFO:httpx:HTTP Request: POST https://api.openai.com/v1/embeddings \"HTTP/1.1 200 OK\"\n",
      "INFO:lightrag:Global query uses 79 entites, 60 relations, 3 text units\n",
      "INFO:httpx:HTTP Request: POST https://api.openai.com/v1/chat/completions \"HTTP/1.1 200 OK\"\n"
     ]
    },
    {
     "name": "stdout",
     "output_type": "stream",
     "text": [
      "### Exploring Australian Impressionism \n",
      "\n",
      "Having just delved into Claude Monet's famous **Water Lilies** series, it's exciting to shift your focus towards the fascinating realm of **Australian Impressionism**. This movement emerged as Australian artists adopted and adapted Impressionist styles, creating works that reflect their unique landscapes and experiences. Here are some notable artists and their significant works that you'll find captivating.\n",
      "\n",
      "#### Tom Roberts\n",
      "**Tom Roberts** is often considered a leading figure within the Australian Impressionists. His work *The Big Picture* is particularly noteworthy as it beautifully encapsulates Australian life and landscape. His keen interest in capturing sunlight and atmosphere offers a subtle parallel to Monet's exploration of light.\n",
      "\n",
      "#### Arthur Streeton\n",
      "*Golden Summer, Eaglemont* is one of **Arthur Streeton**'s iconic landscape pieces. This painting showcases the vibrant colors and light that characterize Australian scenery, reflecting the essence of Impressionism while celebrating Australia's natural beauty.\n",
      "\n",
      "#### Walter Withers\n",
      "**Walter Withers** is celebrated for his remarkable landscape paintings. His work, *A Quiet Afternoon*, exemplifies the serene beauty of the Australian countryside, capturing the essence of light influence that is also present in Monet's pieces.\n",
      "\n",
      "#### E. Phillips Fox\n",
      "**E. Phillips Fox** often painted scenes depicting everyday life, much akin to his European counterparts. His painting *The Calm* illustrates the influence of Impressionism, with a focus on an Australian beach setting filled with light and color.\n",
      "\n",
      "#### Frederick McCubbin\n",
      "More narrative driven, **Frederick McCubbin**'s *Lost* offers a deep, contemplative piece that showcases not only the landscape but also integrates human emotion into the natural experience. His work reflects the merging of storytelling and Impressionist technique.\n",
      "\n",
      "### Conclusion\n",
      "Engaging with these artists and their works will not only deepen your appreciation for the Impressionist movement but also highlight how these Australian painters interpreted and transformed the traditional styles to fit their unique context. Exploring these pieces will provide a rich connection akin to what you’ve experienced with Monet's works. Enjoy your journey into Australian Impressionism!\n"
     ]
    }
   ],
   "source": [
    "query = \"I have just looked at Monet's water lillies. I am intereted in australian impressionists. What art pieces do you recommend I look at next?\"\n",
    "print(rag.query(query, param=QueryParam(mode=\"hybrid\")))"
   ]
  },
  {
   "cell_type": "code",
   "execution_count": 21,
   "metadata": {},
   "outputs": [
    {
     "name": "stderr",
     "output_type": "stream",
     "text": [
      "INFO:httpx:HTTP Request: POST https://api.openai.com/v1/chat/completions \"HTTP/1.1 200 OK\"\n",
      "INFO:httpx:HTTP Request: POST https://api.openai.com/v1/embeddings \"HTTP/1.1 200 OK\"\n",
      "INFO:lightrag:Local query uses 60 entites, 92 relations, 3 text units\n",
      "INFO:httpx:HTTP Request: POST https://api.openai.com/v1/embeddings \"HTTP/1.1 200 OK\"\n",
      "INFO:lightrag:Global query uses 75 entites, 60 relations, 3 text units\n",
      "INFO:httpx:HTTP Request: POST https://api.openai.com/v1/chat/completions \"HTTP/1.1 200 OK\"\n"
     ]
    },
    {
     "name": "stdout",
     "output_type": "stream",
     "text": [
      "### Exploring the World of Impressionism\n",
      "\n",
      "Impressionism, a revolutionary art movement that began in the late 19th century, is characterized by its unique techniques and themes, focusing on light, color, and everyday subject matter. If you are intrigued by Claude Monet's \"Water Lilies,\" there are numerous related subjects and subtopics that can further enhance your understanding of this influential artistic movement.\n",
      "\n",
      "### Key Artists\n",
      "\n",
      "1. **Claude Monet**: As a foundational figure in Impressionism, Monet's works, including \"Impression, Sunrise\" and \"Water Lilies,\" highlight the characteristics defining the movement, such as the exploration of light and color.\n",
      "\n",
      "2. **Edgar Degas**: Known for his determination to capture movement, particularly in dance, Degas’s work reveals the dynamic aspects of life and the human figure, earning him a significant place within Impressionism.\n",
      "\n",
      "3. **Mary Cassatt**: A prominent female Impressionist, Cassatt focused on women's lives and experiences, portraying them in intimate domestic settings. Her works, such as \"The Child's Bath,\" explore themes of motherhood and female interaction.\n",
      "\n",
      "4. **Pierre-Auguste Renoir**: Noted for his vibrant depictions of social interactions, Renoir's work captures joyous moments of life with a focus on light and color.\n",
      "\n",
      "### Influential Movements and Techniques\n",
      "\n",
      "1. **Post-Impressionism**: Emerging as a reaction against Impressionism, artists such as Vincent van Gogh and Paul Cézanne developed new techniques focusing on emotional expression through color and form. This movement is essential in understanding the evolution of modern art.\n",
      "\n",
      "2. **Impressionist Techniques**: Familiarize yourself with the specific techniques employed by Impressionist artists, such as \"plein air\" painting, which involves creating artwork outdoors to capture natural light and atmosphere effectively. \n",
      "\n",
      "3. **Light Effects**: The exploration of light and its changing qualities is central to Impressionism. Understanding concepts related to light effects and how they influenced color perception in painting will enhance your appreciation of the artworks.\n",
      "\n",
      "### Cultural and Historical Context\n",
      "\n",
      "1. **Women Impressionists**: Investigate the contributions of female artists in the Impressionist movement, including figures like Berthe Morisot and Eva Gonzalès. They provide critical insight into the role of women in the art world during this period, often highlighting domestic themes.\n",
      "\n",
      "2. **The Salon and Art Exhibitions**: The history of art exhibitions, particularly the Paris Impressionist exhibitions from 1874 to 1886, is vital for understanding how Impressionist artists showcased their work independently of traditional institutions like the Académie des Beaux-Arts.\n",
      "\n",
      "3. **Influence of Japanese Art**: The impact of Japanese ukiyo-e prints on Impressionist style and composition is notable. Artists like Monet integrated these influences into their works, demonstrating a fusion of two distinct cultural aesthetics.\n",
      "\n",
      "### Institutions and Collections\n",
      "\n",
      "1. **Musée d'Orsay and Musée Marmottan Monet**: These museums in Paris house significant collections of Impressionist art, including masterpieces by Monet, Degas, and Pissarro, offering visitors a comprehensive view of the movement.\n",
      "\n",
      "2. **The Metropolitan Museum of Art and The Art Institute of Chicago**: Explore major American institutions that boast significant collections of Impressionist art, showcasing the international reach and impact of the movement.\n",
      "\n",
      "3. **Exhibitions and Publications**: Engage with contemporary exhibitions and scholarly publications about Impressionism. These resources provide ongoing dialogue and insight into the movement's significance and legacy.\n",
      "\n",
      "### Conclusion\n",
      "\n",
      "Exploring these subjects will deepen your understanding of Impressionism and its vibrant figures. Each aspect, from specific artists to the historical context and cultural influences, contributes to a richer appreciation of this transformative art movement. Delve into the world of Impressionism, and you’ll find a treasure trove of colors, emotions, and groundbreaking perspectives that continue to inspire artists and art lovers today.\n"
     ]
    }
   ],
   "source": [
    "query = \"I have just looked at Monet's water lillies. I am interested in learning more about impressionism. What are some related subjects or subtopics I should explore next?\"\n",
    "print(rag.query(query, param=QueryParam(mode=\"hybrid\")))"
   ]
  }
 ],
 "metadata": {
  "kernelspec": {
   "display_name": ".venv",
   "language": "python",
   "name": "python3"
  },
  "language_info": {
   "codemirror_mode": {
    "name": "ipython",
    "version": 3
   },
   "file_extension": ".py",
   "mimetype": "text/x-python",
   "name": "python",
   "nbconvert_exporter": "python",
   "pygments_lexer": "ipython3",
   "version": "3.11.10"
  }
 },
 "nbformat": 4,
 "nbformat_minor": 2
}
