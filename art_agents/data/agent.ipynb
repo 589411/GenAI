{
 "cells": [
  {
   "cell_type": "code",
   "execution_count": null,
   "metadata": {},
   "outputs": [
    {
     "name": "stdout",
     "output_type": "stream",
     "text": [
      "sk-proj-TJ6i4bMNh5THXKCylN2ET3BlbkFJ08A0yVQJS04pxmGc3zrY\n"
     ]
    }
   ],
   "source": [
    "from langchain_openai import ChatOpenAI\n",
    "import os\n",
    "from langchain.agents import tool\n",
    "from dotenv import load_dotenv\n",
    "\n",
    "load_dotenv()\n",
    "\n",
    "@tool\n",
    "def \n",
    "\n",
    "llm = ChatOpenAI(model=\"gpt-3.5-turbo\", temperature=0)"
   ]
  },
  {
   "cell_type": "code",
   "execution_count": 4,
   "metadata": {},
   "outputs": [
    {
     "name": "stdout",
     "output_type": "stream",
     "text": [
      "\u001b[31mERROR: pip's dependency resolver does not currently take into account all the packages that are installed. This behaviour is the source of the following dependency conflicts.\n",
      "langchain-experimental 0.0.65 requires langchain-community<0.3.0,>=0.2.16, but you have langchain-community 0.3.7 which is incompatible.\n",
      "langchain-experimental 0.0.65 requires langchain-core<0.3.0,>=0.2.38, but you have langchain-core 0.3.19 which is incompatible.\u001b[0m\u001b[31m\n",
      "\u001b[0mNote: you may need to restart the kernel to use updated packages.\n"
     ]
    }
   ],
   "source": [
    "%pip install --upgrade --quiet  langchain langchain-community langchain-openai"
   ]
  },
  {
   "cell_type": "code",
   "execution_count": null,
   "metadata": {},
   "outputs": [],
   "source": [
    "import getpass\n",
    "import os\n",
    "\n",
    "os.environ[\"OPENAI_API_KEY\"] = getpass.getpass()"
   ]
  },
  {
   "cell_type": "code",
   "execution_count": 2,
   "metadata": {},
   "outputs": [],
   "source": [
    "from pprint import pprint\n",
    "\n",
    "import sqlalchemy as sa\n",
    "from langchain_community.utilities import SQLDatabase\n",
    "\n",
    "db = SQLDatabase.from_uri(\"sqlite:///wikiart-copy.db\")"
   ]
  },
  {
   "cell_type": "code",
   "execution_count": 3,
   "metadata": {},
   "outputs": [
    {
     "name": "stdout",
     "output_type": "stream",
     "text": [
      "<class 'sqlalchemy.engine.cursor.CursorResult'>\n",
      "[{'id': 1, 'name': 'Jeffrey Smart', 'slug': '/en/jeffrey-smart', 'wikipedia_article': 'Frank Jeffrey Edson Smart, AO (26 July 1921\\xa0– 20 June 2013) was an expatriate Australian painter known for his precisionist depictions of urban landscapes that are \"full of private jokes and playful allusions\".\\r Smart was born and educated in Adelaide where he worked as an Art teacher. After departing for Europe in 1948 he studied in Paris at La Grande Chaumière, and later at the Académie Montmartre under Fernand Léger. He returned to Australia 1951, living in Sydney, and began exhibiting frequently in 1957. In 1963, he moved to Italy. After a successful exhibition in London, he bought a rural property called \"Posticcia Nuova\" near Arezzo in Tuscany. He resided there with his partner until his death.\\r His autobiography, Not Quite Straight, was published in 1996. A major retrospective of his works travelled around Australian art galleries 1999–2000.\\r Jeff Smart, as he was generally known for the first thirty years of his life, was born in Adelaide in 1921. He started drawing at an early age. \"My parents would give me large sheets of paper, often the backs of posters or calendars\\xa0... anything\". He was educated at Pulteney Grammar School and Unley High School, and originally wanted to become an architect. However, after studying at the Adelaide Teachers College and the South Australian School of Art and Crafts in 1937–1941, he taught art in schools for the South Australian Education Department in 1942–1947. In the early 1940s he accompanied local maritime artist, John Giles, in painting industrial landscapes at Port Adelaide. He joined the Royal South Australian Society of Arts around 1941 and was elected vice-president in 1950. It was during this period that he acknowledged his homosexuality.\\r Smart travelled to Europe in 1948, studying in Paris at La Grand Chaumière and later the Académie Montmartre under Fernand Léger. \"As my technique grew, I found I could paint those things I liked looking at, those slum streets behind the city apartments\". In 1950 he lived on the island of Ischia in the bay of Naples, where he painted with Donald Friend, Michael Shannon and Jacqueline Hick.\\r In 1951, he moved to Sydney and spent the next 2 years there as an art critic for the Daily Telegraph (1952–54), an arts compere called Phidias for the ABC children\\'s radio programme The Argonauts, and a drawing teacher at the National Art School (1956–62). From 1956 to 1962, he also presented on ABC-TV\\'s Children\\'s Hour. Smart was also employed by The King\\'s School, Parramatta in 1954–56 as an Art teacher, following Jean Bellette (known as Mrs Haefliger) and John Passmore. He exhibited throughout this period at the Macquarie Galleries.\\r Smart departed Australia for London on the Castel Felice out of Sydney just after Christmas 1963, driving to Greece with fellow painter Justin O\\'Brien. In 1965 he returned to Italy, and lived there for the rest of his life, regarding himself as an \"Australian living abroad\" and carrying an Australian passport. His last work, \"Labyrinth\", was completed in 2011, at which point he announced his retirement.\\r Smart died of renal failure in Arezzo on 20 June 2013, aged 91.', 'wikipedia_url': 'https://en.wikipedia.org/wiki/Jeffrey_Smart', 'article': 'Jeffrey Smart was an expatriate Australian painter acclaimed for his precisionist urban and industrial landscapes. He applied a sharply defined style and hypergeometric compositional logics to the realist depiction of cityscapes. Smart spent most of his artistic life in Italy. There, he developed a peculiar aesthetic that combined a modernist visual vocabulary, originated in the context of 1940s Australian and American Modernism, with references to High Renaissance art and deeply personal meanings. Road signs, oil drums and  blank façades of ordinary buildings are the most recurring elements in Smart\\'s puzzling landscapes. With their absolute clarity, linearity and stillness, Smart\\'s works are infused with mystery, mood, and ambiguity, inviting the viewer to contemplate on the symbolic meaning of everyday objects. Smart was born in Adelaide in 1921. His early fascination with drawing, architecture, and painting led him to enter the Adelaide Teachers College in 1939 and enroll part-time on the South Australian School of Arts and Crafts. In this period, Smart visited the studio of Adelaide-based artist Dorrit Black, who introduced him to the rules of dynamic symmetry, as seen in the work of the Old Masters and developed by avant-garde artists such as Cézanne, Braque, and Léger. The 1940s were a period of artistic growth and raise to fame for Smart, who started to exhibit in group shows alongside other emergent Australian artists, including Jacqueline Hick and Horace Trennery, and was given in his first solo show at Kosminsky Gallery in Melbourne in 1944. Smart described his works from this early period as \"snippets of nature\" that required no more than three or four hours to complete. Water towers (1944) and Keswick Siding (1945) exemplify Smart\\'s early sketchy style and use of earth tones. In 1945, Smart painted The Waste Land I (1945) and The Waste Land II (1945). These desolate rural views, inspired by T.S. Eliot\\'s poem of the same name, point to the development of the artist’s distinctive hyper-clear and timeless version of landscape painting. Between 1948 and 1950, Smart travelled to America and Europe, and then moved in Paris in 1949 to study at the Académie Montmartre under Fernand Léger. His several visits to European museum collections in this period will bring Smart to become particularly fascinated with the art of Giovanni Bellini, Giorgione, and especially Piero della Francesca, whose clarity of forms and rigorous use of perspective will influence Smart\\'s works indelibly. Upon his return to Australia in 1951, the artist settled in Sydney, where he will remain for the next twelve years. In the same year he won the Commonwealth Jubilee Prize for his painting Wallaroo (1951). This scene of daily life from the copper-mining Australian town of Wallaroo was praised for its atmospheric effect and balanced composition. During his years in Sydney, Smart also worked as an art teacher and art critic at the Daily Telegraph while continuing to paint landscapes. Works from this period, such as Cooper Park I (1962) and The Cahil Expressway (1962) mark the beginning of Smart\\'s mature style, characterized by an increased hyper-clarity and meticulously crafted compositions. The 1963 was a crucial year in the artistic and personal life of the artist, who resumed his travels around Europe and permanently moved to Rome with Australian artist and partner Ian Bent. Throughout the 1960s and 1970s, Smart\\'s artistic career gained momentum thanks to prominent solo shows and exhibitions in his homeland and around the world, such as the 1967 solo exhibition at the Redfern Gallery in London and the inclusion in the American touring group show The Australian painters 1964- 1966: Contemporary Australian Painting from the Mertz Collection. Between 1969 and 1970, Smart painted his largest work, City landscapes (1969-1970), a series of panels for the dining-room of the Sydney house of Tony and Sandra McGrath. The commission was designed and overseen by Smart, but Ian Bent executed much of the details. The mural depicts a tall hedge of yellow, withering spikes blocking the view into a bleak cityscape delimited by a leaden, threatening sky.  In 1971, Smart purchased a farmhouse in Posticcia Nuova in the countryside of Arezzo, a small town in Tuscany, where he will remain for the rest of his life. The move to Tuscany marks the beginning of the most prolific period in the artist\\'s career. Starting from the 1970s, Smart dedicated himself to interpreting the landscape of modern Italy, mixing his own personal and imaginary relationship with the land with a crystal-clear recording of precise details of climate, life, and landscape. Paintings from the 1970s and 1980s, such as The Arezzo turn-off II (1973) and The Dome (1977), show repeating architectural motifs, geometric shapes, and highly-controlled patterns of light and shadow as guiding principles in the creation of rigidly structured compositions. While most of Smart\\'s artistic production includes landscapes, in the 1980s and early 1990s the artist also worked on a small number of portraits and self-portraits, in which he staged a stark contrast between accurate likenesses and visionary urban contexts, as seen in Portrait of Germaine Greer (1984), Self-portrait at Papini’s (1984-1985), and Portrait of Clive James (1991-92). A sketch the artist took during a train journey of the platform at the English station of Ashford transformed into Matisse at Ashford (2004), one of his most relevant works from his later years. Struck by the motif of a series of posters advertising an exhibition of Matisse’s cut-outs, Smart later reworked this fleeting recollection into a rigid grid of horizontal and vertical lines dominated by the rhythmic arrangement of the billboards and a cool palette. The artist died in Arezzo in 2013 at the age of ninety-two. Even though he lived as an expatriate for most of his life, the majority his works is now housed by Australian museums and galleries.by Caterina Franciosi'},\n",
      " {'id': 2, 'name': 'Dorrit Black', 'slug': '/en/dorrit-black', 'wikipedia_article': '  Dorothea Foster Black  (23 December 1891 – 13 September 1951) was an Australian painter and printmaker of the Modernist school, known for being a pioneer of Modernism in Australia.  She was born in the Adelaide suburb of Burnside, the daughter of engineer and architect Alfred Barham Black and Jessie Howard Clark, an amateur artist and daughter of John Howard Clark, editor of the South Australian Register. She attended the South Australian School of Arts and Crafts in about 1909, working in watercolors, and attended  Julian Ashton\\'s Sydney Art School in 1915, concentrating on working in oils.  In 1927, Black went to London and attended the Grosvenor School of Modern Art, where she experimented with colour linocut printing while studying under Claude Flight. In 1928, she studied at André Lhote\\'s Academy in Paris  and his summer school, and in 1929 with Albert Gleizes, both strong proponents of Cubism.  Black was strongly influenced by the Modernist and Cubist art movements she was exposed to in London and Paris. By the time she returned to Australia, Black had become an active proponent of the Cubist style.  She brought the styles back to Australia with her in 1929, and held an exhibition at Macquarie Galleries in Sydney in 1930, the first of six one-woman shows which were to feature her work.  Dorrit Black was interested in creating an environment that would enable others to work in the new styles. She established the Modern Art Centre in Margaret Street, Sydney in 1931, the first gallery in Australia to devote itself to modernism. It was also one of the first galleries in Australia to be established by a woman. Over the next few years, the Modern Art Centre became a \"source of inspiration and opening to a wider vision\" to artists such as Nancy Hall. It hosted small but significant exhibitions by artists who became important proponents of Australian modernism, including Roland Wakelin, Grace Crowley, Grace Cossington Smith, Ralph Balson and Rah Fizelle.  Black created most of her linocuts in the 1930s. She worked mainly in water-colours in the late 1930s and then returned to working in oils. She settled in Adelaide, South Australia, in the late 1930s with her ageing mother, and painted many landscapes of the Adelaide hills and the south coast.  She is noted for her painting of the Sydney Harbour Bridge as it was being constructed. Black was a finalist for the Archibald Prize for portraiture in 1931.  The Art Gallery of South Australia purchased her work Mirmande (1928) in 1940.  Dorrit Black died in the Royal Adelaide Hospital on 13 September 1951, at the age of 59, after a car accident. Her body was cremated following a Unitarian service.  Her work was described by critic  Ivor Francis as:\"... deeply respected by the more informed section of Adelaide artists. She has so consistently been artistically cold-shouldered and ignored since her return here about 20 years ago that it is amazing how she maintained the courage to fight on against so much prejudice and misunderstanding. Regarded as not sufficiently \"advanced\" by one section, and too \"modern\" by the other, it will be many years before her exceptional talent can be properly appreciated in its right perspective, as it most certainly will be.\"', 'wikipedia_url': 'https://en.wikipedia.org/wiki/Dorrit_Black', 'article': ''},\n",
      " {'id': 3, 'name': 'Jacqueline Hick', 'slug': '/en/jacqueline-hick', 'wikipedia_article': '', 'wikipedia_url': '', 'article': ''},\n",
      " {'id': 4, 'name': 'Ancient Greek Painting and Sculpture', 'slug': '/en/ancient-greek-painting', 'wikipedia_article': '', 'wikipedia_url': '', 'article': 'Very little is known of the Greek painters in ancient times, however, it is well know the mastery they could reach, by descriptions of some Roman writers. The Roman copies of Greek paintings also provide valuable information, since they greatly appreciate Greek techniques and styles, copying and reproducing them.The most common and respected form of art, according to authors like Pliny or Pausanias, were panel paintings, individual, portable paintings on wood boards. The techniques used were encaustic (wax) painting and tempera. Such paintings normally depicted figural scenes, including portraits and still-lifes. Unfortunately, due to the perishable nature of the materials used and the major upheavals at the end of antiquity, not one of the famous works of Greek panel painting has survived, nor even any of the copies that doubtlessly existed, and which give us most of our knowledge of Greek sculpture. We have slightly more significant survivals of mural compositions. The most important surviving Greek examples from before the Roman period are the fairly low-quality Pitsa panels (c. 530 BC), and the Tomb of the Diver from Paestum (c.470 BC). The tradition of wall painting in Greece goes back at least to the Minoan and Mycenaean Bronze Age, with the lavish fresco decoration of sites like Knossos, Tiryns and Mycenae. It is not clear, whether there is any continuity between these antecedents and later Greek wall paintings.Most Greek sculptures were painted in strong and bright colors; this aspect of Greek stonework is described as polychromy. The paint was frequently limited to parts depicting clothing, hair, and so on, with the skin left in the natural color of the stone or bronze, but it could also cover sculptures in their totality; female skin in marble tended to be uncoloured, while male skin might be a light brown. The painting of Greek sculpture should not merely be seen as an enhancement of their sculpted form, but has the characteristics of a distinct style of art. Basing on micropigment remains on greek relief and sculptures, it have been possible to obtain a representation on how they must have been look like in ancient times.'},\n",
      " {'id': 5, 'name': 'Mary Blair', 'slug': '/en/mary-blair', 'wikipedia_article': 'Mary Blair (born Mary Browne Robinson; October 21, 1911 – July 26, 1978) was an American artist, animator, and designer who was prominent in producing art and animation for The Walt Disney Company, drawing concept art for such films as Alice in Wonderland, Peter Pan, Song of the South and Cinderella. Blair also created character designs for enduring attractions such as Disneyland\\'s It\\'s a Small World, the fiesta scene in El Rio del Tiempo in the Mexico pavilion in Epcot\\'s World Showcase, and an enormous mosaic inside Disney\\'s Contemporary Resort. Several of her illustrated children\\'s books from the 1950s remain in print, such as I Can Fly by Ruth Krauss. Blair was inducted into the prestigious group of Disney Legends in 1991.\\r Born on October 21, 1911, in McAlester, Oklahoma, Mary Browne Robinson moved to Texas while still a small child, and later to the city of Morgan Hill, California in the early 20s. After graduating from San Jose State University which she attended from 1929 to 1931, Mary won a scholarship to the Chouinard Art Institute in Los Angeles, where artists such as Pruett Carter, Morgan Russell and Lawrence Murphy were among the teachers. She graduated from Chouinard in 1933. In 1934 shortly after college, she married another artist, Lee Everett Blair (October 1, 1911 – April 19, 1993). She was the sister-in-law of animator Preston Blair (1908–95). Along with her husband Lee, she became a member of the California School of Watercolor and quickly became known for being an imaginative colorist and designer.\\r Blair\\'s first professional job in the animation industry was as an animator with Metro-Goldwyn-Mayer. She would soon leave and join Lee Blair at the Ub Iwerks studio before moving to Disney. In the 1930s she was also a part of the innovative California Water-Color Society\\r Blair joined The Walt Disney Company—initially with some reluctance— in 1940, and worked briefly on art for Dumbo, an early version of Lady and the Tramp, and a second version of Fantasia titled \"Baby Ballet\" which was not released until the late 1990s.\\r After leaving the studio for a short time in 1941, Blair travelled to various South American countries with Walt Disney, Lillian Disney and other artists on a research tour. as part of the Good Neighbor policy of the President Franklin D. Roosevelt. Her watercolors impressed Disney, who appointed her as an art supervisor for the animated feature films Saludos Amigos and The Three Caballeros.\\r Blair first began animation and color design on major films in 1943 and would continue to work on animated films for Disney for a full decade. Her work with animation did not end there however as after that, she worked on several package films, excluding Fun and Fancy Free, and on two partially animated features—Song of the South and So Dear to My Heart. The early 1950s were a busy time for the Disney studio, with an animated feature released nearly every year. Mary Blair was credited with color styling on Cinderella (1950), Alice in Wonderland (1951) and Peter Pan (1953), and the artistic influence of her concept art is strongly felt in those films, as well as in several animated shorts, including Susie the Little Blue Coupe and The Little House, she designed during that period.', 'wikipedia_url': 'https://en.wikipedia.org/wiki/Mary_Blair', 'article': ''},\n",
      " {'id': 6, 'name': 'Alphonse Allais', 'slug': '/en/alphonse-allais', 'wikipedia_article': 'Alphonse Allais (20 October 1854 – 28 October 1905) was a French writer and humorist, who was born in Honfleur, Calvados, and who died in Paris.\\r He is the author of many collections of whimsical writings. A poet as much as a humorist, he cultivated the verse form known as holorhyme, i.e. made up entirely of homophonous verses, where entire lines are pronounced the same. For example:\\r Allais wrote the earliest known example of a completely silent musical composition. His Funeral March for the Obsequies of a Great Deaf Man of 1897 consists of twenty-four blank measures. It predates similarly silent but intellectually serious works by John Cage and Erwin Schulhoff by many years. His prose piece \"Story for Sara\" was translated and illustrated by Edward Gorey.\\r Allais participated in humorous exhibitions, including those of the Salon des Arts Incohérents of 1883 and 1884, held at the Galerie Vivienne. At these, inspired by his friend Paul Bilhaud\\'s 1882 exhibit of an entirely black painting entitled \"Negroes fight in a tunnel\" (which he later reproduced with a slightly different title), Allais exhibited arguably some of the earliest examples of monochrome painting: for instance his plain white sheet of Bristol paper Première communion de jeunes filles chlorotiques par un temps de neige (First Communion of Anemic Young Girls In The Snow) (1883), and a similar red work Apoplectic Cardinals Harvesting Tomatoes on the Shore of the Red Sea (Aurora Borealis Effect) (1884). Allais published his Album primo-avrilesque in 1897, a monograph with seven monochrome artworks, accompanied by the score of his silent funeral march. (Bilhaud was not the first to create an all-black artwork: for example, Robert Fludd published an image of \"Darkness\" in his 1617 book on the origin and structure of the cosmos; and Bertall published his black Vue de La Hogue (effet de nuit) in 1843.)\\r In the subsequent exhibitions of the Incoherent arts (also in the 1880s) the writer Alphonse Allais proposed other monochrome paintings, such as \"Première communion de jeunes filles chlorotiques par un temps de neige\" (\"First communion of anaemic young girls in the snow\", white), or \"Récolte de la tomate par des cardinaux apoplectiques au bord de la Mer Rouge\" (\"Tomato harvesting by apoplectic cardinals on the shore of the Red Sea\", red). However, this kind of activity bears more similarity to 20th century Dada, or Neo-Dada, and particularly the works of the Fluxus group of the 1960s, than to 20th century monochrome painting since Malevich.\\r While consuming absinthe at café tables, Allais wrote 1600 newspaper and magazine pieces, and co-founded the Club of the Hydropaths (those allergic to water).\\r He died in Paris.\\r A film based on his novel L\\'Affaire Blaireau appeared in 1958 as Neither Seen Nor Recognized . Earlier versions with the same title as the original novel appeared in 1923 and 1932.\\r Miles Kington, humorous writer and musician, translated some of Allais\\' pieces into idiomatic English as The World of Alphonse Allais (UK). In the United States, Doug Skinner has translated seven books by Allais, including Captain Cap and his only novel', 'wikipedia_url': 'https://en.wikipedia.org/wiki/Alphonse_Allais', 'article': ''},\n",
      " {'id': 7, 'name': 'Roman Cotosman', 'slug': '/en/roman-cotosman', 'wikipedia_article': '', 'wikipedia_url': '', 'article': 'Roman Cotoșman was a member of the Timișoara-based group 111 (1966-1969). After having exhibited with the rest of the group at the Nürnberg Biennale für konstruktive Kunst in 1969, he used the opportunity to exile himself and move to Philadelphia, United States of America. The other members of the 111 group would found instead the Sigma group - the two groups occupying an important place in Romanian post-war art. '},\n",
      " {'id': 8, 'name': 'Ancient Egypt', 'slug': '/en/ancient-egyptian-painting', 'wikipedia_article': '', 'wikipedia_url': '', 'article': ''},\n",
      " {'id': 9, 'name': 'Eugene von Guerard', 'slug': '/en/eugene-von-guerard', 'wikipedia_article': 'Johann Joseph Eugene von Guérard (17 November 1811\\xa0– 17 April 1901) was an Austrian-born artist, active in Australia from 1852 until 1882. Known for his finely detailed landscapes in the tradition of the Düsseldorf school of painting, he is represented in Australia\\'s major public galleries, and is referred to in the country as Eugene von Guerard.\\r Born in Vienna, Austria, von Guerard toured Italy with his father (a painter of miniatures at the court of Emperor Francis I of Austria) from 1826, and between 1830 and 1832 resided in Rome, where he became involved with a number of German artists. The foremost landscape painter amongst these so-called \"Deutsch Römer\" was Johann Anton Koch, but he also met there members of the Lukasbund, a group of young German breakaway artists known as the Nazarenes, From 1841 he studied landscape painting in Germany at the Kunstakademie Düsseldorf and travelled widely. Von Guerard\\'s personal artistic style was formed by his first teacher, his miniaturist father with whom he travelled throughout Italy. Other influences ascribed to von Guerard are Claude Lorrain, Nicolas Poussin and Salvator Rosa. During his studies at the Düsseldorf Academy he absorbed the new criterion for German art promoted by his landscape lecturer Johann Wilhelm Schirmer under the directorship of ex-Nazaren member Wilhelm von Schadow: to present \"elevated\" subject matter in the style of a new \"truthful\"\\' realism. The Düsseldorf style of painting combined concepts of prevailing trends: Historicism, a lingering Romanticism and a new visually based Realism that required taking observations from nature. Von Guerards Australian landscapes show his sensitive perception of the Australian landscape, whilst his stylistic methodology exemplifies the confluence of various styles derived from his European artistic heritage.\\r In 1852 von Guerard arrived in Victoria, Australia, determined to try his luck on the Victorian goldfields. As a gold-digger he was unsuccessful, but he did produce a large number of intimate studies of goldfields life, quite different from the deliberately awe-inspiring landscapes for which he was later to become famous. Realising that there were opportunities for an artist in Australia, he abandoned the diggings and was soon undertaking commissions recording the dwellings and properties of wealthy pastoralists.\\r By the early 1860s von Guerard was recognised as the foremost landscape artist in the colonies, touring Southeast Australia and New Zealand in pursuit of the sublime and the picturesque. He is most known for the wilderness paintings produced during this time, which are remarkable for their shadowy lighting and fastidious detail. Indeed, his view of Tower Hill in south-western Victoria was used as a botanical template over a century later when the land, which had been laid waste and polluted by agriculture, was systematically reclaimed, forested with native flora and made a state park. The scientific accuracy of such work has led to a reassessment of von Guerard\\'s approach to wilderness painting, and some historians believe it likely that the landscapist was strongly influenced by the environmental theories of the leading scientist Alexander von Humboldt. Others attribute his \\'truthful representation\\' of nature to the criterion for figure and landscape painting set by the Düsseldorf Academy.', 'wikipedia_url': 'https://en.wikipedia.org/wiki/Eugene_von_Guerard', 'article': ''},\n",
      " {'id': 10, 'name': 'George Folingsby', 'slug': '/en/george-folingsby', 'wikipedia_article': \"  George Frederick Folingsby (23 August 1828 – 4 January 1891) was an Irish-born Australian painter and art educator.  Folingsby was born in the County of Wicklow, Ireland. At the age of 18 he emigrated to Canada. Later he went to New York City, studied drawing and contributed illustrations to magazines of the day, including Harper's Magazine. In 1852 he went to Munich and spent two years at the drawing school of the Royal Academy. He then went to Paris and for a few months was a pupil of Thomas Couture. Returning to Munich he worked for five years under Carl von Piloty.  In 1864, Folingsby's picture Bunyan in prison, was purchased by the National Gallery of Victoria. He continued to live in Munich but occasionally exhibited in Ireland and England; his The first lesson was hung in the Royal Academy in 1869 and Lady Jane’s victory over Bishop Gardener in 1871. He was awarded medals for historical paintings at the exhibitions held at Vienna in 1871 and Philadelphia in 1873.   Folingsby arrived in Melbourne, Australia with his ten-year-old daughter, on 1 July 1879.  His reputation as a figure painter preceded him and he was quickly sought after as a portraitist, making a living from commissions of eminent members of Melbourne society.  Folingsby was offered the position of Master in the School of Painting at the gallery and was appointed on 1 June 1882.   In September of that year, he was appointed as the first Director of the National Gallery of Victoria and reorganized the painting school. The practice of making copies of pictures ceased and every encouragement was given to working from life.   Among his pupils were John Longstaff and Aby Altson, the winners of the first and second travelling scholarships, and Iso Rae.  After the death of Folingsby, Lindsay Bernard Hall was appointed Director of the National Gallery of Victoria.\", 'wikipedia_url': 'https://en.wikipedia.org/wiki/George_Folingsby', 'article': ''},\n",
      " {'id': 11, 'name': 'Frederick McCubbin', 'slug': '/en/frederick-mccubbin', 'wikipedia_article': 'Frederick McCubbin (25 February 1855 – 20 December 1917) was an Australian artist and prominent member of the Heidelberg School art movement, also known as Australian Impressionism.\\r McCubbin was born in Melbourne, the third of eight children of baker Alexander McCubbin (from Ayrshire, Scotland) and his English wife Anne, née McWilliams. McCubbin was educated at William Willmett\\'s West Melbourne Common School and St Paul\\'s School, Swanston Street. He later worked for a time as solicitor\\'s clerk, a coach painter and in his family\\'s bakery business while studying art at the National Gallery of Victoria\\'s School of Design, where he met Tom Roberts and studied under Eugene von Guerard. He also studied at the Victorian Academy of the Arts and exhibited there in 1876 and again from 1879 to 1882, selling his first painting in 1880. In this period, after the death of his father, he became responsible for running the family business.\\r By the early 1880s, McCubbin\\'s work began to attract considerable attention and won a number of prizes from the National Gallery, including a first prize in 1883 in their annual student exhibition. By the mid-1880s he concentrated more on painting the Australian bush, the works for which he became notable.\\r In 1883, McCubbin received first prize in the first annual Gallery students\\' exhibition, for best studies in colour and drawing. In 1888, he became instructor and master of the School of Design at the National Gallery. In this position he taught a number of students who themselves became prominent Australian artists, including Charles Conder and Arthur Streeton.\\r McCubbin married Annie Moriarty in March 1889. They had seven children, of whom their son Louis McCubbin became an artist and director of the Art Gallery of South Australia 1936–1950. A grandson, Charles, also became an artist.\\r In 1901 McCubbin and his family moved to Mount Macedon, transporting a prefabricated English style home up onto the northern slopes of the mountain which they named Fontainebleau. It was in this beautiful setting, in 1904, that he painted The Pioneer, amongst many other works, and this is the only place that McCubbin ever painted fairies. The house survived the Ash Wednesday fires and stands today as a testament to the artist. It was at Macedon that he was inspired by the surrounding bush to experiment with the light and its effects on colour in nature.\\r McCubbin continued to paint through the first two decades of the 20th century, though by the beginning of World War I his health began to fail. He traveled to England in 1907 and visited Tasmania, but aside from these relatively short excursions lived most of his life in Melbourne. There he taught at the National Gallery of Victoria Art School, where his students included painter Hilda Rix Nicholas and the photographer Ruth Hollick.\\r In 1912 he became the founding member of the Australian Art Association.\\r McCubbin died in 1917 from a heart attack.\\r \"McCubbin creates an engulfing, claustrophobic landscape by barely suggesting any horizon and compressing midground and background. In contrast, the bush folk are portrayed as heroic figures.\"', 'wikipedia_url': 'https://en.wikipedia.org/wiki/Frederick_McCubbin', 'article': 'Frederick McCubbin was one of the founding members of the Heidelberg School, an art movement related to Australian Impressionism. McCubbin rose to prominence for his depictions of pioneer life that captured the aspirations and the hardships of living in the Australian bush. Paintings such as Down on his luck (1889), On the Wallaby Track (1896), and The pioneer (1904) are considered images of national significance and masterpieces of Australian art.Frederick McCubbin was a son of a baker who immigrated to Australia in 1852. He grew up in working-class Melbourne and witnessed the city’s rapid growth and development. McCubbin trained, worked, and lived in the Melbourne area for the entirety of his life. Therefore, the area played a central role in his art, serving as the setting for many of his paintings. McCubbin began his formal training when he enrolled in evening classes at the Artisan’s School of Design in Carlton. Later, he attended the National Gallery of Victoria Art School, where he studied under Eugene von Guérard and George Folingsby. During this period, McCubbin developed essential relationships with artists Tom Roberts, Arthur Streeton, and Charles Conder. Together, they established artist’s camps at the outskirts of Melbourne, where they painted outdoors in an attempt to capture the natural environment of the bush. The artists were collectively known as the Heidelberg School because they often painted near the rural area of Heidelberg east of Melbourne.In 1886, McCubbin was appointed as a drawing master at the National Gallery School. The same year he presented himself as a painter in Self portrait (1886), which reflected his feelings of pride and professional accomplishment. The appointment was also personally significant since the secure income allowed McCubbin to marry and stay in Australia. He got married in 1889, and over the following 17 years, the pair had seven children. In 1901, McCubbin bought a cottage at Mount Macedon that he named ‘Fountainbleau,’ an homage to the painters of the Barbizon School who painted near the forest of Fountainbleau. This area inspired McCubbin to create some of his greatest works, among them Bush Sawyers (1910) and Violet and gold (1911). In 1907, the artist traveled to Europe, where he saw many paintings that he long admired through reproductions. After his return from Europe, McCubbin developed his mature style that became more akin to Impressionism. His brushwork became looser and more expressive, as evident in paintings like Violet and gold and Collins Street (ca. 1915). In these paintings, his chief concern was depicting varying light effects during different seasons and times of the day. These later paintings were also more intimate than his earlier historical paintings that depicted pioneers in the bush. In May 1916, The art of Frederick McCubbin was one of the first significant art books published in Australia. It was a sign of his success and the recognition he received during his lifetime. A year later, on December 20th, 1917, McCubbin died of a heart attack.'},\n",
      " {'id': 12, 'name': 'Tom Roberts', 'slug': '/en/tom-roberts', 'wikipedia_article': 'Thomas William \"Tom\" Roberts (8 March 1856\\xa0– 14 September 1931) was a British-born Australian artist and a key member of the Heidelberg School, also known as Australian Impressionism. After attending art schools in Melbourne, he left for Europe in 1881 to further his training, and returned home in 1885, \"primed with whatever was the latest in art\". He did much to promote en plein air painting and encouraged other artists to capture the national life of Australia. While he is best known for his \"national narratives\", among them Shearing the Rams (1890), A break away! (1891) and Bailed Up (1895), he also achieved renown as a portraitist.\\r Roberts was born in Dorchester, Dorset, England, although some mystery surrounds his actual birthdate: his birth certificate says 8 March 1856, whereas his tombstone is inscribed 9 March.\\r Roberts migrated with his family to Australia in 1869 to live with relatives. Settling in Collingwood, a suburb of Melbourne, Victoria. He worked as a photographer\\'s assistant through the 1870s, while studying art at night under Louis Buvelot and befriending others who were to become prominent artists, notably Frederick McCubbin.\\r During this period, his mother had remarried to a man whom Roberts did not get on with. He hence decided to further his art studies, and returned to England for three years of full-time art study at the Royal Academy Schools from 1881 to 1884. He traveled in Spain in 1883 with Australian artist John Peter Russell, where he met Spanish artists Laureano Barrau and Ramon Casas who introduced him to the principles of Impressionism and plein air painting. While in London and Paris, he took in the progressing influence of painters Jules Bastien-Lepage and James Abbott McNeill Whistler.\\r Through the 1880s and 1890s Roberts worked in Victoria, in his studio at the famous studio complex of Grosvenor Chambers at 9 Collins Street, Melbourne. In 1885 he started painting and sketching excursions to outer suburbs, creating camps at Box Hill and Heidelberg, where he worked alongside McCubbin, Arthur Streeton and Charles Conder, working on representing Australia’s light, heat, space and distance.\\r In 1896 he married 36-year-old Elizabeth (Lillie) Williamson and they had a son, Caleb. Many of his most famous paintings come from this period. Roberts was an expert maker of picture frames, and during the period 1903–1914, when he painted relatively little, much of his income apparently came from this work. Roberts spent World War I in England assisting at a hospital. In Australia, he built a house at Kallista, near Melbourne. Elizabeth died in January 1928, and Roberts remarried, to Jean Boyes, in August 1928. He died in 1931 of cancer in Kallista near Melbourne. His ashes are buried in the churchyard at Illawarra near Longford, Tasmania.\\r Roberts painted a considerable number of fine oil landscapes and portraits, some painted at artist camps with his friend McCubbin. Perhaps the most famous in his time were two large paintings, Shearing the Rams, now displayed in the National Gallery of Victoria and The Big Picture, displayed in Parliament House, Canberra. The Big Picture, a depiction of the first sitting of the Parliament of Australia, was an enormous work, notable for the event depicted as well as the quality of Roberts\\' work.', 'wikipedia_url': 'https://en.wikipedia.org/wiki/Tom_Roberts', 'article': ''}]\n"
     ]
    }
   ],
   "source": [
    "result = db.run(\"SELECT * FROM Artist LIMIT 12;\", fetch=\"cursor\")\n",
    "print(type(result))\n",
    "pprint(list(result.mappings()))"
   ]
  },
  {
   "cell_type": "markdown",
   "metadata": {},
   "source": [
    "# Define a SQL Chain"
   ]
  },
  {
   "cell_type": "code",
   "execution_count": 14,
   "metadata": {},
   "outputs": [
    {
     "data": {
      "text/plain": [
       "[{'name': 'execute_query',\n",
       "  'args': {'query': 'SELECT name FROM artists LIMIT 1;'},\n",
       "  'id': 'call_lfH9K1TbcMnsJK0cUxe04De2',\n",
       "  'type': 'tool_call'}]"
      ]
     },
     "execution_count": 14,
     "metadata": {},
     "output_type": "execute_result"
    }
   ],
   "source": [
    "from langchain_core.tools import tool\n",
    "from langchain_openai import ChatOpenAI\n",
    "from dotenv import load_dotenv\n",
    "from sqlalchemy import inspect\n",
    "from sqlmodel import create_engine\n",
    "\n",
    "from sqlalchemy.sql import text\n",
    "\n",
    "load_dotenv()\n",
    "llm = ChatOpenAI(model=\"gpt-4o-mini\")\n",
    "\n",
    "\n",
    "@tool\n",
    "def get_db_schema():\n",
    "    \"\"\"\n",
    "    Retrieve the database schema, including tables, columns, keys, and relationships.\n",
    "\n",
    "    :param engine: SQLAlchemy engine object connected to the database\n",
    "    :return: String representation of the database schema\n",
    "    \"\"\"\n",
    "    engine = create_engine('sqlite:///wikiart-copy.db')\n",
    "    inspector = inspect(engine)\n",
    "    schema_details = []\n",
    "\n",
    "    tables = inspector.get_table_names()\n",
    "    schema_details.append(f\"Tables: {tables}\")\n",
    "\n",
    "    for table_name in tables:\n",
    "        schema_details.append(f\"\\nSchema for table: {table_name}\")\n",
    "\n",
    "        columns = inspector.get_columns(table_name)\n",
    "        primary_keys = []\n",
    "        for column in columns:\n",
    "            if column.get(\"primary_key\", False):\n",
    "                primary_keys.append(column[\"name\"])\n",
    "            schema_details.append(f\"  Column: {column['name']}, Type: {column['type']}, Nullable: {column['nullable']}\")\n",
    "\n",
    "        # Primary Keys\n",
    "        schema_details.append(f\"  Primary Keys: {primary_keys}\")\n",
    "\n",
    "        foreign_keys = inspector.get_foreign_keys(table_name)\n",
    "        if foreign_keys:\n",
    "            schema_details.append(\"  Foreign Keys:\")\n",
    "            for fk in foreign_keys:\n",
    "                schema_details.append(\n",
    "                    f\"    {fk['constrained_columns']} -> {fk['referred_table']}({fk['referred_columns']})\"\n",
    "                )\n",
    "\n",
    "        indexes = inspector.get_indexes(table_name)\n",
    "        if indexes:\n",
    "            schema_details.append(\"  Indexes:\")\n",
    "            for index in indexes:\n",
    "                schema_details.append(\n",
    "                    f\"    Name: {index['name']}, Columns: {index['column_names']}, Unique: {index['unique']}\"\n",
    "                )\n",
    "\n",
    "    return \"\\n\".join(schema_details)\n",
    "\n",
    "\n",
    "@tool\n",
    "def execute_query(query: str):\n",
    "    \"\"\"\n",
    "    Executes a SQL query on a read only database and returns the result.\n",
    "    \"\"\"\n",
    "    engine = create_engine('sqlite:///wikiart-copy.db?mode=ro')\n",
    "\n",
    "    import sqlmodel\n",
    "\n",
    "    with sqlmodel.Session(engine) as session:\n",
    "        result = session.exec(text(query))\n",
    "        return result.fetchall()\n",
    "\n",
    "\n",
    "llm_with_tools = llm.bind_tools([get_db_schema, execute_query])\n",
    "llm_with_tools.invoke(\"List an artist in the database\").tool_calls\n",
    "\n",
    "\n",
    "# chain = llm_with_tools | (lambda x: x.tool_calls[0]['args']) | get_db_schema\n",
    "# res = chain.invoke(\"Could you list a random artist from the database?\")\n",
    "# print(res)"
   ]
  },
  {
   "cell_type": "code",
   "execution_count": 15,
   "metadata": {},
   "outputs": [
    {
     "name": "stdout",
     "output_type": "stream",
     "text": [
      "\n",
      "\n",
      "\u001b[1m> Entering new AgentExecutor chain...\u001b[0m\n",
      "\u001b[32;1m\u001b[1;3m\n",
      "Invoking: `get_db_schema` with `{}`\n",
      "\n",
      "\n",
      "\u001b[0m\u001b[36;1m\u001b[1;3mTables: ['artist', 'artistartmovement', 'artistfield', 'artistgenre', 'artistinstitution', 'artistnationality', 'artistschool', 'artwork', 'artworkgenre', 'artworkmedia', 'artworkstyle']\n",
      "\n",
      "Schema for table: artist\n",
      "  Column: id, Type: INTEGER, Nullable: False\n",
      "  Column: name, Type: VARCHAR, Nullable: True\n",
      "  Column: slug, Type: VARCHAR, Nullable: False\n",
      "  Column: wikipedia_article, Type: VARCHAR, Nullable: True\n",
      "  Column: wikipedia_url, Type: VARCHAR, Nullable: True\n",
      "  Column: article, Type: VARCHAR, Nullable: True\n",
      "  Primary Keys: ['id']\n",
      "  Indexes:\n",
      "    Name: ix_artist_slug, Columns: ['slug'], Unique: 0\n",
      "\n",
      "Schema for table: artistartmovement\n",
      "  Column: id, Type: INTEGER, Nullable: False\n",
      "  Column: artist_id, Type: INTEGER, Nullable: False\n",
      "  Column: art_movement, Type: VARCHAR, Nullable: False\n",
      "  Primary Keys: ['id']\n",
      "  Foreign Keys:\n",
      "    ['artist_id'] -> artist(['id'])\n",
      "\n",
      "Schema for table: artistfield\n",
      "  Column: id, Type: INTEGER, Nullable: False\n",
      "  Column: artist_id, Type: INTEGER, Nullable: False\n",
      "  Column: field, Type: VARCHAR, Nullable: False\n",
      "  Primary Keys: ['id']\n",
      "  Foreign Keys:\n",
      "    ['artist_id'] -> artist(['id'])\n",
      "\n",
      "Schema for table: artistgenre\n",
      "  Column: id, Type: INTEGER, Nullable: False\n",
      "  Column: artist_id, Type: INTEGER, Nullable: False\n",
      "  Column: genre, Type: VARCHAR, Nullable: False\n",
      "  Primary Keys: ['id']\n",
      "  Foreign Keys:\n",
      "    ['artist_id'] -> artist(['id'])\n",
      "\n",
      "Schema for table: artistinstitution\n",
      "  Column: id, Type: INTEGER, Nullable: False\n",
      "  Column: artist_id, Type: INTEGER, Nullable: False\n",
      "  Column: institution, Type: VARCHAR, Nullable: False\n",
      "  Primary Keys: ['id']\n",
      "  Foreign Keys:\n",
      "    ['artist_id'] -> artist(['id'])\n",
      "\n",
      "Schema for table: artistnationality\n",
      "  Column: id, Type: INTEGER, Nullable: False\n",
      "  Column: artist_id, Type: INTEGER, Nullable: False\n",
      "  Column: nationality, Type: VARCHAR, Nullable: False\n",
      "  Primary Keys: ['id']\n",
      "  Foreign Keys:\n",
      "    ['artist_id'] -> artist(['id'])\n",
      "\n",
      "Schema for table: artistschool\n",
      "  Column: id, Type: INTEGER, Nullable: False\n",
      "  Column: artist_id, Type: INTEGER, Nullable: False\n",
      "  Column: school, Type: VARCHAR, Nullable: False\n",
      "  Primary Keys: ['id']\n",
      "  Foreign Keys:\n",
      "    ['artist_id'] -> artist(['id'])\n",
      "\n",
      "Schema for table: artwork\n",
      "  Column: id, Type: INTEGER, Nullable: False\n",
      "  Column: url, Type: VARCHAR, Nullable: False\n",
      "  Column: name, Type: VARCHAR, Nullable: True\n",
      "  Column: artist_id, Type: INTEGER, Nullable: True\n",
      "  Column: wikipedia_article, Type: TEXT, Nullable: True\n",
      "  Column: wikipedia_url, Type: TEXT, Nullable: True\n",
      "  Primary Keys: ['id']\n",
      "  Foreign Keys:\n",
      "    ['artist_id'] -> artist(['id'])\n",
      "  Indexes:\n",
      "    Name: ix_artwork_url, Columns: ['url'], Unique: 0\n",
      "\n",
      "Schema for table: artworkgenre\n",
      "  Column: id, Type: INTEGER, Nullable: False\n",
      "  Column: artwork_id, Type: INTEGER, Nullable: False\n",
      "  Column: genre, Type: VARCHAR, Nullable: False\n",
      "  Primary Keys: ['id']\n",
      "  Foreign Keys:\n",
      "    ['artwork_id'] -> artwork(['id'])\n",
      "\n",
      "Schema for table: artworkmedia\n",
      "  Column: id, Type: INTEGER, Nullable: False\n",
      "  Column: artwork_id, Type: INTEGER, Nullable: False\n",
      "  Column: media, Type: VARCHAR, Nullable: False\n",
      "  Primary Keys: ['id']\n",
      "  Foreign Keys:\n",
      "    ['artwork_id'] -> artwork(['id'])\n",
      "\n",
      "Schema for table: artworkstyle\n",
      "  Column: id, Type: INTEGER, Nullable: False\n",
      "  Column: artwork_id, Type: INTEGER, Nullable: False\n",
      "  Column: style, Type: VARCHAR, Nullable: False\n",
      "  Primary Keys: ['id']\n",
      "  Foreign Keys:\n",
      "    ['artwork_id'] -> artwork(['id'])\u001b[0m\u001b[32;1m\u001b[1;3m\n",
      "Invoking: `execute_query` with `{'query': 'SELECT name FROM artist LIMIT 1;'}`\n",
      "\n",
      "\n",
      "\u001b[0m\u001b[33;1m\u001b[1;3m[('Jeffrey Smart',)]\u001b[0m\u001b[32;1m\u001b[1;3mOne artist in the database is Jeffrey Smart.\u001b[0m\n",
      "\n",
      "\u001b[1m> Finished chain.\u001b[0m\n"
     ]
    }
   ],
   "source": [
    "from langchain_core.prompts import ChatPromptTemplate\n",
    "from langchain.agents import create_tool_calling_agent, AgentExecutor\n",
    "\n",
    "tools = [get_db_schema, execute_query]\n",
    "prompt = ChatPromptTemplate.from_messages(\n",
    "    [\n",
    "        (\"system\", \"You are an automated art guide. You will use your provided SQL tools to redirect the human.\"),\n",
    "        (\"placeholder\", \"{chat_history}\"),\n",
    "        (\"human\", \"{input}\"),\n",
    "        (\"placeholder\", \"{agent_scratchpad}\"),\n",
    "    ]\n",
    ")\n",
    "agent = create_tool_calling_agent(llm, tools, prompt)\n",
    "\n",
    "agent_executor = AgentExecutor(agent=agent, tools=tools, verbose=True)\n",
    "agent_executor = agent_executor.invoke({\"input\": \"List an artist in the database.\"})"
   ]
  },
  {
   "cell_type": "code",
   "execution_count": 26,
   "metadata": {},
   "outputs": [],
   "source": [
    "@tool\n",
    "def get_image_from_url(url: str):\n",
    "    \"\"\"\n",
    "    Gets an artwork image from its URL.\n",
    "    \"\"\"\n",
    "    import requests\n",
    "    from bs4 import BeautifulSoup as bs\n",
    "\n",
    "    url = f\"https://wikiart.org{url}\"\n",
    "    response = requests.get(url)\n",
    "    soup = bs(response.text, \"html.parser\")\n",
    "    img = soup.find(\"img\", {\"itemprop\": \"image\"})\n",
    "    display(Image(url=img.get(\"src\")))"
   ]
  },
  {
   "cell_type": "code",
   "execution_count": 28,
   "metadata": {},
   "outputs": [
    {
     "data": {
      "text/html": [
       "<img src=\"https://uploads3.wikiart.org/00207/images/jeffrey-smart/smart-water-towers-control-tower.jpg\"/>"
      ],
      "text/plain": [
       "<IPython.core.display.Image object>"
      ]
     },
     "metadata": {},
     "output_type": "display_data"
    }
   ],
   "source": [
    "get_image_from_url(\"/en/jeffrey-smart/water-towers-1944\")"
   ]
  },
  {
   "cell_type": "code",
   "execution_count": null,
   "metadata": {},
   "outputs": [],
   "source": [
    "while True:\n",
    "    # Agent loop\n",
    "    "
   ]
  },
  {
   "cell_type": "code",
   "execution_count": null,
   "metadata": {},
   "outputs": [],
   "source": [
    "import ipywidgets as widgets"
   ]
  },
  {
   "cell_type": "markdown",
   "metadata": {},
   "source": [
    "## LightRag\n",
    "\n",
    "RAG systems enhance LLMs by integrating external knowledge sources. Traditional RAG solutions assume a 'flat' data representation, which can fail to capture complex dependencies. \n",
    "We use a hierarchical representation a knowledge graph to model our inherently hierarchical artwork data. \n",
    "\n",
    "LightRAG incorporates graph structures into indexing and retrieval. It creates a knowledge graph encoding 'entities' and their relationships, using techniques such as entity recognition, relation extration, and graph embeding models. It's dual-level retrieval system is perfect for our Artwork dataset. Fine grained details like artist names, artwork titles, and their references are retrieved via low-level concepts, and thematic information is retrieved via high-level concepts.\n",
    "\n",
    "We provide a dataset to consume and create your own LightRAG database. The dataset is a collection of artwork metadata scraped from [wikiart](https://www.wikiart.org/). It includes information about artists such as their wikipedia articles"
   ]
  }
 ],
 "metadata": {
  "kernelspec": {
   "display_name": ".venv",
   "language": "python",
   "name": "python3"
  },
  "language_info": {
   "codemirror_mode": {
    "name": "ipython",
    "version": 3
   },
   "file_extension": ".py",
   "mimetype": "text/x-python",
   "name": "python",
   "nbconvert_exporter": "python",
   "pygments_lexer": "ipython3",
   "version": "3.12.7"
  }
 },
 "nbformat": 4,
 "nbformat_minor": 2
}
