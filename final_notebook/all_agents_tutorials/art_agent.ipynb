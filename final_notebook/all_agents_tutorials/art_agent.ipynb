{
  "cells": [
    {
      "cell_type": "markdown",
      "metadata": {
        "id": "view-in-github",
        "colab_type": "text"
      },
      "source": [
        "<a href=\"https://colab.research.google.com/github/MichaelDeng03/GenAI_Agents/blob/michael%2Ffinal_notebook/final_notebook/all_agents_tutorials/art_agent.ipynb\" target=\"_parent\"><img src=\"https://colab.research.google.com/assets/colab-badge.svg\" alt=\"Open In Colab\"/></a>"
      ]
    },
    {
      "cell_type": "markdown",
      "metadata": {
        "vscode": {
          "languageId": "plaintext"
        },
        "id": "-y6gO0VbS9IJ"
      },
      "source": [
        "<a href=\"https://colab.research.google.com/github/MichaelDeng03/GenAI_Agents/blob/main/all_agents_tutorials/art_agent.ipynb\" target=\"_parent\"><img src=\"https://colab.research.google.com/assets/colab-badge.svg\" alt=\"Open In Colab\"/></a>"
      ]
    },
    {
      "cell_type": "markdown",
      "metadata": {
        "vscode": {
          "languageId": "plaintext"
        },
        "id": "7YY34qHKS9IK"
      },
      "source": [
        "# Interactive Art Agent\n",
        "This tutorial will walk through the creation of an AI Agent that helps you explore and learn art!\n",
        "\n",
        "### Overview\n",
        "For knowledge retrieval, this tutorial uses [LightRAG](https://github.com/HKUDS/LightRAG) which is knowledge graph based RAG implementation. Compared to GraphRAG, LightRAG is more accurate for single topic datasets, and uses 1,000x less tokens for retrieval. Furthermore, documents can be added to LightRAG incrementally without rebuilding the knowledge graph. See the full results in the [paper](https://arxiv.org/abs/2410.05779).\n",
        "\n",
        "For the agent itself, we use LangGraph.\n",
        "\n",
        "### Outline\n",
        "0. [Setup](#setup)\n",
        "1. [Data Preparation + RAG](#data-preparation--rag)\n",
        "2. [Agent Creation](#agent-creation)\n",
        "3. [Final App](#final-app)"
      ]
    },
    {
      "cell_type": "markdown",
      "metadata": {
        "vscode": {
          "languageId": "plaintext"
        },
        "id": "xyLfhm3lS9IK"
      },
      "source": [
        "### Setup"
      ]
    },
    {
      "cell_type": "markdown",
      "metadata": {
        "id": "XL-vDTEVS9IK"
      },
      "source": [
        "#### Environment\n",
        "\n",
        "This tutorial uses openai embedding models. While there are alternatives, we recommend using the openai models for the best results.\n",
        "\n",
        "```\n",
        "export OPENAI_API_KEY=sk....\n",
        "```"
      ]
    },
    {
      "cell_type": "code",
      "source": [
        "!export OPENAI_API_KEY=  # sk-proj..."
      ],
      "metadata": {
        "id": "11EjE5OITFVt"
      },
      "execution_count": 1,
      "outputs": []
    },
    {
      "cell_type": "code",
      "source": [
        "!uv venv"
      ],
      "metadata": {
        "id": "Z6L1kmtVU4pY",
        "outputId": "764bf4f6-0a43-48fe-a1ed-80c2e7539b2a",
        "colab": {
          "base_uri": "https://localhost:8080/"
        }
      },
      "execution_count": 12,
      "outputs": [
        {
          "output_type": "stream",
          "name": "stdout",
          "text": [
            "Using CPython 3.10.12 interpreter at: \u001b[36m/usr/bin/python3\u001b[39m\n",
            "Creating virtual environment at: \u001b[36m.venv\u001b[39m\n",
            "Activate with: \u001b[32msource .venv/bin/activate\u001b[39m\n"
          ]
        }
      ]
    },
    {
      "cell_type": "code",
      "execution_count": 13,
      "metadata": {
        "id": "h7U51nLOS9IL"
      },
      "outputs": [],
      "source": [
        "!uv pip install lightrag-hku aioboto3 numpy ollama openai tenacity aioboto3 transformers torch tiktoken nano_vectordb neo4j oracledb textract setuptools pyvis sqlalchemy langchain_community langchain_openai sqlmodel ipywidgets==7.7.1 asyncio markdown langgraph -q"
      ]
    },
    {
      "cell_type": "code",
      "execution_count": 15,
      "metadata": {
        "id": "n0xrObVQS9IL"
      },
      "outputs": [],
      "source": [
        "from ipywidgets import Button, Layout, jslink, IntText, IntSlider, TwoByTwoLayout, Text, AppLayout, GridspecLayout\n",
        "import ipywidgets as widgets\n",
        "from IPython.display import Markdown\n",
        "\n",
        "import json\n",
        "import os\n",
        "import operator\n",
        "import random\n",
        "from datetime import datetime\n",
        "from typing import Any, Annotated, List\n",
        "from typing_extensions import TypedDict\n",
        "from pydantic import BaseModel, Field\n",
        "\n",
        "from langgraph.graph import StateGraph, END\n",
        "from langchain_core.runnables.graph import MermaidDrawMethod\n",
        "\n",
        "from IPython.display import display, Image as IPImage\n",
        "\n",
        "# from lightrag.llm import gpt_4o_mini_complete\n",
        "# from lightrag import LightRAG, QueryParam\n",
        "from dotenv import load_dotenv\n",
        "\n",
        "from pprint import pprint\n",
        "\n",
        "from langchain.globals import set_debug\n",
        "\n",
        "from io import BytesIO\n",
        "from PIL import Image as PILImage"
      ]
    },
    {
      "cell_type": "markdown",
      "metadata": {
        "vscode": {
          "languageId": "plaintext"
        },
        "id": "9GsEmGJZS9IL"
      },
      "source": [
        "### Data Preparation + RAG"
      ]
    },
    {
      "cell_type": "markdown",
      "metadata": {
        "id": "DGtEqWCiS9IL"
      },
      "source": [
        "#### Data Preparation\n",
        "\n",
        "We scraped data from [wikiart](https://wikiart.org/) using a combination of requests and beautiful soup.\n",
        "\n",
        "We provide a preprocessed, limited dataset of this data for the tutorial found in `data/artinfo.json`.\n",
        "\n",
        "Preprocessed data for each artwork looks like:\n",
        "\n",
        "```plaintext\n",
        "Artwork Name: {artwork_name}\n",
        "Artwork Genre: {genre_list}\n",
        "Artwork Media: {media_list}\n",
        "Wikiart URL: https://www.wikiart.org{wikiart_slug}\n",
        "\n",
        "Wikipedia Article:\n",
        "{wiki_article}\n",
        "```\n"
      ]
    },
    {
      "cell_type": "markdown",
      "metadata": {
        "id": "ewBkhNkES9IM"
      },
      "source": [
        "#### LightRAG\n"
      ]
    },
    {
      "cell_type": "code",
      "execution_count": 16,
      "metadata": {
        "id": "CMUufJG7S9IM",
        "outputId": "8ccbe349-1a35-470e-f39a-6ee52783778f",
        "colab": {
          "base_uri": "https://localhost:8080/"
        }
      },
      "outputs": [
        {
          "output_type": "stream",
          "name": "stdout",
          "text": [
            "1541\n",
            "\n",
            "Artist: Frederick McCubbin\n",
            "Artwork Name: Down on his luck\n",
            "Artwork Genre: genre painting\n",
            "Artwork Media: canvas,oil\n",
            "Wikiart URL: https://www.wikiart.org/en/frederick-mccubbin/down-on-his-luck-1889\n",
            "\n",
            "Wikipedia Article:\n",
            "Down on His Luck is an 1889 painting by the Australian artist Frederick McCubbin. It depicts a seemingly disheartened swagman, sitting by a campfire sadly brooding over his misfortune. According to an 1889 review, \"The face tells of hardships, keen and blighting in their influence, but there is a nonchalant and slightly cynical expression, which proclaims the absence of all self-pity ... McCubbin's picture is thoroughly Australian in spirit.\" The surrounding bush is painted in subdued tones, reflecting his somber and contemplative mood.\r The artist's model was Louis Abrahams, a friend and successful tobaccanist in Melbourne who earlier supplied the cigar box lids for the famous 9 by 5 Impression Exhibition. The scene was staged near the Box Hill artists' camp outside Melbourne, but it is thought that McCubbin would have made additional studies of Abrahams under studio conditions.\r The painting was owned by William Fergusson up to 1986 until it was purchased by the Art Gallery of Western Australia in Perth.\n",
            "\n"
          ]
        }
      ],
      "source": [
        "artwork_info = None\n",
        "with open('./data/artinfo.json', 'r') as f:\n",
        "    artwork_info = json.load(f)['info']\n",
        "print(len(artwork_info))\n",
        "print(artwork_info[0])"
      ]
    },
    {
      "cell_type": "code",
      "execution_count": null,
      "metadata": {
        "id": "t3HqKroWS9IM",
        "outputId": "5101068a-4625-4917-f7bb-d41e13ad0d55"
      },
      "outputs": [
        {
          "name": "stderr",
          "output_type": "stream",
          "text": [
            "INFO:lightrag:Logger initialized for working directory: ./data\n",
            "INFO:lightrag:Load KV llm_response_cache with 337 data\n",
            "INFO:lightrag:Load KV full_docs with 78 data\n",
            "INFO:lightrag:Load KV text_chunks with 78 data\n",
            "INFO:lightrag:Loaded graph from ./data/graph_chunk_entity_relation.graphml with 711 nodes, 642 edges\n",
            "INFO:nano-vectordb:Load (709, 1536) data\n",
            "INFO:nano-vectordb:Init {'embedding_dim': 1536, 'metric': 'cosine', 'storage_file': './data/vdb_entities.json'} 709 data\n",
            "INFO:nano-vectordb:Load (642, 1536) data\n",
            "INFO:nano-vectordb:Init {'embedding_dim': 1536, 'metric': 'cosine', 'storage_file': './data/vdb_relationships.json'} 642 data\n",
            "INFO:nano-vectordb:Load (78, 1536) data\n",
            "INFO:nano-vectordb:Init {'embedding_dim': 1536, 'metric': 'cosine', 'storage_file': './data/vdb_chunks.json'} 78 data\n"
          ]
        }
      ],
      "source": [
        "from lightrag.llm import gpt_4o_mini_complete\n",
        "from lightrag import LightRAG, QueryParam\n",
        "\n",
        "import nest_asyncio\n",
        "\n",
        "nest_asyncio.apply()\n",
        "WORKING_DIR = \"./data\"\n",
        "rag = LightRAG(\n",
        "    working_dir=WORKING_DIR,\n",
        "    llm_model_func=gpt_4o_mini_complete,\n",
        ")"
      ]
    },
    {
      "cell_type": "code",
      "execution_count": null,
      "metadata": {
        "id": "J4lNok7wS9IM",
        "outputId": "2b2c92f1-29c5-4736-e00f-1c183cd23e8e"
      },
      "outputs": [
        {
          "ename": "NameError",
          "evalue": "name 'artwork_info' is not defined",
          "output_type": "error",
          "traceback": [
            "\u001b[0;31m---------------------------------------------------------------------------\u001b[0m",
            "\u001b[0;31mNameError\u001b[0m                                 Traceback (most recent call last)",
            "Cell \u001b[0;32mIn[4], line 7\u001b[0m\n\u001b[1;32m      4\u001b[0m batch_size \u001b[38;5;241m=\u001b[39m \u001b[38;5;241m30\u001b[39m\n\u001b[1;32m      6\u001b[0m \u001b[38;5;66;03m# Loop through the list in batches of 30 to avoid rate limits\u001b[39;00m\n\u001b[0;32m----> 7\u001b[0m \u001b[38;5;28;01mfor\u001b[39;00m i \u001b[38;5;129;01min\u001b[39;00m \u001b[38;5;28mrange\u001b[39m(\u001b[38;5;241m0\u001b[39m, \u001b[38;5;28mlen\u001b[39m(\u001b[43martwork_info\u001b[49m), \u001b[38;5;241m30\u001b[39m):\n\u001b[1;32m      8\u001b[0m     batch \u001b[38;5;241m=\u001b[39m artwork_info[i:i \u001b[38;5;241m+\u001b[39m batch_size]\n\u001b[1;32m      9\u001b[0m     rag\u001b[38;5;241m.\u001b[39minsert(batch)\n",
            "\u001b[0;31mNameError\u001b[0m: name 'artwork_info' is not defined"
          ]
        }
      ],
      "source": [
        "import time\n",
        "\n",
        "# Create the RAG database\n",
        "batch_size = 30\n",
        "\n",
        "# Loop through the list in batches of 30 to avoid rate limits\n",
        "for i in range(0, len(artwork_info), 30):\n",
        "    batch = artwork_info[i : i + batch_size]\n",
        "    rag.insert(batch)\n",
        "    time.sleep(15)"
      ]
    },
    {
      "cell_type": "markdown",
      "metadata": {
        "vscode": {
          "languageId": "plaintext"
        },
        "id": "IjnHwmeNS9IN"
      },
      "source": [
        "### Agent Creation"
      ]
    },
    {
      "cell_type": "code",
      "execution_count": null,
      "metadata": {
        "id": "2y-kxszDS9IN"
      },
      "outputs": [],
      "source": [
        "def get_artwork_image_url(url: str):\n",
        "    \"\"\"\n",
        "    Gets an artwork image from its URL.\n",
        "    \"\"\"\n",
        "    import requests\n",
        "    from bs4 import BeautifulSoup as bs\n",
        "\n",
        "    response = requests.get(url)\n",
        "    soup = bs(response.text, \"html.parser\")\n",
        "    img = soup.find(\"img\", {\"itemprop\": \"image\"})\n",
        "\n",
        "    return img.get(\"src\")"
      ]
    },
    {
      "cell_type": "code",
      "execution_count": null,
      "metadata": {
        "id": "TOJ25JcwS9IN"
      },
      "outputs": [],
      "source": [
        "from ipywidgets import GridspecLayout, widgets\n",
        "from ipywidgets import VBox\n",
        "import markdown\n",
        "\n",
        "import requests\n",
        "from PIL import Image as PILImage\n",
        "from ipywidgets import GridspecLayout, widgets\n",
        "import markdown\n",
        "\n",
        "\n",
        "def image_widget_value(artwork_url: str):\n",
        "    image_url = get_artwork_image_url(artwork_url)\n",
        "    resp = requests.get(image_url)\n",
        "    if resp.status_code == 200:\n",
        "        image = PILImage.open(BytesIO(resp.content))\n",
        "        width, height = image.size\n",
        "    else:\n",
        "        return 'No image found'\n",
        "\n",
        "    return f'<img src={image_url} style=\"width:{width}px;height:{height}px;\">'\n",
        "\n",
        "\n",
        "def html_widget_value(description: str):\n",
        "    style = (\n",
        "        \"display: inline-block; \"\n",
        "        \"width: fit-content; \"\n",
        "        \"max-width: 100%; \"  # Optional to prevent excessive width\n",
        "        \"padding: 5px; \"\n",
        "        \"font-size: 16px; \"\n",
        "        \"line-height: 1.5; \"\n",
        "        \"border: 1px solid #ccc; \"  # Optional, for visibility\n",
        "        \"border-radius: 5px; \"\n",
        "        \"background-color: #f9f9f9;\"\n",
        "    )\n",
        "    return f'<div style=\"{style}\">{markdown.markdown(description)}</div>'"
      ]
    },
    {
      "cell_type": "code",
      "execution_count": null,
      "metadata": {
        "id": "YTlSssROS9IN"
      },
      "outputs": [],
      "source": [
        "class ArtTourState(TypedDict):\n",
        "    artwork: str\n",
        "    artwork_metadata: str\n",
        "    artwork_description: str\n",
        "    artwork_url: str\n",
        "    art_request: str\n",
        "    past_artworks: list[str]\n",
        "    discussion_messages: list[str]\n",
        "    app_message: str  # intro and conclusion\n",
        "    exit: bool\n",
        "\n",
        "    footer: widgets.HTML\n",
        "    header: widgets.HTML\n",
        "    image: widgets.HTML"
      ]
    },
    {
      "cell_type": "code",
      "execution_count": null,
      "metadata": {
        "id": "PmArwrQQS9IN"
      },
      "outputs": [],
      "source": [
        "def get_artwork_url_from_name(state: ArtTourState):\n",
        "    artwork_name = state['artwork']\n",
        "    prompt = f\"\"\"\n",
        "    What is the Wikiart URL for this artwork: {artwork_name}\n",
        "\n",
        "    Return only the wikiart url in plain text.\n",
        "    \"\"\"\n",
        "    return {\"artwork_url\": rag.query(prompt, param=QueryParam(mode=\"hybrid\"))}"
      ]
    },
    {
      "cell_type": "code",
      "execution_count": null,
      "metadata": {
        "id": "5dG5JKMgS9IN"
      },
      "outputs": [],
      "source": [
        "def describe_artwork(state: ArtTourState):\n",
        "    artwork = state['artwork']\n",
        "    metadata = rag.query(\n",
        "        f\"\"\"What is the genre, media, and style of the following artwork: {artwork}.\n",
        "    Return the description in the following format:\n",
        "    artwork name: <artwork name>\n",
        "    artist: <artist>\n",
        "    genre: <genre>\n",
        "    media: <media>\n",
        "    style: <style>\n",
        "\n",
        "    Return this information and nothing else.\n",
        "    \"\"\",\n",
        "        param=QueryParam(mode=\"hybrid\"),\n",
        "    )\n",
        "\n",
        "    dense_description = str(\n",
        "        rag.query(\n",
        "            f\"Describe the imagery and context of {artwork} in 2 concise paragraphs.\", param=QueryParam(mode=\"hybrid\")\n",
        "        )\n",
        "    )\n",
        "\n",
        "    return {\n",
        "        \"artwork_metadata\": metadata,\n",
        "        \"artwork_description\": dense_description,\n",
        "        **get_artwork_url_from_name(state),\n",
        "    }"
      ]
    },
    {
      "cell_type": "code",
      "execution_count": null,
      "metadata": {
        "id": "0DRub_t6S9IN"
      },
      "outputs": [],
      "source": [
        "def request_artwork(state: ArtTourState):\n",
        "    description = state['art_request']\n",
        "    prompt = f\"\"\"\n",
        "    The user has requested the following for their next artwork. Choose a related artwork.\n",
        "    {description}\n",
        "\n",
        "    Return the name of the artwork and nothing else.\n",
        "    \"\"\"\n",
        "    return {\"artwork\": rag.query(prompt, param=QueryParam(mode=\"hybrid\"))}\n",
        "\n",
        "\n",
        "def get_next_artwork(state: ArtTourState):\n",
        "\n",
        "    prev_artwork = state['artwork_metadata']\n",
        "    next_artwork = state['art_request']\n",
        "    past_artworks = state['past_artworks']\n",
        "    prompt = f\"\"\"You are an art tour guide.\n",
        "    The have discussed these artworks earlier in the tour: {past_artworks}\n",
        "    You just discussed this artwork:\n",
        "    {prev_artwork}\n",
        "\n",
        "    The user has requested the following for their next artwork. Choose a related artwork.\n",
        "    {next_artwork}\n",
        "\n",
        "    Return the name of the artwork and nothing else.\n",
        "    \"\"\"\n",
        "    next_artwork = rag.query(prompt, param=QueryParam(mode=\"hybrid\"))\n",
        "    art_data = describe_artwork({'artwork': next_artwork})\n",
        "    out = {\n",
        "        \"artwork\": next_artwork,\n",
        "        \"past_artworks\": past_artworks + [prev_artwork],\n",
        "        **art_data,  # metadata + description\n",
        "    }\n",
        "    out.update(art_data)\n",
        "    return out"
      ]
    },
    {
      "cell_type": "code",
      "execution_count": null,
      "metadata": {
        "id": "tkA_neYFS9IN"
      },
      "outputs": [],
      "source": [
        "with open('./data/artinfo.json', 'r') as f:\n",
        "    art_json = json.load(f)\n",
        "artworks = [art_info.split('\\n')[2].split(': ')[1] for art_info in art_json['info']]\n",
        "\n",
        "\n",
        "def get_random_art():\n",
        "    out = {\"artwork\": random.sample(artworks, 1)[0]}\n",
        "    art_data = describe_artwork(out)\n",
        "    out.update(art_data)\n",
        "    return out"
      ]
    },
    {
      "cell_type": "code",
      "execution_count": null,
      "metadata": {
        "id": "cLByAolaS9IO"
      },
      "outputs": [],
      "source": [
        "tour_instructions = \"\"\"\n",
        "You will be shown an artwork and a description.\n",
        "Take a close look and articulate what you see, think, and feel.\n",
        "Afterwards, you may describe an area of interest to continue exploring or view a new random artwork.\n",
        "At the end, you'll be give a list of all the artworks you've seen.\n",
        "\"\"\"\n",
        "\n",
        "def tour_introduction(state: ArtTourState):\n",
        "    out = get_random_art()\n",
        "    out['app_message'] = tour_instructions\n",
        "    return out\n",
        "\n",
        "def conclude_tour(state: ArtTourState):\n",
        "    summary = str(\n",
        "        rag.query(\n",
        "            f\"\"\"\n",
        "            Build a narrative and summarize the themes of an art tour you just gave with these artworks\n",
        "            {[state['artwork_metadata']] + state['past_artworks']}\n",
        "            Start by writing a short introduction.\n",
        "            Write no more than 2 sentences about any particular artwork.\n",
        "            End by writing a short conclusion.\n",
        "            Thank the user for their engagement.\n",
        "            \"\"\",\n",
        "            param=QueryParam(mode=\"hybrid\")\n",
        "        )\n",
        "    )\n",
        "\n",
        "    tour_conclusion = f\"\"\"\n",
        "    Thank you for doing a tour!\n",
        "    These are the artworks you viewed:\n",
        "    {\"\\n\".join(state['past_artworks'])}\n",
        "\n",
        "    Here's a summary of the themes:\n",
        "    {summary}\n",
        "    \"\"\"\n",
        "    return {'app_message': tour_conclusion}\n",
        "\n",
        "def display_artwork(state: ArtTourState):\n",
        "    \"\"\"\n",
        "    Render the widgets\n",
        "    \"\"\"\n",
        "\n",
        "    state['footer'].value = html_widget_value(state['artwork_description'])\n",
        "\n",
        "    state['header'].value = html_widget_value(state['artwork'])\n",
        "\n",
        "    state['image'].value = image_widget_value(state['artwork_url'])\n",
        "\n",
        "\n",
        "    return state\n",
        "\n",
        "\n",
        "def choose_next_artwork(state: ArtTourState):\n",
        "    # Capture user message\n",
        "    user_input = \"I would like something more colorful\"\n",
        "    state['art_request'] = user_input\n",
        "    return get_next_artwork(state)\n",
        "\n",
        "def discuss(state: ArtTourState):\n",
        "    \"\"\"\n",
        "    Discuss the artwork with the user\n",
        "    \"\"\"\n",
        "    while True:\n",
        "        # Capture user message\n",
        "        user_input = input()\n",
        "\n",
        "        if user_input == 'next':\n",
        "            return state\n",
        "        if user_input == 'exit':\n",
        "            state['exit'] = True\n",
        "            return state\n",
        "\n",
        "        summary = str(\n",
        "            rag.query(\n",
        "                f\"\"\"\n",
        "                The user has said:\n",
        "                {user_input}\n",
        "                about the artwork:\n",
        "                {state['artwork']}\n",
        "\n",
        "                Respond with 1-2 sentences enriching the user with new facts or feedback.\n",
        "                \"\"\",\n",
        "                param=QueryParam(mode=\"hybrid\")\n",
        "            )\n",
        "        )\n"
      ]
    },
    {
      "cell_type": "code",
      "execution_count": null,
      "metadata": {
        "id": "qsMKwguzS9IO",
        "outputId": "5deb5adb-d524-4098-b451-d727b329d701"
      },
      "outputs": [
        {
          "data": {
            "image/png": "[encoded data removed]",
            "text/plain": [
              "<IPython.core.display.Image object>"
            ]
          },
          "metadata": {},
          "output_type": "display_data"
        }
      ],
      "source": [
        "from typing import Literal\n",
        "\n",
        "\n",
        "workflow = StateGraph(ArtTourState)\n",
        "# nodes\n",
        "workflow.add_node('tour_introduction', tour_introduction)\n",
        "workflow.add_node('display_artwork', display_artwork)\n",
        "workflow.add_node('choose_next_artwork', choose_next_artwork)\n",
        "\n",
        "workflow.add_node('discuss', discuss)\n",
        "workflow.add_node('conclude_tour', conclude_tour)\n",
        "\n",
        "workflow.add_edge('tour_introduction', 'display_artwork')\n",
        "workflow.add_edge('display_artwork', 'discuss')\n",
        "\n",
        "workflow.add_edge('choose_next_artwork', 'display_artwork')\n",
        "workflow.add_edge('conclude_tour', END)\n",
        "\n",
        "\n",
        "def conclude_or_moreart(state: ArtTourState) -> Literal['conclude_tour', 'choose_next_artwork']:\n",
        "    if state.get('exit'):\n",
        "        return 'conclude_tour'\n",
        "    return 'choose_next_artwork'\n",
        "\n",
        "\n",
        "workflow.add_conditional_edges('discuss', conclude_or_moreart)\n",
        "\n",
        "workflow.set_entry_point('tour_introduction')\n",
        "app = workflow.compile()\n",
        "display(\n",
        "    IPImage(\n",
        "        app.get_graph().draw_mermaid_png(\n",
        "            draw_method=MermaidDrawMethod.API,\n",
        "        )\n",
        "    )\n",
        ")"
      ]
    },
    {
      "cell_type": "markdown",
      "metadata": {
        "vscode": {
          "languageId": "plaintext"
        },
        "id": "zQzmIP1uS9IO"
      },
      "source": [
        "### Final App"
      ]
    },
    {
      "cell_type": "code",
      "execution_count": null,
      "metadata": {
        "id": "QvE-Pp7rS9IO",
        "outputId": "a6df57b7-d5e9-4d32-b608-cc1c5dea85b0",
        "colab": {
          "referenced_widgets": [
            "d022d25c69c843a989d2d71f4af24cbb",
            "e9ac4699c3744b86bf3059b8b5981e67",
            "1487c1dcabb34babaace7945f7d59da9"
          ]
        }
      },
      "outputs": [
        {
          "data": {
            "application/vnd.jupyter.widget-view+json": {
              "model_id": "d022d25c69c843a989d2d71f4af24cbb",
              "version_major": 2,
              "version_minor": 0
            },
            "text/plain": [
              "VBox(children=(HTML(value='<div style=\"display: inline-block; width: fit-content; max-width: 100%; padding: 5p…"
            ]
          },
          "metadata": {},
          "output_type": "display_data"
        },
        {
          "name": "stderr",
          "output_type": "stream",
          "text": [
            "INFO:httpx:HTTP Request: POST https://api.openai.com/v1/chat/completions \"HTTP/1.1 200 OK\"\n",
            "INFO:httpx:HTTP Request: POST https://api.openai.com/v1/embeddings \"HTTP/1.1 200 OK\"\n",
            "INFO:lightrag:Local query uses 60 entites, 141 relations, 12 text units\n",
            "INFO:httpx:HTTP Request: POST https://api.openai.com/v1/embeddings \"HTTP/1.1 200 OK\"\n",
            "INFO:lightrag:Global query uses 39 entites, 60 relations, 11 text units\n",
            "INFO:httpx:HTTP Request: POST https://api.openai.com/v1/chat/completions \"HTTP/1.1 429 Too Many Requests\"\n",
            "INFO:openai._base_client:Retrying request to /chat/completions in 7.342000 seconds\n",
            "INFO:httpx:HTTP Request: POST https://api.openai.com/v1/chat/completions \"HTTP/1.1 429 Too Many Requests\"\n",
            "INFO:openai._base_client:Retrying request to /chat/completions in 2.216000 seconds\n",
            "INFO:httpx:HTTP Request: POST https://api.openai.com/v1/chat/completions \"HTTP/1.1 429 Too Many Requests\"\n",
            "INFO:httpx:HTTP Request: POST https://api.openai.com/v1/chat/completions \"HTTP/1.1 200 OK\"\n",
            "INFO:httpx:HTTP Request: POST https://api.openai.com/v1/chat/completions \"HTTP/1.1 200 OK\"\n",
            "INFO:httpx:HTTP Request: POST https://api.openai.com/v1/embeddings \"HTTP/1.1 200 OK\"\n",
            "INFO:lightrag:Local query uses 60 entites, 73 relations, 6 text units\n",
            "INFO:httpx:HTTP Request: POST https://api.openai.com/v1/embeddings \"HTTP/1.1 200 OK\"\n",
            "INFO:lightrag:Global query uses 44 entites, 60 relations, 7 text units\n",
            "INFO:httpx:HTTP Request: POST https://api.openai.com/v1/chat/completions \"HTTP/1.1 200 OK\"\n",
            "INFO:httpx:HTTP Request: POST https://api.openai.com/v1/chat/completions \"HTTP/1.1 200 OK\"\n",
            "INFO:httpx:HTTP Request: POST https://api.openai.com/v1/embeddings \"HTTP/1.1 200 OK\"\n",
            "INFO:lightrag:Local query uses 60 entites, 89 relations, 6 text units\n",
            "INFO:httpx:HTTP Request: POST https://api.openai.com/v1/embeddings \"HTTP/1.1 200 OK\"\n",
            "INFO:lightrag:Global query uses 47 entites, 60 relations, 12 text units\n",
            "INFO:httpx:HTTP Request: POST https://api.openai.com/v1/chat/completions \"HTTP/1.1 200 OK\"\n"
          ]
        },
        {
          "data": {
            "application/vnd.jupyter.widget-view+json": {
              "model_id": "e9ac4699c3744b86bf3059b8b5981e67",
              "version_major": 2,
              "version_minor": 0
            },
            "text/plain": [
              "VBox(children=(HTML(value='<div style=\"display: inline-block; width: fit-content; max-width: 100%; padding: 5p…"
            ]
          },
          "metadata": {},
          "output_type": "display_data"
        },
        {
          "name": "stderr",
          "output_type": "stream",
          "text": [
            "INFO:httpx:HTTP Request: POST https://api.openai.com/v1/chat/completions \"HTTP/1.1 200 OK\"\n",
            "INFO:httpx:HTTP Request: POST https://api.openai.com/v1/embeddings \"HTTP/1.1 200 OK\"\n",
            "INFO:lightrag:Local query uses 60 entites, 118 relations, 9 text units\n",
            "INFO:httpx:HTTP Request: POST https://api.openai.com/v1/embeddings \"HTTP/1.1 200 OK\"\n",
            "INFO:lightrag:Global query uses 39 entites, 60 relations, 7 text units\n",
            "INFO:httpx:HTTP Request: POST https://api.openai.com/v1/chat/completions \"HTTP/1.1 200 OK\"\n",
            "INFO:httpx:HTTP Request: POST https://api.openai.com/v1/chat/completions \"HTTP/1.1 200 OK\"\n",
            "INFO:httpx:HTTP Request: POST https://api.openai.com/v1/embeddings \"HTTP/1.1 200 OK\"\n",
            "INFO:lightrag:Local query uses 60 entites, 145 relations, 10 text units\n",
            "INFO:httpx:HTTP Request: POST https://api.openai.com/v1/embeddings \"HTTP/1.1 200 OK\"\n",
            "INFO:lightrag:Global query uses 41 entites, 60 relations, 6 text units\n",
            "INFO:httpx:HTTP Request: POST https://api.openai.com/v1/chat/completions \"HTTP/1.1 200 OK\"\n",
            "INFO:httpx:HTTP Request: POST https://api.openai.com/v1/chat/completions \"HTTP/1.1 200 OK\"\n",
            "INFO:httpx:HTTP Request: POST https://api.openai.com/v1/embeddings \"HTTP/1.1 200 OK\"\n",
            "INFO:lightrag:Local query uses 60 entites, 146 relations, 8 text units\n",
            "INFO:httpx:HTTP Request: POST https://api.openai.com/v1/embeddings \"HTTP/1.1 200 OK\"\n",
            "INFO:lightrag:Global query uses 49 entites, 60 relations, 13 text units\n",
            "INFO:httpx:HTTP Request: POST https://api.openai.com/v1/chat/completions \"HTTP/1.1 200 OK\"\n",
            "INFO:httpx:HTTP Request: POST https://api.openai.com/v1/chat/completions \"HTTP/1.1 200 OK\"\n",
            "INFO:httpx:HTTP Request: POST https://api.openai.com/v1/embeddings \"HTTP/1.1 200 OK\"\n",
            "INFO:lightrag:Local query uses 60 entites, 144 relations, 7 text units\n",
            "INFO:httpx:HTTP Request: POST https://api.openai.com/v1/embeddings \"HTTP/1.1 200 OK\"\n",
            "INFO:lightrag:Global query uses 51 entites, 60 relations, 10 text units\n",
            "INFO:httpx:HTTP Request: POST https://api.openai.com/v1/chat/completions \"HTTP/1.1 200 OK\"\n",
            "INFO:httpx:HTTP Request: POST https://api.openai.com/v1/chat/completions \"HTTP/1.1 200 OK\"\n",
            "INFO:httpx:HTTP Request: POST https://api.openai.com/v1/embeddings \"HTTP/1.1 200 OK\"\n",
            "INFO:lightrag:Local query uses 60 entites, 147 relations, 12 text units\n",
            "INFO:httpx:HTTP Request: POST https://api.openai.com/v1/embeddings \"HTTP/1.1 200 OK\"\n",
            "INFO:lightrag:Global query uses 51 entites, 60 relations, 13 text units\n",
            "INFO:httpx:HTTP Request: POST https://api.openai.com/v1/chat/completions \"HTTP/1.1 200 OK\"\n"
          ]
        },
        {
          "data": {
            "application/vnd.jupyter.widget-view+json": {
              "model_id": "1487c1dcabb34babaace7945f7d59da9",
              "version_major": 2,
              "version_minor": 0
            },
            "text/plain": [
              "VBox(children=(HTML(value='<div style=\"display: inline-block; width: fit-content; max-width: 100%; padding: 5p…"
            ]
          },
          "metadata": {},
          "output_type": "display_data"
        },
        {
          "name": "stderr",
          "output_type": "stream",
          "text": [
            "INFO:httpx:HTTP Request: POST https://api.openai.com/v1/chat/completions \"HTTP/1.1 200 OK\"\n",
            "INFO:httpx:HTTP Request: POST https://api.openai.com/v1/embeddings \"HTTP/1.1 200 OK\"\n",
            "INFO:lightrag:Local query uses 60 entites, 154 relations, 9 text units\n",
            "INFO:httpx:HTTP Request: POST https://api.openai.com/v1/embeddings \"HTTP/1.1 200 OK\"\n",
            "INFO:lightrag:Global query uses 34 entites, 60 relations, 6 text units\n",
            "INFO:httpx:HTTP Request: POST https://api.openai.com/v1/chat/completions \"HTTP/1.1 200 OK\"\n"
          ]
        },
        {
          "data": {
            "text/plain": [
              "{'artwork': '**A Girl with a Watering Can**',\n",
              " 'artwork_metadata': '```markdown\\nartwork name: A Girl with a Watering Can  \\nartist: Pierre-Auguste Renoir  \\ngenre: genre painting  \\nmedia: canvas, oil  \\nstyle: Impressionism  \\n```',\n",
              " 'artwork_description': \"**A Girl with a Watering Can**, painted by Pierre-Auguste Renoir in 1876, features a young girl named Mademoiselle Leclere depicted in a radiant blue dress, holding a watering can. The artwork captures a moment of domesticity and innocence within an impressionist framework, emphasizing the girl's joyful interaction with her environment. Renoir's use of bright colors and soft brushstrokes not only highlights the subject's playful demeanor but also showcases the gardens of Argenteuil, where the painting was created. The painting reflects the genre painting trend of the time, focusing on everyday life and infusing it with a sense of beauty and warmth.\\n\\nThe context surrounding **A Girl with a Watering Can** is significant as it represents Renoir's contributions to the Impressionist movement, a style characterized by its focus on light, color, and modern subject matter. Painted in Monet's famous garden, this work underlines the collaborative spirit among the Impressionists, as Renoir, a close friend of Monet, often drew inspiration from these shared spaces. The joyful and peaceful atmosphere conveyed in the painting is further enriched by its setting and technique, aligning with the broader themes of leisure and the celebration of everyday life prevalent in the works of Impressionist artists of that era.\",\n",
              " 'artwork_url': 'https://www.wikiart.org/en/pierre-auguste-renoir/a-girl-with-a-watering-can-1876',\n",
              " 'past_artworks': ['```markdown\\nartwork name: Gabrielle with open blouse  \\nartist: Pierre-Auguste Renoir  \\ngenre: portrait  \\nmedia: canvas, oil  \\nstyle: Impressionism  \\n```'],\n",
              " 'app_message': '\\n    Thank you for doing a tour!\\n    These are the artworks you viewed:\\n    ```markdown\\nartwork name: Gabrielle with open blouse  \\nartist: Pierre-Auguste Renoir  \\ngenre: portrait  \\nmedia: canvas, oil  \\nstyle: Impressionism  \\n```\\n\\n    Here\\'s a summary of the themes:\\n    # Art Tour Narrative: The Charm of Renoir\\n\\nToday, we explored two captivating artworks by Pierre-Auguste Renoir, both exquisite representations of the Impressionist movement. Renoir’s \"A Girl with a Watering Can,\" painted in 1876, showcases a young girl in a serene garden, her gentle demeanor encapsulating the charm of domestic life and the innocence of childhood.\\n\\nIn contrast, \"Gabrielle with Open Blouse\" presents a more intimate portrait, highlighting the artist\\'s ability to convey subtlety and allure through rich colors and textures. This portrait not only reflects Renoir\\'s admiration for beauty but also captures a moment of personal connection between the artist and his muse.\\n\\nIn conclusion, both pieces celebrate life’s simple pleasures and the fleeting beauty of everyday moments, hallmarks of Renoir\\'s artistic legacy. Thank you for your engagement, and I hope you enjoyed this glimpse into Renoir\\'s captivating world!\\n    ',\n",
              " 'exit': True,\n",
              " 'footer': HTML(value='<div style=\"display: inline-block; width: fit-content; max-width: 100%; padding: 5px; font-size: 16px; line-height: 1.5; border: 1px solid #ccc; border-radius: 5px; background-color: #f9f9f9;\"><p><strong>A Girl with a Watering Can</strong>, painted by Pierre-Auguste Renoir in 1876, features a young girl named Mademoiselle Leclere depicted in a radiant blue dress, holding a watering can. The artwork captures a moment of domesticity and innocence within an impressionist framework, emphasizing the girl\\'s joyful interaction with her environment. Renoir\\'s use of bright colors and soft brushstrokes not only highlights the subject\\'s playful demeanor but also showcases the gardens of Argenteuil, where the painting was created. The painting reflects the genre painting trend of the time, focusing on everyday life and infusing it with a sense of beauty and warmth.</p>\\n<p>The context surrounding <strong>A Girl with a Watering Can</strong> is significant as it represents Renoir\\'s contributions to the Impressionist movement, a style characterized by its focus on light, color, and modern subject matter. Painted in Monet\\'s famous garden, this work underlines the collaborative spirit among the Impressionists, as Renoir, a close friend of Monet, often drew inspiration from these shared spaces. The joyful and peaceful atmosphere conveyed in the painting is further enriched by its setting and technique, aligning with the broader themes of leisure and the celebration of everyday life prevalent in the works of Impressionist artists of that era.</p></div>'),\n",
              " 'header': HTML(value='<div style=\"display: inline-block; width: fit-content; max-width: 100%; padding: 5px; font-size: 16px; line-height: 1.5; border: 1px solid #ccc; border-radius: 5px; background-color: #f9f9f9;\"><p><strong>A Girl with a Watering Can</strong></p></div>'),\n",
              " 'image': HTML(value='<img src=https://uploads6.wikiart.org/images/pierre-auguste-renoir/a-girl-with-a-watering-can-1876.jpg!Large.jpg style=\"width:435px;height:600px;\">')}"
            ]
          },
          "execution_count": 24,
          "metadata": {},
          "output_type": "execute_result"
        }
      ],
      "source": [
        "# Final User Loop\n",
        "load_dotenv()\n",
        "header = widgets.HTML(value=html_widget_value(\"Welcome to the Art Tour!\"))\n",
        "image = widgets.HTML(value=\"\")\n",
        "footer = widgets.HTML(value=\"\")\n",
        "display(widgets.VBox([header, image, footer]))\n",
        "app.invoke({\"artwork\": None, \"past_artworks\": [], 'header': header, 'image': image, 'footer': footer})"
      ]
    },
    {
      "cell_type": "code",
      "execution_count": null,
      "metadata": {
        "id": "qQgoEphdS9IO",
        "outputId": "e2f2ad4a-167f-42b4-f00a-9bd03b70006c",
        "colab": {
          "referenced_widgets": [
            "8d6bf181eec44ce6a50fb75aaacfad04"
          ]
        }
      },
      "outputs": [
        {
          "name": "stdout",
          "output_type": "stream",
          "text": [
            "<div style=\"display: inline-block; width: fit-content; max-width: 100%; padding: 5px; font-size: 16px; line-height: 1.5; border: 1px solid #ccc; border-radius: 5px; background-color: #f9f9f9;\"><p>Welcome to the Art Tour!</p></div>\n"
          ]
        },
        {
          "data": {
            "application/vnd.jupyter.widget-view+json": {
              "model_id": "8d6bf181eec44ce6a50fb75aaacfad04",
              "version_major": 2,
              "version_minor": 0
            },
            "text/plain": [
              "VBox(children=(HTML(value='<div style=\"display: inline-block; width: fit-content; max-width: 100%; padding: 5p…"
            ]
          },
          "metadata": {},
          "output_type": "display_data"
        }
      ],
      "source": [
        "print(html_widget_value(\"Welcome to the Art Tour!\"))\n",
        "header = widgets.HTML(value=html_widget_value(\"Welcome to the Art Tour!\"))\n",
        "image = widgets.HTML(value=html_widget_value(\"https://www.wikiart.org/en/claude-monet/water-lilies-1916\"))\n",
        "footer = widgets.HTML(value=html_widget_value(\"Water Lilies by Claude Monet\"))\n",
        "display(widgets.VBox([header, image, footer]))"
      ]
    },
    {
      "cell_type": "code",
      "execution_count": null,
      "metadata": {
        "id": "pnyELessS9IO",
        "outputId": "f9e33946-d1ed-40f8-f1fa-f4f6437d81e6",
        "colab": {
          "referenced_widgets": [
            "2af541c53af2486f9840096efab61626"
          ]
        }
      },
      "outputs": [
        {
          "data": {
            "application/vnd.jupyter.widget-view+json": {
              "model_id": "2af541c53af2486f9840096efab61626",
              "version_major": 2,
              "version_minor": 0
            },
            "text/plain": [
              "IntSlider(value=7, continuous_update=False, description='Test:', max=10)"
            ]
          },
          "metadata": {},
          "output_type": "display_data"
        }
      ],
      "source": [
        "widgets.IntSlider(\n",
        "    value=7,\n",
        "    min=0,\n",
        "    max=10,\n",
        "    step=1,\n",
        "    description='Test:',\n",
        "    disabled=False,\n",
        "    continuous_update=False,\n",
        "    orientation='horizontal',\n",
        "    readout=True,\n",
        "    readout_format='d',\n",
        ")"
      ]
    }
  ],
  "metadata": {
    "kernelspec": {
      "display_name": ".venv",
      "language": "python",
      "name": "python3"
    },
    "language_info": {
      "codemirror_mode": {
        "name": "ipython",
        "version": 3
      },
      "file_extension": ".py",
      "mimetype": "text/x-python",
      "name": "python",
      "nbconvert_exporter": "python",
      "pygments_lexer": "ipython3",
      "version": "3.12.7"
    },
    "colab": {
      "provenance": [],
      "include_colab_link": true
    }
  },
  "nbformat": 4,
  "nbformat_minor": 0
}