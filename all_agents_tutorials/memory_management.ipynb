{
 "cells": [
  {
   "cell_type": "markdown",
   "id": "b26bdf70-b1db-4a22-acf3-ee0391c21772",
   "metadata": {},
   "source": [
    "# Memory: A Deep Dive: Part III (Schema Based Autonomous Memory Management)\n"
   ]
  },
  {
   "cell_type": "markdown",
   "id": "085a4cd9-ae03-4a15-b1e8-2ef1ab15770a",
   "metadata": {},
   "source": [
    "## Overview\n",
    "This code implements a workflow-based memory management system that combines LangGraph and GPT-4 mini to update existing memories based on new interactions. The system takes previously generated memories and uses a graph-based workflow to identify relevant memories that need updating, then modifies them while maintaining their hierarchical organization (type → label → content → context). This approach ensures that memories evolve coherently as new information becomes available."
   ]
  },
  {
   "cell_type": "markdown",
   "id": "430b07f7-837a-484b-9c30-5c52c9d7df98",
   "metadata": {},
   "source": [
    "## Motivation\n",
    "Several key factors motivate this implementation:\n",
    "\n",
    "1. **Dynamic Memory Maintenance**\n",
    "   - Memories need to evolve with new information\n",
    "   - Manual memory updates are error-prone and inconsistent\n",
    "   - LLMs can intelligently merge new information with existing context\n",
    "\n",
    "2. **Intelligent Update Flow**\n",
    "   - Need for systems that identify relevant memories to update\n",
    "   - Importance of maintaining memory consistency\n",
    "   - Value of tracking memory modification history\n",
    "\n",
    "3. **Context Preservation**\n",
    "   - Need for updates that preserve important historical information\n",
    "   - Importance of maintaining memory structure during updates\n",
    "   - Benefits of contextual memory evolution\n",
    "\n",
    "4. **Automated Conflict Resolution**\n",
    "   - Recognition that new information may contradict existing memories\n",
    "   - Value of intelligent conflict resolution\n",
    "   - Importance of maintaining memory coherence"
   ]
  },
  {
   "cell_type": "markdown",
   "id": "3d550fa8-889d-4b28-9b2a-6fcdc5fef755",
   "metadata": {},
   "source": [
    "## Key Components\n",
    "1. **State Management System**: \n",
    "   - Maintains workflow state using Pydantic models\n",
    "   - Tracks interaction, existing memories, and update indexes\n",
    "   - Ensures data integrity during updates\n",
    "\n",
    "2. **LLM Integration**: \n",
    "   - Leverages OpenAI's GPT-4 mini model\n",
    "   - Updates memories while preserving structure:\n",
    "     - Identifies relevant memories to update\n",
    "     - Modifies content while maintaining context\n",
    "     - Preserves memory schema compliance\n",
    "\n",
    "3. **Graph-based Workflow**: \n",
    "   - Uses LangGraph's StateGraph for orchestration\n",
    "   - Implements memory search and modification nodes\n",
    "   - Controls update flow through conditional edges\n",
    "\n",
    "4. **Memory Structure**:\n",
    "   - Preserves hierarchical organization during updates\n",
    "   - Maintains contextual information\n",
    "   - Ensures schema compliance"
   ]
  },
  {
   "cell_type": "markdown",
   "id": "cd2aede6-78c8-40e4-9b14-85a58f77f98f",
   "metadata": {},
   "source": [
    "## Method\n",
    "The system follows this workflow:\n",
    "\n",
    "1. **Initialization**:\n",
    "   - Takes new interaction and existing memories as input\n",
    "   - Sets up state management system\n",
    "   - Initializes LLM client\n",
    "\n",
    "2. **Memory Search**:\n",
    "   - Analyzes interaction against existing memories\n",
    "   - Identifies memories requiring updates\n",
    "   - Tracks memory indexes for modification\n",
    "\n",
    "3. **Memory Modification**:\n",
    "   - Updates identified memories\n",
    "   - Preserves relevant historical context\n",
    "   - Maintains memory structure\n",
    "\n",
    "4. **Flow Control**:\n",
    "   - Manages update process\n",
    "   - Routes between search and modification\n",
    "   - Determines workflow completion"
   ]
  },
  {
   "cell_type": "markdown",
   "id": "a37b3700-fb63-4d15-b740-9643210a4bc8",
   "metadata": {},
   "source": [
    "## Visual Overview\n",
    "A flowchart representing the design and flow of the workflow."
   ]
  },
  {
   "cell_type": "markdown",
   "id": "6114383f-c940-4b69-bc90-9912161ca0e7",
   "metadata": {},
   "source": [
    "<div style=\"max-width:400px;\">\n",
    "    \n",
    "![image.png](../images/memory_management.png)\n",
    "    \n",
    "</div>"
   ]
  },
  {
   "cell_type": "markdown",
   "id": "8cf758b1-e1c3-499b-bf29-b51264d8d0be",
   "metadata": {},
   "source": [
    "## Conclusion\n",
    "This implementation demonstrates a practical approach to automated memory updating. The system combines graph-based workflow management with LLM capabilities, allowing for intelligent memory evolution while maintaining structural integrity.\n",
    "\n",
    "Key advantages include:\n",
    "- Intelligent memory identification for updates\n",
    "- Context-aware modification process\n",
    "- Structured update workflow\n",
    "- Conditional processing flow\n",
    "\n",
    "Future improvements could focus on:\n",
    "- Memory version control\n",
    "- Update conflict resolution\n",
    "- Update history tracking\n",
    "- Memory consistency validation\n",
    "\n",
    "This system provides a foundation for building more sophisticated memory management systems, particularly in applications requiring dynamic knowledge maintenance and evolution."
   ]
  },
  {
   "cell_type": "markdown",
   "id": "01726055-58e2-42f0-953d-50a58ef25544",
   "metadata": {},
   "source": [
    "# Dependencies and Imports\n",
    "Install dependencies and import libraries."
   ]
  },
  {
   "cell_type": "code",
   "execution_count": 1,
   "id": "4c6a6ae2-8687-4c70-82a7-34959555dcfb",
   "metadata": {},
   "outputs": [],
   "source": [
    "%%capture\n",
    "\n",
    "!pip install langgraph\n",
    "!pip install langgraph-sdk\n",
    "!pip install langgraph-checkpoint-sqlite\n",
    "!pip install langchain-community\n",
    "!pip install langchain-core\n",
    "!pip install langchain-openai"
   ]
  },
  {
   "cell_type": "code",
   "execution_count": 2,
   "id": "a851309b-b375-481d-bc58-f3fc314a1ed4",
   "metadata": {},
   "outputs": [],
   "source": [
    "from langchain_core.prompts import ChatPromptTemplate\n",
    "from langgraph.graph import StateGraph, END\n",
    "from langchain.schema import HumanMessage\n",
    "from langchain_openai import ChatOpenAI\n",
    "\n",
    "from pydantic import BaseModel\n",
    "from typing import Optional\n",
    "\n",
    "import json\n",
    "import os\n"
   ]
  },
  {
   "cell_type": "markdown",
   "id": "405fcf49-c87e-46e2-a3fc-1c8fde6d25fa",
   "metadata": {},
   "source": [
    "## Clients\n",
    "Import API keys and instantiate clients."
   ]
  },
  {
   "cell_type": "code",
   "execution_count": 3,
   "id": "bb54e70c-cc2e-4907-a240-758b2540f30d",
   "metadata": {},
   "outputs": [],
   "source": [
    "os.environ['OPENAI_API_KEY'] = 'YOUR-API-KEY'\n",
    "llm = ChatOpenAI(model='gpt-4o-mini')"
   ]
  },
  {
   "cell_type": "markdown",
   "id": "83900a95-a236-471b-bcc0-02d61b887b3b",
   "metadata": {},
   "source": [
    "## Define Agent State\n",
    "We'll define the state that our agent will maintain throughout its operation.\n"
   ]
  },
  {
   "cell_type": "code",
   "execution_count": 4,
   "id": "0de61661-51b0-4ad3-b6f5-f3caa168d6c2",
   "metadata": {},
   "outputs": [],
   "source": [
    "class State(BaseModel):\n",
    "    interaction: str\n",
    "    memory_schema: list[str] = []\n",
    "    memory_labels: list[str] = []\n",
    "    memories: list = []\n",
    "    memory_indexes_to_update: list = []\n"
   ]
  },
  {
   "cell_type": "markdown",
   "id": "e3687655-3137-434c-84bc-8dd295f54d72",
   "metadata": {},
   "source": [
    "## Define Node Functions\n",
    "Now we'll define the main node functions that our agent will use: generate_schema and update_instructions.\n"
   ]
  },
  {
   "cell_type": "code",
   "execution_count": 5,
   "id": "5e15d8cc-8b36-4289-ad4a-3343226ba2f3",
   "metadata": {},
   "outputs": [],
   "source": [
    "def memory_search_node(state: State):\n",
    "    ''' Find memories relevant to the current interaction '''\n",
    "    prompt = ChatPromptTemplate.from_template(\n",
    "        'Given the following interaction and existing memories, identify which memories are relevant and need updating:'\n",
    "        'Interaction: {interaction}'\n",
    "        'Existing Memories: {memories}'\n",
    "        'The response should be a list of integers representing memory indexes to be updated'\n",
    "        'Response Format: [memory_index, ... , memory_index]'\n",
    "    )\n",
    "    \n",
    "    message = HumanMessage(content=prompt.format(\n",
    "        interaction=state.interaction,\n",
    "        memories=state.memories\n",
    "    ))\n",
    "\n",
    "    \n",
    "    response = llm.invoke([message]).content.strip()\n",
    "    memory_indexes_to_update = json.loads(response)\n",
    "\n",
    "    print('Looking for relevant memories...')\n",
    "    if memory_indexes_to_update:\n",
    "        print('Memories to Update Located')\n",
    "        print('--------------------------')\n",
    "        for index in memory_indexes_to_update:\n",
    "            print(f'Found at Index: {index}')\n",
    "    else:\n",
    "        ('...none found.')\n",
    "    \n",
    "    state.memory_indexes_to_update = memory_indexes_to_update\n",
    "\n",
    "    return state\n",
    "\n",
    "\n",
    "def memory_modification_node(state: State):\n",
    "    ''' Modify relevant memories based on new interaction '''\n",
    "    prompt = ChatPromptTemplate.from_template(\n",
    "        'Update the following memories based on the new interaction:'\n",
    "        'Interaction: {interaction}'\n",
    "        'Memory to Update: {memory_to_update}'\n",
    "        'Response Format: # memory_label ## updated_memory_content ### updated_memory_context'\n",
    "    )\n",
    "    memory_to_update_index = state.memory_indexes_to_update.pop(0)\n",
    "    memory_to_update = state.memories[memory_to_update_index]\n",
    "    message = HumanMessage(content=prompt.format(\n",
    "        interaction=state.interaction,\n",
    "        memory_to_update=memory_to_update,\n",
    "    ))\n",
    "    \n",
    "    response = llm.invoke([message]).content.strip()\n",
    "\n",
    "    print('Current Memory')\n",
    "    print('--------------')\n",
    "    print(memory_to_update)\n",
    "    print('Will be Replaced With')\n",
    "    print('---------------------')\n",
    "    print(response)\n",
    "    \n",
    "    state.memories[memory_to_update_index] = response\n",
    "        \n",
    "    return state\n",
    "    "
   ]
  },
  {
   "cell_type": "markdown",
   "id": "65fe049c-efda-4cc9-aa81-44b8fc534434",
   "metadata": {},
   "source": [
    "## Define Edge Functions\n",
    "Now we'll define the conditional edge function that our agent will use to control the workflow."
   ]
  },
  {
   "cell_type": "code",
   "execution_count": 6,
   "id": "898b3b42-9475-45d1-b517-26a889ff6687",
   "metadata": {},
   "outputs": [],
   "source": [
    "def modification_router(state: State):\n",
    "    if state.memory_indexes_to_update:\n",
    "        return 'memory_modification_node'\n",
    "    else:\n",
    "        return END"
   ]
  },
  {
   "cell_type": "markdown",
   "id": "14b4075e-b6f4-4410-a7ec-8405000984d1",
   "metadata": {},
   "source": [
    "## Build Workflow\n",
    "Now we'll create our workflow and compile it.\n"
   ]
  },
  {
   "cell_type": "code",
   "execution_count": 7,
   "id": "b3fafb0c-8e75-4b1c-99d0-64978b40a45e",
   "metadata": {},
   "outputs": [],
   "source": [
    "builder = StateGraph(State)\n",
    "\n",
    "# Add nodes to the graph\n",
    "builder.add_node('memory_search_node', memory_search_node)\n",
    "builder.add_node('memory_modification_node', memory_modification_node)\n",
    "\n",
    "\n",
    "# Add edges to the graph\n",
    "builder.set_entry_point('memory_search_node')\n",
    "builder.add_conditional_edges('memory_search_node', modification_router)\n",
    "builder.add_conditional_edges('memory_modification_node', modification_router)\n",
    "\n",
    "# Compile the graph\n",
    "graph = builder.compile()"
   ]
  },
  {
   "cell_type": "markdown",
   "id": "ba4fec8a-1b6d-4f2a-8d49-b31ba55122dc",
   "metadata": {},
   "source": [
    "# Main Function\n",
    "Define the function that runs the instanciates the workflow and its state."
   ]
  },
  {
   "cell_type": "code",
   "execution_count": 8,
   "id": "465b71e0-3aca-4e66-a240-5886b29792fc",
   "metadata": {},
   "outputs": [],
   "source": [
    "# Updated main function\n",
    "def run_memory_system(interaction: str, memory_schema: list, memories: list = []):\n",
    "    \n",
    "    state = State(\n",
    "        interaction=interaction, \n",
    "        memory_schema=memory_schema,\n",
    "        memories=memories\n",
    "    )\n",
    "    \n",
    "    for output in graph.stream(state):\n",
    "        pass"
   ]
  },
  {
   "cell_type": "markdown",
   "id": "a7dc740e-322a-444f-8140-8e72b2c71160",
   "metadata": {},
   "source": [
    "# Run Program\n",
    "Instanciate the main function and observe outputs."
   ]
  },
  {
   "cell_type": "code",
   "execution_count": 9,
   "id": "9b19f3af-cc4c-4201-bc3b-15588c112ea4",
   "metadata": {},
   "outputs": [
    {
     "name": "stdout",
     "output_type": "stream",
     "text": [
      "Looking for relevant memories...\n",
      "Memories to Update Located\n",
      "--------------------------\n",
      "Found at Index: 0\n",
      "Current Memory\n",
      "--------------\n",
      "# semantic  \n",
      "## My favorite color is blue.  \n",
      "### This memory captures the user's personal preference, indicating that blue is their favorite color. This information can enhance interactions by allowing for personalization in future conversations, such as tailoring recommendations or discussions around topics related to the color blue.\n",
      "Will be Replaced With\n",
      "---------------------\n",
      "# semantic  \n",
      "## My favorite color is red.  \n",
      "### This memory captures the user's personal preference, indicating that red is their favorite color. This information can enhance interactions by allowing for personalization in future conversations, such as tailoring recommendations or discussions around topics related to the color red.\n"
     ]
    }
   ],
   "source": [
    "memory_schema = [\n",
    "    '# episodic ## tutoring_sessions ### A record of individual tutoring sessions, including details such as the date, subject matter, student feedback, and specific challenges faced during the session. This memory helps the agents recall past interactions and improve future sessions based on previous experiences.',\n",
    "    '# semantic ## subject_knowledge ### A structured repository of knowledge on various subjects, including definitions, key concepts, and common problems encountered in tutoring. This memory allows agents to provide accurate information and explanations to students.',\n",
    "    '# procedural ## tutoring_process ### A step-by-step guide outlining the approach agents should take when conducting a tutoring session, including preparation, delivery of content, engagement strategies, and assessment methods. This memory ensures a consistent and effective tutoring experience across all agents.',\n",
    "    '# prospective ## future_goals ### A list of objectives and milestones for both students and agents, including skill acquisition targets, progress tracking, and plans for future sessions. This memory helps agents stay focused on the educational journey of their students and encourages proactive planning.',\n",
    "]\n",
    "\n",
    "memories =  [\"# semantic  \\n## My favorite color is blue.  \\n### This memory captures the user's personal preference, indicating that blue is their favorite color. This information can enhance interactions by allowing for personalization in future conversations, such as tailoring recommendations or discussions around topics related to the color blue.\"]\n",
    "# Update interaction\n",
    "run_memory_system(\"Actually, my favorite color is red\", memory_schema, memories)\n"
   ]
  },
  {
   "cell_type": "code",
   "execution_count": null,
   "id": "752a5b8d-c150-4800-a648-da08397390a6",
   "metadata": {},
   "outputs": [],
   "source": []
  }
 ],
 "metadata": {
  "kernelspec": {
   "display_name": "Python 3 (ipykernel)",
   "language": "python",
   "name": "python3"
  },
  "language_info": {
   "codemirror_mode": {
    "name": "ipython",
    "version": 3
   },
   "file_extension": ".py",
   "mimetype": "text/x-python",
   "name": "python",
   "nbconvert_exporter": "python",
   "pygments_lexer": "ipython3",
   "version": "3.10.9"
  }
 },
 "nbformat": 4,
 "nbformat_minor": 5
}
