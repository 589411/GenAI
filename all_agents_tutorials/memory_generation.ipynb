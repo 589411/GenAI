{
 "cells": [
  {
   "cell_type": "markdown",
   "id": "b26bdf70-b1db-4a22-acf3-ee0391c21772",
   "metadata": {},
   "source": [
    "# Memory: A Deep Dive: Part II (Schema Based Autonomous Memory Generation)\n"
   ]
  },
  {
   "cell_type": "markdown",
   "id": "085a4cd9-ae03-4a15-b1e8-2ef1ab15770a",
   "metadata": {},
   "source": [
    "## Overview\n",
    "This code implements a workflow-based memory generation system that combines LangGraph and GPT-4 mini to process interactions into structured memories. The system takes predefined memory schemas (episodic, semantic, procedural, prospective) and generates contextual memories through a graph-based workflow, maintaining hierarchical organization (type → label → content → context)."
   ]
  },
  {
   "cell_type": "markdown",
   "id": "430b07f7-837a-484b-9c30-5c52c9d7df98",
   "metadata": {},
   "source": [
    "## Motivation\n",
    "Several key factors motivate this implementation:\n",
    "\n",
    "1. **Knowledge Structure Automation**\n",
    "   - Converting interactions into structured memories manually is time-consuming\n",
    "   - Automated generation streamlines the memory creation process\n",
    "   - LLMs can provide context-aware memory generation\n",
    "\n",
    "2. **Flexible Control Flow**\n",
    "   - Need for systems that manage memory generation workflow\n",
    "   - Importance of state management during generation\n",
    "   - Value of maintaining generation history\n",
    "\n",
    "3. **Standardized Memory Organization**\n",
    "   - Need for consistent memory structure\n",
    "   - Importance of schema-based approaches\n",
    "   - Benefits of hierarchical memory organization\n",
    "\n",
    "4. **Interactive Development**\n",
    "   - Recognition that memory generation needs controlled flow\n",
    "   - Value of state tracking during generation\n",
    "   - Importance of flexible execution in memory creation"
   ]
  },
  {
   "cell_type": "markdown",
   "id": "3d550fa8-889d-4b28-9b2a-6fcdc5fef755",
   "metadata": {},
   "source": [
    "## Key Components\n",
    "1. **State Management System**: \n",
    "   - Maintains workflow state using Pydantic models\n",
    "   - Tracks interaction, memory schema, labels, and memories\n",
    "   - Ensures type safety and data validation\n",
    "\n",
    "2. **LLM Integration**: \n",
    "   - Leverages OpenAI's GPT-4 mini model\n",
    "   - Generates memories based on schema types:\n",
    "     - Episodic: Experience-based memories\n",
    "     - Semantic: Knowledge-based memories\n",
    "     - Procedural: Process-based memories\n",
    "     - Prospective: Future-oriented memories\n",
    "\n",
    "3. **Graph-based Workflow**: \n",
    "   - Uses LangGraph's StateGraph for orchestration\n",
    "   - Implements memory type determination node\n",
    "   - Controls memory generation through edges\n",
    "\n",
    "4. **Memory Structure**:\n",
    "   - Follows hierarchical organization\n",
    "   - Maintains context with each memory\n",
    "   - Supports multiple memory types"
   ]
  },
  {
   "cell_type": "markdown",
   "id": "cd2aede6-78c8-40e4-9b14-85a58f77f98f",
   "metadata": {},
   "source": [
    "## Method\n",
    "The system follows this workflow:\n",
    "\n",
    "1. **Initialization**:\n",
    "   - Takes interaction and memory schema as input\n",
    "   - Sets up state management system\n",
    "   - Initializes LLM client\n",
    "\n",
    "2. **Memory Type Determination**:\n",
    "   - Analyzes interaction against schema\n",
    "   - Selects relevant memory types\n",
    "   - Prepares memory labels\n",
    "\n",
    "3. **Memory Generation**:\n",
    "   - Processes each memory label\n",
    "   - Generates structured memories\n",
    "   - Updates state with results\n",
    "\n",
    "4. **Flow Control**:\n",
    "   - Manages generation process\n",
    "   - Controls workflow completion\n",
    "   - Maintains generation state"
   ]
  },
  {
   "cell_type": "markdown",
   "id": "a37b3700-fb63-4d15-b740-9643210a4bc8",
   "metadata": {},
   "source": [
    "## Visual Overview\n",
    "A flowchart representing the design and flow of the workflow."
   ]
  },
  {
   "cell_type": "markdown",
   "id": "6114383f-c940-4b69-bc90-9912161ca0e7",
   "metadata": {},
   "source": [
    "<div style=\"max-width:400px;\">\n",
    "    \n",
    "![image.png](../images/memory_generation.png)\n",
    "    \n",
    "</div>"
   ]
  },
  {
   "cell_type": "markdown",
   "id": "8cf758b1-e1c3-499b-bf29-b51264d8d0be",
   "metadata": {},
   "source": [
    "## Conclusion\n",
    "This implementation demonstrates a practical approach to automated memory generation. The system combines graph-based workflow management with LLM capabilities, allowing for structured memory creation while maintaining clear process control.\n",
    "\n",
    "Key advantages include:\n",
    "- Structured memory generation workflow\n",
    "- Clear state management\n",
    "- Schema-based organization\n",
    "- Modular node processing\n",
    "\n",
    "Future improvements could focus on:\n",
    "- Enhanced memory validation\n",
    "- Error handling mechanisms\n",
    "- State persistence strategies\n",
    "- Workflow optimization techniques\n",
    "\n",
    "This system provides a foundation for building more sophisticated memory generation systems, particularly in applications requiring structured knowledge creation and process control."
   ]
  },
  {
   "cell_type": "markdown",
   "id": "01726055-58e2-42f0-953d-50a58ef25544",
   "metadata": {},
   "source": [
    "# Dependencies and Imports\n",
    "Install dependencies and import libraries."
   ]
  },
  {
   "cell_type": "code",
   "execution_count": 1,
   "id": "4c6a6ae2-8687-4c70-82a7-34959555dcfb",
   "metadata": {},
   "outputs": [],
   "source": [
    "%%capture\n",
    "\n",
    "!pip install langgraph\n",
    "!pip install langgraph-sdk\n",
    "!pip install langgraph-checkpoint-sqlite\n",
    "!pip install langchain-community\n",
    "!pip install langchain-core\n",
    "!pip install langchain-openai"
   ]
  },
  {
   "cell_type": "code",
   "execution_count": 2,
   "id": "a851309b-b375-481d-bc58-f3fc314a1ed4",
   "metadata": {},
   "outputs": [],
   "source": [
    "from langchain_core.prompts import ChatPromptTemplate\n",
    "from langgraph.graph import StateGraph, END\n",
    "from langchain.schema import HumanMessage\n",
    "from langchain_openai import ChatOpenAI\n",
    "\n",
    "from pydantic import BaseModel\n",
    "from typing import Optional\n",
    "\n",
    "import os\n"
   ]
  },
  {
   "cell_type": "markdown",
   "id": "405fcf49-c87e-46e2-a3fc-1c8fde6d25fa",
   "metadata": {},
   "source": [
    "## Clients\n",
    "Import API keys and instantiate clients."
   ]
  },
  {
   "cell_type": "code",
   "execution_count": 10,
   "id": "bb54e70c-cc2e-4907-a240-758b2540f30d",
   "metadata": {},
   "outputs": [],
   "source": [
    "os.environ['OPENAI_API_KEY'] = 'YOUR-API-KEY'\n",
    "llm = ChatOpenAI(model='gpt-4o-mini')"
   ]
  },
  {
   "cell_type": "markdown",
   "id": "83900a95-a236-471b-bcc0-02d61b887b3b",
   "metadata": {},
   "source": [
    "## Define Agent State\n",
    "We'll define the state that our agent will maintain throughout its operation.\n"
   ]
  },
  {
   "cell_type": "code",
   "execution_count": 4,
   "id": "0de61661-51b0-4ad3-b6f5-f3caa168d6c2",
   "metadata": {},
   "outputs": [],
   "source": [
    "class State(BaseModel):\n",
    "    interaction: str\n",
    "    memory_schema: list[str] = []\n",
    "    memory_labels: list[str] = []\n",
    "    memories: list[str] = []"
   ]
  },
  {
   "cell_type": "markdown",
   "id": "e3687655-3137-434c-84bc-8dd295f54d72",
   "metadata": {},
   "source": [
    "## Define Node Functions\n",
    "Now we'll define the main node functions that our agent will use: generate_schema and update_instructions.\n"
   ]
  },
  {
   "cell_type": "code",
   "execution_count": 5,
   "id": "5e15d8cc-8b36-4289-ad4a-3343226ba2f3",
   "metadata": {},
   "outputs": [],
   "source": [
    "def memory_type_determination_node(state: State):\n",
    "    ''' Determine Memory Types '''\n",
    "    prompt = ChatPromptTemplate.from_template(\n",
    "        'You are tasked with selecting the types of memories to generate for the following interaction:'\n",
    "        '{interaction}'\n",
    "        'You must carefully choose N memory types from the following predetermined memory schema[# memory_type ## memory_label ### memory_description] :'\n",
    "        '{memory_schema}'\n",
    "        'The chosen memory types must be critical in the formation of valuable memories based on the interaction.'\n",
    "        'The response must include only the memory_label and memory_description of the selected memory type. Do not include the meory_type.'\n",
    "        'Response Format: ## memory_label ### memory_description|...|## memory_label ### memory_description'\n",
    "    )\n",
    "    message = HumanMessage(content=prompt.format(interaction=state.interaction, memory_schema=state.memory_schema))\n",
    "    memory_labels = llm.invoke([message]).content.strip().split('|')\n",
    "\n",
    "    state.memory_labels = memory_labels\n",
    "    return state\n",
    "\n",
    "\n",
    "def memory_generation_node(state: State):\n",
    "    ''' Generate Memory '''\n",
    "    memory_label = state.memory_labels[0]\n",
    "    prompt = ChatPromptTemplate.from_template(\n",
    "        'You are tasked with generating a memory for a given interaction and memory_label.'\n",
    "        'Interaction:'\n",
    "        '{interaction}'\n",
    "        'Memory Type[## memory_label ### memory_description] :'\n",
    "        '{memory_label}'\n",
    "        'Response Format: # memory_label ## memory_content ### memory_context'\n",
    "    )\n",
    "    message = HumanMessage(content=prompt.format(interaction=state.interaction, memory_schema=state.memory_schema, memory_label=memory_label))\n",
    "    memory = llm.invoke([message]).content.strip()\n",
    "    state.memory_labels.pop(0)\n",
    "    state.memories.append(memory)\n",
    "    return state\n",
    "    "
   ]
  },
  {
   "cell_type": "markdown",
   "id": "65fe049c-efda-4cc9-aa81-44b8fc534434",
   "metadata": {},
   "source": [
    "## Define Edge Functions\n",
    "Now we'll define the conditional edge function that our agent will use to control the workflow."
   ]
  },
  {
   "cell_type": "code",
   "execution_count": 6,
   "id": "898b3b42-9475-45d1-b517-26a889ff6687",
   "metadata": {},
   "outputs": [],
   "source": [
    "def generate_memory(state: State):\n",
    "    if state.memory_labels:\n",
    "        return 'memory_generation_node'\n",
    "    else:\n",
    "        return END\n",
    "    "
   ]
  },
  {
   "cell_type": "markdown",
   "id": "14b4075e-b6f4-4410-a7ec-8405000984d1",
   "metadata": {},
   "source": [
    "## Build Workflow\n",
    "Now we'll create our workflow and compile it.\n"
   ]
  },
  {
   "cell_type": "code",
   "execution_count": 7,
   "id": "b3fafb0c-8e75-4b1c-99d0-64978b40a45e",
   "metadata": {},
   "outputs": [],
   "source": [
    "builder = StateGraph(State)\n",
    "\n",
    "# Add nodes to the graph\n",
    "builder.add_node('memory_type_determination_node', memory_type_determination_node)\n",
    "builder.add_node('memory_generation_node', memory_generation_node)\n",
    "\n",
    "# Add edges to the graph\n",
    "builder.set_entry_point('memory_type_determination_node')\n",
    "builder.add_conditional_edges('memory_type_determination_node', generate_memory)\n",
    "builder.add_conditional_edges('memory_generation_node', generate_memory)\n",
    "\n",
    "# Compile the graph\n",
    "graph = builder.compile()"
   ]
  },
  {
   "cell_type": "markdown",
   "id": "ba4fec8a-1b6d-4f2a-8d49-b31ba55122dc",
   "metadata": {},
   "source": [
    "# Main Function\n",
    "Define the function that runs the instanciates the workflow and its state."
   ]
  },
  {
   "cell_type": "code",
   "execution_count": 8,
   "id": "465b71e0-3aca-4e66-a240-5886b29792fc",
   "metadata": {},
   "outputs": [],
   "source": [
    "def run_memory_generator(interaction: str, memory_schema: list):\n",
    "    state = State(interaction=interaction, memory_schema=memory_schema)\n",
    "    \n",
    "    for output in graph.stream(state):\n",
    "        print(output)\n",
    "        pass"
   ]
  },
  {
   "cell_type": "markdown",
   "id": "a7dc740e-322a-444f-8140-8e72b2c71160",
   "metadata": {},
   "source": [
    "# Run Program\n",
    "Instanciate the main function and observe outputs."
   ]
  },
  {
   "cell_type": "code",
   "execution_count": 9,
   "id": "9b19f3af-cc4c-4201-bc3b-15588c112ea4",
   "metadata": {},
   "outputs": [
    {
     "name": "stdout",
     "output_type": "stream",
     "text": [
      "{'memory_type_determination_node': {'interaction': 'I created', 'memory_schema': ['# episodic ## tutoring_sessions ### A record of individual tutoring sessions, including details such as the date, subject matter, student feedback, and specific challenges faced during the session. This memory helps the agents recall past interactions and improve future sessions based on previous experiences.', '# semantic ## subject_knowledge ### A structured repository of knowledge on various subjects, including definitions, key concepts, and common problems encountered in tutoring. This memory allows agents to provide accurate information and explanations to students.', '# procedural ## tutoring_process ### A step-by-step guide outlining the approach agents should take when conducting a tutoring session, including preparation, delivery of content, engagement strategies, and assessment methods. This memory ensures a consistent and effective tutoring experience across all agents.', '# prospective ## future_goals ### A list of objectives and milestones for both students and agents, including skill acquisition targets, progress tracking, and plans for future sessions. This memory helps agents stay focused on the educational journey of their students and encourages proactive planning.'], 'memory_labels': ['## tutoring_sessions ### A record of individual tutoring sessions, including details such as the date, subject matter, student feedback, and specific challenges faced during the session. This memory helps the agents recall past interactions and improve future sessions based on previous experiences.', '## subject_knowledge ### A structured repository of knowledge on various subjects, including definitions, key concepts, and common problems encountered in tutoring. This memory allows agents to provide accurate information and explanations to students.', '## tutoring_process ### A step-by-step guide outlining the approach agents should take when conducting a tutoring session, including preparation, delivery of content, engagement strategies, and assessment methods. This memory ensures a consistent and effective tutoring experience across all agents.', '## future_goals ### A list of objectives and milestones for both students and agents, including skill acquisition targets, progress tracking, and plans for future sessions. This memory helps agents stay focused on the educational journey of their students and encourages proactive planning.'], 'memories': []}}\n",
      "{'memory_generation_node': {'interaction': 'I created', 'memory_schema': ['# episodic ## tutoring_sessions ### A record of individual tutoring sessions, including details such as the date, subject matter, student feedback, and specific challenges faced during the session. This memory helps the agents recall past interactions and improve future sessions based on previous experiences.', '# semantic ## subject_knowledge ### A structured repository of knowledge on various subjects, including definitions, key concepts, and common problems encountered in tutoring. This memory allows agents to provide accurate information and explanations to students.', '# procedural ## tutoring_process ### A step-by-step guide outlining the approach agents should take when conducting a tutoring session, including preparation, delivery of content, engagement strategies, and assessment methods. This memory ensures a consistent and effective tutoring experience across all agents.', '# prospective ## future_goals ### A list of objectives and milestones for both students and agents, including skill acquisition targets, progress tracking, and plans for future sessions. This memory helps agents stay focused on the educational journey of their students and encourages proactive planning.'], 'memory_labels': ['## subject_knowledge ### A structured repository of knowledge on various subjects, including definitions, key concepts, and common problems encountered in tutoring. This memory allows agents to provide accurate information and explanations to students.', '## tutoring_process ### A step-by-step guide outlining the approach agents should take when conducting a tutoring session, including preparation, delivery of content, engagement strategies, and assessment methods. This memory ensures a consistent and effective tutoring experience across all agents.', '## future_goals ### A list of objectives and milestones for both students and agents, including skill acquisition targets, progress tracking, and plans for future sessions. This memory helps agents stay focused on the educational journey of their students and encourages proactive planning.'], 'memories': ['# tutoring_sessions  \\n## Memory Content  \\nDate: October 10, 2023  \\nSubject Matter: Algebra - Quadratic Equations  \\nStudent Feedback: \"I found the session really helpful, especially the way you explained the factoring method.\"  \\nSpecific Challenges: The student struggled with understanding the difference between the quadratic formula and factoring.  \\n### Memory Context  \\nThis record helps in planning future sessions by focusing on the student\\'s understanding of quadratic equations and reinforces the need to clarify the distinctions between different solving methods.']}}\n",
      "{'memory_generation_node': {'interaction': 'I created', 'memory_schema': ['# episodic ## tutoring_sessions ### A record of individual tutoring sessions, including details such as the date, subject matter, student feedback, and specific challenges faced during the session. This memory helps the agents recall past interactions and improve future sessions based on previous experiences.', '# semantic ## subject_knowledge ### A structured repository of knowledge on various subjects, including definitions, key concepts, and common problems encountered in tutoring. This memory allows agents to provide accurate information and explanations to students.', '# procedural ## tutoring_process ### A step-by-step guide outlining the approach agents should take when conducting a tutoring session, including preparation, delivery of content, engagement strategies, and assessment methods. This memory ensures a consistent and effective tutoring experience across all agents.', '# prospective ## future_goals ### A list of objectives and milestones for both students and agents, including skill acquisition targets, progress tracking, and plans for future sessions. This memory helps agents stay focused on the educational journey of their students and encourages proactive planning.'], 'memory_labels': ['## tutoring_process ### A step-by-step guide outlining the approach agents should take when conducting a tutoring session, including preparation, delivery of content, engagement strategies, and assessment methods. This memory ensures a consistent and effective tutoring experience across all agents.', '## future_goals ### A list of objectives and milestones for both students and agents, including skill acquisition targets, progress tracking, and plans for future sessions. This memory helps agents stay focused on the educational journey of their students and encourages proactive planning.'], 'memories': ['# tutoring_sessions  \\n## Memory Content  \\nDate: October 10, 2023  \\nSubject Matter: Algebra - Quadratic Equations  \\nStudent Feedback: \"I found the session really helpful, especially the way you explained the factoring method.\"  \\nSpecific Challenges: The student struggled with understanding the difference between the quadratic formula and factoring.  \\n### Memory Context  \\nThis record helps in planning future sessions by focusing on the student\\'s understanding of quadratic equations and reinforces the need to clarify the distinctions between different solving methods.', '# subject_knowledge  \\n## A structured repository of knowledge on various subjects, including definitions, key concepts, and common problems encountered in tutoring. This memory allows agents to provide accurate information and explanations to students.  \\n### This memory is designed to enhance the tutoring experience by equipping agents with essential information across diverse topics, enabling them to address student inquiries effectively and provide clear, informative responses tailored to individual learning needs.']}}\n",
      "{'memory_generation_node': {'interaction': 'I created', 'memory_schema': ['# episodic ## tutoring_sessions ### A record of individual tutoring sessions, including details such as the date, subject matter, student feedback, and specific challenges faced during the session. This memory helps the agents recall past interactions and improve future sessions based on previous experiences.', '# semantic ## subject_knowledge ### A structured repository of knowledge on various subjects, including definitions, key concepts, and common problems encountered in tutoring. This memory allows agents to provide accurate information and explanations to students.', '# procedural ## tutoring_process ### A step-by-step guide outlining the approach agents should take when conducting a tutoring session, including preparation, delivery of content, engagement strategies, and assessment methods. This memory ensures a consistent and effective tutoring experience across all agents.', '# prospective ## future_goals ### A list of objectives and milestones for both students and agents, including skill acquisition targets, progress tracking, and plans for future sessions. This memory helps agents stay focused on the educational journey of their students and encourages proactive planning.'], 'memory_labels': ['## future_goals ### A list of objectives and milestones for both students and agents, including skill acquisition targets, progress tracking, and plans for future sessions. This memory helps agents stay focused on the educational journey of their students and encourages proactive planning.'], 'memories': ['# tutoring_sessions  \\n## Memory Content  \\nDate: October 10, 2023  \\nSubject Matter: Algebra - Quadratic Equations  \\nStudent Feedback: \"I found the session really helpful, especially the way you explained the factoring method.\"  \\nSpecific Challenges: The student struggled with understanding the difference between the quadratic formula and factoring.  \\n### Memory Context  \\nThis record helps in planning future sessions by focusing on the student\\'s understanding of quadratic equations and reinforces the need to clarify the distinctions between different solving methods.', '# subject_knowledge  \\n## A structured repository of knowledge on various subjects, including definitions, key concepts, and common problems encountered in tutoring. This memory allows agents to provide accurate information and explanations to students.  \\n### This memory is designed to enhance the tutoring experience by equipping agents with essential information across diverse topics, enabling them to address student inquiries effectively and provide clear, informative responses tailored to individual learning needs.', \"# tutoring_process  \\n## A step-by-step guide outlining the approach agents should take when conducting a tutoring session, including preparation, delivery of content, engagement strategies, and assessment methods. This memory ensures a consistent and effective tutoring experience across all agents.  \\n\\n### memory_content  \\n1. **Preparation**  \\n   - Assess the student's current knowledge and skills.  \\n   - Set clear learning objectives for the session.  \\n   - Gather necessary materials and resources (worksheets, multimedia, etc.).  \\n   - Create a structured lesson plan that outlines key topics and activities.  \\n\\n2. **Delivery of Content**  \\n   - Begin with an engaging introduction to capture the student's interest.  \\n   - Present information clearly, using examples and visuals to enhance understanding.  \\n   - Encourage questions throughout the session to foster a two-way dialogue.  \\n   - Break down complex concepts into manageable parts to facilitate comprehension.  \\n\\n3. **Engagement Strategies**  \\n   - Use interactive activities (quizzes, games, discussions) to maintain student interest.  \\n   - Incorporate real-life applications of the material to make learning relevant.  \\n   - Adjust teaching methods based on the student's learning style and preferences.  \\n   - Provide positive reinforcement and constructive feedback to boost confidence.  \\n\\n4. **Assessment Methods**  \\n   - Use formative assessments (quizzes, oral questioning) during the session to gauge understanding.  \\n   - Summarize key points at the end of the session to reinforce learning.  \\n   - Assign practice exercises for the student to complete independently.  \\n   - Schedule follow-up sessions to review progress and address any lingering questions.  \\n\\n### memory_context  \\nThis memory serves as a comprehensive guide for agents conducting tutoring sessions, ensuring that each interaction is effective, structured, and tailored to meet the needs of the student. By following this process, agents can provide a consistent and high-quality tutoring experience that promotes student learning and engagement.\"]}}\n",
      "{'memory_generation_node': {'interaction': 'I created', 'memory_schema': ['# episodic ## tutoring_sessions ### A record of individual tutoring sessions, including details such as the date, subject matter, student feedback, and specific challenges faced during the session. This memory helps the agents recall past interactions and improve future sessions based on previous experiences.', '# semantic ## subject_knowledge ### A structured repository of knowledge on various subjects, including definitions, key concepts, and common problems encountered in tutoring. This memory allows agents to provide accurate information and explanations to students.', '# procedural ## tutoring_process ### A step-by-step guide outlining the approach agents should take when conducting a tutoring session, including preparation, delivery of content, engagement strategies, and assessment methods. This memory ensures a consistent and effective tutoring experience across all agents.', '# prospective ## future_goals ### A list of objectives and milestones for both students and agents, including skill acquisition targets, progress tracking, and plans for future sessions. This memory helps agents stay focused on the educational journey of their students and encourages proactive planning.'], 'memory_labels': [], 'memories': ['# tutoring_sessions  \\n## Memory Content  \\nDate: October 10, 2023  \\nSubject Matter: Algebra - Quadratic Equations  \\nStudent Feedback: \"I found the session really helpful, especially the way you explained the factoring method.\"  \\nSpecific Challenges: The student struggled with understanding the difference between the quadratic formula and factoring.  \\n### Memory Context  \\nThis record helps in planning future sessions by focusing on the student\\'s understanding of quadratic equations and reinforces the need to clarify the distinctions between different solving methods.', '# subject_knowledge  \\n## A structured repository of knowledge on various subjects, including definitions, key concepts, and common problems encountered in tutoring. This memory allows agents to provide accurate information and explanations to students.  \\n### This memory is designed to enhance the tutoring experience by equipping agents with essential information across diverse topics, enabling them to address student inquiries effectively and provide clear, informative responses tailored to individual learning needs.', \"# tutoring_process  \\n## A step-by-step guide outlining the approach agents should take when conducting a tutoring session, including preparation, delivery of content, engagement strategies, and assessment methods. This memory ensures a consistent and effective tutoring experience across all agents.  \\n\\n### memory_content  \\n1. **Preparation**  \\n   - Assess the student's current knowledge and skills.  \\n   - Set clear learning objectives for the session.  \\n   - Gather necessary materials and resources (worksheets, multimedia, etc.).  \\n   - Create a structured lesson plan that outlines key topics and activities.  \\n\\n2. **Delivery of Content**  \\n   - Begin with an engaging introduction to capture the student's interest.  \\n   - Present information clearly, using examples and visuals to enhance understanding.  \\n   - Encourage questions throughout the session to foster a two-way dialogue.  \\n   - Break down complex concepts into manageable parts to facilitate comprehension.  \\n\\n3. **Engagement Strategies**  \\n   - Use interactive activities (quizzes, games, discussions) to maintain student interest.  \\n   - Incorporate real-life applications of the material to make learning relevant.  \\n   - Adjust teaching methods based on the student's learning style and preferences.  \\n   - Provide positive reinforcement and constructive feedback to boost confidence.  \\n\\n4. **Assessment Methods**  \\n   - Use formative assessments (quizzes, oral questioning) during the session to gauge understanding.  \\n   - Summarize key points at the end of the session to reinforce learning.  \\n   - Assign practice exercises for the student to complete independently.  \\n   - Schedule follow-up sessions to review progress and address any lingering questions.  \\n\\n### memory_context  \\nThis memory serves as a comprehensive guide for agents conducting tutoring sessions, ensuring that each interaction is effective, structured, and tailored to meet the needs of the student. By following this process, agents can provide a consistent and high-quality tutoring experience that promotes student learning and engagement.\", \"# future_goals  \\n## memory_content  \\n- **Objectives for Students:**  \\n  1. **Skill Acquisition Targets:** Each student will focus on mastering specific skills based on their individual learning plans, such as critical thinking, problem-solving, and effective communication.\\n  2. **Progress Tracking:** Monthly assessments will be conducted to monitor each student's development in their targeted skills, with feedback provided to help them improve.\\n  3. **Future Sessions Planning:** Schedule bi-weekly sessions that incorporate project-based learning, where students can apply their skills in real-world scenarios.\\n\\n- **Objectives for Agents:**  \\n  1. **Skill Development:** Agents will work on enhancing their instructional strategies and learning facilitation techniques through professional development workshops.\\n  2. **Tracking Student Engagement:** Implement a system to track student participation and engagement during sessions, enabling agents to tailor their approaches accordingly.\\n  3. **Collaborative Planning:** Agents will meet monthly to discuss student progress and adjust educational strategies to align with individual student needs.\\n\\n### memory_context  \\nThis memory serves to guide both students and agents in their educational journeys, ensuring they remain focused on key objectives and milestones. By outlining specific skill acquisition targets and establishing a clear plan for monitoring progress, both parties can engage in proactive planning that fosters a supportive and effective learning environment.\"]}}\n"
     ]
    }
   ],
   "source": [
    "memory_schema = [\n",
    "    '# episodic ## tutoring_sessions ### A record of individual tutoring sessions, including details such as the date, subject matter, student feedback, and specific challenges faced during the session. This memory helps the agents recall past interactions and improve future sessions based on previous experiences.',\n",
    "    '# semantic ## subject_knowledge ### A structured repository of knowledge on various subjects, including definitions, key concepts, and common problems encountered in tutoring. This memory allows agents to provide accurate information and explanations to students.',\n",
    "    '# procedural ## tutoring_process ### A step-by-step guide outlining the approach agents should take when conducting a tutoring session, including preparation, delivery of content, engagement strategies, and assessment methods. This memory ensures a consistent and effective tutoring experience across all agents.',\n",
    "    '# prospective ## future_goals ### A list of objectives and milestones for both students and agents, including skill acquisition targets, progress tracking, and plans for future sessions. This memory helps agents stay focused on the educational journey of their students and encourages proactive planning.',\n",
    "]\n",
    "run_memory_generator(interaction='I created', memory_schema=memory_schema)"
   ]
  },
  {
   "cell_type": "code",
   "execution_count": null,
   "id": "c9b58ae3-5165-42e4-8b73-632e49e5a19e",
   "metadata": {},
   "outputs": [],
   "source": []
  }
 ],
 "metadata": {
  "kernelspec": {
   "display_name": "Python 3 (ipykernel)",
   "language": "python",
   "name": "python3"
  },
  "language_info": {
   "codemirror_mode": {
    "name": "ipython",
    "version": 3
   },
   "file_extension": ".py",
   "mimetype": "text/x-python",
   "name": "python",
   "nbconvert_exporter": "python",
   "pygments_lexer": "ipython3",
   "version": "3.10.9"
  }
 },
 "nbformat": 4,
 "nbformat_minor": 5
}
