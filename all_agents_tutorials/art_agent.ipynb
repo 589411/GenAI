{
 "cells": [
  {
   "cell_type": "markdown",
   "metadata": {
    "vscode": {
     "languageId": "plaintext"
    }
   },
   "source": [
    "<a href=\"https://colab.research.google.com/github/MichaelDeng03/GenAI_Agents/blob/main/all_agents_tutorials/art_agent.ipynb\" target=\"_parent\"><img src=\"https://colab.research.google.com/assets/colab-badge.svg\" alt=\"Open In Colab\"/></a>"
   ]
  },
  {
   "cell_type": "markdown",
   "metadata": {
    "vscode": {
     "languageId": "plaintext"
    }
   },
   "source": [
    "# Interactive Art Agent\n",
    "This tutorial will walk through the creation of an AI Agent that helps you explore and learn art!\n",
    "\n",
    "### Overview\n",
    "For knowledge retrieval, this tutorial uses [LightRAG](https://github.com/HKUDS/LightRAG) which is knowledge graph based RAG implementation. Compared to GraphRAG, LightRAG is more accurate for single topic datasets, and uses 1,000x less tokens for retrieval. Furthermore, documents can be added to LightRAG incrementally without rebuilding the knowledge graph. See the full results in the [paper](https://arxiv.org/abs/2410.05779).\n",
    "\n",
    "For the agent itself, we use LangGraph.\n",
    "\n",
    "### Outline\n",
    "0. [Setup](#setup)\n",
    "1. [Data Preparation + RAG](#data-preparation--rag)\n",
    "2. [Agent Creation](#agent-creation)\n",
    "3. [Final App](#final-app)"
   ]
  },
  {
   "cell_type": "markdown",
   "metadata": {
    "vscode": {
     "languageId": "plaintext"
    }
   },
   "source": [
    "### Setup"
   ]
  },
  {
   "cell_type": "code",
   "execution_count": 7,
   "metadata": {},
   "outputs": [
    {
     "name": "stdout",
     "output_type": "stream",
     "text": [
      "\u001b[2mUsing Python 3.12.6 environment at /Users/kentgang/git2/GenAI_Agents/.venv\u001b[0m\n",
      "\u001b[2K\u001b[2mResolved \u001b[1m180 packages\u001b[0m \u001b[2min 275ms\u001b[0m\u001b[0m                                       \u001b[0m\n",
      "\u001b[2K\u001b[37m⠙\u001b[0m \u001b[2mPreparing packages...\u001b[0m (0/5)                                                   \n",
      "\u001b[2K\u001b[1A\u001b[37m⠙\u001b[0m \u001b[2mPreparing packages...\u001b[0m (0/5)----------\u001b[0m\u001b[0m     0 B/25.73 KiB               \u001b[1A\n",
      "\u001b[2mipython-genutils\u001b[0m \u001b[32m\u001b[2m------------------------------\u001b[0m\u001b[0m     0 B/25.73 KiB\n",
      "\u001b[2K\u001b[2A\u001b[37m⠙\u001b[0m \u001b[2mPreparing packages...\u001b[0m (0/5)------------\u001b[0m\u001b[0m     0 B/1.48 MiB              \u001b[2A\n",
      "\u001b[2mipython-genutils\u001b[0m \u001b[32m\u001b[2m------------------------------\u001b[0m\u001b[0m     0 B/25.73 KiB\n",
      "\u001b[2mipywidgets\u001b[0m \u001b[32m\u001b[2m------------------------------\u001b[0m\u001b[0m     0 B/120.49 KiB\n",
      "\u001b[2K\u001b[3A\u001b[37m⠙\u001b[0m \u001b[2mPreparing packages...\u001b[0m (0/5)------------\u001b[0m\u001b[0m     0 B/1.48 MiB              \u001b[3A\n",
      "\u001b[2mipython-genutils\u001b[0m \u001b[32m\u001b[2m------------------------------\u001b[0m\u001b[0m     0 B/25.73 KiB\n",
      "\u001b[2mipywidgets\u001b[0m \u001b[32m----\u001b[2m--------------------------\u001b[0m\u001b[0m 16.00 KiB/120.49 KiB\n",
      "\u001b[2K\u001b[3A\u001b[37m⠙\u001b[0m \u001b[2mPreparing packages...\u001b[0m (0/5)------------\u001b[0m\u001b[0m     0 B/1.48 MiB              \u001b[3A\n",
      "\u001b[2mipython-genutils\u001b[0m \u001b[32m-------------------\u001b[2m-----------\u001b[0m\u001b[0m 16.00 KiB/25.73 KiB\n",
      "\u001b[2mipywidgets\u001b[0m \u001b[32m----\u001b[2m--------------------------\u001b[0m\u001b[0m 16.00 KiB/120.49 KiB\n",
      "\u001b[2K\u001b[3A\u001b[37m⠙\u001b[0m \u001b[2mPreparing packages...\u001b[0m (0/5)------------\u001b[0m\u001b[0m     0 B/1.48 MiB              \u001b[3A\n",
      "\u001b[2mipython-genutils\u001b[0m \u001b[32m------------------------------\u001b[2m\u001b[0m\u001b[0m 25.73 KiB/25.73 KiB\n",
      "\u001b[2mipywidgets\u001b[0m \u001b[32m----\u001b[2m--------------------------\u001b[0m\u001b[0m 16.00 KiB/120.49 KiB\n",
      "\u001b[2K\u001b[3A\u001b[37m⠙\u001b[0m \u001b[2mPreparing packages...\u001b[0m (0/5)------------\u001b[0m\u001b[0m     0 B/1.48 MiB              \u001b[3A\n",
      "\u001b[2mipython-genutils\u001b[0m \u001b[32m------------------------------\u001b[2m\u001b[0m\u001b[0m 25.73 KiB/25.73 KiB\n",
      "\u001b[2mipywidgets\u001b[0m \u001b[32m--------\u001b[2m----------------------\u001b[0m\u001b[0m 32.00 KiB/120.49 KiB\n",
      "\u001b[2K\u001b[3A\u001b[37m⠙\u001b[0m \u001b[2mPreparing packages...\u001b[0m (0/5)------------\u001b[0m\u001b[0m     0 B/1.48 MiB              \u001b[3A\n",
      "\u001b[2mipywidgets\u001b[0m \u001b[32m--------\u001b[2m----------------------\u001b[0m\u001b[0m 32.00 KiB/120.49 KiB\n",
      "\u001b[2K\u001b[2A\u001b[37m⠙\u001b[0m \u001b[2mPreparing packages...\u001b[0m (0/5)------------\u001b[0m\u001b[0m     0 B/1.48 MiB              \u001b[2A\n",
      "\u001b[2mipywidgets\u001b[0m \u001b[32m------------\u001b[2m------------------\u001b[0m\u001b[0m 48.00 KiB/120.49 KiB\n",
      "\u001b[2K\u001b[2A\u001b[37m⠙\u001b[0m \u001b[2mPreparing packages...\u001b[0m (0/5)------------\u001b[0m\u001b[0m     0 B/1.48 MiB              \u001b[2A\n",
      "\u001b[2mipywidgets\u001b[0m \u001b[32m----------------\u001b[2m--------------\u001b[0m\u001b[0m 64.00 KiB/120.49 KiB\n",
      "\u001b[2K\u001b[2A\u001b[37m⠙\u001b[0m \u001b[2mPreparing packages...\u001b[0m (0/5)------------\u001b[0m\u001b[0m     0 B/1.48 MiB              \u001b[2A\n",
      "\u001b[2mipywidgets\u001b[0m \u001b[32m--------------------\u001b[2m----------\u001b[0m\u001b[0m 77.80 KiB/120.49 KiB\n",
      "\u001b[2K\u001b[2A\u001b[37m⠙\u001b[0m \u001b[2mPreparing packages...\u001b[0m (0/5)------------\u001b[0m\u001b[0m     0 B/1.48 MiB              \u001b[2A\n",
      "\u001b[2mipywidgets\u001b[0m \u001b[32m--------------------\u001b[2m----------\u001b[0m\u001b[0m 77.80 KiB/120.49 KiB\n",
      "\u001b[2K\u001b[2A\u001b[37m⠙\u001b[0m \u001b[2mPreparing packages...\u001b[0m (0/5)------------\u001b[0m\u001b[0m 16.00 KiB/1.48 MiB            \u001b[2A\n",
      "\u001b[2mipywidgets\u001b[0m \u001b[32m--------------------\u001b[2m----------\u001b[0m\u001b[0m 77.80 KiB/120.49 KiB\n",
      "\u001b[2mwidgetsnbextension\u001b[0m \u001b[32m-\u001b[2m-----------------------------\u001b[0m\u001b[0m 16.00 KiB/1.48 MiB\n",
      "\u001b[2K\u001b[3A\u001b[37m⠙\u001b[0m \u001b[2mPreparing packages...\u001b[0m (0/5)----\u001b[0m\u001b[0m     0 B/11.10 MiB                     \u001b[3A\n",
      "\u001b[2mipywidgets\u001b[0m \u001b[32m--------------------\u001b[2m----------\u001b[0m\u001b[0m 77.80 KiB/120.49 KiB\n",
      "\u001b[2mwidgetsnbextension\u001b[0m \u001b[32m-\u001b[2m-----------------------------\u001b[0m\u001b[0m 16.00 KiB/1.48 MiB\n",
      "\u001b[2mnotebook  \u001b[0m \u001b[32m\u001b[2m------------------------------\u001b[0m\u001b[0m     0 B/4.80 MiB\n",
      "\u001b[2K\u001b[4A\u001b[37m⠙\u001b[0m \u001b[2mPreparing packages...\u001b[0m (0/5)----\u001b[0m\u001b[0m     0 B/11.10 MiB                     \u001b[4A\n",
      "\u001b[2mipywidgets\u001b[0m \u001b[32m------------------------\u001b[2m------\u001b[0m\u001b[0m 93.80 KiB/120.49 KiB\n",
      "\u001b[2mwidgetsnbextension\u001b[0m \u001b[32m-\u001b[2m-----------------------------\u001b[0m\u001b[0m 16.00 KiB/1.48 MiB\n",
      "\u001b[2mnotebook  \u001b[0m \u001b[32m\u001b[2m------------------------------\u001b[0m\u001b[0m     0 B/4.80 MiB\n",
      "\u001b[2K\u001b[4A\u001b[37m⠙\u001b[0m \u001b[2mPreparing packages...\u001b[0m (0/5)----\u001b[0m\u001b[0m     0 B/11.10 MiB                     \u001b[4A\n",
      "\u001b[2mipywidgets\u001b[0m \u001b[32m----------------------------\u001b[2m--\u001b[0m\u001b[0m 109.80 KiB/120.49 KiB\n",
      "\u001b[2mwidgetsnbextension\u001b[0m \u001b[32m-\u001b[2m-----------------------------\u001b[0m\u001b[0m 16.00 KiB/1.48 MiB\n",
      "\u001b[2mnotebook  \u001b[0m \u001b[32m\u001b[2m------------------------------\u001b[0m\u001b[0m     0 B/4.80 MiB\n",
      "\u001b[2K\u001b[4A\u001b[37m⠙\u001b[0m \u001b[2mPreparing packages...\u001b[0m (0/5)----\u001b[0m\u001b[0m     0 B/11.10 MiB                     \u001b[4A\n",
      "\u001b[2mipywidgets\u001b[0m \u001b[32m------------------------------\u001b[2m\u001b[0m\u001b[0m 120.49 KiB/120.49 KiB\n",
      "\u001b[2mwidgetsnbextension\u001b[0m \u001b[32m-\u001b[2m-----------------------------\u001b[0m\u001b[0m 16.00 KiB/1.48 MiB\n",
      "\u001b[2mnotebook  \u001b[0m \u001b[32m\u001b[2m------------------------------\u001b[0m\u001b[0m     0 B/4.80 MiB\n",
      "\u001b[2K\u001b[4A\u001b[37m⠙\u001b[0m \u001b[2mPreparing packages...\u001b[0m (0/5)----\u001b[0m\u001b[0m     0 B/11.10 MiB                     \u001b[4A\n",
      "\u001b[2mwidgetsnbextension\u001b[0m \u001b[32m-\u001b[2m-----------------------------\u001b[0m\u001b[0m 16.00 KiB/1.48 MiB\n",
      "\u001b[2mnotebook  \u001b[0m \u001b[32m\u001b[2m------------------------------\u001b[0m\u001b[0m     0 B/4.80 MiB\n",
      "\u001b[2K\u001b[3A\u001b[37m⠙\u001b[0m \u001b[2mPreparing packages...\u001b[0m (0/5)----\u001b[0m\u001b[0m     0 B/11.10 MiB                     \u001b[3A\n",
      "\u001b[2mwidgetsnbextension\u001b[0m \u001b[32m-\u001b[2m-----------------------------\u001b[0m\u001b[0m 16.00 KiB/1.48 MiB\n",
      "\u001b[2mnotebook  \u001b[0m \u001b[32m\u001b[2m------------------------------\u001b[0m\u001b[0m     0 B/4.80 MiB\n",
      "\u001b[2K\u001b[3A\u001b[37m⠙\u001b[0m \u001b[2mPreparing packages...\u001b[0m (0/5)----\u001b[0m\u001b[0m 16.00 KiB/11.10 MiB                   \u001b[3A\n",
      "\u001b[2mwidgetsnbextension\u001b[0m \u001b[32m-\u001b[2m-----------------------------\u001b[0m\u001b[0m 16.00 KiB/1.48 MiB\n",
      "\u001b[2mnotebook  \u001b[0m \u001b[32m-\u001b[2m-----------------------------\u001b[0m\u001b[0m 16.00 KiB/4.80 MiB\n",
      "\u001b[2K\u001b[3A\u001b[37m⠙\u001b[0m \u001b[2mPreparing packages...\u001b[0m (0/5)----\u001b[0m\u001b[0m 16.00 KiB/11.10 MiB                   \u001b[3A\n",
      "\u001b[2mwidgetsnbextension\u001b[0m \u001b[32m-------\u001b[2m-----------------------\u001b[0m\u001b[0m 336.00 KiB/1.48 MiB\n",
      "\u001b[2mnotebook  \u001b[0m \u001b[32m---\u001b[2m---------------------------\u001b[0m\u001b[0m 336.00 KiB/4.80 MiB\n",
      "\u001b[2K\u001b[3A\u001b[37m⠙\u001b[0m \u001b[2mPreparing packages...\u001b[0m (0/5)----\u001b[0m\u001b[0m 336.00 KiB/11.10 MiB                  \u001b[3A\n",
      "\u001b[2mwidgetsnbextension\u001b[0m \u001b[32m------------------------------\u001b[2m\u001b[0m\u001b[0m 1.48 MiB/1.48 MiB\n",
      "\u001b[2mnotebook  \u001b[0m \u001b[32m-------\u001b[2m-----------------------\u001b[0m\u001b[0m 1.08 MiB/4.80 MiB\n",
      "\u001b[2K\u001b[3A\u001b[37m⠙\u001b[0m \u001b[2mPreparing packages...\u001b[0m (0/5)----\u001b[0m\u001b[0m 1.59 MiB/11.10 MiB                    \u001b[3A\n",
      "\u001b[2mnotebook  \u001b[0m \u001b[32m-------\u001b[2m-----------------------\u001b[0m\u001b[0m 1.11 MiB/4.80 MiB\n",
      "\u001b[2K\u001b[2A\u001b[37m⠙\u001b[0m \u001b[2mPreparing packages...\u001b[0m (0/5)----\u001b[0m\u001b[0m 1.64 MiB/11.10 MiB                    \u001b[2A\n",
      "\u001b[2mnotebook  \u001b[0m \u001b[32m------------------\u001b[2m------------\u001b[0m\u001b[0m 2.73 MiB/4.80 MiB\n",
      "\u001b[2K\u001b[2A\u001b[37m⠹\u001b[0m \u001b[2mPreparing packages...\u001b[0m (3/5)----\u001b[0m\u001b[0m 3.28 MiB/11.10 MiB                    \u001b[2A\n",
      "\u001b[2mnotebook  \u001b[0m \u001b[32m------------------------------\u001b[2m\u001b[0m\u001b[0m 4.73 MiB/4.80 MiB\n",
      "\u001b[2K\u001b[2A\u001b[37m⠹\u001b[0m \u001b[2mPreparing packages...\u001b[0m (3/5)----\u001b[0m\u001b[0m 5.41 MiB/11.10 MiB                    \u001b[2A\n",
      "\u001b[2K\u001b[1A\u001b[37m⠹\u001b[0m \u001b[2mPreparing packages...\u001b[0m (3/5)----\u001b[0m\u001b[0m 5.97 MiB/11.10 MiB                    \u001b[1A\n",
      "\u001b[2K\u001b[1A\u001b[37m⠹\u001b[0m \u001b[2mPreparing packages...\u001b[0m (3/5)----\u001b[0m\u001b[0m 7.34 MiB/11.10 MiB                    \u001b[1A\n",
      "\u001b[2K\u001b[2mPrepared \u001b[1m5 packages\u001b[0m \u001b[2min 366ms\u001b[0m\u001b[0m                                                 \u001b[1A\n",
      "\u001b[2mUninstalled \u001b[1m3 packages\u001b[0m \u001b[2min 67ms\u001b[0m\u001b[0m\n",
      "\u001b[2K\u001b[2mInstalled \u001b[1m5 packages\u001b[0m \u001b[2min 80ms\u001b[0m\u001b[0m                                \u001b[0m\n",
      " \u001b[32m+\u001b[39m \u001b[1mipython-genutils\u001b[0m\u001b[2m==0.2.0\u001b[0m\n",
      " \u001b[31m-\u001b[39m \u001b[1mipywidgets\u001b[0m\u001b[2m==8.1.5\u001b[0m\n",
      " \u001b[32m+\u001b[39m \u001b[1mipywidgets\u001b[0m\u001b[2m==7.7.1\u001b[0m\n",
      " \u001b[31m-\u001b[39m \u001b[1mjupyterlab\u001b[0m\u001b[2m==4.3.1\u001b[0m\n",
      " \u001b[32m+\u001b[39m \u001b[1mjupyterlab\u001b[0m\u001b[2m==4.2.6\u001b[0m\n",
      " \u001b[32m+\u001b[39m \u001b[1mnotebook\u001b[0m\u001b[2m==7.2.2\u001b[0m\n",
      " \u001b[31m-\u001b[39m \u001b[1mwidgetsnbextension\u001b[0m\u001b[2m==4.0.13\u001b[0m\n",
      " \u001b[32m+\u001b[39m \u001b[1mwidgetsnbextension\u001b[0m\u001b[2m==3.6.10\u001b[0m\n"
     ]
    }
   ],
   "source": [
    "!uv pip install lightrag-hku aioboto3 numpy ollama openai tenacity aioboto3 transformers torch tiktoken nano_vectordb neo4j oracledb textract setuptools pyvis sqlalchemy langchain_community langchain_openai sqlmodel ipywidgets==7.7.1 asyncio"
   ]
  },
  {
   "cell_type": "code",
   "execution_count": 8,
   "metadata": {},
   "outputs": [
    {
     "data": {
      "application/vnd.jupyter.widget-view+json": {
       "model_id": "cfa07954aaa54d5fb00a6b8a49ed63dc",
       "version_major": 2,
       "version_minor": 0
      },
      "text/plain": [
       "IntSlider(value=0)"
      ]
     },
     "execution_count": 8,
     "metadata": {},
     "output_type": "execute_result"
    }
   ],
   "source": [
    "import asyncio\n",
    "from ipywidgets import IntSlider, Output\n",
    "slider = IntSlider()\n",
    "out = Output()\n",
    "\n",
    "async def f():\n",
    "    for i in range(10):\n",
    "        out.append_stdout('did work ' + str(i) + '\\n')\n",
    "        x = await wait_for_change(slider, 'value')\n",
    "        out.append_stdout('async function continued with value ' + str(x) + '\\n')\n",
    "asyncio.ensure_future(f())\n",
    "\n",
    "slider"
   ]
  },
  {
   "cell_type": "code",
   "execution_count": 5,
   "metadata": {},
   "outputs": [],
   "source": [
    "w = input()"
   ]
  },
  {
   "cell_type": "code",
   "execution_count": 6,
   "metadata": {},
   "outputs": [
    {
     "data": {
      "text/plain": [
       "'faklsdjlfk'"
      ]
     },
     "execution_count": 6,
     "metadata": {},
     "output_type": "execute_result"
    }
   ],
   "source": [
    "w"
   ]
  },
  {
   "cell_type": "code",
   "execution_count": 9,
   "metadata": {},
   "outputs": [
    {
     "data": {
      "application/vnd.jupyter.widget-view+json": {
       "model_id": "b33763899b3840229f1f42942d67f9ac",
       "version_major": 2,
       "version_minor": 0
      },
      "text/plain": [
       "IntSlider(value=0)"
      ]
     },
     "metadata": {},
     "output_type": "display_data"
    }
   ],
   "source": [
    "import ipywidgets as widgets\n",
    "from IPython.display import display\n",
    "w = widgets.IntSlider()\n",
    "display(w)"
   ]
  },
  {
   "cell_type": "code",
   "execution_count": 3,
   "metadata": {},
   "outputs": [
    {
     "data": {
      "application/vnd.jupyter.widget-view+json": {
       "model_id": "a162fcb631994905b3410c729e2e6959",
       "version_major": 2,
       "version_minor": 0
      },
      "text/plain": [
       "TwoByTwoLayout(children=(Button(button_style='info', description='Top left', layout=Layout(grid_area='top-left…"
      ]
     },
     "execution_count": 3,
     "metadata": {},
     "output_type": "execute_result"
    }
   ],
   "source": [
    "from ipywidgets import Button, Layout, jslink, IntText, IntSlider, TwoByTwoLayout\n",
    "\n",
    "def create_expanded_button(description, button_style):\n",
    "    return Button(description=description, button_style=button_style, layout=Layout(height='auto', width='auto'))\n",
    "\n",
    "top_left_button = create_expanded_button(\"Top left\", 'info')\n",
    "top_right_button = create_expanded_button(\"Top right\", 'success')\n",
    "top_left_text = IntText(description='Top left', layout=Layout(width='auto', height='auto'))\n",
    "top_right_text = IntText(description='Top right', layout=Layout(width='auto', height='auto'))\n",
    "\n",
    "TwoByTwoLayout(top_left=top_left_button,\n",
    "               top_right=top_right_button)"
   ]
  },
  {
   "cell_type": "markdown",
   "metadata": {
    "vscode": {
     "languageId": "plaintext"
    }
   },
   "source": [
    "### Data Preparation + RAG"
   ]
  },
  {
   "cell_type": "markdown",
   "metadata": {
    "vscode": {
     "languageId": "plaintext"
    }
   },
   "source": [
    "### Agent Creation"
   ]
  },
  {
   "cell_type": "markdown",
   "metadata": {
    "vscode": {
     "languageId": "plaintext"
    }
   },
   "source": [
    "### Final App"
   ]
  }
 ],
 "metadata": {
  "kernelspec": {
   "display_name": ".venv",
   "language": "python",
   "name": "python3"
  },
  "language_info": {
   "codemirror_mode": {
    "name": "ipython",
    "version": 3
   },
   "file_extension": ".py",
   "mimetype": "text/x-python",
   "name": "python",
   "nbconvert_exporter": "python",
   "pygments_lexer": "ipython3",
   "version": "3.12.6"
  }
 },
 "nbformat": 4,
 "nbformat_minor": 4
}
