{
 "cells": [
  {
   "cell_type": "markdown",
   "metadata": {
    "vscode": {
     "languageId": "plaintext"
    }
   },
   "source": [
    "<a href=\"https://colab.research.google.com/github/MichaelDeng03/GenAI_Agents/blob/main/all_agents_tutorials/art_agent.ipynb\" target=\"_parent\"><img src=\"https://colab.research.google.com/assets/colab-badge.svg\" alt=\"Open In Colab\"/></a>"
   ]
  },
  {
   "cell_type": "markdown",
   "metadata": {
    "vscode": {
     "languageId": "plaintext"
    }
   },
   "source": [
    "# Interactive Art Agent\n",
    "This tutorial will walk through the creation of an AI Agent that helps you explore and learn art!\n",
    "\n",
    "### Overview\n",
    "For knowledge retrieval, this tutorial uses [LightRAG](https://github.com/HKUDS/LightRAG) which is knowledge graph based RAG implementation. Compared to GraphRAG, LightRAG is more accurate for single topic datasets, and uses 1,000x less tokens for retrieval. Furthermore, documents can be added to LightRAG incrementally without rebuilding the knowledge graph. See the full results in the [paper](https://arxiv.org/abs/2410.05779).\n",
    "\n",
    "For the agent itself, we use LangGraph.\n",
    "\n",
    "### Outline\n",
    "0. [Setup](#setup)\n",
    "1. [Data Preparation + RAG](#data-preparation--rag)\n",
    "2. [Agent Creation](#agent-creation)\n",
    "3. [Final App](#final-app)"
   ]
  },
  {
   "cell_type": "markdown",
   "metadata": {
    "vscode": {
     "languageId": "plaintext"
    }
   },
   "source": [
    "### Setup"
   ]
  },
  {
   "cell_type": "markdown",
   "metadata": {},
   "source": [
    "#### Environment\n",
    "\n",
    "This tutorial uses openai embedding models. While there are alternatives, we recommend using the openai models for the best results.\n",
    "\n",
    "```\n",
    "export OPENAI_API_KEY=sk....\n",
    "```"
   ]
  },
  {
   "cell_type": "code",
   "execution_count": 11,
   "metadata": {},
   "outputs": [
    {
     "name": "stdout",
     "output_type": "stream",
     "text": [
      "\u001b[2mUsing Python 3.12.6 environment at /Users/kentgang/git2/GenAI_Agents/.venv\u001b[0m\n",
      "\u001b[2K\u001b[2mResolved \u001b[1m185 packages\u001b[0m \u001b[2min 253ms\u001b[0m\u001b[0m                                       \u001b[0m\n",
      "\u001b[2K\u001b[37m⠙\u001b[0m \u001b[2mPreparing packages...\u001b[0m (0/3)                                                   \n",
      "\u001b[2K\u001b[1A\u001b[37m⠙\u001b[0m \u001b[2mPreparing packages...\u001b[0m (0/3)-------\u001b[0m\u001b[0m     0 B/28.39 KiB                  \u001b[1A\n",
      "\u001b[2mlanggraph-sdk\u001b[0m \u001b[32m\u001b[2m------------------------------\u001b[0m\u001b[0m     0 B/28.39 KiB\n",
      "\u001b[2K\u001b[2A\u001b[37m⠙\u001b[0m \u001b[2mPreparing packages...\u001b[0m (0/3)----\u001b[0m\u001b[0m     0 B/121.96 KiB                    \u001b[2A\n",
      "\u001b[2mlanggraph-checkpoint\u001b[0m \u001b[32m\u001b[2m------------------------------\u001b[0m\u001b[0m     0 B/22.90 KiB\n",
      "\u001b[2mlanggraph-sdk\u001b[0m \u001b[32m\u001b[2m------------------------------\u001b[0m\u001b[0m     0 B/28.39 KiB\n",
      "\u001b[2K\u001b[3A\u001b[37m⠙\u001b[0m \u001b[2mPreparing packages...\u001b[0m (0/3)----\u001b[0m\u001b[0m     0 B/121.96 KiB                    \u001b[3A\n",
      "\u001b[2mlanggraph-checkpoint\u001b[0m \u001b[32m\u001b[2m------------------------------\u001b[0m\u001b[0m     0 B/22.90 KiB\n",
      "\u001b[2mlanggraph-sdk\u001b[0m \u001b[32m-----------------\u001b[2m-------------\u001b[0m\u001b[0m 16.00 KiB/28.39 KiB\n",
      "\u001b[2K\u001b[3A\u001b[37m⠙\u001b[0m \u001b[2mPreparing packages...\u001b[0m (0/3)----\u001b[0m\u001b[0m     0 B/121.96 KiB                    \u001b[3A\n",
      "\u001b[2mlanggraph-checkpoint\u001b[0m \u001b[32m--------------------\u001b[2m----------\u001b[0m\u001b[0m 14.90 KiB/22.90 KiB\n",
      "\u001b[2mlanggraph-sdk\u001b[0m \u001b[32m-----------------\u001b[2m-------------\u001b[0m\u001b[0m 16.00 KiB/28.39 KiB\n",
      "\u001b[2K\u001b[3A\u001b[37m⠙\u001b[0m \u001b[2mPreparing packages...\u001b[0m (0/3)----\u001b[0m\u001b[0m     0 B/121.96 KiB                    \u001b[3A\n",
      "\u001b[2mlanggraph-checkpoint\u001b[0m \u001b[32m--------------------\u001b[2m----------\u001b[0m\u001b[0m 14.90 KiB/22.90 KiB\n",
      "\u001b[2mlanggraph-sdk\u001b[0m \u001b[32m-----------------\u001b[2m-------------\u001b[0m\u001b[0m 16.00 KiB/28.39 KiB\n",
      "\u001b[2K\u001b[3A\u001b[37m⠙\u001b[0m \u001b[2mPreparing packages...\u001b[0m (0/3)----\u001b[0m\u001b[0m 16.00 KiB/121.96 KiB                  \u001b[3A\n",
      "\u001b[2mlanggraph-checkpoint\u001b[0m \u001b[32m--------------------\u001b[2m----------\u001b[0m\u001b[0m 14.90 KiB/22.90 KiB\n",
      "\u001b[2mlanggraph-sdk\u001b[0m \u001b[32m------------------------------\u001b[2m\u001b[0m\u001b[0m 28.39 KiB/28.39 KiB\n",
      "\u001b[2K\u001b[3A\u001b[37m⠙\u001b[0m \u001b[2mPreparing packages...\u001b[0m (0/3)----\u001b[0m\u001b[0m 16.00 KiB/121.96 KiB                  \u001b[3A\n",
      "\u001b[2mlanggraph-checkpoint\u001b[0m \u001b[32m------------------------------\u001b[2m\u001b[0m\u001b[0m 22.90 KiB/22.90 KiB\n",
      "\u001b[2mlanggraph-sdk\u001b[0m \u001b[32m------------------------------\u001b[2m\u001b[0m\u001b[0m 28.39 KiB/28.39 KiB\n",
      "\u001b[2K\u001b[3A\u001b[37m⠙\u001b[0m \u001b[2mPreparing packages...\u001b[0m (0/3)----\u001b[0m\u001b[0m 16.00 KiB/121.96 KiB                  \u001b[3A\n",
      "\u001b[2mlanggraph-checkpoint\u001b[0m \u001b[32m------------------------------\u001b[2m\u001b[0m\u001b[0m 22.90 KiB/22.90 KiB\n",
      "\u001b[2K\u001b[2A\u001b[37m⠙\u001b[0m \u001b[2mPreparing packages...\u001b[0m (0/3)----\u001b[0m\u001b[0m 16.00 KiB/121.96 KiB                  \u001b[2A\n",
      "\u001b[2mlanggraph-checkpoint\u001b[0m \u001b[32m------------------------------\u001b[2m\u001b[0m\u001b[0m 22.90 KiB/22.90 KiB\n",
      "\u001b[2K\u001b[2A\u001b[37m⠙\u001b[0m \u001b[2mPreparing packages...\u001b[0m (0/3)----\u001b[0m\u001b[0m 32.00 KiB/121.96 KiB                  \u001b[2A\n",
      "\u001b[2K\u001b[1A\u001b[37m⠙\u001b[0m \u001b[2mPreparing packages...\u001b[0m (0/3)----\u001b[0m\u001b[0m 32.00 KiB/121.96 KiB                  \u001b[1A\n",
      "\u001b[2K\u001b[1A\u001b[37m⠙\u001b[0m \u001b[2mPreparing packages...\u001b[0m (0/3)----\u001b[0m\u001b[0m 48.00 KiB/121.96 KiB                  \u001b[1A\n",
      "\u001b[2K\u001b[1A\u001b[37m⠙\u001b[0m \u001b[2mPreparing packages...\u001b[0m (0/3)----\u001b[0m\u001b[0m 63.03 KiB/121.96 KiB                  \u001b[1A\n",
      "\u001b[2K\u001b[1A\u001b[37m⠙\u001b[0m \u001b[2mPreparing packages...\u001b[0m (0/3)----\u001b[0m\u001b[0m 79.03 KiB/121.96 KiB                  \u001b[1A\n",
      "\u001b[2K\u001b[1A\u001b[37m⠙\u001b[0m \u001b[2mPreparing packages...\u001b[0m (0/3)----\u001b[0m\u001b[0m 95.03 KiB/121.96 KiB                  \u001b[1A\n",
      "\u001b[2K\u001b[1A\u001b[37m⠙\u001b[0m \u001b[2mPreparing packages...\u001b[0m (0/3)2m--\u001b[0m\u001b[0m 111.03 KiB/121.96 KiB                 \u001b[1A\n",
      "\u001b[2K\u001b[2mPrepared \u001b[1m3 packages\u001b[0m \u001b[2min 63ms\u001b[0m\u001b[0m                                                  \u001b[1A\n",
      "\u001b[2K\u001b[2mInstalled \u001b[1m4 packages\u001b[0m \u001b[2min 5ms\u001b[0m\u001b[0m                                 \u001b[0m\n",
      " \u001b[32m+\u001b[39m \u001b[1mlanggraph\u001b[0m\u001b[2m==0.2.50\u001b[0m\n",
      " \u001b[32m+\u001b[39m \u001b[1mlanggraph-checkpoint\u001b[0m\u001b[2m==2.0.4\u001b[0m\n",
      " \u001b[32m+\u001b[39m \u001b[1mlanggraph-sdk\u001b[0m\u001b[2m==0.1.36\u001b[0m\n",
      " \u001b[32m+\u001b[39m \u001b[1mmsgpack\u001b[0m\u001b[2m==1.1.0\u001b[0m\n"
     ]
    }
   ],
   "source": [
    "!uv pip install lightrag-hku aioboto3 numpy ollama openai tenacity aioboto3 transformers torch tiktoken nano_vectordb neo4j oracledb textract setuptools pyvis sqlalchemy langchain_community langchain_openai sqlmodel ipywidgets==7.7.1 asyncio markdown langgraph"
   ]
  },
  {
   "cell_type": "code",
   "execution_count": 1,
   "metadata": {},
   "outputs": [],
   "source": [
    "from ipywidgets import Button, Layout, jslink, IntText, IntSlider, TwoByTwoLayout, Text, AppLayout, GridspecLayout\n",
    "import ipywidgets as widgets\n",
    "from IPython.display import display, Markdown\n",
    "from IPython.display import Markdown\n",
    "\n",
    "import json\n",
    "import os\n",
    "import operator\n",
    "import random\n",
    "from datetime import datetime\n",
    "from typing import Any, Annotated, List\n",
    "from typing_extensions import TypedDict\n",
    "from pydantic import BaseModel, Field\n",
    "\n",
    "from IPython.display import Image, display, Markdown\n",
    "\n",
    "from langgraph.graph import StateGraph, END\n",
    "from langchain_core.runnables.graph import MermaidDrawMethod\n",
    "from IPython.display import display, Image as IPImage\n",
    "\n",
    "from lightrag.llm import gpt_4o_mini_complete\n",
    "from lightrag import LightRAG, QueryParam\n",
    "from dotenv import load_dotenv\n",
    "\n",
    "import markdown\n",
    "from pprint import pprint"
   ]
  },
  {
   "cell_type": "code",
   "execution_count": 2,
   "metadata": {},
   "outputs": [],
   "source": [
    "from io import BytesIO\n",
    "from PIL import Image as PILImage\n",
    "\n",
    "\n",
    "def get_artwork_image_url(url: str):\n",
    "    \"\"\"\n",
    "    Gets an artwork image from its URL.\n",
    "    \"\"\"\n",
    "    import requests\n",
    "    from bs4 import BeautifulSoup as bs\n",
    "\n",
    "    url = f\"https://wikiart.org{url}\"\n",
    "    response = requests.get(url)\n",
    "    soup = bs(response.text, \"html.parser\")\n",
    "    img = soup.find(\"img\", {\"itemprop\": \"image\"})\n",
    "    # return Image(url=img.get(\"src\"))\n",
    "\n",
    "    return img.get(\"src\")"
   ]
  },
  {
   "cell_type": "markdown",
   "metadata": {
    "vscode": {
     "languageId": "plaintext"
    }
   },
   "source": [
    "### Data Preparation + RAG"
   ]
  },
  {
   "cell_type": "markdown",
   "metadata": {},
   "source": [
    "#### Data Preparation\n",
    "\n",
    "We scraped data from [wikiart](https://wikiart.org/) using a combination of requests and beautiful soup. \n",
    "\n",
    "We provide a preprocessed, limited dataset of this data for the tutorial found in `data/artinfo.json`. \n",
    "\n",
    "Preprocessed data for each artwork looks like:\n",
    "\n",
    "```plaintext\n",
    "Artwork Name: {artwork_name}\n",
    "Artwork Genre: {genre_list}\n",
    "Artwork Media: {media_list}\n",
    "Wikiart URL: https://www.wikiart.org{wikiart_slug}\n",
    "\n",
    "Wikipedia Article:\n",
    "{wiki_article}\n",
    "```\n"
   ]
  },
  {
   "cell_type": "markdown",
   "metadata": {},
   "source": [
    "#### LightRAG\n"
   ]
  },
  {
   "cell_type": "code",
   "execution_count": 7,
   "metadata": {},
   "outputs": [
    {
     "name": "stdout",
     "output_type": "stream",
     "text": [
      "78\n",
      "\n",
      "Artist: Frederick McCubbin\n",
      "Artwork Name: Down on his luck\n",
      "Artwork Genre: genre painting\n",
      "Artwork Media: canvas,oil\n",
      "Wikiart URL: https://www.wikiart.org/en/frederick-mccubbin/down-on-his-luck-1889\n",
      "\n",
      "Wikipedia Article:\n",
      " The painting was owned by William Fergusson up to 1986 until it was purchased by the Art Gallery of Western Australia in Perth. for the famous 9 by 5 Impression Exhibition. The scene was staged near the Box Hill artists' camp outside Melbourne, but it is thought that McCubbin would have made additional studies of Abrahams under studio conditions.roclaims the absence of all self-pity ... McCubbin's picture is thoroughly Australian in spirit.\" The surrounding bush is painted in subdued tones, reflecting his somber and contemplative mood.\n",
      "\n"
     ]
    }
   ],
   "source": [
    "artwork_info = None\n",
    "with open('./data/artinfo.json', 'r') as f:\n",
    "    artwork_info = json.load(f)['info']\n",
    "print(len(artwork_info))\n",
    "print(artwork_info[0])"
   ]
  },
  {
   "cell_type": "code",
   "execution_count": 3,
   "metadata": {},
   "outputs": [
    {
     "name": "stderr",
     "output_type": "stream",
     "text": [
      "INFO:lightrag:Logger initialized for working directory: ./data\n",
      "INFO:lightrag:Load KV llm_response_cache with 178 data\n",
      "INFO:lightrag:Load KV full_docs with 78 data\n",
      "INFO:lightrag:Load KV text_chunks with 78 data\n",
      "INFO:lightrag:Loaded graph from ./data/graph_chunk_entity_relation.graphml with 711 nodes, 642 edges\n",
      "INFO:nano-vectordb:Load (709, 1536) data\n",
      "INFO:nano-vectordb:Init {'embedding_dim': 1536, 'metric': 'cosine', 'storage_file': './data/vdb_entities.json'} 709 data\n",
      "INFO:nano-vectordb:Load (642, 1536) data\n",
      "INFO:nano-vectordb:Init {'embedding_dim': 1536, 'metric': 'cosine', 'storage_file': './data/vdb_relationships.json'} 642 data\n",
      "INFO:nano-vectordb:Load (78, 1536) data\n",
      "INFO:nano-vectordb:Init {'embedding_dim': 1536, 'metric': 'cosine', 'storage_file': './data/vdb_chunks.json'} 78 data\n"
     ]
    }
   ],
   "source": [
    "from lightrag.llm import gpt_4o_mini_complete\n",
    "from lightrag import LightRAG, QueryParam\n",
    "\n",
    "import nest_asyncio\n",
    "\n",
    "nest_asyncio.apply()\n",
    "WORKING_DIR = \"./data\"\n",
    "rag = LightRAG(\n",
    "    working_dir=WORKING_DIR,\n",
    "    llm_model_func=gpt_4o_mini_complete,\n",
    ")"
   ]
  },
  {
   "cell_type": "code",
   "execution_count": 4,
   "metadata": {},
   "outputs": [
    {
     "ename": "NameError",
     "evalue": "name 'artwork_info' is not defined",
     "output_type": "error",
     "traceback": [
      "\u001b[0;31m---------------------------------------------------------------------------\u001b[0m",
      "\u001b[0;31mNameError\u001b[0m                                 Traceback (most recent call last)",
      "Cell \u001b[0;32mIn[4], line 7\u001b[0m\n\u001b[1;32m      4\u001b[0m batch_size \u001b[38;5;241m=\u001b[39m \u001b[38;5;241m30\u001b[39m\n\u001b[1;32m      6\u001b[0m \u001b[38;5;66;03m# Loop through the list in batches of 30 to avoid rate limits\u001b[39;00m\n\u001b[0;32m----> 7\u001b[0m \u001b[38;5;28;01mfor\u001b[39;00m i \u001b[38;5;129;01min\u001b[39;00m \u001b[38;5;28mrange\u001b[39m(\u001b[38;5;241m0\u001b[39m, \u001b[38;5;28mlen\u001b[39m(\u001b[43martwork_info\u001b[49m), \u001b[38;5;241m30\u001b[39m):\n\u001b[1;32m      8\u001b[0m     batch \u001b[38;5;241m=\u001b[39m artwork_info[i:i \u001b[38;5;241m+\u001b[39m batch_size]\n\u001b[1;32m      9\u001b[0m     rag\u001b[38;5;241m.\u001b[39minsert(batch)\n",
      "\u001b[0;31mNameError\u001b[0m: name 'artwork_info' is not defined"
     ]
    }
   ],
   "source": [
    "import time\n",
    "\n",
    "# Create the RAG database\n",
    "batch_size = 30\n",
    "\n",
    "# Loop through the list in batches of 30 to avoid rate limits\n",
    "for i in range(0, len(artwork_info), 30):\n",
    "    batch = artwork_info[i:i + batch_size]\n",
    "    rag.insert(batch)\n",
    "    time.sleep(15)"
   ]
  },
  {
   "cell_type": "markdown",
   "metadata": {
    "vscode": {
     "languageId": "plaintext"
    }
   },
   "source": [
    "### Agent Creation"
   ]
  },
  {
   "cell_type": "code",
   "execution_count": 8,
   "metadata": {},
   "outputs": [],
   "source": [
    "class ArtTourState(TypedDict):\n",
    "    artwork: str \n",
    "    artwork_metadata: str\n",
    "    artwork_description: str\n",
    "    artwork_url: str\n",
    "    art_request: str\n",
    "    past_artworks: list[str]\n",
    "    discussion_messages: list[str]\n",
    "    app_message: str  # intro and conclusion\n",
    "    exit: bool"
   ]
  },
  {
   "cell_type": "code",
   "execution_count": 9,
   "metadata": {},
   "outputs": [
    {
     "name": "stderr",
     "output_type": "stream",
     "text": [
      "INFO:httpx:HTTP Request: POST https://api.openai.com/v1/embeddings \"HTTP/1.1 200 OK\"\n",
      "INFO:lightrag:Local query uses 60 entites, 67 relations, 10 text units\n",
      "INFO:httpx:HTTP Request: POST https://api.openai.com/v1/embeddings \"HTTP/1.1 200 OK\"\n",
      "INFO:lightrag:Global query uses 54 entites, 60 relations, 13 text units\n"
     ]
    },
    {
     "name": "stdout",
     "output_type": "stream",
     "text": [
      "{'artwork_url': 'https://www.wikiart.org/en/frederick-mccubbin/down-on-his-luck-1889'}\n"
     ]
    }
   ],
   "source": [
    "def get_artwork_url_from_name(state: ArtTourState):\n",
    "    artwork_name = state['artwork']\n",
    "    prompt = f\"\"\"\n",
    "    What is the Wikiart URL for this artwork: {artwork_name}\n",
    "    \n",
    "    Return only the wikiart url in plain text.\n",
    "    \"\"\"\n",
    "    return {\"artwork_url\": rag.query(prompt, param=QueryParam(mode=\"hybrid\"))}\n",
    "pprint(next_artwork_url := get_artwork_url_from_name({'artwork': \"Down on his luck\"}))"
   ]
  },
  {
   "cell_type": "code",
   "execution_count": 10,
   "metadata": {},
   "outputs": [
    {
     "name": "stderr",
     "output_type": "stream",
     "text": [
      "INFO:httpx:HTTP Request: POST https://api.openai.com/v1/embeddings \"HTTP/1.1 200 OK\"\n",
      "INFO:lightrag:Local query uses 60 entites, 144 relations, 11 text units\n",
      "INFO:httpx:HTTP Request: POST https://api.openai.com/v1/embeddings \"HTTP/1.1 200 OK\"\n",
      "INFO:lightrag:Global query uses 44 entites, 60 relations, 12 text units\n",
      "INFO:httpx:HTTP Request: POST https://api.openai.com/v1/embeddings \"HTTP/1.1 200 OK\"\n",
      "INFO:lightrag:Local query uses 60 entites, 73 relations, 6 text units\n",
      "INFO:httpx:HTTP Request: POST https://api.openai.com/v1/embeddings \"HTTP/1.1 200 OK\"\n",
      "INFO:lightrag:Global query uses 49 entites, 60 relations, 9 text units\n",
      "INFO:httpx:HTTP Request: POST https://api.openai.com/v1/embeddings \"HTTP/1.1 200 OK\"\n",
      "INFO:lightrag:Local query uses 60 entites, 67 relations, 10 text units\n",
      "INFO:httpx:HTTP Request: POST https://api.openai.com/v1/embeddings \"HTTP/1.1 200 OK\"\n",
      "INFO:lightrag:Global query uses 54 entites, 60 relations, 13 text units\n"
     ]
    },
    {
     "name": "stdout",
     "output_type": "stream",
     "text": [
      "{'artwork_description': '\"Down on His Luck\" is an evocative 1889 painting by '\n",
      "                        'Frederick McCubbin that portrays a disheartened '\n",
      "                        'swagman sitting near a campfire, lost in thought amid '\n",
      "                        'the natural Australian bush. The artwork captures the '\n",
      "                        'intimate moment of despair, reflecting the hardships '\n",
      "                        'faced by itinerant workers during the late 19th '\n",
      "                        'century. The somber tones of the surrounding '\n",
      "                        \"landscape mirror the swagman's melancholic \"\n",
      "                        'expression, emphasizing the theme of isolation. '\n",
      "                        \"McCubbin's technique showcases his impressionist \"\n",
      "                        'style, with loose brushstrokes that evoke both the '\n",
      "                        'vibrancy and desolation of the landscape, '\n",
      "                        'highlighting the juxtaposition of human emotion '\n",
      "                        'against the expansive yet unforgiving Australian '\n",
      "                        'wilderness.\\n'\n",
      "                        '\\n'\n",
      "                        'The contextual significance of \"Down on His Luck\" '\n",
      "                        'lies in its representation of the socio-economic '\n",
      "                        'conditions of the time, where many individuals '\n",
      "                        'struggled with unemployment and loneliness. The '\n",
      "                        'painting was staged near Box Hill, in proximity to '\n",
      "                        'Melbourne, integrating the local landscape into its '\n",
      "                        'narrative. The model for the swagman, Louis Abrahams, '\n",
      "                        'not only added authenticity to the work but also '\n",
      "                        'deepened the personal connection McCubbin had with '\n",
      "                        'the subject matter. Through this portrayal, McCubbin '\n",
      "                        'invites viewers to contemplate the struggles of the '\n",
      "                        'working class while situating the artwork within the '\n",
      "                        'broader discourse on Australian identity and '\n",
      "                        'experience.',\n",
      " 'artwork_metadata': '```markdown\\n'\n",
      "                     'artwork name: Down on His Luck  \\n'\n",
      "                     'artist: Frederick McCubbin  \\n'\n",
      "                     'genre: genre painting  \\n'\n",
      "                     'media: canvas, oil  \\n'\n",
      "                     'style: Impressionism  \\n'\n",
      "                     '```',\n",
      " 'artwork_url': {'artwork_url': 'https://www.wikiart.org/en/frederick-mccubbin/down-on-his-luck-1889'}}\n"
     ]
    }
   ],
   "source": [
    "def describe_artwork(state: ArtTourState):\n",
    "    artwork = state['artwork']\n",
    "    metadata = rag.query(\n",
    "        f\"\"\"What is the genre, media, and style of the following artwork: {artwork}. \n",
    "    Return the description in the following format:\n",
    "    artwork name: <artwork name>\n",
    "    artist: <artist>\n",
    "    genre: <genre>\n",
    "    media: <media>\n",
    "    style: <style>\n",
    "    \n",
    "    Return this information and nothing else.\n",
    "    \"\"\",\n",
    "        param=QueryParam(mode=\"hybrid\"),\n",
    "    )\n",
    "\n",
    "    dense_description = str(rag.query(f\"Describe the imagery and context of {artwork} in 2 concise paragraphs.\", param=QueryParam(mode=\"hybrid\")))\n",
    "\n",
    "    return {\n",
    "        \"artwork_metadata\": metadata,\n",
    "        \"artwork_description\": dense_description,\n",
    "        \"artwork_url\": get_artwork_url_from_name(state)\n",
    "    }\n",
    "pprint(description := describe_artwork({\"artwork\": \"Down on his luck\"}))"
   ]
  },
  {
   "cell_type": "code",
   "execution_count": 12,
   "metadata": {},
   "outputs": [],
   "source": [
    "def request_artwork(state: ArtTourState):\n",
    "    description = state['art_request']\n",
    "    prompt = \"\"\"\n",
    "    The user has requested the following for their next artwork. Choose a related artwork.\n",
    "    {description}\n",
    "    \n",
    "    Return the name of the artwork and nothing else.\n",
    "    \"\"\"\n",
    "    return {\"artwork\": rag.query(prompt, param=QueryParam(mode=\"hybrid\"))}\n",
    "\n",
    "def get_next_artwork(state: ArtTourState):\n",
    "    \n",
    "    prev_artwork = state['artwork_metadata']\n",
    "    next_artwork = state['art_request']\n",
    "    past_artworks = state['past_artworks']\n",
    "    prompt = f\"\"\"You are an art tour guide. \n",
    "    The have discussed these artworks earlier in the tour: {past_artworks}  \n",
    "    You just discussed this artwork:\n",
    "    {prev_artwork}\n",
    "\n",
    "    The user has requested the following for their next artwork. Choose a related artwork.\n",
    "    {next_artwork}\n",
    "    \n",
    "    Return the name of the artwork and nothing else.\n",
    "    \"\"\"\n",
    "    next_artwork = rag.query(prompt, param=QueryParam(mode=\"hybrid\"))\n",
    "    art_data = describe_artwork({'artwork': next_artwork})\n",
    "    out =  {\n",
    "        \"artwork\": next_artwork,\n",
    "        \"past_artworks\": past_artworks + [prev_artwork],\n",
    "        **art_data  # metadata + description\n",
    "    }\n",
    "    out.update(art_data)\n",
    "    return out\n",
    "\n",
    "# pprint(next_artwork := get_next_artwork({\n",
    "#     \"past_artworks\": [\"The Pink Dress\", \"The Ballet Class\"],\n",
    "#     \"artwork_metadata\": description['artwork_metadata'],\n",
    "#     \"art_request\": \"I want to see artworks by a different artist of the same genre.\"\n",
    "# }))"
   ]
  },
  {
   "cell_type": "code",
   "execution_count": 13,
   "metadata": {},
   "outputs": [],
   "source": [
    "with open('./data/artinfo.json', 'r') as f:\n",
    "    art_json = json.load(f)\n",
    "artworks = [art_info.split('\\n')[2].split(': ')[1] for art_info in art_json['info']]\n",
    "def get_random_art():\n",
    "    out = {\"artwork\": random.sample(artworks, 1)[0]}\n",
    "    art_data = describe_artwork(out)\n",
    "    out.update(art_data)\n",
    "    return out\n",
    "# pprint(random_artwork := get_random_art())"
   ]
  },
  {
   "cell_type": "code",
   "execution_count": 14,
   "metadata": {},
   "outputs": [],
   "source": [
    "from langchain_openai import ChatOpenAI\n",
    "from langchain_core.messages import HumanMessage, AIMessage\n",
    "from langchain_core.tools import tool"
   ]
  },
  {
   "cell_type": "code",
   "execution_count": null,
   "metadata": {},
   "outputs": [],
   "source": [
    "tour_instructions = \"\"\"\n",
    "You will be shown an artwork and a description.\n",
    "Take a close look and articulate what you see, think, and feel.\n",
    "Afterwards, you may describe an area of interest to continue exploring or view a new random artwork.\n",
    "At the end, you'll be give a list of all the artworks you've seen.\n",
    "\"\"\"\n",
    "\n",
    "def tour_introduction(state: ArtTourState):\n",
    "    out = get_random_art()\n",
    "    out['app_message'] = tour_instructions\n",
    "    return out\n",
    "\n",
    "def conclude_tour(state: ArtTourState):\n",
    "    summary = str(\n",
    "        rag.query(\n",
    "            f\"\"\"\n",
    "            Build a narrative and summarize the themes of an art tour you just gave with these artworks\n",
    "            {[state['artwork_metadata']] + state['past_artworks']}\n",
    "            Start by writing a short introduction.\n",
    "            Write no more than 2 sentences about any particular artwork.\n",
    "            End by writing a short conclusion.\n",
    "            Thank the user for their engagement.\n",
    "            \"\"\",\n",
    "            param=QueryParam(mode=\"hybrid\")\n",
    "        )\n",
    "    )\n",
    "\n",
    "    tour_conclusion = f\"\"\"\n",
    "    Thank you for doing a tour!\n",
    "    These are the artworks you viewed:\n",
    "    {\"\\n\".join(state['past_artworks'])}\n",
    "\n",
    "    Here's a summary of the themes:\n",
    "    {summary}\n",
    "    \"\"\"\n",
    "    return {'app_message': tour_conclusion}\n",
    "\n",
    "def display_artwork(state: ArtTourState):\n",
    "    \"\"\"\n",
    "    Render the widgets\n",
    "    \"\"\"\n",
    "    return state\n",
    "\n",
    "\n",
    "def choose_next_artwork(state: ArtTourState):\n",
    "    # Capture user message\n",
    "    user_input = \"I would like something more colorful\"\n",
    "    state['art_request'] = user_input\n",
    "    return get_next_artwork(state)\n",
    "\n",
    "def discuss(state: ArtTourState):\n",
    "    \"\"\"\n",
    "    Discuss the artwork with the user\n",
    "    \"\"\"\n",
    "    while True:\n",
    "        # Capture user message\n",
    "        user_input = \"exit\"\n",
    "\n",
    "        if user_input == 'next':\n",
    "            return state\n",
    "        if user_input == 'exit':\n",
    "            state['exit'] = True\n",
    "            return state\n",
    "        \n",
    "        summary = str(\n",
    "            rag.query(\n",
    "                f\"\"\"\n",
    "                The user has said:\n",
    "                {user_input}\n",
    "                about the artwork:\n",
    "                {state['artwork']}\n",
    "\n",
    "                Respond with 1-2 sentences enriching the user with new facts or feedback.\n",
    "                \"\"\",\n",
    "                param=QueryParam(mode=\"hybrid\")\n",
    "            )\n",
    "        )\n",
    "        # update widgets with summary text and repeat\n"
   ]
  },
  {
   "cell_type": "code",
   "execution_count": 24,
   "metadata": {},
   "outputs": [
    {
     "data": {
      "image/png": "[encoded data removed]",
      "text/plain": [
       "<IPython.core.display.Image object>"
      ]
     },
     "metadata": {},
     "output_type": "display_data"
    }
   ],
   "source": [
    "\n",
    "from typing import Literal\n",
    "\n",
    "\n",
    "workflow = StateGraph(ArtTourState)\n",
    "# nodes\n",
    "workflow.add_node('tour_introduction', tour_introduction)\n",
    "workflow.add_node('display_artwork', display_artwork)\n",
    "workflow.add_node('choose_next_artwork', choose_next_artwork)\n",
    "\n",
    "workflow.add_node('discuss', discuss)\n",
    "workflow.add_node('conclude_tour', conclude_tour)\n",
    "\n",
    "workflow.add_edge('tour_introduction', 'display_artwork')\n",
    "workflow.add_edge('display_artwork', 'discuss')\n",
    "\n",
    "workflow.add_edge('choose_next_artwork', 'display_artwork')\n",
    "workflow.add_edge('conclude_tour', END)\n",
    "\n",
    "def conclude_or_moreart(state: ArtTourState) -> Literal['conclude_tour', 'choose_next_artwork']:\n",
    "    if state.get('exit'):\n",
    "        return 'conclude_tour'\n",
    "    return 'choose_next_artwork'\n",
    "\n",
    "workflow.add_conditional_edges('discuss', conclude_or_moreart)\n",
    "\n",
    "workflow.set_entry_point('tour_introduction')\n",
    "app = workflow.compile()\n",
    "display(\n",
    "    IPImage(\n",
    "        app.get_graph().draw_mermaid_png(\n",
    "            draw_method=MermaidDrawMethod.API,\n",
    "        )\n",
    "    )\n",
    ")"
   ]
  },
  {
   "cell_type": "code",
   "execution_count": 22,
   "metadata": {},
   "outputs": [],
   "source": [
    "from langchain.globals import set_debug\n",
    "\n",
    "set_debug(True)"
   ]
  },
  {
   "cell_type": "code",
   "execution_count": 25,
   "metadata": {},
   "outputs": [
    {
     "name": "stdout",
     "output_type": "stream",
     "text": [
      "\u001b[32;1m\u001b[1;3m[chain/start]\u001b[0m \u001b[1m[chain:LangGraph] Entering Chain run with input:\n",
      "\u001b[0m{\n",
      "  \"artwork\": null,\n",
      "  \"past_artworks\": []\n",
      "}\n",
      "\u001b[32;1m\u001b[1;3m[chain/start]\u001b[0m \u001b[1m[chain:LangGraph > chain:__start__] Entering Chain run with input:\n",
      "\u001b[0m{\n",
      "  \"artwork\": null,\n",
      "  \"past_artworks\": []\n",
      "}\n",
      "\u001b[36;1m\u001b[1;3m[chain/end]\u001b[0m \u001b[1m[chain:LangGraph > chain:__start__] [0ms] Exiting Chain run with output:\n",
      "\u001b[0m{\n",
      "  \"artwork\": null,\n",
      "  \"past_artworks\": []\n",
      "}\n",
      "\u001b[32;1m\u001b[1;3m[chain/start]\u001b[0m \u001b[1m[chain:LangGraph > chain:tour_introduction] Entering Chain run with input:\n",
      "\u001b[0m{\n",
      "  \"artwork\": null,\n",
      "  \"past_artworks\": []\n",
      "}\n"
     ]
    },
    {
     "name": "stderr",
     "output_type": "stream",
     "text": [
      "INFO:httpx:HTTP Request: POST https://api.openai.com/v1/chat/completions \"HTTP/1.1 200 OK\"\n",
      "INFO:httpx:HTTP Request: POST https://api.openai.com/v1/embeddings \"HTTP/1.1 200 OK\"\n",
      "INFO:lightrag:Local query uses 60 entites, 143 relations, 7 text units\n",
      "INFO:httpx:HTTP Request: POST https://api.openai.com/v1/embeddings \"HTTP/1.1 200 OK\"\n",
      "INFO:lightrag:Global query uses 58 entites, 60 relations, 14 text units\n",
      "INFO:httpx:HTTP Request: POST https://api.openai.com/v1/chat/completions \"HTTP/1.1 200 OK\"\n",
      "INFO:httpx:HTTP Request: POST https://api.openai.com/v1/chat/completions \"HTTP/1.1 200 OK\"\n",
      "INFO:httpx:HTTP Request: POST https://api.openai.com/v1/embeddings \"HTTP/1.1 200 OK\"\n",
      "INFO:lightrag:Local query uses 60 entites, 146 relations, 5 text units\n",
      "INFO:httpx:HTTP Request: POST https://api.openai.com/v1/embeddings \"HTTP/1.1 200 OK\"\n",
      "INFO:lightrag:Global query uses 28 entites, 60 relations, 7 text units\n",
      "INFO:httpx:HTTP Request: POST https://api.openai.com/v1/chat/completions \"HTTP/1.1 200 OK\"\n",
      "INFO:httpx:HTTP Request: POST https://api.openai.com/v1/chat/completions \"HTTP/1.1 200 OK\"\n",
      "INFO:httpx:HTTP Request: POST https://api.openai.com/v1/embeddings \"HTTP/1.1 200 OK\"\n",
      "INFO:lightrag:Local query uses 60 entites, 122 relations, 9 text units\n",
      "INFO:httpx:HTTP Request: POST https://api.openai.com/v1/embeddings \"HTTP/1.1 200 OK\"\n",
      "INFO:lightrag:Global query uses 40 entites, 60 relations, 13 text units\n",
      "INFO:httpx:HTTP Request: POST https://api.openai.com/v1/chat/completions \"HTTP/1.1 200 OK\"\n"
     ]
    },
    {
     "name": "stdout",
     "output_type": "stream",
     "text": [
      "\u001b[32;1m\u001b[1;3m[chain/start]\u001b[0m \u001b[1m[chain:LangGraph > chain:tour_introduction > chain:ChannelWrite<tour_introduction,artwork,artwork_metadata,artwork_description,artwork_url,art_request,past_artworks,discussion_messages,app_message,exit>] Entering Chain run with input:\n",
      "\u001b[0m{\n",
      "  \"artwork\": \"Boulevard Montmartre Spring\",\n",
      "  \"artwork_metadata\": \"```markdown\\nartwork name: Boulevard Montmartre Spring  \\nartist: Camille Pissarro  \\ngenre: cityscape  \\nmedia: canvas, oil  \\nstyle: Impressionism  \\n```\",\n",
      "  \"artwork_description\": \"**Imagery of Boulevard Montmartre Spring**\\n\\n\\\"**Boulevard Montmartre Spring**,\\\" painted by Camille Pissarro in 1897, beautifully illustrates a lively street scene during the spring season in a bustling Paris. The canvas captures a vibrant array of colors that depict blossoming trees and the activity of people strolling along the boulevard. The use of pointillism is evident in Pissarro's brush strokes, conveying the energetic atmosphere while also highlighting the interplay of light and shadows as sunlight filters through the foliage. The painting evokes a sense of vitality and joy as figures engage in leisure activities, characteristic of the social and cultural life in Paris during this time.\\n\\n**Context of the Artwork**\\n\\nThe painting holds significant cultural and historical importance within the Impressionist movement, as it reflects the broader urban transformations occurring in Paris during the late 19th century. With the Haussmannization of Paris, which expanded and modernized the city's layout, boulevards became central to social life, providing settings for public gatherings and artistic expression. \\\"Boulevard Montmartre Spring\\\" not only celebrates the renewal associated with the season but also serves as a testament to the Impressionists' intent to depict contemporary urban life. Pissarro's work, embedded within this context, illustrates a harmonious interaction between nature and city life, embodying the essence of the Parisian experience.\",\n",
      "  \"artwork_url\": {\n",
      "    \"artwork_url\": \"https://www.wikiart.org/en/camille-pissarro/boulevard-montmartre-spring-1897\"\n",
      "  },\n",
      "  \"app_message\": \"\\nYou will be shown an artwork and a description.\\nTake a close look and articulate what you see, think, and feel.\\nAfterwards, you may describe an area of interest to continue exploring or view a new random artwork.\\nAt the end, you'll be give a list of all the artworks you've seen.\\n\"\n",
      "}\n",
      "\u001b[36;1m\u001b[1;3m[chain/end]\u001b[0m \u001b[1m[chain:LangGraph > chain:tour_introduction > chain:ChannelWrite<tour_introduction,artwork,artwork_metadata,artwork_description,artwork_url,art_request,past_artworks,discussion_messages,app_message,exit>] [0ms] Exiting Chain run with output:\n",
      "\u001b[0m{\n",
      "  \"artwork\": \"Boulevard Montmartre Spring\",\n",
      "  \"artwork_metadata\": \"```markdown\\nartwork name: Boulevard Montmartre Spring  \\nartist: Camille Pissarro  \\ngenre: cityscape  \\nmedia: canvas, oil  \\nstyle: Impressionism  \\n```\",\n",
      "  \"artwork_description\": \"**Imagery of Boulevard Montmartre Spring**\\n\\n\\\"**Boulevard Montmartre Spring**,\\\" painted by Camille Pissarro in 1897, beautifully illustrates a lively street scene during the spring season in a bustling Paris. The canvas captures a vibrant array of colors that depict blossoming trees and the activity of people strolling along the boulevard. The use of pointillism is evident in Pissarro's brush strokes, conveying the energetic atmosphere while also highlighting the interplay of light and shadows as sunlight filters through the foliage. The painting evokes a sense of vitality and joy as figures engage in leisure activities, characteristic of the social and cultural life in Paris during this time.\\n\\n**Context of the Artwork**\\n\\nThe painting holds significant cultural and historical importance within the Impressionist movement, as it reflects the broader urban transformations occurring in Paris during the late 19th century. With the Haussmannization of Paris, which expanded and modernized the city's layout, boulevards became central to social life, providing settings for public gatherings and artistic expression. \\\"Boulevard Montmartre Spring\\\" not only celebrates the renewal associated with the season but also serves as a testament to the Impressionists' intent to depict contemporary urban life. Pissarro's work, embedded within this context, illustrates a harmonious interaction between nature and city life, embodying the essence of the Parisian experience.\",\n",
      "  \"artwork_url\": {\n",
      "    \"artwork_url\": \"https://www.wikiart.org/en/camille-pissarro/boulevard-montmartre-spring-1897\"\n",
      "  },\n",
      "  \"app_message\": \"\\nYou will be shown an artwork and a description.\\nTake a close look and articulate what you see, think, and feel.\\nAfterwards, you may describe an area of interest to continue exploring or view a new random artwork.\\nAt the end, you'll be give a list of all the artworks you've seen.\\n\"\n",
      "}\n",
      "\u001b[36;1m\u001b[1;3m[chain/end]\u001b[0m \u001b[1m[chain:LangGraph > chain:tour_introduction] [16.81s] Exiting Chain run with output:\n",
      "\u001b[0m{\n",
      "  \"artwork\": \"Boulevard Montmartre Spring\",\n",
      "  \"artwork_metadata\": \"```markdown\\nartwork name: Boulevard Montmartre Spring  \\nartist: Camille Pissarro  \\ngenre: cityscape  \\nmedia: canvas, oil  \\nstyle: Impressionism  \\n```\",\n",
      "  \"artwork_description\": \"**Imagery of Boulevard Montmartre Spring**\\n\\n\\\"**Boulevard Montmartre Spring**,\\\" painted by Camille Pissarro in 1897, beautifully illustrates a lively street scene during the spring season in a bustling Paris. The canvas captures a vibrant array of colors that depict blossoming trees and the activity of people strolling along the boulevard. The use of pointillism is evident in Pissarro's brush strokes, conveying the energetic atmosphere while also highlighting the interplay of light and shadows as sunlight filters through the foliage. The painting evokes a sense of vitality and joy as figures engage in leisure activities, characteristic of the social and cultural life in Paris during this time.\\n\\n**Context of the Artwork**\\n\\nThe painting holds significant cultural and historical importance within the Impressionist movement, as it reflects the broader urban transformations occurring in Paris during the late 19th century. With the Haussmannization of Paris, which expanded and modernized the city's layout, boulevards became central to social life, providing settings for public gatherings and artistic expression. \\\"Boulevard Montmartre Spring\\\" not only celebrates the renewal associated with the season but also serves as a testament to the Impressionists' intent to depict contemporary urban life. Pissarro's work, embedded within this context, illustrates a harmonious interaction between nature and city life, embodying the essence of the Parisian experience.\",\n",
      "  \"artwork_url\": {\n",
      "    \"artwork_url\": \"https://www.wikiart.org/en/camille-pissarro/boulevard-montmartre-spring-1897\"\n",
      "  },\n",
      "  \"app_message\": \"\\nYou will be shown an artwork and a description.\\nTake a close look and articulate what you see, think, and feel.\\nAfterwards, you may describe an area of interest to continue exploring or view a new random artwork.\\nAt the end, you'll be give a list of all the artworks you've seen.\\n\"\n",
      "}\n",
      "\u001b[32;1m\u001b[1;3m[chain/start]\u001b[0m \u001b[1m[chain:LangGraph > chain:display_artwork] Entering Chain run with input:\n",
      "\u001b[0m{\n",
      "  \"artwork\": \"Boulevard Montmartre Spring\",\n",
      "  \"artwork_metadata\": \"```markdown\\nartwork name: Boulevard Montmartre Spring  \\nartist: Camille Pissarro  \\ngenre: cityscape  \\nmedia: canvas, oil  \\nstyle: Impressionism  \\n```\",\n",
      "  \"artwork_description\": \"**Imagery of Boulevard Montmartre Spring**\\n\\n\\\"**Boulevard Montmartre Spring**,\\\" painted by Camille Pissarro in 1897, beautifully illustrates a lively street scene during the spring season in a bustling Paris. The canvas captures a vibrant array of colors that depict blossoming trees and the activity of people strolling along the boulevard. The use of pointillism is evident in Pissarro's brush strokes, conveying the energetic atmosphere while also highlighting the interplay of light and shadows as sunlight filters through the foliage. The painting evokes a sense of vitality and joy as figures engage in leisure activities, characteristic of the social and cultural life in Paris during this time.\\n\\n**Context of the Artwork**\\n\\nThe painting holds significant cultural and historical importance within the Impressionist movement, as it reflects the broader urban transformations occurring in Paris during the late 19th century. With the Haussmannization of Paris, which expanded and modernized the city's layout, boulevards became central to social life, providing settings for public gatherings and artistic expression. \\\"Boulevard Montmartre Spring\\\" not only celebrates the renewal associated with the season but also serves as a testament to the Impressionists' intent to depict contemporary urban life. Pissarro's work, embedded within this context, illustrates a harmonious interaction between nature and city life, embodying the essence of the Parisian experience.\",\n",
      "  \"artwork_url\": {\n",
      "    \"artwork_url\": \"https://www.wikiart.org/en/camille-pissarro/boulevard-montmartre-spring-1897\"\n",
      "  },\n",
      "  \"past_artworks\": [],\n",
      "  \"app_message\": \"\\nYou will be shown an artwork and a description.\\nTake a close look and articulate what you see, think, and feel.\\nAfterwards, you may describe an area of interest to continue exploring or view a new random artwork.\\nAt the end, you'll be give a list of all the artworks you've seen.\\n\"\n",
      "}\n",
      "\u001b[32;1m\u001b[1;3m[chain/start]\u001b[0m \u001b[1m[chain:LangGraph > chain:display_artwork > chain:ChannelWrite<display_artwork,artwork,artwork_metadata,artwork_description,artwork_url,art_request,past_artworks,discussion_messages,app_message,exit>] Entering Chain run with input:\n",
      "\u001b[0m{\n",
      "  \"artwork\": \"Boulevard Montmartre Spring\",\n",
      "  \"artwork_metadata\": \"```markdown\\nartwork name: Boulevard Montmartre Spring  \\nartist: Camille Pissarro  \\ngenre: cityscape  \\nmedia: canvas, oil  \\nstyle: Impressionism  \\n```\",\n",
      "  \"artwork_description\": \"**Imagery of Boulevard Montmartre Spring**\\n\\n\\\"**Boulevard Montmartre Spring**,\\\" painted by Camille Pissarro in 1897, beautifully illustrates a lively street scene during the spring season in a bustling Paris. The canvas captures a vibrant array of colors that depict blossoming trees and the activity of people strolling along the boulevard. The use of pointillism is evident in Pissarro's brush strokes, conveying the energetic atmosphere while also highlighting the interplay of light and shadows as sunlight filters through the foliage. The painting evokes a sense of vitality and joy as figures engage in leisure activities, characteristic of the social and cultural life in Paris during this time.\\n\\n**Context of the Artwork**\\n\\nThe painting holds significant cultural and historical importance within the Impressionist movement, as it reflects the broader urban transformations occurring in Paris during the late 19th century. With the Haussmannization of Paris, which expanded and modernized the city's layout, boulevards became central to social life, providing settings for public gatherings and artistic expression. \\\"Boulevard Montmartre Spring\\\" not only celebrates the renewal associated with the season but also serves as a testament to the Impressionists' intent to depict contemporary urban life. Pissarro's work, embedded within this context, illustrates a harmonious interaction between nature and city life, embodying the essence of the Parisian experience.\",\n",
      "  \"artwork_url\": {\n",
      "    \"artwork_url\": \"https://www.wikiart.org/en/camille-pissarro/boulevard-montmartre-spring-1897\"\n",
      "  },\n",
      "  \"past_artworks\": [],\n",
      "  \"app_message\": \"\\nYou will be shown an artwork and a description.\\nTake a close look and articulate what you see, think, and feel.\\nAfterwards, you may describe an area of interest to continue exploring or view a new random artwork.\\nAt the end, you'll be give a list of all the artworks you've seen.\\n\"\n",
      "}\n",
      "\u001b[36;1m\u001b[1;3m[chain/end]\u001b[0m \u001b[1m[chain:LangGraph > chain:display_artwork > chain:ChannelWrite<display_artwork,artwork,artwork_metadata,artwork_description,artwork_url,art_request,past_artworks,discussion_messages,app_message,exit>] [1ms] Exiting Chain run with output:\n",
      "\u001b[0m{\n",
      "  \"artwork\": \"Boulevard Montmartre Spring\",\n",
      "  \"artwork_metadata\": \"```markdown\\nartwork name: Boulevard Montmartre Spring  \\nartist: Camille Pissarro  \\ngenre: cityscape  \\nmedia: canvas, oil  \\nstyle: Impressionism  \\n```\",\n",
      "  \"artwork_description\": \"**Imagery of Boulevard Montmartre Spring**\\n\\n\\\"**Boulevard Montmartre Spring**,\\\" painted by Camille Pissarro in 1897, beautifully illustrates a lively street scene during the spring season in a bustling Paris. The canvas captures a vibrant array of colors that depict blossoming trees and the activity of people strolling along the boulevard. The use of pointillism is evident in Pissarro's brush strokes, conveying the energetic atmosphere while also highlighting the interplay of light and shadows as sunlight filters through the foliage. The painting evokes a sense of vitality and joy as figures engage in leisure activities, characteristic of the social and cultural life in Paris during this time.\\n\\n**Context of the Artwork**\\n\\nThe painting holds significant cultural and historical importance within the Impressionist movement, as it reflects the broader urban transformations occurring in Paris during the late 19th century. With the Haussmannization of Paris, which expanded and modernized the city's layout, boulevards became central to social life, providing settings for public gatherings and artistic expression. \\\"Boulevard Montmartre Spring\\\" not only celebrates the renewal associated with the season but also serves as a testament to the Impressionists' intent to depict contemporary urban life. Pissarro's work, embedded within this context, illustrates a harmonious interaction between nature and city life, embodying the essence of the Parisian experience.\",\n",
      "  \"artwork_url\": {\n",
      "    \"artwork_url\": \"https://www.wikiart.org/en/camille-pissarro/boulevard-montmartre-spring-1897\"\n",
      "  },\n",
      "  \"past_artworks\": [],\n",
      "  \"app_message\": \"\\nYou will be shown an artwork and a description.\\nTake a close look and articulate what you see, think, and feel.\\nAfterwards, you may describe an area of interest to continue exploring or view a new random artwork.\\nAt the end, you'll be give a list of all the artworks you've seen.\\n\"\n",
      "}\n",
      "\u001b[36;1m\u001b[1;3m[chain/end]\u001b[0m \u001b[1m[chain:LangGraph > chain:display_artwork] [1ms] Exiting Chain run with output:\n",
      "\u001b[0m{\n",
      "  \"artwork\": \"Boulevard Montmartre Spring\",\n",
      "  \"artwork_metadata\": \"```markdown\\nartwork name: Boulevard Montmartre Spring  \\nartist: Camille Pissarro  \\ngenre: cityscape  \\nmedia: canvas, oil  \\nstyle: Impressionism  \\n```\",\n",
      "  \"artwork_description\": \"**Imagery of Boulevard Montmartre Spring**\\n\\n\\\"**Boulevard Montmartre Spring**,\\\" painted by Camille Pissarro in 1897, beautifully illustrates a lively street scene during the spring season in a bustling Paris. The canvas captures a vibrant array of colors that depict blossoming trees and the activity of people strolling along the boulevard. The use of pointillism is evident in Pissarro's brush strokes, conveying the energetic atmosphere while also highlighting the interplay of light and shadows as sunlight filters through the foliage. The painting evokes a sense of vitality and joy as figures engage in leisure activities, characteristic of the social and cultural life in Paris during this time.\\n\\n**Context of the Artwork**\\n\\nThe painting holds significant cultural and historical importance within the Impressionist movement, as it reflects the broader urban transformations occurring in Paris during the late 19th century. With the Haussmannization of Paris, which expanded and modernized the city's layout, boulevards became central to social life, providing settings for public gatherings and artistic expression. \\\"Boulevard Montmartre Spring\\\" not only celebrates the renewal associated with the season but also serves as a testament to the Impressionists' intent to depict contemporary urban life. Pissarro's work, embedded within this context, illustrates a harmonious interaction between nature and city life, embodying the essence of the Parisian experience.\",\n",
      "  \"artwork_url\": {\n",
      "    \"artwork_url\": \"https://www.wikiart.org/en/camille-pissarro/boulevard-montmartre-spring-1897\"\n",
      "  },\n",
      "  \"past_artworks\": [],\n",
      "  \"app_message\": \"\\nYou will be shown an artwork and a description.\\nTake a close look and articulate what you see, think, and feel.\\nAfterwards, you may describe an area of interest to continue exploring or view a new random artwork.\\nAt the end, you'll be give a list of all the artworks you've seen.\\n\"\n",
      "}\n",
      "\u001b[32;1m\u001b[1;3m[chain/start]\u001b[0m \u001b[1m[chain:LangGraph > chain:discuss] Entering Chain run with input:\n",
      "\u001b[0m{\n",
      "  \"artwork\": \"Boulevard Montmartre Spring\",\n",
      "  \"artwork_metadata\": \"```markdown\\nartwork name: Boulevard Montmartre Spring  \\nartist: Camille Pissarro  \\ngenre: cityscape  \\nmedia: canvas, oil  \\nstyle: Impressionism  \\n```\",\n",
      "  \"artwork_description\": \"**Imagery of Boulevard Montmartre Spring**\\n\\n\\\"**Boulevard Montmartre Spring**,\\\" painted by Camille Pissarro in 1897, beautifully illustrates a lively street scene during the spring season in a bustling Paris. The canvas captures a vibrant array of colors that depict blossoming trees and the activity of people strolling along the boulevard. The use of pointillism is evident in Pissarro's brush strokes, conveying the energetic atmosphere while also highlighting the interplay of light and shadows as sunlight filters through the foliage. The painting evokes a sense of vitality and joy as figures engage in leisure activities, characteristic of the social and cultural life in Paris during this time.\\n\\n**Context of the Artwork**\\n\\nThe painting holds significant cultural and historical importance within the Impressionist movement, as it reflects the broader urban transformations occurring in Paris during the late 19th century. With the Haussmannization of Paris, which expanded and modernized the city's layout, boulevards became central to social life, providing settings for public gatherings and artistic expression. \\\"Boulevard Montmartre Spring\\\" not only celebrates the renewal associated with the season but also serves as a testament to the Impressionists' intent to depict contemporary urban life. Pissarro's work, embedded within this context, illustrates a harmonious interaction between nature and city life, embodying the essence of the Parisian experience.\",\n",
      "  \"artwork_url\": {\n",
      "    \"artwork_url\": \"https://www.wikiart.org/en/camille-pissarro/boulevard-montmartre-spring-1897\"\n",
      "  },\n",
      "  \"past_artworks\": [],\n",
      "  \"app_message\": \"\\nYou will be shown an artwork and a description.\\nTake a close look and articulate what you see, think, and feel.\\nAfterwards, you may describe an area of interest to continue exploring or view a new random artwork.\\nAt the end, you'll be give a list of all the artworks you've seen.\\n\"\n",
      "}\n",
      "\u001b[32;1m\u001b[1;3m[chain/start]\u001b[0m \u001b[1m[chain:LangGraph > chain:discuss > chain:ChannelWrite<discuss,artwork,artwork_metadata,artwork_description,artwork_url,art_request,past_artworks,discussion_messages,app_message,exit>] Entering Chain run with input:\n",
      "\u001b[0m{\n",
      "  \"artwork\": \"Boulevard Montmartre Spring\",\n",
      "  \"artwork_metadata\": \"```markdown\\nartwork name: Boulevard Montmartre Spring  \\nartist: Camille Pissarro  \\ngenre: cityscape  \\nmedia: canvas, oil  \\nstyle: Impressionism  \\n```\",\n",
      "  \"artwork_description\": \"**Imagery of Boulevard Montmartre Spring**\\n\\n\\\"**Boulevard Montmartre Spring**,\\\" painted by Camille Pissarro in 1897, beautifully illustrates a lively street scene during the spring season in a bustling Paris. The canvas captures a vibrant array of colors that depict blossoming trees and the activity of people strolling along the boulevard. The use of pointillism is evident in Pissarro's brush strokes, conveying the energetic atmosphere while also highlighting the interplay of light and shadows as sunlight filters through the foliage. The painting evokes a sense of vitality and joy as figures engage in leisure activities, characteristic of the social and cultural life in Paris during this time.\\n\\n**Context of the Artwork**\\n\\nThe painting holds significant cultural and historical importance within the Impressionist movement, as it reflects the broader urban transformations occurring in Paris during the late 19th century. With the Haussmannization of Paris, which expanded and modernized the city's layout, boulevards became central to social life, providing settings for public gatherings and artistic expression. \\\"Boulevard Montmartre Spring\\\" not only celebrates the renewal associated with the season but also serves as a testament to the Impressionists' intent to depict contemporary urban life. Pissarro's work, embedded within this context, illustrates a harmonious interaction between nature and city life, embodying the essence of the Parisian experience.\",\n",
      "  \"artwork_url\": {\n",
      "    \"artwork_url\": \"https://www.wikiart.org/en/camille-pissarro/boulevard-montmartre-spring-1897\"\n",
      "  },\n",
      "  \"past_artworks\": [],\n",
      "  \"app_message\": \"\\nYou will be shown an artwork and a description.\\nTake a close look and articulate what you see, think, and feel.\\nAfterwards, you may describe an area of interest to continue exploring or view a new random artwork.\\nAt the end, you'll be give a list of all the artworks you've seen.\\n\",\n",
      "  \"exit\": true\n",
      "}\n",
      "\u001b[36;1m\u001b[1;3m[chain/end]\u001b[0m \u001b[1m[chain:LangGraph > chain:discuss > chain:ChannelWrite<discuss,artwork,artwork_metadata,artwork_description,artwork_url,art_request,past_artworks,discussion_messages,app_message,exit>] [0ms] Exiting Chain run with output:\n",
      "\u001b[0m{\n",
      "  \"artwork\": \"Boulevard Montmartre Spring\",\n",
      "  \"artwork_metadata\": \"```markdown\\nartwork name: Boulevard Montmartre Spring  \\nartist: Camille Pissarro  \\ngenre: cityscape  \\nmedia: canvas, oil  \\nstyle: Impressionism  \\n```\",\n",
      "  \"artwork_description\": \"**Imagery of Boulevard Montmartre Spring**\\n\\n\\\"**Boulevard Montmartre Spring**,\\\" painted by Camille Pissarro in 1897, beautifully illustrates a lively street scene during the spring season in a bustling Paris. The canvas captures a vibrant array of colors that depict blossoming trees and the activity of people strolling along the boulevard. The use of pointillism is evident in Pissarro's brush strokes, conveying the energetic atmosphere while also highlighting the interplay of light and shadows as sunlight filters through the foliage. The painting evokes a sense of vitality and joy as figures engage in leisure activities, characteristic of the social and cultural life in Paris during this time.\\n\\n**Context of the Artwork**\\n\\nThe painting holds significant cultural and historical importance within the Impressionist movement, as it reflects the broader urban transformations occurring in Paris during the late 19th century. With the Haussmannization of Paris, which expanded and modernized the city's layout, boulevards became central to social life, providing settings for public gatherings and artistic expression. \\\"Boulevard Montmartre Spring\\\" not only celebrates the renewal associated with the season but also serves as a testament to the Impressionists' intent to depict contemporary urban life. Pissarro's work, embedded within this context, illustrates a harmonious interaction between nature and city life, embodying the essence of the Parisian experience.\",\n",
      "  \"artwork_url\": {\n",
      "    \"artwork_url\": \"https://www.wikiart.org/en/camille-pissarro/boulevard-montmartre-spring-1897\"\n",
      "  },\n",
      "  \"past_artworks\": [],\n",
      "  \"app_message\": \"\\nYou will be shown an artwork and a description.\\nTake a close look and articulate what you see, think, and feel.\\nAfterwards, you may describe an area of interest to continue exploring or view a new random artwork.\\nAt the end, you'll be give a list of all the artworks you've seen.\\n\",\n",
      "  \"exit\": true\n",
      "}\n",
      "\u001b[32;1m\u001b[1;3m[chain/start]\u001b[0m \u001b[1m[chain:LangGraph > chain:discuss > chain:conclude_or_moreart] Entering Chain run with input:\n",
      "\u001b[0m{\n",
      "  \"artwork\": \"Boulevard Montmartre Spring\",\n",
      "  \"artwork_metadata\": \"```markdown\\nartwork name: Boulevard Montmartre Spring  \\nartist: Camille Pissarro  \\ngenre: cityscape  \\nmedia: canvas, oil  \\nstyle: Impressionism  \\n```\",\n",
      "  \"artwork_description\": \"**Imagery of Boulevard Montmartre Spring**\\n\\n\\\"**Boulevard Montmartre Spring**,\\\" painted by Camille Pissarro in 1897, beautifully illustrates a lively street scene during the spring season in a bustling Paris. The canvas captures a vibrant array of colors that depict blossoming trees and the activity of people strolling along the boulevard. The use of pointillism is evident in Pissarro's brush strokes, conveying the energetic atmosphere while also highlighting the interplay of light and shadows as sunlight filters through the foliage. The painting evokes a sense of vitality and joy as figures engage in leisure activities, characteristic of the social and cultural life in Paris during this time.\\n\\n**Context of the Artwork**\\n\\nThe painting holds significant cultural and historical importance within the Impressionist movement, as it reflects the broader urban transformations occurring in Paris during the late 19th century. With the Haussmannization of Paris, which expanded and modernized the city's layout, boulevards became central to social life, providing settings for public gatherings and artistic expression. \\\"Boulevard Montmartre Spring\\\" not only celebrates the renewal associated with the season but also serves as a testament to the Impressionists' intent to depict contemporary urban life. Pissarro's work, embedded within this context, illustrates a harmonious interaction between nature and city life, embodying the essence of the Parisian experience.\",\n",
      "  \"artwork_url\": {\n",
      "    \"artwork_url\": \"https://www.wikiart.org/en/camille-pissarro/boulevard-montmartre-spring-1897\"\n",
      "  },\n",
      "  \"past_artworks\": [],\n",
      "  \"app_message\": \"\\nYou will be shown an artwork and a description.\\nTake a close look and articulate what you see, think, and feel.\\nAfterwards, you may describe an area of interest to continue exploring or view a new random artwork.\\nAt the end, you'll be give a list of all the artworks you've seen.\\n\",\n",
      "  \"exit\": true\n",
      "}\n",
      "\u001b[36;1m\u001b[1;3m[chain/end]\u001b[0m \u001b[1m[chain:LangGraph > chain:discuss > chain:conclude_or_moreart] [0ms] Exiting Chain run with output:\n",
      "\u001b[0m{\n",
      "  \"output\": \"conclude_tour\"\n",
      "}\n",
      "\u001b[36;1m\u001b[1;3m[chain/end]\u001b[0m \u001b[1m[chain:LangGraph > chain:discuss] [0ms] Exiting Chain run with output:\n",
      "\u001b[0m{\n",
      "  \"artwork\": \"Boulevard Montmartre Spring\",\n",
      "  \"artwork_metadata\": \"```markdown\\nartwork name: Boulevard Montmartre Spring  \\nartist: Camille Pissarro  \\ngenre: cityscape  \\nmedia: canvas, oil  \\nstyle: Impressionism  \\n```\",\n",
      "  \"artwork_description\": \"**Imagery of Boulevard Montmartre Spring**\\n\\n\\\"**Boulevard Montmartre Spring**,\\\" painted by Camille Pissarro in 1897, beautifully illustrates a lively street scene during the spring season in a bustling Paris. The canvas captures a vibrant array of colors that depict blossoming trees and the activity of people strolling along the boulevard. The use of pointillism is evident in Pissarro's brush strokes, conveying the energetic atmosphere while also highlighting the interplay of light and shadows as sunlight filters through the foliage. The painting evokes a sense of vitality and joy as figures engage in leisure activities, characteristic of the social and cultural life in Paris during this time.\\n\\n**Context of the Artwork**\\n\\nThe painting holds significant cultural and historical importance within the Impressionist movement, as it reflects the broader urban transformations occurring in Paris during the late 19th century. With the Haussmannization of Paris, which expanded and modernized the city's layout, boulevards became central to social life, providing settings for public gatherings and artistic expression. \\\"Boulevard Montmartre Spring\\\" not only celebrates the renewal associated with the season but also serves as a testament to the Impressionists' intent to depict contemporary urban life. Pissarro's work, embedded within this context, illustrates a harmonious interaction between nature and city life, embodying the essence of the Parisian experience.\",\n",
      "  \"artwork_url\": {\n",
      "    \"artwork_url\": \"https://www.wikiart.org/en/camille-pissarro/boulevard-montmartre-spring-1897\"\n",
      "  },\n",
      "  \"past_artworks\": [],\n",
      "  \"app_message\": \"\\nYou will be shown an artwork and a description.\\nTake a close look and articulate what you see, think, and feel.\\nAfterwards, you may describe an area of interest to continue exploring or view a new random artwork.\\nAt the end, you'll be give a list of all the artworks you've seen.\\n\",\n",
      "  \"exit\": true\n",
      "}\n",
      "\u001b[32;1m\u001b[1;3m[chain/start]\u001b[0m \u001b[1m[chain:LangGraph > chain:conclude_tour] Entering Chain run with input:\n",
      "\u001b[0m{\n",
      "  \"artwork\": \"Boulevard Montmartre Spring\",\n",
      "  \"artwork_metadata\": \"```markdown\\nartwork name: Boulevard Montmartre Spring  \\nartist: Camille Pissarro  \\ngenre: cityscape  \\nmedia: canvas, oil  \\nstyle: Impressionism  \\n```\",\n",
      "  \"artwork_description\": \"**Imagery of Boulevard Montmartre Spring**\\n\\n\\\"**Boulevard Montmartre Spring**,\\\" painted by Camille Pissarro in 1897, beautifully illustrates a lively street scene during the spring season in a bustling Paris. The canvas captures a vibrant array of colors that depict blossoming trees and the activity of people strolling along the boulevard. The use of pointillism is evident in Pissarro's brush strokes, conveying the energetic atmosphere while also highlighting the interplay of light and shadows as sunlight filters through the foliage. The painting evokes a sense of vitality and joy as figures engage in leisure activities, characteristic of the social and cultural life in Paris during this time.\\n\\n**Context of the Artwork**\\n\\nThe painting holds significant cultural and historical importance within the Impressionist movement, as it reflects the broader urban transformations occurring in Paris during the late 19th century. With the Haussmannization of Paris, which expanded and modernized the city's layout, boulevards became central to social life, providing settings for public gatherings and artistic expression. \\\"Boulevard Montmartre Spring\\\" not only celebrates the renewal associated with the season but also serves as a testament to the Impressionists' intent to depict contemporary urban life. Pissarro's work, embedded within this context, illustrates a harmonious interaction between nature and city life, embodying the essence of the Parisian experience.\",\n",
      "  \"artwork_url\": {\n",
      "    \"artwork_url\": \"https://www.wikiart.org/en/camille-pissarro/boulevard-montmartre-spring-1897\"\n",
      "  },\n",
      "  \"past_artworks\": [],\n",
      "  \"app_message\": \"\\nYou will be shown an artwork and a description.\\nTake a close look and articulate what you see, think, and feel.\\nAfterwards, you may describe an area of interest to continue exploring or view a new random artwork.\\nAt the end, you'll be give a list of all the artworks you've seen.\\n\",\n",
      "  \"exit\": true\n",
      "}\n"
     ]
    },
    {
     "name": "stderr",
     "output_type": "stream",
     "text": [
      "INFO:httpx:HTTP Request: POST https://api.openai.com/v1/embeddings \"HTTP/1.1 200 OK\"\n",
      "INFO:lightrag:Local query uses 60 entites, 151 relations, 6 text units\n",
      "INFO:httpx:HTTP Request: POST https://api.openai.com/v1/embeddings \"HTTP/1.1 200 OK\"\n",
      "INFO:lightrag:Global query uses 37 entites, 60 relations, 9 text units\n",
      "INFO:httpx:HTTP Request: POST https://api.openai.com/v1/chat/completions \"HTTP/1.1 200 OK\"\n"
     ]
    },
    {
     "name": "stdout",
     "output_type": "stream",
     "text": [
      "\u001b[32;1m\u001b[1;3m[chain/start]\u001b[0m \u001b[1m[chain:LangGraph > chain:conclude_tour > chain:ChannelWrite<conclude_tour,artwork,artwork_metadata,artwork_description,artwork_url,art_request,past_artworks,discussion_messages,app_message,exit>] Entering Chain run with input:\n",
      "\u001b[0m{\n",
      "  \"app_message\": \"\\n    Thank you for doing a tour!\\n    These are the artworks you viewed:\\n    \\n\\n    Here's a summary of the themes:\\n    # Art Tour Narrative\\n\\nWelcome to our enlightening art tour, where we explored some remarkable works of art that define and illustrate the evolution of Impressionism and its impact on the art world. From the vibrant landscapes of Claude Monet to the poignant social commentaries of Édouard Manet, we traversed a rich landscape of creativity and expression.\\n\\n**1. The Grand Canal 03** by Claude Monet captures the ethereal beauty of Venice, showcasing Monet's mastery of light and color as he paints the changing reflections on the water. This series exemplifies his exploration of natural light, inviting viewers to experience the serene yet dynamic environment of the canal.\\n\\n**2. A Girl with a Watering Can** by Pierre-Auguste Renoir portrays a tender moment in a garden setting, depicting Mademoiselle Leclere in a cheerful blue dress as she engages in a simple, everyday activity. Renoir’s impressionistic style vividly brings this scene to life through fluid brushwork and rich colors.\\n\\n**3. Spring (Study of Jeanne Demarsy)** by Édouard Manet embodies contemporary themes reflected in the depiction of the actress Jeanne DeMarsy, captured in a striking floral dress amid a lush backdrop. This painting is a testament to Manet’s exploration of modern femininity and fashion, blending traditional portraiture with modern elements.\\n\\n**4. Summer's Day** by Berthe Morisot features two women in a rowboat painted with a delicate touch, showcasing her distinctive style that beautifully intertwines color and light. Morisot’s artwork stands out for its feminine perspective and capturing the joys of leisure in nature.\\n\\n**5. The Boating Party** by Mary Cassatt offers an intimate glimpse into the family dynamic through the depiction of a mother and child on a sailboat, emphasizing maternal themes in her work. This piece is notable for its composition and the interplay of figures, reflecting Cassatt’s deep understanding of women’s experiences.\\n\\nIn conclusion, this tour illuminated the profound themes of light, fleeting moments of beauty, and the complexity of modern life that these artists so eloquently captured in their works. Thank you for joining this journey through the enchanting realm of Impressionism!\\n    \"\n",
      "}\n",
      "\u001b[36;1m\u001b[1;3m[chain/end]\u001b[0m \u001b[1m[chain:LangGraph > chain:conclude_tour > chain:ChannelWrite<conclude_tour,artwork,artwork_metadata,artwork_description,artwork_url,art_request,past_artworks,discussion_messages,app_message,exit>] [0ms] Exiting Chain run with output:\n",
      "\u001b[0m{\n",
      "  \"app_message\": \"\\n    Thank you for doing a tour!\\n    These are the artworks you viewed:\\n    \\n\\n    Here's a summary of the themes:\\n    # Art Tour Narrative\\n\\nWelcome to our enlightening art tour, where we explored some remarkable works of art that define and illustrate the evolution of Impressionism and its impact on the art world. From the vibrant landscapes of Claude Monet to the poignant social commentaries of Édouard Manet, we traversed a rich landscape of creativity and expression.\\n\\n**1. The Grand Canal 03** by Claude Monet captures the ethereal beauty of Venice, showcasing Monet's mastery of light and color as he paints the changing reflections on the water. This series exemplifies his exploration of natural light, inviting viewers to experience the serene yet dynamic environment of the canal.\\n\\n**2. A Girl with a Watering Can** by Pierre-Auguste Renoir portrays a tender moment in a garden setting, depicting Mademoiselle Leclere in a cheerful blue dress as she engages in a simple, everyday activity. Renoir’s impressionistic style vividly brings this scene to life through fluid brushwork and rich colors.\\n\\n**3. Spring (Study of Jeanne Demarsy)** by Édouard Manet embodies contemporary themes reflected in the depiction of the actress Jeanne DeMarsy, captured in a striking floral dress amid a lush backdrop. This painting is a testament to Manet’s exploration of modern femininity and fashion, blending traditional portraiture with modern elements.\\n\\n**4. Summer's Day** by Berthe Morisot features two women in a rowboat painted with a delicate touch, showcasing her distinctive style that beautifully intertwines color and light. Morisot’s artwork stands out for its feminine perspective and capturing the joys of leisure in nature.\\n\\n**5. The Boating Party** by Mary Cassatt offers an intimate glimpse into the family dynamic through the depiction of a mother and child on a sailboat, emphasizing maternal themes in her work. This piece is notable for its composition and the interplay of figures, reflecting Cassatt’s deep understanding of women’s experiences.\\n\\nIn conclusion, this tour illuminated the profound themes of light, fleeting moments of beauty, and the complexity of modern life that these artists so eloquently captured in their works. Thank you for joining this journey through the enchanting realm of Impressionism!\\n    \"\n",
      "}\n",
      "\u001b[36;1m\u001b[1;3m[chain/end]\u001b[0m \u001b[1m[chain:LangGraph > chain:conclude_tour] [18.85s] Exiting Chain run with output:\n",
      "\u001b[0m{\n",
      "  \"app_message\": \"\\n    Thank you for doing a tour!\\n    These are the artworks you viewed:\\n    \\n\\n    Here's a summary of the themes:\\n    # Art Tour Narrative\\n\\nWelcome to our enlightening art tour, where we explored some remarkable works of art that define and illustrate the evolution of Impressionism and its impact on the art world. From the vibrant landscapes of Claude Monet to the poignant social commentaries of Édouard Manet, we traversed a rich landscape of creativity and expression.\\n\\n**1. The Grand Canal 03** by Claude Monet captures the ethereal beauty of Venice, showcasing Monet's mastery of light and color as he paints the changing reflections on the water. This series exemplifies his exploration of natural light, inviting viewers to experience the serene yet dynamic environment of the canal.\\n\\n**2. A Girl with a Watering Can** by Pierre-Auguste Renoir portrays a tender moment in a garden setting, depicting Mademoiselle Leclere in a cheerful blue dress as she engages in a simple, everyday activity. Renoir’s impressionistic style vividly brings this scene to life through fluid brushwork and rich colors.\\n\\n**3. Spring (Study of Jeanne Demarsy)** by Édouard Manet embodies contemporary themes reflected in the depiction of the actress Jeanne DeMarsy, captured in a striking floral dress amid a lush backdrop. This painting is a testament to Manet’s exploration of modern femininity and fashion, blending traditional portraiture with modern elements.\\n\\n**4. Summer's Day** by Berthe Morisot features two women in a rowboat painted with a delicate touch, showcasing her distinctive style that beautifully intertwines color and light. Morisot’s artwork stands out for its feminine perspective and capturing the joys of leisure in nature.\\n\\n**5. The Boating Party** by Mary Cassatt offers an intimate glimpse into the family dynamic through the depiction of a mother and child on a sailboat, emphasizing maternal themes in her work. This piece is notable for its composition and the interplay of figures, reflecting Cassatt’s deep understanding of women’s experiences.\\n\\nIn conclusion, this tour illuminated the profound themes of light, fleeting moments of beauty, and the complexity of modern life that these artists so eloquently captured in their works. Thank you for joining this journey through the enchanting realm of Impressionism!\\n    \"\n",
      "}\n",
      "\u001b[36;1m\u001b[1;3m[chain/end]\u001b[0m \u001b[1m[chain:LangGraph] [35.66s] Exiting Chain run with output:\n",
      "\u001b[0m{\n",
      "  \"artwork\": \"Boulevard Montmartre Spring\",\n",
      "  \"artwork_metadata\": \"```markdown\\nartwork name: Boulevard Montmartre Spring  \\nartist: Camille Pissarro  \\ngenre: cityscape  \\nmedia: canvas, oil  \\nstyle: Impressionism  \\n```\",\n",
      "  \"artwork_description\": \"**Imagery of Boulevard Montmartre Spring**\\n\\n\\\"**Boulevard Montmartre Spring**,\\\" painted by Camille Pissarro in 1897, beautifully illustrates a lively street scene during the spring season in a bustling Paris. The canvas captures a vibrant array of colors that depict blossoming trees and the activity of people strolling along the boulevard. The use of pointillism is evident in Pissarro's brush strokes, conveying the energetic atmosphere while also highlighting the interplay of light and shadows as sunlight filters through the foliage. The painting evokes a sense of vitality and joy as figures engage in leisure activities, characteristic of the social and cultural life in Paris during this time.\\n\\n**Context of the Artwork**\\n\\nThe painting holds significant cultural and historical importance within the Impressionist movement, as it reflects the broader urban transformations occurring in Paris during the late 19th century. With the Haussmannization of Paris, which expanded and modernized the city's layout, boulevards became central to social life, providing settings for public gatherings and artistic expression. \\\"Boulevard Montmartre Spring\\\" not only celebrates the renewal associated with the season but also serves as a testament to the Impressionists' intent to depict contemporary urban life. Pissarro's work, embedded within this context, illustrates a harmonious interaction between nature and city life, embodying the essence of the Parisian experience.\",\n",
      "  \"artwork_url\": {\n",
      "    \"artwork_url\": \"https://www.wikiart.org/en/camille-pissarro/boulevard-montmartre-spring-1897\"\n",
      "  },\n",
      "  \"past_artworks\": [],\n",
      "  \"app_message\": \"\\n    Thank you for doing a tour!\\n    These are the artworks you viewed:\\n    \\n\\n    Here's a summary of the themes:\\n    # Art Tour Narrative\\n\\nWelcome to our enlightening art tour, where we explored some remarkable works of art that define and illustrate the evolution of Impressionism and its impact on the art world. From the vibrant landscapes of Claude Monet to the poignant social commentaries of Édouard Manet, we traversed a rich landscape of creativity and expression.\\n\\n**1. The Grand Canal 03** by Claude Monet captures the ethereal beauty of Venice, showcasing Monet's mastery of light and color as he paints the changing reflections on the water. This series exemplifies his exploration of natural light, inviting viewers to experience the serene yet dynamic environment of the canal.\\n\\n**2. A Girl with a Watering Can** by Pierre-Auguste Renoir portrays a tender moment in a garden setting, depicting Mademoiselle Leclere in a cheerful blue dress as she engages in a simple, everyday activity. Renoir’s impressionistic style vividly brings this scene to life through fluid brushwork and rich colors.\\n\\n**3. Spring (Study of Jeanne Demarsy)** by Édouard Manet embodies contemporary themes reflected in the depiction of the actress Jeanne DeMarsy, captured in a striking floral dress amid a lush backdrop. This painting is a testament to Manet’s exploration of modern femininity and fashion, blending traditional portraiture with modern elements.\\n\\n**4. Summer's Day** by Berthe Morisot features two women in a rowboat painted with a delicate touch, showcasing her distinctive style that beautifully intertwines color and light. Morisot’s artwork stands out for its feminine perspective and capturing the joys of leisure in nature.\\n\\n**5. The Boating Party** by Mary Cassatt offers an intimate glimpse into the family dynamic through the depiction of a mother and child on a sailboat, emphasizing maternal themes in her work. This piece is notable for its composition and the interplay of figures, reflecting Cassatt’s deep understanding of women’s experiences.\\n\\nIn conclusion, this tour illuminated the profound themes of light, fleeting moments of beauty, and the complexity of modern life that these artists so eloquently captured in their works. Thank you for joining this journey through the enchanting realm of Impressionism!\\n    \",\n",
      "  \"exit\": true\n",
      "}\n"
     ]
    },
    {
     "data": {
      "text/plain": [
       "{'artwork': 'Boulevard Montmartre Spring',\n",
       " 'artwork_metadata': '```markdown\\nartwork name: Boulevard Montmartre Spring  \\nartist: Camille Pissarro  \\ngenre: cityscape  \\nmedia: canvas, oil  \\nstyle: Impressionism  \\n```',\n",
       " 'artwork_description': '**Imagery of Boulevard Montmartre Spring**\\n\\n\"**Boulevard Montmartre Spring**,\" painted by Camille Pissarro in 1897, beautifully illustrates a lively street scene during the spring season in a bustling Paris. The canvas captures a vibrant array of colors that depict blossoming trees and the activity of people strolling along the boulevard. The use of pointillism is evident in Pissarro\\'s brush strokes, conveying the energetic atmosphere while also highlighting the interplay of light and shadows as sunlight filters through the foliage. The painting evokes a sense of vitality and joy as figures engage in leisure activities, characteristic of the social and cultural life in Paris during this time.\\n\\n**Context of the Artwork**\\n\\nThe painting holds significant cultural and historical importance within the Impressionist movement, as it reflects the broader urban transformations occurring in Paris during the late 19th century. With the Haussmannization of Paris, which expanded and modernized the city\\'s layout, boulevards became central to social life, providing settings for public gatherings and artistic expression. \"Boulevard Montmartre Spring\" not only celebrates the renewal associated with the season but also serves as a testament to the Impressionists\\' intent to depict contemporary urban life. Pissarro\\'s work, embedded within this context, illustrates a harmonious interaction between nature and city life, embodying the essence of the Parisian experience.',\n",
       " 'artwork_url': {'artwork_url': 'https://www.wikiart.org/en/camille-pissarro/boulevard-montmartre-spring-1897'},\n",
       " 'past_artworks': [],\n",
       " 'app_message': \"\\n    Thank you for doing a tour!\\n    These are the artworks you viewed:\\n    \\n\\n    Here's a summary of the themes:\\n    # Art Tour Narrative\\n\\nWelcome to our enlightening art tour, where we explored some remarkable works of art that define and illustrate the evolution of Impressionism and its impact on the art world. From the vibrant landscapes of Claude Monet to the poignant social commentaries of Édouard Manet, we traversed a rich landscape of creativity and expression.\\n\\n**1. The Grand Canal 03** by Claude Monet captures the ethereal beauty of Venice, showcasing Monet's mastery of light and color as he paints the changing reflections on the water. This series exemplifies his exploration of natural light, inviting viewers to experience the serene yet dynamic environment of the canal.\\n\\n**2. A Girl with a Watering Can** by Pierre-Auguste Renoir portrays a tender moment in a garden setting, depicting Mademoiselle Leclere in a cheerful blue dress as she engages in a simple, everyday activity. Renoir’s impressionistic style vividly brings this scene to life through fluid brushwork and rich colors.\\n\\n**3. Spring (Study of Jeanne Demarsy)** by Édouard Manet embodies contemporary themes reflected in the depiction of the actress Jeanne DeMarsy, captured in a striking floral dress amid a lush backdrop. This painting is a testament to Manet’s exploration of modern femininity and fashion, blending traditional portraiture with modern elements.\\n\\n**4. Summer's Day** by Berthe Morisot features two women in a rowboat painted with a delicate touch, showcasing her distinctive style that beautifully intertwines color and light. Morisot’s artwork stands out for its feminine perspective and capturing the joys of leisure in nature.\\n\\n**5. The Boating Party** by Mary Cassatt offers an intimate glimpse into the family dynamic through the depiction of a mother and child on a sailboat, emphasizing maternal themes in her work. This piece is notable for its composition and the interplay of figures, reflecting Cassatt’s deep understanding of women’s experiences.\\n\\nIn conclusion, this tour illuminated the profound themes of light, fleeting moments of beauty, and the complexity of modern life that these artists so eloquently captured in their works. Thank you for joining this journey through the enchanting realm of Impressionism!\\n    \",\n",
       " 'exit': True}"
      ]
     },
     "execution_count": 25,
     "metadata": {},
     "output_type": "execute_result"
    }
   ],
   "source": [
    "app.invoke({\"artwork\": None, \"past_artworks\": []})"
   ]
  },
  {
   "cell_type": "markdown",
   "metadata": {
    "vscode": {
     "languageId": "plaintext"
    }
   },
   "source": [
    "### Final App"
   ]
  },
  {
   "cell_type": "code",
   "execution_count": null,
   "metadata": {},
   "outputs": [
    {
     "data": {
      "application/vnd.jupyter.widget-view+json": {
       "model_id": "3dad22bc61c0460b93d13349522fd69a",
       "version_major": 2,
       "version_minor": 0
      },
      "text/plain": [
       "GridspecLayout(children=(HTML(value='<p>foo 1637</p>', layout=Layout(grid_area='widget001')), HTML(value='<img…"
      ]
     },
     "metadata": {},
     "output_type": "display_data"
    }
   ],
   "source": [
    "def create_image_widget(artwork_url: str):\n",
    "    return widgets.HTML(value=f'<img src=\"{get_artwork_image_url(artwork_url)}\">')\n",
    "\n",
    "\n",
    "def create_description_box(description: str):\n",
    "    return widgets.HTML(markdown.markdown(description))\n",
    "    # return widgets.HTML(value=f'<h1>{description}</h1>')\n",
    "\n",
    "\n",
    "exit_loop = False\n",
    "\n",
    "prompt_input = widgets.Text(value='helloworld')\n",
    "\n",
    "\n",
    "def callback(widget):\n",
    "    # Start workflow loop\n",
    "    pass\n",
    "\n",
    "\n",
    "prompt_input.on_submit(callback)\n",
    "\n",
    "grid_layout = GridspecLayout(20, 1)\n",
    "grid_layout[0, 0] = create_description_box(\"foo 1637\")\n",
    "grid_layout[1:12, 0] = create_image_widget('/en/pieter-codde/the-meagre-company-1637')\n",
    "grid_layout[13, 0] = create_description_box(\"this is a llm response\")\n",
    "grid_layout[14, 0] = prompt_input\n",
    "\n",
    "grid_layout"
   ]
  },
  {
   "cell_type": "code",
   "execution_count": null,
   "metadata": {},
   "outputs": [],
   "source": [
    "# User Loop\n",
    "current_image = \"https://www.wikiart.org/en/pierre-auguste-renoir/ball-at-the-moulin-de-la-galette-1876\"\n",
    "description = describe_painting(current_image)\n",
    "app_running = True\n",
    "while app_running:\n",
    "    while current_painting:\n",
    "        \n",
    "\n",
    "    "
   ]
  }
 ],
 "metadata": {
  "kernelspec": {
   "display_name": ".venv",
   "language": "python",
   "name": "python3"
  },
  "language_info": {
   "codemirror_mode": {
    "name": "ipython",
    "version": 3
   },
   "file_extension": ".py",
   "mimetype": "text/x-python",
   "name": "python",
   "nbconvert_exporter": "python",
   "pygments_lexer": "ipython3",
   "version": "3.12.7"
  }
 },
 "nbformat": 4,
 "nbformat_minor": 4
}
