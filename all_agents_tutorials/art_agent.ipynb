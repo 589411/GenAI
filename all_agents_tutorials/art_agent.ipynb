{
 "cells": [
  {
   "cell_type": "markdown",
   "metadata": {
    "vscode": {
     "languageId": "plaintext"
    }
   },
   "source": [
    "<a href=\"https://colab.research.google.com/github/MichaelDeng03/GenAI_Agents/blob/main/all_agents_tutorials/art_agent.ipynb\" target=\"_parent\"><img src=\"https://colab.research.google.com/assets/colab-badge.svg\" alt=\"Open In Colab\"/></a>"
   ]
  },
  {
   "cell_type": "markdown",
   "metadata": {
    "vscode": {
     "languageId": "plaintext"
    }
   },
   "source": [
    "# Interactive Art Agent\n",
    "This tutorial will walk through the creation of an AI Agent that helps you explore and learn art!\n",
    "\n",
    "### Overview\n",
    "For knowledge retrieval, this tutorial uses [LightRAG](https://github.com/HKUDS/LightRAG) which is knowledge graph based RAG implementation. Compared to GraphRAG, LightRAG is more accurate for single topic datasets, and uses 1,000x less tokens for retrieval. Furthermore, documents can be added to LightRAG incrementally without rebuilding the knowledge graph. See the full results in the [paper](https://arxiv.org/abs/2410.05779).\n",
    "\n",
    "For the agent itself, we use LangGraph.\n",
    "\n",
    "### Outline\n",
    "0. [Setup](#setup)\n",
    "1. [Data Preparation + RAG](#data-preparation--rag)\n",
    "2. [Agent Creation](#agent-creation)\n",
    "3. [Final App](#final-app)"
   ]
  },
  {
   "cell_type": "markdown",
   "metadata": {
    "vscode": {
     "languageId": "plaintext"
    }
   },
   "source": [
    "### Setup"
   ]
  },
  {
   "cell_type": "markdown",
   "metadata": {},
   "source": [
    "# ENV\n",
    "\n",
    "This tutorial uses openai embedding models. While there are alternatives, we recommend using the openai models for the best results.\n",
    "\n",
    "```\n",
    "export OPENAI_API_KEY=sk....\n",
    "```"
   ]
  },
  {
   "cell_type": "code",
   "execution_count": null,
   "metadata": {},
   "outputs": [
    {
     "name": "stdout",
     "output_type": "stream",
     "text": [
      "\u001b[2mUsing Python 3.12.7 environment at /home/madeng/AbstractOperator/GenAI_Agents/.venv\u001b[0m\n",
      "\u001b[2K\u001b[2mResolved \u001b[1m192 packages\u001b[0m \u001b[2min 99ms\u001b[0m\u001b[0m                                        \u001b[0m\n",
      "\u001b[2mUninstalled \u001b[1m1 package\u001b[0m \u001b[2min 0.73ms\u001b[0m\u001b[0m\n",
      "\u001b[2K\u001b[2mInstalled \u001b[1m1 package\u001b[0m \u001b[2min 1ms\u001b[0m\u001b[0m                                  \u001b[0m\n",
      " \u001b[31m-\u001b[39m \u001b[1msix\u001b[0m\u001b[2m==1.16.0\u001b[0m\n",
      " \u001b[32m+\u001b[39m \u001b[1msix\u001b[0m\u001b[2m==1.12.0\u001b[0m\n"
     ]
    }
   ],
   "source": [
    "!uv pip install lightrag-hku aioboto3 numpy ollama openai tenacity aioboto3 transformers torch tiktoken nano_vectordb neo4j oracledb textract setuptools pyvis sqlalchemy langchain_community langchain_openai sqlmodel ipywidgets==7.7.1 asyncio markdown"
   ]
  },
  {
   "cell_type": "code",
   "execution_count": 79,
   "metadata": {},
   "outputs": [],
   "source": [
    "from ipywidgets import Button, Layout, jslink, IntText, IntSlider, TwoByTwoLayout, Text, AppLayout, GridspecLayout\n",
    "import ipywidgets as widgets\n",
    "from IPython.display import display, Markdown\n",
    "from IPython.display import Markdown\n",
    "\n",
    "import os\n",
    "import operator\n",
    "from datetime import datetime\n",
    "from typing import Any, Annotated, List\n",
    "from typing_extensions import TypedDict\n",
    "from pydantic import BaseModel, Field\n",
    "\n",
    "from IPython.display import Image, display, Markdown\n",
    "\n",
    "from langgraph.graph import Graph, END\n",
    "from langchain_core.runnables.graph import MermaidDrawMethod\n",
    "from IPython.display import display, Image as IPImage\n",
    "\n",
    "from lightrag.llm import gpt_4o_mini_complete\n",
    "from lightrag import LightRAG, QueryParam\n",
    "from dotenv import load_dotenv\n",
    "\n",
    "import markdown"
   ]
  },
  {
   "cell_type": "code",
   "execution_count": null,
   "metadata": {},
   "outputs": [],
   "source": [
    "def get_artwork_image_url(url: str):\n",
    "    \"\"\"\n",
    "    Gets an artwork image from its URL.\n",
    "    \"\"\"\n",
    "    import requests\n",
    "    from bs4 import BeautifulSoup as bs\n",
    "\n",
    "    url = f\"https://wikiart.org{url}\"\n",
    "    response = requests.get(url)\n",
    "    soup = bs(response.text, \"html.parser\")\n",
    "    img = soup.find(\"img\", {\"itemprop\": \"image\"})\n",
    "    # return Image(url=img.get(\"src\"))\n",
    "    return img.get(\"src\")"
   ]
  },
  {
   "cell_type": "code",
   "execution_count": 81,
   "metadata": {},
   "outputs": [
    {
     "data": {
      "application/vnd.jupyter.widget-view+json": {
       "model_id": "e4a015c9b0a34a35b178fc0f259218a1",
       "version_major": 2,
       "version_minor": 0
      },
      "text/plain": [
       "GridspecLayout(children=(HTML(value='<p>foo 1637</p>', layout=Layout(grid_area='widget001')), HTML(value='<img…"
      ]
     },
     "metadata": {},
     "output_type": "display_data"
    }
   ],
   "source": [
    "def create_image_widget(artwork_url: str):\n",
    "    return widgets.HTML(value=f'<img src=\"{get_artwork_image_url(artwork_url)}\">')\n",
    "\n",
    "\n",
    "def create_description_box(description: str):\n",
    "    return widgets.HTML(markdown.markdown(description))\n",
    "    # return widgets.HTML(value=f'<h1>{description}</h1>')\n",
    "\n",
    "\n",
    "exit_loop = False\n",
    "\n",
    "prompt_input = widgets.Text(value='helloworld')\n",
    "\n",
    "\n",
    "def callback(widget):\n",
    "    # Start workflow loop\n",
    "    pass\n",
    "\n",
    "\n",
    "prompt_input.on_submit(callback)\n",
    "\n",
    "grid_layout = GridspecLayout(20, 1)\n",
    "grid_layout[0, 0] = create_description_box(\"foo 1637\")\n",
    "grid_layout[1:12, 0] = create_image_widget('/en/pieter-codde/the-meagre-company-1637')\n",
    "grid_layout[13, 0] = create_description_box(\"this is a llm response\")\n",
    "grid_layout[14, 0] = prompt_input\n",
    "\n",
    "grid_layout"
   ]
  },
  {
   "cell_type": "markdown",
   "metadata": {
    "vscode": {
     "languageId": "plaintext"
    }
   },
   "source": [
    "### Data Preparation + RAG"
   ]
  },
  {
   "cell_type": "markdown",
   "metadata": {},
   "source": [
    "#### Data Preparation\n",
    "\n",
    "We scraped data from [wikiart](https://wikiart.org/) using a combination of requests and beautiful soup. \n",
    "\n",
    "We provide a preprocessed, limited dataset of this data for the tutorial found in `data/idfk.json`. \n",
    "\n",
    "Preprocessed data for each artwork looks like:\n",
    "\n",
    "```plaintext\n",
    "Artwork Name: {artwork_name}\n",
    "Artwork Genre: {genre_list}\n",
    "Artwork Media: {media_list}\n",
    "Wikiart URL: https://www.wikiart.org{wikiart_slug}\n",
    "\n",
    "Wikipedia Article:\n",
    "{wiki_article}\n",
    "```\n"
   ]
  },
  {
   "cell_type": "markdown",
   "metadata": {},
   "source": [
    "#### LightRAG\n"
   ]
  },
  {
   "cell_type": "markdown",
   "metadata": {
    "vscode": {
     "languageId": "plaintext"
    }
   },
   "source": [
    "### Agent Creation"
   ]
  },
  {
   "cell_type": "code",
   "execution_count": 89,
   "metadata": {},
   "outputs": [
    {
     "name": "stderr",
     "output_type": "stream",
     "text": [
      "INFO:lightrag:Logger initialized for working directory: ./data\n",
      "INFO:lightrag:Load KV llm_response_cache with 296 data\n",
      "INFO:lightrag:Load KV full_docs with 78 data\n",
      "INFO:lightrag:Load KV text_chunks with 78 data\n",
      "INFO:lightrag:Loaded graph from ./data/graph_chunk_entity_relation.graphml with 730 nodes, 598 edges\n",
      "INFO:nano-vectordb:Load (724, 1536) data\n",
      "INFO:nano-vectordb:Init {'embedding_dim': 1536, 'metric': 'cosine', 'storage_file': './data/vdb_entities.json'} 724 data\n",
      "INFO:nano-vectordb:Load (598, 1536) data\n",
      "INFO:nano-vectordb:Init {'embedding_dim': 1536, 'metric': 'cosine', 'storage_file': './data/vdb_relationships.json'} 598 data\n",
      "INFO:nano-vectordb:Load (179, 1536) data\n",
      "INFO:nano-vectordb:Init {'embedding_dim': 1536, 'metric': 'cosine', 'storage_file': './data/vdb_chunks.json'} 179 data\n"
     ]
    }
   ],
   "source": [
    "from lightrag.llm import gpt_4o_mini_complete\n",
    "from lightrag import LightRAG, QueryParam\n",
    "from dotenv import load_dotenv\n",
    "\n",
    "load_dotenv()\n",
    "\n",
    "WORKING_DIR = \"./data\"\n",
    "rag = LightRAG(\n",
    "    working_dir=WORKING_DIR,\n",
    "    llm_model_func=gpt_4o_mini_complete,\n",
    ")\n",
    "\n",
    "import nest_asyncio\n",
    "\n",
    "nest_asyncio.apply()"
   ]
  },
  {
   "cell_type": "code",
   "execution_count": 104,
   "metadata": {},
   "outputs": [],
   "source": [
    "def describe_painting(painting: str):\n",
    "    metadata = rag.query(\n",
    "        f\"\"\"What is the genre, media, and style of the following painting: {painting}. \n",
    "    Return the description in the following format:\n",
    "    artwork name: <artwork name>\n",
    "    artist: <artist>\n",
    "    genre: <genre>\n",
    "    media: <media>\n",
    "    style: <style>\n",
    "    \n",
    "    Return this information and nothing else.\n",
    "    \"\"\",\n",
    "        param=QueryParam(mode=\"hybrid\"),\n",
    "    )\n",
    "\n",
    "    dense_description = str(rag.query(f\"describe {painting}\", param=QueryParam(mode=\"hybrid\")))\n",
    "\n",
    "    return {\"metadata\": metadata, \"dense_description\": dense_description}"
   ]
  },
  {
   "cell_type": "code",
   "execution_count": 105,
   "metadata": {},
   "outputs": [
    {
     "name": "stderr",
     "output_type": "stream",
     "text": [
      "INFO:httpx:HTTP Request: POST https://api.openai.com/v1/chat/completions \"HTTP/1.1 200 OK\"\n",
      "INFO:httpx:HTTP Request: POST https://api.openai.com/v1/embeddings \"HTTP/1.1 200 OK\"\n",
      "INFO:lightrag:Local query uses 60 entites, 141 relations, 12 text units\n",
      "INFO:httpx:HTTP Request: POST https://api.openai.com/v1/embeddings \"HTTP/1.1 200 OK\"\n",
      "INFO:lightrag:Global query uses 45 entites, 60 relations, 10 text units\n",
      "INFO:httpx:HTTP Request: POST https://api.openai.com/v1/chat/completions \"HTTP/1.1 200 OK\"\n",
      "INFO:httpx:HTTP Request: POST https://api.openai.com/v1/embeddings \"HTTP/1.1 200 OK\"\n",
      "INFO:lightrag:Local query uses 1 entites, 0 relations, 1 text units\n",
      "INFO:httpx:HTTP Request: POST https://api.openai.com/v1/embeddings \"HTTP/1.1 200 OK\"\n",
      "INFO:lightrag:Global query uses 19 entites, 12 relations, 7 text units\n"
     ]
    }
   ],
   "source": [
    "description = describe_painting(\"Down on his luck\")"
   ]
  },
  {
   "cell_type": "code",
   "execution_count": 106,
   "metadata": {},
   "outputs": [
    {
     "name": "stdout",
     "output_type": "stream",
     "text": [
      "metadata: ```markdown\n",
      "artwork name: Down on His Luck  \n",
      "artist: Frederick McCubbin  \n",
      "genre: genre painting  \n",
      "media: canvas, oil  \n",
      "style: Impressionism  \n",
      "```\n",
      "dense_description: ### Overview of \"Down on His Luck\"\n",
      "\n",
      "\"Down on His Luck\" is a poignant painting created by the Australian artist Frederick McCubbin in 1889. As a genre painting, it captures a moment of deep reflection and despondency, characteristic of McCubbin’s exploration of the human condition through his art. The painting depicts a disheartened swagman—an itinerant worker—sitting by a campfire, brooding over his misfortune amidst a natural Australian landscape.\n",
      "\n",
      "### Artistic Elements and Themes\n",
      "\n",
      "The central figure is rendered in a manner that suggests a blend of realism with an emotional depth that communicates the hardships faced by the swagman. His expression reflects a nonchalant yet cynical demeanor, embodying a mixture of resignation and survival instinct. The subdued tones of the surrounding bush contribute to the somber mood, reinforcing the themes of hardship, solitude, and existential contemplation.\n",
      "\n",
      "The composition reflects McCubbin’s Australian spirit, as noted in a contemporary review which described the painting as thoroughly connected to its national identity. The swagman embodies the struggles of the working class during this era, bringing forth a narrative that resonates with the themes of resilience and isolation prevalent in McCubbin's works.\n",
      "\n",
      "### Background and Context\n",
      "\n",
      "The painting was staged near Box Hill, an area outside Melbourne, which serves as a significant backdrop that contributes to the thematic essence of the artwork. McCubbin utilized his friend and model, Louis Abrahams, to portray the figure of the swagman, linking the artwork to both personal and broader social narratives. Additionally, \"Down on His Luck\" was acquired by the Art Gallery of Western Australia in 1986, solidifying its importance within the gallery's collection and the Australian art canon.\n",
      "\n",
      "The artwork not only highlights McCubbin's individual artistic identity but also reflects broader historical and cultural contexts of late 19th-century Australia, offering viewers a glimpse into the life and psyche of a character representative of vulnerability and strength amidst adversity.\n",
      "\n",
      "### Conclusion\n",
      "\n",
      "In summary, \"Down on His Luck\" stands as a remarkable work in Frederick McCubbin's oeuvre, emphasizing themes of sadness and introspection through its portrayal of a solitary figure enveloped by the Australian landscape. The painting serves as a visual narrative that evokes empathy and reflection, making it a significant contribution to the genre painting tradition and Australian art history.\n"
     ]
    }
   ],
   "source": [
    "print(f'metadata: {description[\"metadata\"]}')\n",
    "print(f'dense_description: {description[\"dense_description\"]}')"
   ]
  },
  {
   "cell_type": "code",
   "execution_count": 112,
   "metadata": {},
   "outputs": [
    {
     "name": "stderr",
     "output_type": "stream",
     "text": [
      "INFO:httpx:HTTP Request: POST https://api.openai.com/v1/chat/completions \"HTTP/1.1 200 OK\"\n",
      "INFO:httpx:HTTP Request: POST https://api.openai.com/v1/embeddings \"HTTP/1.1 200 OK\"\n",
      "INFO:lightrag:Local query uses 60 entites, 160 relations, 10 text units\n",
      "INFO:httpx:HTTP Request: POST https://api.openai.com/v1/embeddings \"HTTP/1.1 200 OK\"\n",
      "INFO:lightrag:Global query uses 43 entites, 60 relations, 6 text units\n",
      "INFO:httpx:HTTP Request: POST https://api.openai.com/v1/chat/completions \"HTTP/1.1 200 OK\"\n"
     ]
    }
   ],
   "source": [
    "def get_next_painting(prev_painting: str, next_painting: str):\n",
    "    prompt = f\"\"\"You are an art tour guide. \n",
    "    You just discussed this painting:\n",
    "    {prev_painting} \n",
    "    \n",
    "    The user has requested the following for their next painting. Choose a related painting.\n",
    "    {next_painting}\n",
    "    \n",
    "    Return the name of the painting and nothing else.\n",
    "    \"\"\"\n",
    "\n",
    "    return rag.query(prompt, param=QueryParam(mode=\"hybrid\"))\n",
    "\n",
    "\n",
    "next_painting = get_next_painting(\n",
    "    description['metadata'], \"I want to see paintings by a different artist of the same genre.\"\n",
    ")"
   ]
  },
  {
   "cell_type": "code",
   "execution_count": 113,
   "metadata": {},
   "outputs": [
    {
     "name": "stdout",
     "output_type": "stream",
     "text": [
      "The Pink Dress\n"
     ]
    }
   ],
   "source": [
    "print(next_painting)"
   ]
  },
  {
   "cell_type": "code",
   "execution_count": 134,
   "metadata": {},
   "outputs": [],
   "source": [
    "def get_artwork_url_from_name(artwork_name: str):\n",
    "    prompt = f\"\"\"\n",
    "    What is the Wikiart URL for this painting: {artwork_name}\n",
    "    \n",
    "    Return only the wikiart url in plain text.\n",
    "    \"\"\"\n",
    "    return rag.query(prompt, param=QueryParam(mode=\"hybrid\"))"
   ]
  },
  {
   "cell_type": "code",
   "execution_count": 135,
   "metadata": {},
   "outputs": [
    {
     "name": "stderr",
     "output_type": "stream",
     "text": [
      "INFO:httpx:HTTP Request: POST https://api.openai.com/v1/chat/completions \"HTTP/1.1 200 OK\"\n",
      "INFO:httpx:HTTP Request: POST https://api.openai.com/v1/embeddings \"HTTP/1.1 200 OK\"\n",
      "INFO:lightrag:Local query uses 60 entites, 86 relations, 7 text units\n",
      "INFO:httpx:HTTP Request: POST https://api.openai.com/v1/embeddings \"HTTP/1.1 200 OK\"\n",
      "INFO:lightrag:Global query uses 46 entites, 60 relations, 9 text units\n",
      "INFO:httpx:HTTP Request: POST https://api.openai.com/v1/chat/completions \"HTTP/1.1 200 OK\"\n"
     ]
    }
   ],
   "source": [
    "next_painting_url = get_artwork_url_from_name(next_painting)"
   ]
  },
  {
   "cell_type": "code",
   "execution_count": 136,
   "metadata": {},
   "outputs": [
    {
     "name": "stdout",
     "output_type": "stream",
     "text": [
      "https://www.wikiart.org/en/frederic-bazille/the-pink-dress\n"
     ]
    }
   ],
   "source": [
    "print(next_painting_url)"
   ]
  },
  {
   "cell_type": "code",
   "execution_count": null,
   "metadata": {},
   "outputs": [],
   "source": [
    "current_painting = \"https://www.wikiart.org/en/pierre-auguste-renoir/ball-at-the-moulin-de-la-galette-1876\""
   ]
  },
  {
   "cell_type": "code",
   "execution_count": 31,
   "metadata": {},
   "outputs": [
    {
     "data": {
      "image/png": "[encoded data removed]",
      "text/plain": [
       "<IPython.core.display.Image object>"
      ]
     },
     "metadata": {},
     "output_type": "display_data"
    }
   ],
   "source": [
    "\n",
    "workflow = Graph()\n",
    "workflow.add_node('prompt_user', prompt_user)\n",
    "workflow.add_node(\n",
    "# workflow.add_edge('prompt_user')\n",
    "workflow.set_entry_point('prompt_user')\n",
    "app = workflow.compile()\n",
    "display(\n",
    "    IPImage(\n",
    "        app.get_graph().draw_mermaid_png(\n",
    "            draw_method=MermaidDrawMethod.API,\n",
    "        )\n",
    "    )\n",
    ")"
   ]
  },
  {
   "cell_type": "code",
   "execution_count": null,
   "metadata": {},
   "outputs": [],
   "source": [
    "async def run_workflow(query: str)"
   ]
  },
  {
   "cell_type": "markdown",
   "metadata": {
    "vscode": {
     "languageId": "plaintext"
    }
   },
   "source": [
    "### Final App"
   ]
  },
  {
   "cell_type": "code",
   "execution_count": null,
   "metadata": {},
   "outputs": [],
   "source": [
    "# User Loop\n",
    "current_image = \"https://www.wikiart.org/en/pierre-auguste-renoir/ball-at-the-moulin-de-la-galette-1876\"\n",
    "description = describe_painting(current_image)\n",
    "app_running = True\n",
    "while app_running:\n",
    "    while current_painting:\n",
    "        \n",
    "\n",
    "    "
   ]
  }
 ],
 "metadata": {
  "kernelspec": {
   "display_name": ".venv",
   "language": "python",
   "name": "python3"
  },
  "language_info": {
   "codemirror_mode": {
    "name": "ipython",
    "version": 3
   },
   "file_extension": ".py",
   "mimetype": "text/x-python",
   "name": "python",
   "nbconvert_exporter": "python",
   "pygments_lexer": "ipython3",
   "version": "3.12.7"
  }
 },
 "nbformat": 4,
 "nbformat_minor": 4
}
