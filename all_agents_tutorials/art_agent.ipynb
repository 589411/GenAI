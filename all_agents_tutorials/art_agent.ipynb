{
 "cells": [
  {
   "cell_type": "markdown",
   "metadata": {
    "vscode": {
     "languageId": "plaintext"
    }
   },
   "source": [
    "<a href=\"https://colab.research.google.com/github/MichaelDeng03/GenAI_Agents/blob/main/all_agents_tutorials/art_agent.ipynb\" target=\"_parent\"><img src=\"https://colab.research.google.com/assets/colab-badge.svg\" alt=\"Open In Colab\"/></a>"
   ]
  },
  {
   "cell_type": "markdown",
   "metadata": {
    "vscode": {
     "languageId": "plaintext"
    }
   },
   "source": [
    "# Interactive Art Agent\n",
    "This tutorial will walk through the creation of an AI Agent that helps you explore and learn art!\n",
    "\n",
    "### Overview\n",
    "For knowledge retrieval, this tutorial uses [LightRAG](https://github.com/HKUDS/LightRAG) which is knowledge graph based RAG implementation. Compared to GraphRAG, LightRAG is more accurate for single topic datasets, and uses 1,000x less tokens for retrieval. Furthermore, documents can be added to LightRAG incrementally without rebuilding the knowledge graph. See the full results in the [paper](https://arxiv.org/abs/2410.05779).\n",
    "\n",
    "For the agent itself, we use LangGraph.\n",
    "\n",
    "### Outline\n",
    "0. [Setup](#setup)\n",
    "1. [Data Preparation + RAG](#data-preparation--rag)\n",
    "2. [Agent Creation](#agent-creation)\n",
    "3. [Final App](#final-app)"
   ]
  },
  {
   "cell_type": "markdown",
   "metadata": {
    "vscode": {
     "languageId": "plaintext"
    }
   },
   "source": [
    "### Setup"
   ]
  },
  {
   "cell_type": "markdown",
   "metadata": {},
   "source": [
    "#### Environment\n",
    "\n",
    "This tutorial uses openai embedding models. While there are alternatives, we recommend using the openai models for the best results.\n",
    "\n",
    "```\n",
    "export OPENAI_API_KEY=sk....\n",
    "```"
   ]
  },
  {
   "cell_type": "code",
   "execution_count": 11,
   "metadata": {},
   "outputs": [
    {
     "name": "stdout",
     "output_type": "stream",
     "text": [
      "\u001b[2mUsing Python 3.12.6 environment at /Users/kentgang/git2/GenAI_Agents/.venv\u001b[0m\n",
      "\u001b[2K\u001b[2mResolved \u001b[1m185 packages\u001b[0m \u001b[2min 253ms\u001b[0m\u001b[0m                                       \u001b[0m\n",
      "\u001b[2K\u001b[37m⠙\u001b[0m \u001b[2mPreparing packages...\u001b[0m (0/3)                                                   \n",
      "\u001b[2K\u001b[1A\u001b[37m⠙\u001b[0m \u001b[2mPreparing packages...\u001b[0m (0/3)-------\u001b[0m\u001b[0m     0 B/28.39 KiB                  \u001b[1A\n",
      "\u001b[2mlanggraph-sdk\u001b[0m \u001b[32m\u001b[2m------------------------------\u001b[0m\u001b[0m     0 B/28.39 KiB\n",
      "\u001b[2K\u001b[2A\u001b[37m⠙\u001b[0m \u001b[2mPreparing packages...\u001b[0m (0/3)----\u001b[0m\u001b[0m     0 B/121.96 KiB                    \u001b[2A\n",
      "\u001b[2mlanggraph-checkpoint\u001b[0m \u001b[32m\u001b[2m------------------------------\u001b[0m\u001b[0m     0 B/22.90 KiB\n",
      "\u001b[2mlanggraph-sdk\u001b[0m \u001b[32m\u001b[2m------------------------------\u001b[0m\u001b[0m     0 B/28.39 KiB\n",
      "\u001b[2K\u001b[3A\u001b[37m⠙\u001b[0m \u001b[2mPreparing packages...\u001b[0m (0/3)----\u001b[0m\u001b[0m     0 B/121.96 KiB                    \u001b[3A\n",
      "\u001b[2mlanggraph-checkpoint\u001b[0m \u001b[32m\u001b[2m------------------------------\u001b[0m\u001b[0m     0 B/22.90 KiB\n",
      "\u001b[2mlanggraph-sdk\u001b[0m \u001b[32m-----------------\u001b[2m-------------\u001b[0m\u001b[0m 16.00 KiB/28.39 KiB\n",
      "\u001b[2K\u001b[3A\u001b[37m⠙\u001b[0m \u001b[2mPreparing packages...\u001b[0m (0/3)----\u001b[0m\u001b[0m     0 B/121.96 KiB                    \u001b[3A\n",
      "\u001b[2mlanggraph-checkpoint\u001b[0m \u001b[32m--------------------\u001b[2m----------\u001b[0m\u001b[0m 14.90 KiB/22.90 KiB\n",
      "\u001b[2mlanggraph-sdk\u001b[0m \u001b[32m-----------------\u001b[2m-------------\u001b[0m\u001b[0m 16.00 KiB/28.39 KiB\n",
      "\u001b[2K\u001b[3A\u001b[37m⠙\u001b[0m \u001b[2mPreparing packages...\u001b[0m (0/3)----\u001b[0m\u001b[0m     0 B/121.96 KiB                    \u001b[3A\n",
      "\u001b[2mlanggraph-checkpoint\u001b[0m \u001b[32m--------------------\u001b[2m----------\u001b[0m\u001b[0m 14.90 KiB/22.90 KiB\n",
      "\u001b[2mlanggraph-sdk\u001b[0m \u001b[32m-----------------\u001b[2m-------------\u001b[0m\u001b[0m 16.00 KiB/28.39 KiB\n",
      "\u001b[2K\u001b[3A\u001b[37m⠙\u001b[0m \u001b[2mPreparing packages...\u001b[0m (0/3)----\u001b[0m\u001b[0m 16.00 KiB/121.96 KiB                  \u001b[3A\n",
      "\u001b[2mlanggraph-checkpoint\u001b[0m \u001b[32m--------------------\u001b[2m----------\u001b[0m\u001b[0m 14.90 KiB/22.90 KiB\n",
      "\u001b[2mlanggraph-sdk\u001b[0m \u001b[32m------------------------------\u001b[2m\u001b[0m\u001b[0m 28.39 KiB/28.39 KiB\n",
      "\u001b[2K\u001b[3A\u001b[37m⠙\u001b[0m \u001b[2mPreparing packages...\u001b[0m (0/3)----\u001b[0m\u001b[0m 16.00 KiB/121.96 KiB                  \u001b[3A\n",
      "\u001b[2mlanggraph-checkpoint\u001b[0m \u001b[32m------------------------------\u001b[2m\u001b[0m\u001b[0m 22.90 KiB/22.90 KiB\n",
      "\u001b[2mlanggraph-sdk\u001b[0m \u001b[32m------------------------------\u001b[2m\u001b[0m\u001b[0m 28.39 KiB/28.39 KiB\n",
      "\u001b[2K\u001b[3A\u001b[37m⠙\u001b[0m \u001b[2mPreparing packages...\u001b[0m (0/3)----\u001b[0m\u001b[0m 16.00 KiB/121.96 KiB                  \u001b[3A\n",
      "\u001b[2mlanggraph-checkpoint\u001b[0m \u001b[32m------------------------------\u001b[2m\u001b[0m\u001b[0m 22.90 KiB/22.90 KiB\n",
      "\u001b[2K\u001b[2A\u001b[37m⠙\u001b[0m \u001b[2mPreparing packages...\u001b[0m (0/3)----\u001b[0m\u001b[0m 16.00 KiB/121.96 KiB                  \u001b[2A\n",
      "\u001b[2mlanggraph-checkpoint\u001b[0m \u001b[32m------------------------------\u001b[2m\u001b[0m\u001b[0m 22.90 KiB/22.90 KiB\n",
      "\u001b[2K\u001b[2A\u001b[37m⠙\u001b[0m \u001b[2mPreparing packages...\u001b[0m (0/3)----\u001b[0m\u001b[0m 32.00 KiB/121.96 KiB                  \u001b[2A\n",
      "\u001b[2K\u001b[1A\u001b[37m⠙\u001b[0m \u001b[2mPreparing packages...\u001b[0m (0/3)----\u001b[0m\u001b[0m 32.00 KiB/121.96 KiB                  \u001b[1A\n",
      "\u001b[2K\u001b[1A\u001b[37m⠙\u001b[0m \u001b[2mPreparing packages...\u001b[0m (0/3)----\u001b[0m\u001b[0m 48.00 KiB/121.96 KiB                  \u001b[1A\n",
      "\u001b[2K\u001b[1A\u001b[37m⠙\u001b[0m \u001b[2mPreparing packages...\u001b[0m (0/3)----\u001b[0m\u001b[0m 63.03 KiB/121.96 KiB                  \u001b[1A\n",
      "\u001b[2K\u001b[1A\u001b[37m⠙\u001b[0m \u001b[2mPreparing packages...\u001b[0m (0/3)----\u001b[0m\u001b[0m 79.03 KiB/121.96 KiB                  \u001b[1A\n",
      "\u001b[2K\u001b[1A\u001b[37m⠙\u001b[0m \u001b[2mPreparing packages...\u001b[0m (0/3)----\u001b[0m\u001b[0m 95.03 KiB/121.96 KiB                  \u001b[1A\n",
      "\u001b[2K\u001b[1A\u001b[37m⠙\u001b[0m \u001b[2mPreparing packages...\u001b[0m (0/3)2m--\u001b[0m\u001b[0m 111.03 KiB/121.96 KiB                 \u001b[1A\n",
      "\u001b[2K\u001b[2mPrepared \u001b[1m3 packages\u001b[0m \u001b[2min 63ms\u001b[0m\u001b[0m                                                  \u001b[1A\n",
      "\u001b[2K\u001b[2mInstalled \u001b[1m4 packages\u001b[0m \u001b[2min 5ms\u001b[0m\u001b[0m                                 \u001b[0m\n",
      " \u001b[32m+\u001b[39m \u001b[1mlanggraph\u001b[0m\u001b[2m==0.2.50\u001b[0m\n",
      " \u001b[32m+\u001b[39m \u001b[1mlanggraph-checkpoint\u001b[0m\u001b[2m==2.0.4\u001b[0m\n",
      " \u001b[32m+\u001b[39m \u001b[1mlanggraph-sdk\u001b[0m\u001b[2m==0.1.36\u001b[0m\n",
      " \u001b[32m+\u001b[39m \u001b[1mmsgpack\u001b[0m\u001b[2m==1.1.0\u001b[0m\n"
     ]
    }
   ],
   "source": [
    "!uv pip install lightrag-hku aioboto3 numpy ollama openai tenacity aioboto3 transformers torch tiktoken nano_vectordb neo4j oracledb textract setuptools pyvis sqlalchemy langchain_community langchain_openai sqlmodel ipywidgets==7.7.1 asyncio markdown langgraph"
   ]
  },
  {
   "cell_type": "code",
   "execution_count": 82,
   "metadata": {},
   "outputs": [],
   "source": [
    "from ipywidgets import Button, Layout, jslink, IntText, IntSlider, TwoByTwoLayout, Text, AppLayout, GridspecLayout\n",
    "import ipywidgets as widgets\n",
    "from IPython.display import display, Markdown\n",
    "from IPython.display import Markdown\n",
    "\n",
    "import json\n",
    "import os\n",
    "import operator\n",
    "import random\n",
    "from datetime import datetime\n",
    "from typing import Any, Annotated, List\n",
    "from typing_extensions import TypedDict\n",
    "from pydantic import BaseModel, Field\n",
    "\n",
    "from IPython.display import Image, display, Markdown\n",
    "\n",
    "from langgraph.graph import StateGraph, END\n",
    "from langchain_core.runnables.graph import MermaidDrawMethod\n",
    "from IPython.display import display, Image as IPImage\n",
    "\n",
    "from lightrag.llm import gpt_4o_mini_complete\n",
    "from lightrag import LightRAG, QueryParam\n",
    "from dotenv import load_dotenv\n",
    "\n",
    "import markdown\n",
    "from pprint import pprint"
   ]
  },
  {
   "cell_type": "code",
   "execution_count": 13,
   "metadata": {},
   "outputs": [],
   "source": [
    "def get_artwork_image_url(url: str):\n",
    "    \"\"\"\n",
    "    Gets an artwork image from its URL.\n",
    "    \"\"\"\n",
    "    import requests\n",
    "    from bs4 import BeautifulSoup as bs\n",
    "\n",
    "    url = f\"https://wikiart.org{url}\"\n",
    "    response = requests.get(url)\n",
    "    soup = bs(response.text, \"html.parser\")\n",
    "    img = soup.find(\"img\", {\"itemprop\": \"image\"})\n",
    "    # return Image(url=img.get(\"src\"))\n",
    "    return img.get(\"src\")"
   ]
  },
  {
   "cell_type": "markdown",
   "metadata": {
    "vscode": {
     "languageId": "plaintext"
    }
   },
   "source": [
    "### Data Preparation + RAG"
   ]
  },
  {
   "cell_type": "markdown",
   "metadata": {},
   "source": [
    "#### Data Preparation\n",
    "\n",
    "We scraped data from [wikiart](https://wikiart.org/) using a combination of requests and beautiful soup. \n",
    "\n",
    "We provide a preprocessed, limited dataset of this data for the tutorial found in `data/artinfo.json`. \n",
    "\n",
    "Preprocessed data for each artwork looks like:\n",
    "\n",
    "```plaintext\n",
    "Artwork Name: {artwork_name}\n",
    "Artwork Genre: {genre_list}\n",
    "Artwork Media: {media_list}\n",
    "Wikiart URL: https://www.wikiart.org{wikiart_slug}\n",
    "\n",
    "Wikipedia Article:\n",
    "{wiki_article}\n",
    "```\n"
   ]
  },
  {
   "cell_type": "markdown",
   "metadata": {},
   "source": [
    "#### LightRAG\n"
   ]
  },
  {
   "cell_type": "code",
   "execution_count": 146,
   "metadata": {},
   "outputs": [
    {
     "name": "stdout",
     "output_type": "stream",
     "text": [
      "78\n",
      "\n",
      "Artist: Frederick McCubbin\n",
      "Artwork Name: Down on his luck\n",
      "Artwork Genre: genre painting\n",
      "Artwork Media: canvas,oil\n",
      "Wikiart URL: https://www.wikiart.org/en/frederick-mccubbin/down-on-his-luck-1889\n",
      "\n",
      "Wikipedia Article:\n",
      " The painting was owned by William Fergusson up to 1986 until it was purchased by the Art Gallery of Western Australia in Perth. for the famous 9 by 5 Impression Exhibition. The scene was staged near the Box Hill artists' camp outside Melbourne, but it is thought that McCubbin would have made additional studies of Abrahams under studio conditions.roclaims the absence of all self-pity ... McCubbin's picture is thoroughly Australian in spirit.\" The surrounding bush is painted in subdued tones, reflecting his somber and contemplative mood.\n",
      "\n"
     ]
    }
   ],
   "source": [
    "artwork_info = None\n",
    "with open('./data/artinfo.json', 'r') as f:\n",
    "    artwork_info = json.load(f)['info']\n",
    "print(len(artwork_info))\n",
    "print(artwork_info[0])"
   ]
  },
  {
   "cell_type": "code",
   "execution_count": 145,
   "metadata": {},
   "outputs": [
    {
     "name": "stderr",
     "output_type": "stream",
     "text": [
      "INFO:lightrag:Logger initialized for working directory: ./data\n",
      "INFO:lightrag:Load KV llm_response_cache with 0 data\n",
      "INFO:lightrag:Load KV full_docs with 0 data\n",
      "INFO:lightrag:Load KV text_chunks with 0 data\n",
      "INFO:nano-vectordb:Init {'embedding_dim': 1536, 'metric': 'cosine', 'storage_file': './data/vdb_entities.json'} 0 data\n",
      "INFO:nano-vectordb:Init {'embedding_dim': 1536, 'metric': 'cosine', 'storage_file': './data/vdb_relationships.json'} 0 data\n",
      "INFO:nano-vectordb:Init {'embedding_dim': 1536, 'metric': 'cosine', 'storage_file': './data/vdb_chunks.json'} 0 data\n"
     ]
    }
   ],
   "source": [
    "from lightrag.llm import gpt_4o_mini_complete\n",
    "from lightrag import LightRAG, QueryParam\n",
    "\n",
    "import nest_asyncio\n",
    "\n",
    "nest_asyncio.apply()\n",
    "WORKING_DIR = \"./data\"\n",
    "rag = LightRAG(\n",
    "    working_dir=WORKING_DIR,\n",
    "    llm_model_func=gpt_4o_mini_complete,\n",
    ")"
   ]
  },
  {
   "cell_type": "code",
   "execution_count": 150,
   "metadata": {},
   "outputs": [
    {
     "name": "stderr",
     "output_type": "stream",
     "text": [
      "INFO:lightrag:[New Docs] inserting 30 docs\n",
      "INFO:lightrag:[New Chunks] inserting 30 chunks\n",
      "INFO:lightrag:Inserting 30 vectors to chunks\n",
      "INFO:httpx:HTTP Request: POST https://api.openai.com/v1/embeddings \"HTTP/1.1 200 OK\"\n",
      "INFO:lightrag:[Entity Extraction]...\n"
     ]
    },
    {
     "name": "stdout",
     "output_type": "stream",
     "text": [
      "⠇ Processed 28 chunks, 343 entities(duplicated), 217 relations(duplicated)\r"
     ]
    },
    {
     "name": "stderr",
     "output_type": "stream",
     "text": [
      "INFO:httpx:HTTP Request: POST https://api.openai.com/v1/chat/completions \"HTTP/1.1 200 OK\"\n"
     ]
    },
    {
     "name": "stdout",
     "output_type": "stream",
     "text": [
      "⠏ Processed 29 chunks, 359 entities(duplicated), 222 relations(duplicated)\r"
     ]
    },
    {
     "name": "stderr",
     "output_type": "stream",
     "text": [
      "INFO:httpx:HTTP Request: POST https://api.openai.com/v1/chat/completions \"HTTP/1.1 200 OK\"\n"
     ]
    },
    {
     "name": "stdout",
     "output_type": "stream",
     "text": [
      "⠋ Processed 30 chunks, 372 entities(duplicated), 233 relations(duplicated)\r"
     ]
    },
    {
     "name": "stderr",
     "output_type": "stream",
     "text": [
      "INFO:lightrag:Inserting 290 vectors to entities\n"
     ]
    },
    {
     "name": "stdout",
     "output_type": "stream",
     "text": [
      "\n"
     ]
    },
    {
     "name": "stderr",
     "output_type": "stream",
     "text": [
      "INFO:httpx:HTTP Request: POST https://api.openai.com/v1/embeddings \"HTTP/1.1 200 OK\"\n",
      "INFO:httpx:HTTP Request: POST https://api.openai.com/v1/embeddings \"HTTP/1.1 200 OK\"\n",
      "INFO:httpx:HTTP Request: POST https://api.openai.com/v1/embeddings \"HTTP/1.1 200 OK\"\n",
      "INFO:httpx:HTTP Request: POST https://api.openai.com/v1/embeddings \"HTTP/1.1 200 OK\"\n",
      "INFO:httpx:HTTP Request: POST https://api.openai.com/v1/embeddings \"HTTP/1.1 200 OK\"\n",
      "INFO:httpx:HTTP Request: POST https://api.openai.com/v1/embeddings \"HTTP/1.1 200 OK\"\n",
      "INFO:httpx:HTTP Request: POST https://api.openai.com/v1/embeddings \"HTTP/1.1 200 OK\"\n",
      "INFO:httpx:HTTP Request: POST https://api.openai.com/v1/embeddings \"HTTP/1.1 200 OK\"\n",
      "INFO:httpx:HTTP Request: POST https://api.openai.com/v1/embeddings \"HTTP/1.1 200 OK\"\n",
      "INFO:httpx:HTTP Request: POST https://api.openai.com/v1/embeddings \"HTTP/1.1 200 OK\"\n",
      "INFO:lightrag:Inserting 233 vectors to relationships\n",
      "INFO:httpx:HTTP Request: POST https://api.openai.com/v1/embeddings \"HTTP/1.1 200 OK\"\n",
      "INFO:httpx:HTTP Request: POST https://api.openai.com/v1/embeddings \"HTTP/1.1 200 OK\"\n",
      "INFO:httpx:HTTP Request: POST https://api.openai.com/v1/embeddings \"HTTP/1.1 200 OK\"\n",
      "INFO:httpx:HTTP Request: POST https://api.openai.com/v1/embeddings \"HTTP/1.1 200 OK\"\n",
      "INFO:httpx:HTTP Request: POST https://api.openai.com/v1/embeddings \"HTTP/1.1 200 OK\"\n",
      "INFO:httpx:HTTP Request: POST https://api.openai.com/v1/embeddings \"HTTP/1.1 200 OK\"\n",
      "INFO:httpx:HTTP Request: POST https://api.openai.com/v1/embeddings \"HTTP/1.1 200 OK\"\n",
      "INFO:httpx:HTTP Request: POST https://api.openai.com/v1/embeddings \"HTTP/1.1 200 OK\"\n",
      "INFO:lightrag:Writing graph with 291 nodes, 233 edges\n",
      "INFO:lightrag:[New Docs] inserting 30 docs\n",
      "INFO:lightrag:[New Chunks] inserting 30 chunks\n",
      "INFO:lightrag:Inserting 30 vectors to chunks\n",
      "INFO:httpx:HTTP Request: POST https://api.openai.com/v1/embeddings \"HTTP/1.1 200 OK\"\n",
      "INFO:lightrag:[Entity Extraction]...\n"
     ]
    },
    {
     "name": "stdout",
     "output_type": "stream",
     "text": [
      "⠇ Processed 28 chunks, 336 entities(duplicated), 258 relations(duplicated)\r"
     ]
    },
    {
     "name": "stderr",
     "output_type": "stream",
     "text": [
      "INFO:httpx:HTTP Request: POST https://api.openai.com/v1/chat/completions \"HTTP/1.1 200 OK\"\n"
     ]
    },
    {
     "name": "stdout",
     "output_type": "stream",
     "text": [
      "⠏ Processed 29 chunks, 345 entities(duplicated), 263 relations(duplicated)\r"
     ]
    },
    {
     "name": "stderr",
     "output_type": "stream",
     "text": [
      "INFO:httpx:HTTP Request: POST https://api.openai.com/v1/chat/completions \"HTTP/1.1 200 OK\"\n"
     ]
    },
    {
     "name": "stdout",
     "output_type": "stream",
     "text": [
      "⠋ Processed 30 chunks, 357 entities(duplicated), 273 relations(duplicated)\n"
     ]
    },
    {
     "name": "stderr",
     "output_type": "stream",
     "text": [
      "INFO:httpx:HTTP Request: POST https://api.openai.com/v1/chat/completions \"HTTP/1.1 200 OK\"\n",
      "INFO:httpx:HTTP Request: POST https://api.openai.com/v1/chat/completions \"HTTP/1.1 200 OK\"\n",
      "INFO:lightrag:Inserting 288 vectors to entities\n",
      "INFO:httpx:HTTP Request: POST https://api.openai.com/v1/embeddings \"HTTP/1.1 200 OK\"\n",
      "INFO:httpx:HTTP Request: POST https://api.openai.com/v1/embeddings \"HTTP/1.1 200 OK\"\n",
      "INFO:httpx:HTTP Request: POST https://api.openai.com/v1/embeddings \"HTTP/1.1 200 OK\"\n",
      "INFO:httpx:HTTP Request: POST https://api.openai.com/v1/embeddings \"HTTP/1.1 200 OK\"\n",
      "INFO:httpx:HTTP Request: POST https://api.openai.com/v1/embeddings \"HTTP/1.1 200 OK\"\n",
      "INFO:httpx:HTTP Request: POST https://api.openai.com/v1/embeddings \"HTTP/1.1 200 OK\"\n",
      "INFO:httpx:HTTP Request: POST https://api.openai.com/v1/embeddings \"HTTP/1.1 200 OK\"\n",
      "INFO:httpx:HTTP Request: POST https://api.openai.com/v1/embeddings \"HTTP/1.1 200 OK\"\n",
      "INFO:httpx:HTTP Request: POST https://api.openai.com/v1/embeddings \"HTTP/1.1 200 OK\"\n",
      "INFO:lightrag:Inserting 271 vectors to relationships\n",
      "INFO:httpx:HTTP Request: POST https://api.openai.com/v1/embeddings \"HTTP/1.1 200 OK\"\n",
      "INFO:httpx:HTTP Request: POST https://api.openai.com/v1/embeddings \"HTTP/1.1 200 OK\"\n",
      "INFO:httpx:HTTP Request: POST https://api.openai.com/v1/embeddings \"HTTP/1.1 200 OK\"\n",
      "INFO:httpx:HTTP Request: POST https://api.openai.com/v1/embeddings \"HTTP/1.1 200 OK\"\n",
      "INFO:httpx:HTTP Request: POST https://api.openai.com/v1/embeddings \"HTTP/1.1 200 OK\"\n",
      "INFO:httpx:HTTP Request: POST https://api.openai.com/v1/embeddings \"HTTP/1.1 200 OK\"\n",
      "INFO:httpx:HTTP Request: POST https://api.openai.com/v1/embeddings \"HTTP/1.1 200 OK\"\n",
      "INFO:httpx:HTTP Request: POST https://api.openai.com/v1/embeddings \"HTTP/1.1 200 OK\"\n",
      "INFO:httpx:HTTP Request: POST https://api.openai.com/v1/embeddings \"HTTP/1.1 200 OK\"\n",
      "INFO:lightrag:Writing graph with 557 nodes, 504 edges\n",
      "INFO:lightrag:[New Docs] inserting 18 docs\n",
      "INFO:lightrag:[New Chunks] inserting 18 chunks\n",
      "INFO:lightrag:Inserting 18 vectors to chunks\n",
      "INFO:httpx:HTTP Request: POST https://api.openai.com/v1/embeddings \"HTTP/1.1 200 OK\"\n",
      "INFO:lightrag:[Entity Extraction]...\n"
     ]
    },
    {
     "name": "stdout",
     "output_type": "stream",
     "text": [
      "⠴ Processed 15 chunks, 195 entities(duplicated), 117 relations(duplicated)\r"
     ]
    },
    {
     "name": "stderr",
     "output_type": "stream",
     "text": [
      "INFO:httpx:HTTP Request: POST https://api.openai.com/v1/chat/completions \"HTTP/1.1 200 OK\"\n"
     ]
    },
    {
     "name": "stdout",
     "output_type": "stream",
     "text": [
      "⠦ Processed 16 chunks, 205 entities(duplicated), 122 relations(duplicated)\r"
     ]
    },
    {
     "name": "stderr",
     "output_type": "stream",
     "text": [
      "INFO:httpx:HTTP Request: POST https://api.openai.com/v1/chat/completions \"HTTP/1.1 200 OK\"\n"
     ]
    },
    {
     "name": "stdout",
     "output_type": "stream",
     "text": [
      "⠧ Processed 17 chunks, 215 entities(duplicated), 130 relations(duplicated)\r"
     ]
    },
    {
     "name": "stderr",
     "output_type": "stream",
     "text": [
      "INFO:httpx:HTTP Request: POST https://api.openai.com/v1/chat/completions \"HTTP/1.1 200 OK\"\n"
     ]
    },
    {
     "name": "stdout",
     "output_type": "stream",
     "text": [
      "⠇ Processed 18 chunks, 228 entities(duplicated), 143 relations(duplicated)\r"
     ]
    },
    {
     "name": "stderr",
     "output_type": "stream",
     "text": [
      "INFO:openai._base_client:Retrying request to /chat/completions in 0.473677 seconds\n"
     ]
    },
    {
     "name": "stdout",
     "output_type": "stream",
     "text": [
      "\n"
     ]
    },
    {
     "name": "stderr",
     "output_type": "stream",
     "text": [
      "INFO:httpx:HTTP Request: POST https://api.openai.com/v1/chat/completions \"HTTP/1.1 200 OK\"\n",
      "INFO:httpx:HTTP Request: POST https://api.openai.com/v1/chat/completions \"HTTP/1.1 200 OK\"\n",
      "INFO:lightrag:Inserting 188 vectors to entities\n",
      "INFO:httpx:HTTP Request: POST https://api.openai.com/v1/embeddings \"HTTP/1.1 200 OK\"\n",
      "INFO:httpx:HTTP Request: POST https://api.openai.com/v1/embeddings \"HTTP/1.1 200 OK\"\n",
      "INFO:httpx:HTTP Request: POST https://api.openai.com/v1/embeddings \"HTTP/1.1 200 OK\"\n",
      "INFO:httpx:HTTP Request: POST https://api.openai.com/v1/embeddings \"HTTP/1.1 200 OK\"\n",
      "INFO:httpx:HTTP Request: POST https://api.openai.com/v1/embeddings \"HTTP/1.1 200 OK\"\n",
      "INFO:httpx:HTTP Request: POST https://api.openai.com/v1/embeddings \"HTTP/1.1 200 OK\"\n",
      "INFO:lightrag:Inserting 139 vectors to relationships\n",
      "INFO:httpx:HTTP Request: POST https://api.openai.com/v1/embeddings \"HTTP/1.1 200 OK\"\n",
      "INFO:httpx:HTTP Request: POST https://api.openai.com/v1/embeddings \"HTTP/1.1 200 OK\"\n",
      "INFO:httpx:HTTP Request: POST https://api.openai.com/v1/embeddings \"HTTP/1.1 200 OK\"\n",
      "INFO:httpx:HTTP Request: POST https://api.openai.com/v1/embeddings \"HTTP/1.1 200 OK\"\n",
      "INFO:httpx:HTTP Request: POST https://api.openai.com/v1/embeddings \"HTTP/1.1 200 OK\"\n",
      "INFO:lightrag:Writing graph with 711 nodes, 642 edges\n"
     ]
    }
   ],
   "source": [
    "import time\n",
    "\n",
    "# Create the RAG database\n",
    "batch_size = 30\n",
    "\n",
    "# Loop through the list in batches of 30 to avoid rate limits\n",
    "for i in range(0, len(artwork_info), 30):\n",
    "    batch = artwork_info[i:i + batch_size]\n",
    "    rag.insert(batch)\n",
    "    time.sleep(15)"
   ]
  },
  {
   "cell_type": "markdown",
   "metadata": {
    "vscode": {
     "languageId": "plaintext"
    }
   },
   "source": [
    "### Agent Creation"
   ]
  },
  {
   "cell_type": "code",
   "execution_count": 108,
   "metadata": {},
   "outputs": [],
   "source": [
    "class ArtTourState(TypedDict):\n",
    "    artwork: str \n",
    "    artwork_metadata: str\n",
    "    artwork_description: str\n",
    "    artwork_url: str\n",
    "    art_request: str\n",
    "    past_artworks: list[str]\n",
    "    discussion_messages: list[str]"
   ]
  },
  {
   "cell_type": "code",
   "execution_count": 128,
   "metadata": {},
   "outputs": [
    {
     "name": "stderr",
     "output_type": "stream",
     "text": [
      "INFO:httpx:HTTP Request: POST https://api.openai.com/v1/chat/completions \"HTTP/1.1 200 OK\"\n",
      "INFO:httpx:HTTP Request: POST https://api.openai.com/v1/embeddings \"HTTP/1.1 200 OK\"\n",
      "INFO:lightrag:Local query uses 60 entites, 68 relations, 9 text units\n",
      "INFO:httpx:HTTP Request: POST https://api.openai.com/v1/embeddings \"HTTP/1.1 200 OK\"\n",
      "INFO:lightrag:Global query uses 42 entites, 60 relations, 8 text units\n",
      "INFO:httpx:HTTP Request: POST https://api.openai.com/v1/chat/completions \"HTTP/1.1 200 OK\"\n"
     ]
    },
    {
     "name": "stdout",
     "output_type": "stream",
     "text": [
      "{'artwork_url': 'https://www.wikiart.org/en/frederick-mccubbin/down-on-his-luck-1889'}\n"
     ]
    }
   ],
   "source": [
    "def get_artwork_url_from_name(state: ArtTourState):\n",
    "    artwork_name = state['artwork']\n",
    "    prompt = f\"\"\"\n",
    "    What is the Wikiart URL for this artwork: {artwork_name}\n",
    "    \n",
    "    Return only the wikiart url in plain text.\n",
    "    \"\"\"\n",
    "    return {\"artwork_url\": rag.query(prompt, param=QueryParam(mode=\"hybrid\"))}\n",
    "pprint(next_artwork_url := get_artwork_url_from_name({'artwork': \"Down on his luck\"}))"
   ]
  },
  {
   "cell_type": "code",
   "execution_count": 129,
   "metadata": {},
   "outputs": [
    {
     "name": "stderr",
     "output_type": "stream",
     "text": [
      "INFO:httpx:HTTP Request: POST https://api.openai.com/v1/embeddings \"HTTP/1.1 200 OK\"\n",
      "INFO:lightrag:Local query uses 60 entites, 141 relations, 12 text units\n",
      "INFO:httpx:HTTP Request: POST https://api.openai.com/v1/embeddings \"HTTP/1.1 200 OK\"\n",
      "INFO:lightrag:Global query uses 50 entites, 60 relations, 9 text units\n",
      "INFO:httpx:HTTP Request: POST https://api.openai.com/v1/embeddings \"HTTP/1.1 200 OK\"\n",
      "INFO:lightrag:Local query uses 60 entites, 78 relations, 11 text units\n",
      "INFO:httpx:HTTP Request: POST https://api.openai.com/v1/embeddings \"HTTP/1.1 200 OK\"\n",
      "INFO:lightrag:Global query uses 50 entites, 60 relations, 11 text units\n",
      "INFO:httpx:HTTP Request: POST https://api.openai.com/v1/embeddings \"HTTP/1.1 200 OK\"\n",
      "INFO:lightrag:Local query uses 60 entites, 68 relations, 9 text units\n",
      "INFO:httpx:HTTP Request: POST https://api.openai.com/v1/embeddings \"HTTP/1.1 200 OK\"\n",
      "INFO:lightrag:Global query uses 42 entites, 60 relations, 8 text units\n"
     ]
    },
    {
     "name": "stdout",
     "output_type": "stream",
     "text": [
      "{'artwork_description': '**Down on His Luck**, painted by Frederick McCubbin '\n",
      "                        'in 1889, captures a poignant scene of a disheartened '\n",
      "                        'swagman sitting by a campfire, reflecting on his '\n",
      "                        'misfortunes. The imagery conveys a sense of solitude '\n",
      "                        \"and contemplation, as the swagman's expression \"\n",
      "                        'reveals the hardships he has faced. The surrounding '\n",
      "                        'bush is depicted in subdued tones, enhancing the mood '\n",
      "                        \"of melancholy that permeates the artwork. McCubbin's \"\n",
      "                        'style employs loose brushwork characteristic of '\n",
      "                        'Impressionism, with the rugged natural setting '\n",
      "                        \"complementing the individual's somber state, thus \"\n",
      "                        'creating a connection between the figure and the '\n",
      "                        'environment.\\n'\n",
      "                        '\\n'\n",
      "                        'The context of the painting is deeply rooted in the '\n",
      "                        'Australian experience during the late 19th century, '\n",
      "                        'representing the struggles of individuals navigating '\n",
      "                        'a rapidly changing society. The swagman symbolizes '\n",
      "                        'the quintessential Australian settler, embodying '\n",
      "                        'themes of resilience and isolation. The scene is '\n",
      "                        'staged near Box Hill, a place where artists gathered '\n",
      "                        'to create works reflective of their surroundings. '\n",
      "                        \"McCubbin's art captures the essence of everyday life \"\n",
      "                        'and the emotional landscape of his subjects, making '\n",
      "                        'it a significant contribution to Australian narrative '\n",
      "                        'painting. The painting not only portrays a personal '\n",
      "                        'story but also speaks to broader themes of social and '\n",
      "                        'economic challenges faced during this period.',\n",
      " 'artwork_metadata': '```markdown\\n'\n",
      "                     'artwork name: Down on His Luck  \\n'\n",
      "                     'artist: Frederick McCubbin  \\n'\n",
      "                     'genre: genre painting  \\n'\n",
      "                     'media: canvas, oil  \\n'\n",
      "                     'style: Impressionism  \\n'\n",
      "                     '```',\n",
      " 'artwork_url': {'artwork_url': 'https://www.wikiart.org/en/frederick-mccubbin/down-on-his-luck-1889'}}\n"
     ]
    }
   ],
   "source": [
    "def describe_artwork(state: ArtTourState):\n",
    "    artwork = state['artwork']\n",
    "    metadata = rag.query(\n",
    "        f\"\"\"What is the genre, media, and style of the following artwork: {artwork}. \n",
    "    Return the description in the following format:\n",
    "    artwork name: <artwork name>\n",
    "    artist: <artist>\n",
    "    genre: <genre>\n",
    "    media: <media>\n",
    "    style: <style>\n",
    "    \n",
    "    Return this information and nothing else.\n",
    "    \"\"\",\n",
    "        param=QueryParam(mode=\"hybrid\"),\n",
    "    )\n",
    "\n",
    "    dense_description = str(rag.query(f\"Describe the imagery and context of {artwork} in 2 concise paragraphs.\", param=QueryParam(mode=\"hybrid\")))\n",
    "\n",
    "    return {\n",
    "        \"artwork_metadata\": metadata,\n",
    "        \"artwork_description\": dense_description,\n",
    "        \"artwork_url\": get_artwork_url_from_name(state)\n",
    "    }\n",
    "pprint(description := describe_artwork({\"artwork\": \"Down on his luck\"}))"
   ]
  },
  {
   "cell_type": "code",
   "execution_count": 136,
   "metadata": {},
   "outputs": [
    {
     "name": "stderr",
     "output_type": "stream",
     "text": [
      "INFO:httpx:HTTP Request: POST https://api.openai.com/v1/chat/completions \"HTTP/1.1 200 OK\"\n",
      "INFO:httpx:HTTP Request: POST https://api.openai.com/v1/embeddings \"HTTP/1.1 200 OK\"\n",
      "INFO:lightrag:Local query uses 60 entites, 146 relations, 8 text units\n",
      "INFO:httpx:HTTP Request: POST https://api.openai.com/v1/embeddings \"HTTP/1.1 200 OK\"\n",
      "INFO:lightrag:Global query uses 51 entites, 60 relations, 8 text units\n",
      "INFO:httpx:HTTP Request: POST https://api.openai.com/v1/chat/completions \"HTTP/1.1 200 OK\"\n",
      "INFO:httpx:HTTP Request: POST https://api.openai.com/v1/chat/completions \"HTTP/1.1 200 OK\"\n",
      "INFO:httpx:HTTP Request: POST https://api.openai.com/v1/embeddings \"HTTP/1.1 200 OK\"\n",
      "INFO:lightrag:Local query uses 60 entites, 129 relations, 11 text units\n",
      "INFO:httpx:HTTP Request: POST https://api.openai.com/v1/embeddings \"HTTP/1.1 200 OK\"\n",
      "INFO:lightrag:Global query uses 53 entites, 60 relations, 7 text units\n",
      "INFO:httpx:HTTP Request: POST https://api.openai.com/v1/chat/completions \"HTTP/1.1 200 OK\"\n",
      "INFO:httpx:HTTP Request: POST https://api.openai.com/v1/chat/completions \"HTTP/1.1 200 OK\"\n",
      "INFO:httpx:HTTP Request: POST https://api.openai.com/v1/embeddings \"HTTP/1.1 200 OK\"\n",
      "INFO:lightrag:Local query uses 60 entites, 85 relations, 6 text units\n",
      "INFO:httpx:HTTP Request: POST https://api.openai.com/v1/embeddings \"HTTP/1.1 200 OK\"\n",
      "INFO:lightrag:Global query uses 57 entites, 60 relations, 10 text units\n",
      "INFO:httpx:HTTP Request: POST https://api.openai.com/v1/chat/completions \"HTTP/1.1 200 OK\"\n"
     ]
    },
    {
     "name": "stdout",
     "output_type": "stream",
     "text": [
      "{'artwork_description': '**Imagery and Context of Le Départ du vapeur de '\n",
      "                        'Folkestone**\\n'\n",
      "                        '\\n'\n",
      "                        '\"Le Départ du vapeur de Folkestone,\" painted by '\n",
      "                        'Eugène Boudin, encapsulates a lively harbor scene '\n",
      "                        'depicting the departure of a steamship from '\n",
      "                        'Folkestone, a coastal town in England. The painting '\n",
      "                        'showcases a bustling atmosphere with numerous figures '\n",
      "                        'hastily boarding the boat, captured in vibrant colors '\n",
      "                        \"and fluid brushwork typical of Boudin's style. The \"\n",
      "                        'scene is adorned with ships and small boats, set '\n",
      "                        'against a dramatically overcast sky that illuminates '\n",
      "                        'the water, conveying a sense of movement and urgency. '\n",
      "                        \"The artist's focus on light effects enhances the \"\n",
      "                        'ambiance, integrating the sky and sea into the '\n",
      "                        'composition harmoniously.\\n'\n",
      "                        '\\n'\n",
      "                        'Contextually, this painting reflects the burgeoning '\n",
      "                        'interest in leisure travel during the late 19th '\n",
      "                        'century as steamships became a popular means for '\n",
      "                        'people to embark on vacations. Folkestone was a '\n",
      "                        'significant departure point for travelers heading to '\n",
      "                        'France and beyond, marking it as a site of cultural '\n",
      "                        \"and economic interaction. Boudin's work captures this \"\n",
      "                        'historical moment in the evolution of tourism, '\n",
      "                        'illustrating not only the specifics of seafaring life '\n",
      "                        'but also the social dynamics involving diverse groups '\n",
      "                        'of people engaging in the excitement of travel. This '\n",
      "                        'painting represents a snapshot of a transformative '\n",
      "                        'era where mobility and exploration became central to '\n",
      "                        'the lifestyle of the bourgeois class.',\n",
      " 'artwork_metadata': 'I don\\'t have information about the artwork \"Le Départ '\n",
      "                     'du vapeur de Folkestone\" in the provided data tables.',\n",
      " 'artwork_url': {'artwork_url': \"I don't have information regarding the \"\n",
      "                                'artwork \"Le Départ du vapeur de Folkestone\" '\n",
      "                                'or its Wikiart URL.'}}\n"
     ]
    }
   ],
   "source": [
    "def describe_artwork(state: ArtTourState):\n",
    "    artwork = state['artwork']\n",
    "    metadata = rag.query(\n",
    "        f\"\"\"What is the genre, media, and style of the following artwork: {artwork}. \n",
    "    Return the description in the following format:\n",
    "    artwork name: <artwork name>\n",
    "    artist: <artist>\n",
    "    genre: <genre>\n",
    "    media: <media>\n",
    "    style: <style>\n",
    "    \n",
    "    Return this information and nothing else.\n",
    "    \"\"\",\n",
    "        param=QueryParam(mode=\"hybrid\"),\n",
    "    )\n",
    "\n",
    "    dense_description = str(rag.query(f\"Describe the imagery and context of {artwork} in 2 concise paragraphs.\", param=QueryParam(mode=\"hybrid\")))\n",
    "\n",
    "    return {\n",
    "        \"artwork_metadata\": metadata,\n",
    "        \"artwork_description\": dense_description,\n",
    "        \"artwork_url\": get_artwork_url_from_name(state)\n",
    "    }\n",
    "pprint(description := describe_artwork({\"artwork\": r\"Le D\\u00e9part du vapeur de Folkestone\"}))"
   ]
  },
  {
   "cell_type": "code",
   "execution_count": 130,
   "metadata": {},
   "outputs": [
    {
     "name": "stderr",
     "output_type": "stream",
     "text": [
      "INFO:httpx:HTTP Request: POST https://api.openai.com/v1/embeddings \"HTTP/1.1 200 OK\"\n",
      "INFO:lightrag:Local query uses 60 entites, 151 relations, 9 text units\n",
      "INFO:httpx:HTTP Request: POST https://api.openai.com/v1/embeddings \"HTTP/1.1 200 OK\"\n",
      "INFO:lightrag:Global query uses 38 entites, 60 relations, 8 text units\n",
      "INFO:httpx:HTTP Request: POST https://api.openai.com/v1/embeddings \"HTTP/1.1 200 OK\"\n",
      "INFO:lightrag:Local query uses 60 entites, 142 relations, 12 text units\n",
      "INFO:httpx:HTTP Request: POST https://api.openai.com/v1/embeddings \"HTTP/1.1 200 OK\"\n",
      "INFO:lightrag:Global query uses 51 entites, 60 relations, 8 text units\n",
      "INFO:httpx:HTTP Request: POST https://api.openai.com/v1/embeddings \"HTTP/1.1 200 OK\"\n",
      "INFO:lightrag:Local query uses 60 entites, 152 relations, 12 text units\n",
      "INFO:httpx:HTTP Request: POST https://api.openai.com/v1/embeddings \"HTTP/1.1 200 OK\"\n",
      "INFO:lightrag:Global query uses 49 entites, 60 relations, 7 text units\n",
      "INFO:httpx:HTTP Request: POST https://api.openai.com/v1/chat/completions \"HTTP/1.1 200 OK\"\n",
      "INFO:httpx:HTTP Request: POST https://api.openai.com/v1/embeddings \"HTTP/1.1 200 OK\"\n",
      "INFO:lightrag:Local query uses 60 entites, 86 relations, 9 text units\n",
      "INFO:httpx:HTTP Request: POST https://api.openai.com/v1/embeddings \"HTTP/1.1 200 OK\"\n",
      "INFO:lightrag:Global query uses 43 entites, 60 relations, 11 text units\n",
      "INFO:httpx:HTTP Request: POST https://api.openai.com/v1/chat/completions \"HTTP/1.1 200 OK\"\n"
     ]
    },
    {
     "name": "stdout",
     "output_type": "stream",
     "text": [
      "{'artwork': '**The Sower**',\n",
      " 'artwork_description': '**The Sower**, created by Slovene Impressionist '\n",
      "                        'painter Ivan Grohar in 1907, is a significant artwork '\n",
      "                        'that portrays a peasant sowing seeds in a verdant '\n",
      "                        'field, embodying themes central to Slovene culture '\n",
      "                        'and agrarian life. The painting utilizes vibrant '\n",
      "                        'colors and dynamic brushstrokes to depict both the '\n",
      "                        'labor and the connection to nature inherent in '\n",
      "                        'farming traditions. Grohar’s work reflects the '\n",
      "                        'importance of agriculture in Slovenian identity, '\n",
      "                        'showcasing how such rural activities are intertwined '\n",
      "                        'with the broader cultural narrative of the nation.\\n'\n",
      "                        '\\n'\n",
      "                        'The imagery in **The Sower** goes beyond the '\n",
      "                        'immediate act of sowing; it symbolizes renewal and '\n",
      "                        'hope, essential concepts within the agrarian '\n",
      "                        'community. The figure of the sower, depicted in a '\n",
      "                        'moment of action, represents the labor force that '\n",
      "                        'sustains everyday life and reflects a deeper '\n",
      "                        \"relationship with the land. Grohar's choice to focus \"\n",
      "                        'on this theme during a period of sociopolitical '\n",
      "                        'change in Slovenia underscores the painting’s '\n",
      "                        'relevance as both a portrayal of rural practice and '\n",
      "                        'an emblem of national identity and resilience.',\n",
      " 'artwork_metadata': '```markdown\\n'\n",
      "                     'artwork name: The Sower  \\n'\n",
      "                     'artist: Ivan Grohar  \\n'\n",
      "                     'genre: genre painting  \\n'\n",
      "                     'media: canvas, oil  \\n'\n",
      "                     'style: Slovene Impressionism  \\n'\n",
      "                     '```',\n",
      " 'artwork_url': {'artwork_url': 'https://www.wikiart.org/en/ivan-grohar/the-sower-1907'},\n",
      " 'past_artworks': ['The Pink Dress',\n",
      "                   'The Ballet Class',\n",
      "                   '```markdown\\n'\n",
      "                   'artwork name: Down on His Luck  \\n'\n",
      "                   'artist: Frederick McCubbin  \\n'\n",
      "                   'genre: genre painting  \\n'\n",
      "                   'media: canvas, oil  \\n'\n",
      "                   'style: Impressionism  \\n'\n",
      "                   '```']}\n"
     ]
    }
   ],
   "source": [
    "def request_artwork(state: ArtTourState):\n",
    "    description = state['art_request']\n",
    "    prompt = \"\"\"\n",
    "    The user has requested the following for their next artwork. Choose a related artwork.\n",
    "    {description}\n",
    "    \n",
    "    Return the name of the artwork and nothing else.\n",
    "    \"\"\"\n",
    "    return {\"artwork\": rag.query(prompt, param=QueryParam(mode=\"hybrid\"))}\n",
    "\n",
    "def get_next_artwork(state: ArtTourState):\n",
    "    \n",
    "    prev_artwork = state['artwork_metadata']\n",
    "    next_artwork = state['art_request']\n",
    "    past_artworks = state['past_artworks']\n",
    "    prompt = f\"\"\"You are an art tour guide. \n",
    "    The have discussed these artworks earlier in the tour: {past_artworks}  \n",
    "    You just discussed this artwork:\n",
    "    {prev_artwork}\n",
    "\n",
    "    The user has requested the following for their next artwork. Choose a related artwork.\n",
    "    {next_artwork}\n",
    "    \n",
    "    Return the name of the artwork and nothing else.\n",
    "    \"\"\"\n",
    "    next_artwork = rag.query(prompt, param=QueryParam(mode=\"hybrid\"))\n",
    "    art_data = describe_artwork({'artwork': next_artwork})\n",
    "    out =  {\n",
    "        \"artwork\": next_artwork,\n",
    "        \"past_artworks\": past_artworks + [prev_artwork],\n",
    "        **art_data  # metadata + description\n",
    "    }\n",
    "    out.update(art_data)\n",
    "    return out\n",
    "\n",
    "pprint(next_artwork := get_next_artwork({\n",
    "    \"past_artworks\": [\"The Pink Dress\", \"The Ballet Class\"],\n",
    "    \"artwork_metadata\": description['artwork_metadata'],\n",
    "    \"art_request\": \"I want to see artworks by a different artist of the same genre.\"\n",
    "}))"
   ]
  },
  {
   "cell_type": "code",
   "execution_count": 131,
   "metadata": {},
   "outputs": [
    {
     "name": "stderr",
     "output_type": "stream",
     "text": [
      "INFO:httpx:HTTP Request: POST https://api.openai.com/v1/chat/completions \"HTTP/1.1 200 OK\"\n",
      "INFO:httpx:HTTP Request: POST https://api.openai.com/v1/embeddings \"HTTP/1.1 200 OK\"\n",
      "INFO:lightrag:Local query uses 60 entites, 138 relations, 8 text units\n",
      "INFO:httpx:HTTP Request: POST https://api.openai.com/v1/embeddings \"HTTP/1.1 200 OK\"\n",
      "INFO:lightrag:Global query uses 50 entites, 60 relations, 9 text units\n",
      "INFO:httpx:HTTP Request: POST https://api.openai.com/v1/chat/completions \"HTTP/1.1 200 OK\"\n",
      "INFO:httpx:HTTP Request: POST https://api.openai.com/v1/chat/completions \"HTTP/1.1 200 OK\"\n",
      "INFO:httpx:HTTP Request: POST https://api.openai.com/v1/embeddings \"HTTP/1.1 200 OK\"\n",
      "INFO:lightrag:Local query uses 60 entites, 151 relations, 7 text units\n",
      "INFO:httpx:HTTP Request: POST https://api.openai.com/v1/embeddings \"HTTP/1.1 200 OK\"\n",
      "INFO:lightrag:Global query uses 53 entites, 60 relations, 7 text units\n",
      "INFO:httpx:HTTP Request: POST https://api.openai.com/v1/chat/completions \"HTTP/1.1 200 OK\"\n",
      "INFO:httpx:HTTP Request: POST https://api.openai.com/v1/chat/completions \"HTTP/1.1 200 OK\"\n",
      "INFO:httpx:HTTP Request: POST https://api.openai.com/v1/embeddings \"HTTP/1.1 200 OK\"\n",
      "INFO:lightrag:Local query uses 41 entites, 59 relations, 6 text units\n",
      "INFO:httpx:HTTP Request: POST https://api.openai.com/v1/embeddings \"HTTP/1.1 200 OK\"\n",
      "INFO:lightrag:Global query uses 57 entites, 60 relations, 9 text units\n",
      "INFO:httpx:HTTP Request: POST https://api.openai.com/v1/chat/completions \"HTTP/1.1 200 OK\"\n"
     ]
    },
    {
     "name": "stdout",
     "output_type": "stream",
     "text": [
      "{'artwork': 'Le Départ du vapeur de Folkestone',\n",
      " 'artwork_description': '**Imagery of Le Départ du vapeur de Folkestone**\\n'\n",
      "                        '\\n'\n",
      "                        'Le Départ du vapeur de Folkestone is a captivating '\n",
      "                        'oil-on-canvas painting that captures a bustling scene '\n",
      "                        'at a port during the 19th century. The artwork '\n",
      "                        'vividly illustrates a moment of departure, with a '\n",
      "                        'steamship ready to leave the dock. The atmosphere is '\n",
      "                        'filled with a sense of movement and anticipation, as '\n",
      "                        'figures are seen boarding the vessel amidst a flurry '\n",
      "                        'of activity. The smoke billowing from the ship adds '\n",
      "                        'dynamic energy to the composition, while the '\n",
      "                        'background features the calm waters of the sea, '\n",
      "                        'juxtaposed with the lively crowd gathered on the '\n",
      "                        'quayside. The use of light and color is striking, '\n",
      "                        'utilizing a palette that conveys the vibrancy of the '\n",
      "                        'moment while reflecting the industrial advancements '\n",
      "                        'of the time.\\n'\n",
      "                        '\\n'\n",
      "                        '**Contextual Significance**\\n'\n",
      "                        '\\n'\n",
      "                        'Created during a period of rapid industrialization, '\n",
      "                        'Le Départ du vapeur de Folkestone serves as a '\n",
      "                        'representation of the growing accessibility and '\n",
      "                        'popularity of travel in the Victorian era. Steamships '\n",
      "                        'had revolutionized transport, making coastal journeys '\n",
      "                        'more convenient for the burgeoning middle class eager '\n",
      "                        'for leisure and adventure. This painting not only '\n",
      "                        'captures the excitement of travel but also reflects '\n",
      "                        'societal changes, where movement across regions '\n",
      "                        'became increasingly common, facilitating cultural '\n",
      "                        'exchange and social connections. The scene could '\n",
      "                        'evoke nostalgia for viewers of the time, symbolizing '\n",
      "                        'the intersection between traditional modes of life '\n",
      "                        'and the modernizing world, encapsulated in the lively '\n",
      "                        'depiction of a vibrant port.',\n",
      " 'artwork_metadata': \"I'm sorry, but I don't have information about the \"\n",
      "                     'artwork \"Le Départ du vapeur de Folkestone.\"',\n",
      " 'artwork_url': {'artwork_url': \"I don't know the answer.\"}}\n"
     ]
    }
   ],
   "source": [
    "with open('./data/artinfo.json', 'r') as f:\n",
    "    art_json = json.load(f)\n",
    "artworks = [art_info.split('\\n')[2].split(': ')[1] for art_info in art_json['info']]\n",
    "def get_random_art():\n",
    "    out = {\"artwork\": random.sample(artworks, 1)[0]}\n",
    "    art_data = describe_artwork(out)\n",
    "    out.update(art_data)\n",
    "    return out\n",
    "pprint(random_artwork := get_random_art())"
   ]
  },
  {
   "cell_type": "code",
   "execution_count": null,
   "metadata": {},
   "outputs": [],
   "source": [
    "from langchain_openai import ChatOpenAI\n",
    "from langchain_core.messages import HumanMessage, AIMessage"
   ]
  },
  {
   "cell_type": "code",
   "execution_count": 152,
   "metadata": {},
   "outputs": [],
   "source": [
    "def tour_introduction():\n",
    "    pass\n",
    "\n",
    "def conclude_tour():\n",
    "    pass\n",
    "\n",
    "def display_artwork():\n",
    "    pass\n",
    "\n",
    "def choose_next_artwork():\n",
    "    pass\n",
    "\n",
    "def discuss():\n",
    "    \"\"\"\n",
    "    Discuss the artwork with the user\n",
    "    \"\"\"\n",
    "    pass\n",
    "\n",
    "def prompt_user():\n",
    "    pass"
   ]
  },
  {
   "cell_type": "code",
   "execution_count": null,
   "metadata": {},
   "outputs": [
    {
     "data": {
      "image/png": "[encoded data removed]",
      "text/plain": [
       "<IPython.core.display.Image object>"
      ]
     },
     "metadata": {},
     "output_type": "display_data"
    }
   ],
   "source": [
    "\n",
    "workflow = StateGraph(ArtTourState)\n",
    "# nodes\n",
    "workflow.add_node('tour_introduction', tour_introduction)\n",
    "workflow.add_node('display_artwork', display_artwork)\n",
    "workflow.add_node('choose_next_artwork', choose_next_artwork)\n",
    "workflow.add_node('discuss', discuss)\n",
    "workflow.add_node('conclude_tour', conclude_tour)\n",
    "\n",
    "workflow.add_edge('tour_introduction', 'display_artwork')\n",
    "workflow.add_edge('display_artwork', 'discuss')\n",
    "workflow.add_edge('discuss', 'discuss')\n",
    "workflow.add_edge('discuss', 'choose_next_artwork')\n",
    "\n",
    "workflow.add_edge('choose_next_artwork', 'display_artwork')\n",
    "workflow.add_edge('display_artwork', 'conclude_tour')\n",
    "workflow.add_edge('discuss', 'conclude_tour')\n",
    "\n",
    "workflow.add_edge('conclude_tour', END)\n",
    "\n",
    "# edges\n",
    "workflow.set_entry_point('tour_introduction')\n",
    "app = workflow.compile()\n",
    "display(\n",
    "    IPImage(\n",
    "        app.get_graph().draw_mermaid_png(\n",
    "            draw_method=MermaidDrawMethod.API,\n",
    "        )\n",
    "    )\n",
    ")"
   ]
  },
  {
   "cell_type": "code",
   "execution_count": null,
   "metadata": {},
   "outputs": [],
   "source": [
    "async def run_workflow(query: str)"
   ]
  },
  {
   "cell_type": "markdown",
   "metadata": {
    "vscode": {
     "languageId": "plaintext"
    }
   },
   "source": [
    "### Final App"
   ]
  },
  {
   "cell_type": "code",
   "execution_count": null,
   "metadata": {},
   "outputs": [
    {
     "data": {
      "application/vnd.jupyter.widget-view+json": {
       "model_id": "3dad22bc61c0460b93d13349522fd69a",
       "version_major": 2,
       "version_minor": 0
      },
      "text/plain": [
       "GridspecLayout(children=(HTML(value='<p>foo 1637</p>', layout=Layout(grid_area='widget001')), HTML(value='<img…"
      ]
     },
     "metadata": {},
     "output_type": "display_data"
    }
   ],
   "source": [
    "def create_image_widget(artwork_url: str):\n",
    "    return widgets.HTML(value=f'<img src=\"{get_artwork_image_url(artwork_url)}\">')\n",
    "\n",
    "\n",
    "def create_description_box(description: str):\n",
    "    return widgets.HTML(markdown.markdown(description))\n",
    "    # return widgets.HTML(value=f'<h1>{description}</h1>')\n",
    "\n",
    "\n",
    "exit_loop = False\n",
    "\n",
    "prompt_input = widgets.Text(value='helloworld')\n",
    "\n",
    "\n",
    "def callback(widget):\n",
    "    # Start workflow loop\n",
    "    pass\n",
    "\n",
    "\n",
    "prompt_input.on_submit(callback)\n",
    "\n",
    "grid_layout = GridspecLayout(20, 1)\n",
    "grid_layout[0, 0] = create_description_box(\"foo 1637\")\n",
    "grid_layout[1:12, 0] = create_image_widget('/en/pieter-codde/the-meagre-company-1637')\n",
    "grid_layout[13, 0] = create_description_box(\"this is a llm response\")\n",
    "grid_layout[14, 0] = prompt_input\n",
    "\n",
    "grid_layout"
   ]
  },
  {
   "cell_type": "code",
   "execution_count": null,
   "metadata": {},
   "outputs": [],
   "source": [
    "# User Loop\n",
    "current_image = \"https://www.wikiart.org/en/pierre-auguste-renoir/ball-at-the-moulin-de-la-galette-1876\"\n",
    "description = describe_painting(current_image)\n",
    "app_running = True\n",
    "while app_running:\n",
    "    while current_painting:\n",
    "        \n",
    "\n",
    "    "
   ]
  }
 ],
 "metadata": {
  "kernelspec": {
   "display_name": ".venv",
   "language": "python",
   "name": "python3"
  },
  "language_info": {
   "codemirror_mode": {
    "name": "ipython",
    "version": 3
   },
   "file_extension": ".py",
   "mimetype": "text/x-python",
   "name": "python",
   "nbconvert_exporter": "python",
   "pygments_lexer": "ipython3",
   "version": "3.12.7"
  }
 },
 "nbformat": 4,
 "nbformat_minor": 4
}
