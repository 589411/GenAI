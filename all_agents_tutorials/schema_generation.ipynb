{
 "cells": [
  {
   "cell_type": "markdown",
   "id": "b26bdf70-b1db-4a22-acf3-ee0391c21772",
   "metadata": {},
   "source": [
    "# Memory: A Deep Dive: Part I (Semi Aunonomous Schema Generation)\n"
   ]
  },
  {
   "cell_type": "markdown",
   "id": "085a4cd9-ae03-4a15-b1e8-2ef1ab15770a",
   "metadata": {},
   "source": [
    "## Overview\n",
    "This code implements a semi-autonomous memory schema generation system that combines Large Language Models (LLMs) and graph-based workflows to create structured memory representations. The system is built on LangGraph and uses GPT-4 mini to generate memory schemas across four fundamental memory types: procedural, semantic, episodic, and prospective. Each generated schema follows a hierarchical structure (type → label → description) and can be iteratively refined through user interaction.\n",
    "\n",
    "The implementation demonstrates a practical approach to automated knowledge structuring while maintaining human oversight. It showcases how modern AI tools can be used to systematically generate complex memory structures while allowing for human guidance and quality control in the generation process."
   ]
  },
  {
   "cell_type": "markdown",
   "id": "430b07f7-837a-484b-9c30-5c52c9d7df98",
   "metadata": {},
   "source": [
    "## Motivation\n",
    "Several key factors motivate this implementation:\n",
    "\n",
    "1. **Knowledge Structure Automation**\n",
    "   - Manual creation of memory schemas is time-consuming and often inconsistent\n",
    "   - Automated generation can significantly speed up the initial structuring of knowledge\n",
    "   - LLMs can provide sophisticated, context-aware schema suggestions\n",
    "\n",
    "2. **Flexible Control Flow**\n",
    "   - The need for systems that balance automation with human oversight\n",
    "   - Importance of iterative refinement in knowledge structure development\n",
    "   - Value of maintaining schema history and evolution\n",
    "\n",
    "3. **Standardized Memory Organization**\n",
    "   - Need for consistent categorization across different types of memories\n",
    "   - Importance of structured approaches to knowledge representation\n",
    "   - Benefits of using established memory type categories (procedural, semantic, episodic, prospective)\n",
    "\n",
    "4. **Interactive Development**\n",
    "   - Recognition that initial automated outputs may need refinement\n",
    "   - Value of human expertise in guiding schema development\n",
    "   - Importance of flexible iteration in knowledge structure development\n",
    "\n",
    "This implementation addresses these motivations by providing a framework that combines automated generation with human oversight, allowing for systematic development of memory schemas while maintaining quality control and flexibility."
   ]
  },
  {
   "cell_type": "markdown",
   "id": "3d550fa8-889d-4b28-9b2a-6fcdc5fef755",
   "metadata": {},
   "source": [
    "## Key Components\n",
    "1. **State Management System**: \n",
    "   - Maintains the workflow state using Pydantic models\n",
    "   - Tracks the initial idea, generated memory schemas, and update instructions\n",
    "   - Ensures type safety and data validation\n",
    "\n",
    "2. **LLM Integration**: \n",
    "   - Leverages OpenAI's GPT-4 mini model\n",
    "   - Generates structured memory schemas based on four memory types:\n",
    "     - Episodic: For experience-based memories\n",
    "     - Semantic: For factual knowledge\n",
    "     - Procedural: For process-related information\n",
    "     - Prospective: For future-oriented planning\n",
    "\n",
    "3. **Graph-based Workflow**: \n",
    "   - Uses LangGraph's StateGraph for process orchestration\n",
    "   - Defines clear node functions for schema generation and updates\n",
    "   - Implements conditional logic for workflow control\n",
    "\n",
    "4. **Interactive Feedback Loop**:\n",
    "   - Allows user intervention in the schema generation process\n",
    "   - Supports iterative refinement through user instructions\n",
    "   - Provides flexibility to end or continue the generation process\n"
   ]
  },
  {
   "cell_type": "markdown",
   "id": "cd2aede6-78c8-40e4-9b14-85a58f77f98f",
   "metadata": {},
   "source": [
    "## Method\n",
    "The system follows this iterative approach:\n",
    "\n",
    "1. **Initialization**:\n",
    "   - Takes an initial idea as input\n",
    "   - Sets up the state management system\n",
    "   - Initializes the LLM client\n",
    "\n",
    "2. **Schema Generation**:\n",
    "   - Generates structured memory schemas using the LLM\n",
    "   - Follows a specific format: memory_type → memory_label → memory_description\n",
    "   - Maintains previous iterations in state\n",
    "\n",
    "3. **User Interaction**:\n",
    "   - Presents generated schemas to the user\n",
    "   - Collects feedback on whether to continue iteration\n",
    "   - Accepts new instructions for schema refinement\n",
    "\n",
    "4. **Iteration Control**:\n",
    "   - Continues or terminates based on user input\n",
    "   - Maintains schema history across iterations\n",
    "   - Allows for incremental improvements"
   ]
  },
  {
   "cell_type": "markdown",
   "id": "a37b3700-fb63-4d15-b740-9643210a4bc8",
   "metadata": {},
   "source": [
    "## Visual Overview\n",
    "A flowchart representing the design and flow of the workflow."
   ]
  },
  {
   "cell_type": "markdown",
   "id": "6114383f-c940-4b69-bc90-9912161ca0e7",
   "metadata": {},
   "source": [
    "<div style=\"max-width:400px;\">\n",
    "    \n",
    "![image.png](../images/schema_generation.png)\n",
    "    \n",
    "</div>"
   ]
  },
  {
   "cell_type": "markdown",
   "id": "8cf758b1-e1c3-499b-bf29-b51264d8d0be",
   "metadata": {},
   "source": [
    "## Conclusion\n",
    "This implementation demonstrates a practical approach to semi-autonomous memory schema generation. The system combines the strengths of large language models with human oversight, allowing for iterative refinement of memory schemas. The graph-based workflow provides a structured yet flexible framework for schema generation, while the interactive component ensures quality control through human feedback.\n",
    "\n",
    "Key advantages of this approach include:\n",
    "- Structured schema generation following established memory types\n",
    "- Flexible iteration based on user needs\n",
    "- Maintainable state management\n",
    "- Clear separation of concerns between generation and control flow\n",
    "\n",
    "Future improvements could focus on:\n",
    "- Enhanced schema validation\n",
    "- Persistent storage of generated schemas\n",
    "- More sophisticated iteration strategies\n",
    "- Advanced conflict resolution in schema updates\n",
    "- Integration with larger agent systems\n",
    "\n",
    "This system provides a foundation for building more complex memory management systems in AI agents, particularly in applications requiring structured knowledge representation and human oversight."
   ]
  },
  {
   "cell_type": "markdown",
   "id": "01726055-58e2-42f0-953d-50a58ef25544",
   "metadata": {},
   "source": [
    "# Dependencies and Imports\n",
    "Install dependencies and import libraries."
   ]
  },
  {
   "cell_type": "code",
   "execution_count": 1,
   "id": "4c6a6ae2-8687-4c70-82a7-34959555dcfb",
   "metadata": {},
   "outputs": [],
   "source": [
    "%%capture\n",
    "\n",
    "!pip install langgraph\n",
    "!pip install langgraph-sdk\n",
    "!pip install langgraph-checkpoint-sqlite\n",
    "!pip install langchain-community\n",
    "!pip install langchain-core\n",
    "!pip install langchain-openai"
   ]
  },
  {
   "cell_type": "code",
   "execution_count": 2,
   "id": "a851309b-b375-481d-bc58-f3fc314a1ed4",
   "metadata": {},
   "outputs": [],
   "source": [
    "from langchain_core.prompts import ChatPromptTemplate\n",
    "from langgraph.graph import StateGraph, END\n",
    "from langchain.schema import HumanMessage\n",
    "from langchain_openai import ChatOpenAI\n",
    "\n",
    "from pydantic import BaseModel\n",
    "from typing import Optional\n",
    "\n",
    "import os\n"
   ]
  },
  {
   "cell_type": "markdown",
   "id": "405fcf49-c87e-46e2-a3fc-1c8fde6d25fa",
   "metadata": {},
   "source": [
    "## Clients\n",
    "Import API keys and instantiate clients."
   ]
  },
  {
   "cell_type": "code",
   "execution_count": 3,
   "id": "bb54e70c-cc2e-4907-a240-758b2540f30d",
   "metadata": {},
   "outputs": [],
   "source": [
    "os.environ['OPENAI_API_KEY'] = 'YOUR-API-KEY'\n",
    "llm = ChatOpenAI(model='gpt-4o-mini')"
   ]
  },
  {
   "cell_type": "markdown",
   "id": "83900a95-a236-471b-bcc0-02d61b887b3b",
   "metadata": {},
   "source": [
    "## Define Agent State\n",
    "We'll define the state that our agent will maintain throughout its operation.\n"
   ]
  },
  {
   "cell_type": "code",
   "execution_count": 4,
   "id": "0de61661-51b0-4ad3-b6f5-f3caa168d6c2",
   "metadata": {},
   "outputs": [],
   "source": [
    "class State(BaseModel):\n",
    "    idea: str\n",
    "    memory_schema: list[str] = []\n",
    "    update_instructions: Optional[str] = None"
   ]
  },
  {
   "cell_type": "markdown",
   "id": "e3687655-3137-434c-84bc-8dd295f54d72",
   "metadata": {},
   "source": [
    "## Define Node Functions\n",
    "Now we'll define the main node functions that our agent will use: generate_schema and update_instructions.\n"
   ]
  },
  {
   "cell_type": "code",
   "execution_count": 5,
   "id": "5e15d8cc-8b36-4289-ad4a-3343226ba2f3",
   "metadata": {},
   "outputs": [],
   "source": [
    "def schema_generation_node(state: State):\n",
    "    ''' Generate Memory Schema '''\n",
    "    prompt = ChatPromptTemplate.from_template(\n",
    "        'You are tasked with generating a memory schema for {idea} based on the previous iteration of the schema.'\n",
    "        'If no previous itearation exists, create the first one.'\n",
    "        'You must choose one of the following memory types: [\"episodic\", \"semantic\", \"procedural\", \"prospective\"]'\n",
    "        'Previous Iteration: {memory_schema}'\n",
    "        'Follow these instructions: {update_instructions}'\n",
    "        'Response Format: # memory_type ## memory_label ### memory_decription'\n",
    "    )\n",
    "    message = HumanMessage(content=prompt.format(idea=state.idea, memory_schema=state.memory_schema, update_instructions=state.update_instructions))\n",
    "    memories = llm.invoke([message]).content.strip()\n",
    "\n",
    "    state.memory_schema.append(memories)\n",
    "    return state\n",
    "\n",
    "\n",
    "def update_instrctions_node(state: State):\n",
    "    ''' Update Generation Instructions '''\n",
    "    new_instructions = input('Please provide updated instructions')\n",
    "    state.update_instructions = new_instructions\n",
    "    return state\n",
    "    "
   ]
  },
  {
   "cell_type": "markdown",
   "id": "65fe049c-efda-4cc9-aa81-44b8fc534434",
   "metadata": {},
   "source": [
    "## Define Edge Functions\n",
    "Now we'll define the conditional edge function that our agent will use to control the workflow."
   ]
  },
  {
   "cell_type": "code",
   "execution_count": 6,
   "id": "898b3b42-9475-45d1-b517-26a889ff6687",
   "metadata": {},
   "outputs": [],
   "source": [
    "def update_schema(state: State):\n",
    "    \n",
    "    print('Proposed Schema:')\n",
    "    print('----------------')\n",
    "    \n",
    "    for element in state.memory_schema:\n",
    "        print(element)\n",
    "    instructions = input('Do you wish to iterate over this schema? (yes or no)')\n",
    "    \n",
    "    if instructions in ['no', 'n', 'quit', 'q', 'exit', 'e']:\n",
    "        print('Final Schema:')\n",
    "        print('-------------')\n",
    "        for element in state.memory_schema:\n",
    "            print(element)\n",
    "            \n",
    "        return END\n",
    "    else:\n",
    "        return 'update_instrctions_node'\n",
    "    "
   ]
  },
  {
   "cell_type": "markdown",
   "id": "14b4075e-b6f4-4410-a7ec-8405000984d1",
   "metadata": {},
   "source": [
    "## Build Workflow\n",
    "Now we'll create our workflow and compile it.\n"
   ]
  },
  {
   "cell_type": "code",
   "execution_count": 7,
   "id": "b3fafb0c-8e75-4b1c-99d0-64978b40a45e",
   "metadata": {},
   "outputs": [],
   "source": [
    "builder = StateGraph(State)\n",
    "\n",
    "# Add nodes to the graph\n",
    "builder.add_node('schema_generation_node', schema_generation_node)\n",
    "builder.add_node('update_instrctions_node', update_instrctions_node)\n",
    "\n",
    "# Add edges to the graph\n",
    "builder.set_entry_point('schema_generation_node')\n",
    "builder.add_conditional_edges('schema_generation_node', update_schema)\n",
    "builder.add_edge('update_instrctions_node', 'schema_generation_node')\n",
    "\n",
    "# Compile the graph\n",
    "graph = builder.compile()"
   ]
  },
  {
   "cell_type": "markdown",
   "id": "ba4fec8a-1b6d-4f2a-8d49-b31ba55122dc",
   "metadata": {},
   "source": [
    "# Main Function\n",
    "Define the function that runs the instanciates the workflow and its state."
   ]
  },
  {
   "cell_type": "code",
   "execution_count": 8,
   "id": "465b71e0-3aca-4e66-a240-5886b29792fc",
   "metadata": {},
   "outputs": [],
   "source": [
    "def run_schema_generator(idea: str):\n",
    "    state = State(idea=idea)\n",
    "    \n",
    "    for output in graph.stream(state):\n",
    "        pass"
   ]
  },
  {
   "cell_type": "markdown",
   "id": "a7dc740e-322a-444f-8140-8e72b2c71160",
   "metadata": {},
   "source": [
    "# Run Program\n",
    "Instanciate the main function and observe outputs."
   ]
  },
  {
   "cell_type": "code",
   "execution_count": 9,
   "id": "9b19f3af-cc4c-4201-bc3b-15588c112ea4",
   "metadata": {},
   "outputs": [
    {
     "name": "stdout",
     "output_type": "stream",
     "text": [
      "Proposed Schema:\n",
      "----------------\n",
      "# episodic  \n",
      "## agent_interaction_history  \n",
      "### A record of individual interactions between tutors and students, including session dates, topics covered, student progress notes, and feedback from both students and tutors. This memory type allows agents to recall specific past tutoring experiences, enhancing personalized learning and rapport building.  \n",
      "\n",
      "# semantic  \n",
      "## tutoring_knowledge_base  \n",
      "### A comprehensive repository of educational resources, concepts, and subject matter expertise that tutors can draw upon. This includes definitions, theories, and problem-solving techniques relevant to various subjects, enabling agents to provide accurate and informative responses during sessions.  \n",
      "\n",
      "# procedural  \n",
      "## tutoring_session_protocol  \n",
      "### A set of established procedures and best practices for conducting effective tutoring sessions. This includes guidelines on session structure, engagement techniques, assessment methods, and communication strategies, ensuring consistency and quality across all tutoring interactions.  \n",
      "\n",
      "# prospective  \n",
      "## student_goal_tracking  \n",
      "### A forward-looking memory system that records and tracks student goals and milestones. This includes specific academic objectives, timelines for achievement, and plans for future sessions, allowing tutors to proactively guide students toward their educational aspirations.\n"
     ]
    },
    {
     "name": "stdin",
     "output_type": "stream",
     "text": [
      "Do you wish to iterate over this schema? (yes or no) yes\n",
      "Please provide updated instructions Add something to keep track of curiosities.\n"
     ]
    },
    {
     "name": "stdout",
     "output_type": "stream",
     "text": [
      "Proposed Schema:\n",
      "----------------\n",
      "# episodic  \n",
      "## agent_interaction_history  \n",
      "### A record of individual interactions between tutors and students, including session dates, topics covered, student progress notes, and feedback from both students and tutors. This memory type allows agents to recall specific past tutoring experiences, enhancing personalized learning and rapport building.  \n",
      "\n",
      "# semantic  \n",
      "## tutoring_knowledge_base  \n",
      "### A comprehensive repository of educational resources, concepts, and subject matter expertise that tutors can draw upon. This includes definitions, theories, and problem-solving techniques relevant to various subjects, enabling agents to provide accurate and informative responses during sessions.  \n",
      "\n",
      "# procedural  \n",
      "## tutoring_session_protocol  \n",
      "### A set of established procedures and best practices for conducting effective tutoring sessions. This includes guidelines on session structure, engagement techniques, assessment methods, and communication strategies, ensuring consistency and quality across all tutoring interactions.  \n",
      "\n",
      "# prospective  \n",
      "## student_goal_tracking  \n",
      "### A forward-looking memory system that records and tracks student goals and milestones. This includes specific academic objectives, timelines for achievement, and plans for future sessions, allowing tutors to proactively guide students toward their educational aspirations.\n",
      "# episodic  \n",
      "## agent_interaction_history  \n",
      "### A record of individual interactions between tutors and students, including session dates, topics covered, student progress notes, and feedback from both students and tutors. This memory type allows agents to recall specific past tutoring experiences, enhancing personalized learning and rapport building.  \n",
      "\n",
      "# semantic  \n",
      "## tutoring_knowledge_base  \n",
      "### A comprehensive repository of educational resources, concepts, and subject matter expertise that tutors can draw upon. This includes definitions, theories, and problem-solving techniques relevant to various subjects, enabling agents to provide accurate and informative responses during sessions.  \n",
      "\n",
      "# procedural  \n",
      "## tutoring_session_protocol  \n",
      "### A set of established procedures and best practices for conducting effective tutoring sessions. This includes guidelines on session structure, engagement techniques, assessment methods, and communication strategies, ensuring consistency and quality across all tutoring interactions.  \n",
      "\n",
      "# prospective  \n",
      "## student_goal_tracking  \n",
      "### A forward-looking memory system that records and tracks student goals and milestones. This includes specific academic objectives, timelines for achievement, and plans for future sessions, allowing tutors to proactively guide students toward their educational aspirations.  \n",
      "\n",
      "# semantic  \n",
      "## student_curiosity_database  \n",
      "### A dynamic repository for tracking student curiosities, interests, and questions that arise during tutoring sessions. This memory type records students' spontaneous inquiries and topics of interest, enabling tutors to tailor future sessions to include these curiosities, fostering deeper engagement and personalized learning pathways.\n"
     ]
    },
    {
     "name": "stdin",
     "output_type": "stream",
     "text": [
      "Do you wish to iterate over this schema? (yes or no) no\n"
     ]
    },
    {
     "name": "stdout",
     "output_type": "stream",
     "text": [
      "Final Schema:\n",
      "-------------\n",
      "# episodic  \n",
      "## agent_interaction_history  \n",
      "### A record of individual interactions between tutors and students, including session dates, topics covered, student progress notes, and feedback from both students and tutors. This memory type allows agents to recall specific past tutoring experiences, enhancing personalized learning and rapport building.  \n",
      "\n",
      "# semantic  \n",
      "## tutoring_knowledge_base  \n",
      "### A comprehensive repository of educational resources, concepts, and subject matter expertise that tutors can draw upon. This includes definitions, theories, and problem-solving techniques relevant to various subjects, enabling agents to provide accurate and informative responses during sessions.  \n",
      "\n",
      "# procedural  \n",
      "## tutoring_session_protocol  \n",
      "### A set of established procedures and best practices for conducting effective tutoring sessions. This includes guidelines on session structure, engagement techniques, assessment methods, and communication strategies, ensuring consistency and quality across all tutoring interactions.  \n",
      "\n",
      "# prospective  \n",
      "## student_goal_tracking  \n",
      "### A forward-looking memory system that records and tracks student goals and milestones. This includes specific academic objectives, timelines for achievement, and plans for future sessions, allowing tutors to proactively guide students toward their educational aspirations.\n",
      "# episodic  \n",
      "## agent_interaction_history  \n",
      "### A record of individual interactions between tutors and students, including session dates, topics covered, student progress notes, and feedback from both students and tutors. This memory type allows agents to recall specific past tutoring experiences, enhancing personalized learning and rapport building.  \n",
      "\n",
      "# semantic  \n",
      "## tutoring_knowledge_base  \n",
      "### A comprehensive repository of educational resources, concepts, and subject matter expertise that tutors can draw upon. This includes definitions, theories, and problem-solving techniques relevant to various subjects, enabling agents to provide accurate and informative responses during sessions.  \n",
      "\n",
      "# procedural  \n",
      "## tutoring_session_protocol  \n",
      "### A set of established procedures and best practices for conducting effective tutoring sessions. This includes guidelines on session structure, engagement techniques, assessment methods, and communication strategies, ensuring consistency and quality across all tutoring interactions.  \n",
      "\n",
      "# prospective  \n",
      "## student_goal_tracking  \n",
      "### A forward-looking memory system that records and tracks student goals and milestones. This includes specific academic objectives, timelines for achievement, and plans for future sessions, allowing tutors to proactively guide students toward their educational aspirations.  \n",
      "\n",
      "# semantic  \n",
      "## student_curiosity_database  \n",
      "### A dynamic repository for tracking student curiosities, interests, and questions that arise during tutoring sessions. This memory type records students' spontaneous inquiries and topics of interest, enabling tutors to tailor future sessions to include these curiosities, fostering deeper engagement and personalized learning pathways.\n"
     ]
    },
    {
     "name": "stdout",
     "output_type": "stream",
     "text": [
      "{'schema_generation_node': {'idea': 'a set of agents that provide private tutoring online', 'memory_schema': [\"# episodic  \\n## agent_tutoring_experience  \\n### This memory schema stores specific experiences and interactions that agents have had with students during online tutoring sessions. It includes details such as memorable student questions, breakthroughs in understanding, emotional moments, and unique pedagogical approaches used during sessions. This episodic memory allows agents to recall personal experiences that can inform future tutoring strategies and foster a more personalized learning environment.  \\n\\n# semantic  \\n## subject_knowledge  \\n### This memory schema contains general knowledge and facts related to the subjects that agents tutor. It includes definitions, concepts, theories, and relevant examples across various disciplines. This semantic memory helps agents provide accurate information and explanations to students and enhances their ability to answer questions and clarify doubts during tutoring sessions.  \\n\\n# procedural  \\n## tutoring_techniques  \\n### This memory schema encompasses the methods and strategies that agents use during tutoring sessions. It includes step-by-step processes for explaining concepts, engaging students, and assessing their understanding. This procedural memory assists agents in applying effective tutoring techniques consistently and adapting their approaches based on student needs.  \\n\\n# prospective  \\n## future_student_goals  \\n### This memory schema is designed to capture the goals and aspirations that students express during tutoring sessions. It includes information about students' academic objectives, preferred learning styles, and areas they wish to improve. This prospective memory enables agents to tailor their tutoring sessions to align with students' future aspirations and track progress over time.\", \"# prospective  \\n## exam_progress_tracking  \\n### This memory schema is created to monitor and record students' progress in preparation for upcoming exams. It includes details such as exam dates, subjects being studied, practice test scores, and areas where students feel confident or need improvement. This prospective memory allows agents to help students develop effective study plans, set milestones, and adjust tutoring strategies to ensure they are adequately prepared for their exams.\"], 'update_instructions': 'Add exam progress tracking.'}}\n"
     ]
    }
   ],
   "source": [
    "run_schema_generator(idea='a set of agents that provide private tutoring online')\n"
   ]
  },
  {
   "cell_type": "code",
   "execution_count": null,
   "id": "f359923b-a8ea-4652-bde1-28c597f3100f",
   "metadata": {},
   "outputs": [],
   "source": []
  }
 ],
 "metadata": {
  "kernelspec": {
   "display_name": "Python 3 (ipykernel)",
   "language": "python",
   "name": "python3"
  },
  "language_info": {
   "codemirror_mode": {
    "name": "ipython",
    "version": 3
   },
   "file_extension": ".py",
   "mimetype": "text/x-python",
   "name": "python",
   "nbconvert_exporter": "python",
   "pygments_lexer": "ipython3",
   "version": "3.10.9"
  }
 },
 "nbformat": 4,
 "nbformat_minor": 5
}
